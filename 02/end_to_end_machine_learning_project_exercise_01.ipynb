{
 "cells": [
  {
   "cell_type": "code",
   "execution_count": 1,
   "id": "coastal-legislation",
   "metadata": {},
   "outputs": [],
   "source": [
    "import os\n",
    "import numpy as np\n",
    "import pandas as pd\n",
    "from sklearn.model_selection import train_test_split\n",
    "from sklearn.model_selection import StratifiedShuffleSplit\n",
    "\n",
    "def load_housing(path):\n",
    "    housing = pd.read_csv(os.path.join(path, 'housing.csv'))\n",
    "    train_set, test_set = train_test_split(housing, test_size=0.2, random_state=42)\n",
    "    housing['income_cat'] = pd.cut(housing['median_income'], \n",
    "                               bins = [0., 1.5, 3.0, 4.5, 6., np.inf], \n",
    "                               labels = [1, 2, 3, 4, 5])\n",
    "    split = StratifiedShuffleSplit(n_splits=1, test_size=0.2, random_state=42)\n",
    "    \n",
    "    for train_index, test_index in split.split(housing, housing['income_cat']):\n",
    "        strat_train_set = housing.loc[train_index]\n",
    "        strat_test_set = housing.loc[test_index]\n",
    "\n",
    "    for set_ in (strat_train_set, strat_test_set):\n",
    "        set_.drop('income_cat', axis=1, inplace=True)\n",
    "        \n",
    "    return strat_train_set, strat_test_set"
   ]
  },
  {
   "cell_type": "code",
   "execution_count": 2,
   "id": "noted-worse",
   "metadata": {},
   "outputs": [],
   "source": [
    "HOUSING_PATH = os.path.join(\"..\", \"datasets\", \"housing\")\n",
    "\n",
    "strat_train_set, strat_test_set = load_housing(HOUSING_PATH)"
   ]
  },
  {
   "cell_type": "code",
   "execution_count": 3,
   "id": "desirable-proposition",
   "metadata": {},
   "outputs": [],
   "source": [
    "housing = strat_train_set.copy()\n",
    "housing_labels = housing['median_house_value'].copy()\n",
    "housing.drop('median_house_value', axis=1, inplace=True)"
   ]
  },
  {
   "cell_type": "code",
   "execution_count": 4,
   "id": "challenging-stability",
   "metadata": {},
   "outputs": [],
   "source": [
    "from sklearn.base import BaseEstimator, TransformerMixin\n",
    "\n",
    "col_names = 'total_rooms', 'total_bedrooms', 'population', 'households'\n",
    "rooms_ix, bedrooms_ix, population_ix, households_ix = [\n",
    "    housing.columns.get_loc(c) for c in col_names]\n",
    "\n",
    "class CombinedAttributesAdder(BaseEstimator, TransformerMixin):\n",
    "    \n",
    "    def __init__(self, add_bedrooms_per_room=True):\n",
    "        self.add_bedrooms_per_room = add_bedrooms_per_room\n",
    "        \n",
    "    def fit(self, X, y=None):\n",
    "        return self\n",
    "    \n",
    "    def transform(self, X):\n",
    "        rooms_per_household = X[:, rooms_ix] / X[:, households_ix]\n",
    "        population_per_household = X[:, population_ix] / X[:, households_ix]\n",
    "        if self.add_bedrooms_per_room:\n",
    "            bedrooms_per_room = X[:, bedrooms_ix] / X[:, rooms_ix]\n",
    "            return np.c_[X, rooms_per_household, population_per_household,\n",
    "                         bedrooms_per_room]\n",
    "        else:\n",
    "            return np.c_[X, rooms_per_household, population_per_household]"
   ]
  },
  {
   "cell_type": "code",
   "execution_count": 5,
   "id": "velvet-exemption",
   "metadata": {},
   "outputs": [],
   "source": [
    "from sklearn.compose import ColumnTransformer\n",
    "from sklearn.impute import SimpleImputer\n",
    "from sklearn.pipeline import Pipeline\n",
    "from sklearn.preprocessing import StandardScaler\n",
    "from sklearn.preprocessing import OneHotEncoder\n",
    "\n",
    "num_pipeline = Pipeline([\n",
    "    ('imputer', SimpleImputer(strategy='median')),\n",
    "    ('attribs_adder', CombinedAttributesAdder()),\n",
    "    ('std_scaler', StandardScaler()),\n",
    "])\n",
    "\n",
    "housing_num = housing.drop('ocean_proximity', axis=1)\n",
    "num_attribs = list(housing_num)\n",
    "cat_attribs = ['ocean_proximity']\n",
    "\n",
    "full_pipeline = ColumnTransformer([\n",
    "    ('num', num_pipeline, num_attribs),\n",
    "    ('cat', OneHotEncoder(), cat_attribs),\n",
    "])\n",
    "\n",
    "housing_prepared = full_pipeline.fit_transform(housing)"
   ]
  },
  {
   "cell_type": "markdown",
   "id": "valued-patio",
   "metadata": {},
   "source": [
    "Exercise 1."
   ]
  },
  {
   "cell_type": "code",
   "execution_count": 6,
   "id": "ahead-fossil",
   "metadata": {},
   "outputs": [
    {
     "data": {
      "text/plain": [
       "GridSearchCV(cv=10, estimator=SVR(), n_jobs=-1,\n",
       "             param_grid=[{'C': [0.1, 0.5, 1.0, 5.0, 10.0, 50.0, 100.0],\n",
       "                          'kernel': ['linear']},\n",
       "                         {'C': [0.1, 0.5, 1.0, 5.0, 10.0, 50.0, 100.0],\n",
       "                          'gamma': [0.01, 0.05, 0.1, 0.5, 1.0, 5.0, 10.0],\n",
       "                          'kernel': ['rbf']}],\n",
       "             scoring='neg_mean_squared_error')"
      ]
     },
     "execution_count": 6,
     "metadata": {},
     "output_type": "execute_result"
    }
   ],
   "source": [
    "from sklearn.svm import SVR\n",
    "from sklearn.model_selection import GridSearchCV\n",
    "\n",
    "svr = SVR()\n",
    "svr_params = [\n",
    "    {\n",
    "        'kernel': ['linear'],\n",
    "        'C': [0.1, 0.5, 1.0, 5.0, 10.0, 50.0, 100.0],\n",
    "    },\n",
    "    {\n",
    "        'kernel': ['rbf'],\n",
    "        'C': [0.1, 0.5, 1.0, 5.0, 10.0, 50.0, 100.0],\n",
    "        'gamma': [0.01, 0.05, 0.1, 0.5, 1.0, 5.0, 10.0],\n",
    "    },\n",
    "]\n",
    "svr_grid_search = GridSearchCV(svr, svr_params, cv=10, scoring='neg_mean_squared_error', n_jobs=-1)\n",
    "svr_grid_search.fit(housing_prepared, housing_labels)"
   ]
  },
  {
   "cell_type": "code",
   "execution_count": 7,
   "id": "historical-cycle",
   "metadata": {},
   "outputs": [
    {
     "data": {
      "text/plain": [
       "{'C': 100.0, 'kernel': 'linear'}"
      ]
     },
     "execution_count": 7,
     "metadata": {},
     "output_type": "execute_result"
    }
   ],
   "source": [
    "svr_grid_search.best_params_"
   ]
  },
  {
   "cell_type": "code",
   "execution_count": 8,
   "id": "latter-sample",
   "metadata": {},
   "outputs": [
    {
     "data": {
      "text/plain": [
       "71455.22149618293"
      ]
     },
     "execution_count": 8,
     "metadata": {},
     "output_type": "execute_result"
    }
   ],
   "source": [
    "negative_mse = svr_grid_search.best_score_\n",
    "rmse = np.sqrt(-negative_mse)\n",
    "rmse"
   ]
  },
  {
   "cell_type": "code",
   "execution_count": 9,
   "id": "dependent-tennessee",
   "metadata": {},
   "outputs": [
    {
     "name": "stdout",
     "output_type": "stream",
     "text": [
      "118170.47290155212 {'C': 0.1, 'kernel': 'linear'}\n",
      "115205.27692525135 {'C': 0.5, 'kernel': 'linear'}\n",
      "111843.95898327122 {'C': 1.0, 'kernel': 'linear'}\n",
      "93254.29843200356 {'C': 5.0, 'kernel': 'linear'}\n",
      "83096.70918124914 {'C': 10.0, 'kernel': 'linear'}\n",
      "72875.41711346977 {'C': 50.0, 'kernel': 'linear'}\n",
      "71455.22149618293 {'C': 100.0, 'kernel': 'linear'}\n",
      "118922.2631615807 {'C': 0.1, 'gamma': 0.01, 'kernel': 'rbf'}\n",
      "118904.40195043657 {'C': 0.1, 'gamma': 0.05, 'kernel': 'rbf'}\n",
      "118903.19987700762 {'C': 0.1, 'gamma': 0.1, 'kernel': 'rbf'}\n",
      "118924.17671157836 {'C': 0.1, 'gamma': 0.5, 'kernel': 'rbf'}\n",
      "118930.32965634474 {'C': 0.1, 'gamma': 1.0, 'kernel': 'rbf'}\n",
      "118933.76218613968 {'C': 0.1, 'gamma': 5.0, 'kernel': 'rbf'}\n",
      "118933.92251189632 {'C': 0.1, 'gamma': 10.0, 'kernel': 'rbf'}\n",
      "118874.23903224821 {'C': 0.5, 'gamma': 0.01, 'kernel': 'rbf'}\n",
      "118779.23026038973 {'C': 0.5, 'gamma': 0.05, 'kernel': 'rbf'}\n",
      "118773.44537989466 {'C': 0.5, 'gamma': 0.1, 'kernel': 'rbf'}\n",
      "118885.2603050095 {'C': 0.5, 'gamma': 0.5, 'kernel': 'rbf'}\n",
      "118917.7710691459 {'C': 0.5, 'gamma': 1.0, 'kernel': 'rbf'}\n",
      "118932.92916729137 {'C': 0.5, 'gamma': 5.0, 'kernel': 'rbf'}\n",
      "118933.73091884589 {'C': 0.5, 'gamma': 10.0, 'kernel': 'rbf'}\n",
      "118809.64681816437 {'C': 1.0, 'gamma': 0.01, 'kernel': 'rbf'}\n",
      "118624.39094892718 {'C': 1.0, 'gamma': 0.05, 'kernel': 'rbf'}\n",
      "118615.30896613302 {'C': 1.0, 'gamma': 0.1, 'kernel': 'rbf'}\n",
      "118832.45687593495 {'C': 1.0, 'gamma': 0.5, 'kernel': 'rbf'}\n",
      "118899.46555304732 {'C': 1.0, 'gamma': 1.0, 'kernel': 'rbf'}\n",
      "118931.89364106498 {'C': 1.0, 'gamma': 5.0, 'kernel': 'rbf'}\n",
      "118933.49150960072 {'C': 1.0, 'gamma': 10.0, 'kernel': 'rbf'}\n",
      "118320.77225372319 {'C': 5.0, 'gamma': 0.01, 'kernel': 'rbf'}\n",
      "117419.95978343907 {'C': 5.0, 'gamma': 0.05, 'kernel': 'rbf'}\n",
      "117361.6472961513 {'C': 5.0, 'gamma': 0.1, 'kernel': 'rbf'}\n",
      "118419.96159219126 {'C': 5.0, 'gamma': 0.5, 'kernel': 'rbf'}\n",
      "118740.1379879046 {'C': 5.0, 'gamma': 1.0, 'kernel': 'rbf'}\n",
      "118927.40436326519 {'C': 5.0, 'gamma': 5.0, 'kernel': 'rbf'}\n",
      "118931.80078510277 {'C': 5.0, 'gamma': 10.0, 'kernel': 'rbf'}\n",
      "117722.88852303926 {'C': 10.0, 'gamma': 0.01, 'kernel': 'rbf'}\n",
      "115933.60012067061 {'C': 10.0, 'gamma': 0.05, 'kernel': 'rbf'}\n",
      "115854.00976600379 {'C': 10.0, 'gamma': 0.1, 'kernel': 'rbf'}\n",
      "117925.76103366117 {'C': 10.0, 'gamma': 0.5, 'kernel': 'rbf'}\n",
      "118545.6406209998 {'C': 10.0, 'gamma': 1.0, 'kernel': 'rbf'}\n",
      "118918.3454661946 {'C': 10.0, 'gamma': 5.0, 'kernel': 'rbf'}\n",
      "118933.76362998638 {'C': 10.0, 'gamma': 10.0, 'kernel': 'rbf'}\n",
      "113131.34530296123 {'C': 50.0, 'gamma': 0.01, 'kernel': 'rbf'}\n",
      "105689.41873222537 {'C': 50.0, 'gamma': 0.05, 'kernel': 'rbf'}\n",
      "105422.02092309232 {'C': 50.0, 'gamma': 0.1, 'kernel': 'rbf'}\n",
      "114305.84536772879 {'C': 50.0, 'gamma': 0.5, 'kernel': 'rbf'}\n",
      "117141.74411423907 {'C': 50.0, 'gamma': 1.0, 'kernel': 'rbf'}\n",
      "118820.14440578043 {'C': 50.0, 'gamma': 5.0, 'kernel': 'rbf'}\n",
      "118915.08188863905 {'C': 50.0, 'gamma': 10.0, 'kernel': 'rbf'}\n",
      "108057.63640062329 {'C': 100.0, 'gamma': 0.01, 'kernel': 'rbf'}\n",
      "96692.75557061337 {'C': 100.0, 'gamma': 0.05, 'kernel': 'rbf'}\n",
      "97008.46113188918 {'C': 100.0, 'gamma': 0.1, 'kernel': 'rbf'}\n",
      "110368.6713000714 {'C': 100.0, 'gamma': 0.5, 'kernel': 'rbf'}\n",
      "115457.43867788647 {'C': 100.0, 'gamma': 1.0, 'kernel': 'rbf'}\n",
      "118701.93873072683 {'C': 100.0, 'gamma': 5.0, 'kernel': 'rbf'}\n",
      "118887.61645158175 {'C': 100.0, 'gamma': 10.0, 'kernel': 'rbf'}\n"
     ]
    }
   ],
   "source": [
    "cvres = svr_grid_search.cv_results_\n",
    "for mean_score, params in zip(cvres['mean_test_score'], cvres['params']):\n",
    "    print(np.sqrt(-mean_score), params)"
   ]
  },
  {
   "cell_type": "code",
   "execution_count": 10,
   "id": "terminal-windows",
   "metadata": {},
   "outputs": [
    {
     "data": {
      "text/plain": [
       "GridSearchCV(cv=10, estimator=SVR(), n_jobs=-1,\n",
       "             param_grid=[{'C': [100.0, 500.0, 1000.0, 5000.0, 10000.0, 50000.0,\n",
       "                                100000.0],\n",
       "                          'kernel': ['linear']},\n",
       "                         {'C': [100.0, 500.0, 1000.0, 5000.0, 10000.0, 50000.0,\n",
       "                                100000.0],\n",
       "                          'gamma': [0.1, 0.5, 1.0, 5.0, 10.0, 50.0, 100.0],\n",
       "                          'kernel': ['rbf']}],\n",
       "             scoring='neg_mean_squared_error')"
      ]
     },
     "execution_count": 10,
     "metadata": {},
     "output_type": "execute_result"
    }
   ],
   "source": [
    "svr = SVR()\n",
    "svr_params = [\n",
    "    {\n",
    "        'kernel': ['linear'],\n",
    "        'C': [100.0, 500.0, 1000.0, 5000.0, 10000.0, 50000.0, 100000.0],\n",
    "    },\n",
    "    {\n",
    "        'kernel': ['rbf'],\n",
    "        'C': [100.0, 500.0, 1000.0, 5000.0, 10000.0, 50000.0, 100000.0],\n",
    "        'gamma': [0.1, 0.5, 1.0, 5.0, 10.0, 50.0, 100.0],\n",
    "    },\n",
    "]\n",
    "svr_grid_search = GridSearchCV(svr, svr_params, cv=10, scoring='neg_mean_squared_error', n_jobs=-1)\n",
    "svr_grid_search.fit(housing_prepared, housing_labels)"
   ]
  },
  {
   "cell_type": "code",
   "execution_count": 11,
   "id": "emotional-alexander",
   "metadata": {},
   "outputs": [
    {
     "name": "stdout",
     "output_type": "stream",
     "text": [
      "best_params: {'C': 100000.0, 'gamma': 0.5, 'kernel': 'rbf'}\n"
     ]
    },
    {
     "data": {
      "text/plain": [
       "55363.602802280926"
      ]
     },
     "execution_count": 11,
     "metadata": {},
     "output_type": "execute_result"
    }
   ],
   "source": [
    "print('best_params:', svr_grid_search.best_params_)\n",
    "negative_mse = svr_grid_search.best_score_\n",
    "rmse = np.sqrt(-negative_mse)\n",
    "rmse"
   ]
  },
  {
   "cell_type": "markdown",
   "id": "quantitative-failure",
   "metadata": {},
   "source": [
    "Exercise 2."
   ]
  },
  {
   "cell_type": "code",
   "execution_count": 12,
   "id": "bronze-class",
   "metadata": {},
   "outputs": [
    {
     "data": {
      "text/plain": [
       "RandomizedSearchCV(cv=10, estimator=SVR(), n_iter=50, n_jobs=-1,\n",
       "                   param_distributions={'C': <scipy.stats._distn_infrastructure.rv_frozen object at 0x000001A80C179700>,\n",
       "                                        'gamma': <scipy.stats._distn_infrastructure.rv_frozen object at 0x000001A80BCDB5E0>,\n",
       "                                        'kernel': ['linear', 'rbf']},\n",
       "                   random_state=42, scoring='neg_mean_squared_error')"
      ]
     },
     "execution_count": 12,
     "metadata": {},
     "output_type": "execute_result"
    }
   ],
   "source": [
    "from sklearn.model_selection import RandomizedSearchCV\n",
    "from scipy.stats import expon, reciprocal\n",
    "\n",
    "svr = SVR()\n",
    "svr_param_distribs = {\n",
    "    'kernel': ['linear', 'rbf'],\n",
    "    'C': reciprocal(100000, 200000),\n",
    "    'gamma': expon(scale=1.0),\n",
    "}\n",
    "randomized_search = RandomizedSearchCV(svr, svr_param_distribs, cv=10, \n",
    "                                       scoring='neg_mean_squared_error',\n",
    "                                       n_iter=50, n_jobs=-1, random_state=42)\n",
    "randomized_search.fit(housing_prepared, housing_labels)"
   ]
  },
  {
   "cell_type": "code",
   "execution_count": 13,
   "id": "closed-organ",
   "metadata": {},
   "outputs": [
    {
     "data": {
      "text/plain": [
       "{'C': 196394.6349177281, 'gamma': 0.26497040005002437, 'kernel': 'rbf'}"
      ]
     },
     "execution_count": 13,
     "metadata": {},
     "output_type": "execute_result"
    }
   ],
   "source": [
    "randomized_search.best_params_"
   ]
  },
  {
   "cell_type": "code",
   "execution_count": 14,
   "id": "violent-delay",
   "metadata": {},
   "outputs": [
    {
     "data": {
      "text/plain": [
       "54220.978595011875"
      ]
     },
     "execution_count": 14,
     "metadata": {},
     "output_type": "execute_result"
    }
   ],
   "source": [
    "negative_mse = randomized_search.best_score_\n",
    "rmse = np.sqrt(-negative_mse)\n",
    "rmse"
   ]
  },
  {
   "cell_type": "code",
   "execution_count": null,
   "id": "liberal-kuwait",
   "metadata": {},
   "outputs": [],
   "source": []
  }
 ],
 "metadata": {
  "kernelspec": {
   "display_name": "Python [conda env:hands] *",
   "language": "python",
   "name": "conda-env-hands-py"
  },
  "language_info": {
   "codemirror_mode": {
    "name": "ipython",
    "version": 3
   },
   "file_extension": ".py",
   "mimetype": "text/x-python",
   "name": "python",
   "nbconvert_exporter": "python",
   "pygments_lexer": "ipython3",
   "version": "3.8.8"
  }
 },
 "nbformat": 4,
 "nbformat_minor": 5
}
