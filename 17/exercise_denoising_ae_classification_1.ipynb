{
 "cells": [
  {
   "cell_type": "code",
   "execution_count": 1,
   "id": "8416f535",
   "metadata": {},
   "outputs": [],
   "source": [
    "import numpy as np\n",
    "import matplotlib.pyplot as plt\n",
    "import tensorflow as tf\n",
    "from tensorflow import keras"
   ]
  },
  {
   "cell_type": "markdown",
   "id": "5e3344c9",
   "metadata": {},
   "source": [
    "Exercise 9."
   ]
  },
  {
   "cell_type": "code",
   "execution_count": 2,
   "id": "b7fffff8",
   "metadata": {},
   "outputs": [],
   "source": [
    "(x_train_full, y_train_full), (x_test, y_test) = keras.datasets.mnist.load_data()\n",
    "\n",
    "x_train_full = x_train_full / 255\n",
    "x_test = x_test / 255\n",
    "\n",
    "x_train, x_valid = x_train_full[5000:], x_train_full[:5000]\n",
    "y_train, y_valid = y_train_full[5000:], y_train_full[:5000]"
   ]
  },
  {
   "cell_type": "code",
   "execution_count": 3,
   "id": "203834c2",
   "metadata": {},
   "outputs": [],
   "source": [
    "def rounded_accuracy(y_true, y_pred):\n",
    "    return keras.metrics.binary_accuracy(tf.round(y_true), tf.round(y_pred))\n",
    "\n",
    "\n",
    "def plot_image(image):\n",
    "    plt.imshow(image, cmap='binary')\n",
    "    plt.axis('off')\n",
    "    \n",
    "    \n",
    "def show_reconstructions(model, images=x_valid, n_images=5):\n",
    "    reconstructions = model.predict(images[:n_images])\n",
    "    fig = plt.figure(figsize=(n_images * 1.5, 3))\n",
    "    for image_index in range(n_images):\n",
    "        plt.subplot(2, n_images, 1 + image_index)\n",
    "        plot_image(images[image_index])\n",
    "        plt.subplot(2, n_images, 1 + n_images + image_index)\n",
    "        plot_image(reconstructions[image_index])"
   ]
  },
  {
   "cell_type": "code",
   "execution_count": 4,
   "id": "88d90c28",
   "metadata": {},
   "outputs": [],
   "source": [
    "denoising_encoder = keras.models.Sequential([\n",
    "    keras.layers.Flatten(input_shape=[28, 28]),\n",
    "    keras.layers.GaussianNoise(0.2),\n",
    "    keras.layers.Dense(100, activation='selu'),\n",
    "    keras.layers.Dense(30, activation='selu'),\n",
    "])\n",
    "\n",
    "denoising_decoder = keras.models.Sequential([\n",
    "    keras.layers.Dense(100, activation='selu', input_shape=[30]),\n",
    "    keras.layers.Dense(28 * 28, activation='sigmoid'),\n",
    "    keras.layers.Reshape([28, 28])\n",
    "])\n",
    "\n",
    "denoising_ae = keras.models.Sequential([denoising_encoder, denoising_decoder])\n",
    "denoising_ae.compile(loss='binary_crossentropy',\n",
    "                     optimizer=keras.optimizers.SGD(learning_rate=1.0), \n",
    "                     metrics=[rounded_accuracy])"
   ]
  },
  {
   "cell_type": "code",
   "execution_count": 5,
   "id": "3457eb01",
   "metadata": {},
   "outputs": [
    {
     "name": "stdout",
     "output_type": "stream",
     "text": [
      "Model: \"sequential\"\n",
      "_________________________________________________________________\n",
      "Layer (type)                 Output Shape              Param #   \n",
      "=================================================================\n",
      "flatten (Flatten)            (None, 784)               0         \n",
      "_________________________________________________________________\n",
      "gaussian_noise (GaussianNois (None, 784)               0         \n",
      "_________________________________________________________________\n",
      "dense (Dense)                (None, 100)               78500     \n",
      "_________________________________________________________________\n",
      "dense_1 (Dense)              (None, 30)                3030      \n",
      "=================================================================\n",
      "Total params: 81,530\n",
      "Trainable params: 81,530\n",
      "Non-trainable params: 0\n",
      "_________________________________________________________________\n"
     ]
    }
   ],
   "source": [
    "denoising_encoder.summary()"
   ]
  },
  {
   "cell_type": "code",
   "execution_count": 6,
   "id": "b6056e79",
   "metadata": {},
   "outputs": [
    {
     "name": "stdout",
     "output_type": "stream",
     "text": [
      "Model: \"sequential_1\"\n",
      "_________________________________________________________________\n",
      "Layer (type)                 Output Shape              Param #   \n",
      "=================================================================\n",
      "dense_2 (Dense)              (None, 100)               3100      \n",
      "_________________________________________________________________\n",
      "dense_3 (Dense)              (None, 784)               79184     \n",
      "_________________________________________________________________\n",
      "reshape (Reshape)            (None, 28, 28)            0         \n",
      "=================================================================\n",
      "Total params: 82,284\n",
      "Trainable params: 82,284\n",
      "Non-trainable params: 0\n",
      "_________________________________________________________________\n"
     ]
    }
   ],
   "source": [
    "denoising_decoder.summary()"
   ]
  },
  {
   "cell_type": "code",
   "execution_count": 7,
   "id": "dfb62bef",
   "metadata": {},
   "outputs": [
    {
     "name": "stdout",
     "output_type": "stream",
     "text": [
      "Epoch 1/10\n",
      "1719/1719 [==============================] - 8s 5ms/step - loss: 0.1981 - rounded_accuracy: 0.9103 - val_loss: 0.1495 - val_rounded_accuracy: 0.9381\n",
      "Epoch 2/10\n",
      "1719/1719 [==============================] - 8s 4ms/step - loss: 0.1410 - rounded_accuracy: 0.9428 - val_loss: 0.1278 - val_rounded_accuracy: 0.9501\n",
      "Epoch 3/10\n",
      "1719/1719 [==============================] - 7s 4ms/step - loss: 0.1288 - rounded_accuracy: 0.9495 - val_loss: 0.1203 - val_rounded_accuracy: 0.9546\n",
      "Epoch 4/10\n",
      "1719/1719 [==============================] - 7s 4ms/step - loss: 0.1227 - rounded_accuracy: 0.9529 - val_loss: 0.1149 - val_rounded_accuracy: 0.9578\n",
      "Epoch 5/10\n",
      "1719/1719 [==============================] - 7s 4ms/step - loss: 0.1187 - rounded_accuracy: 0.9552 - val_loss: 0.1119 - val_rounded_accuracy: 0.9594\n",
      "Epoch 6/10\n",
      "1719/1719 [==============================] - 7s 4ms/step - loss: 0.1162 - rounded_accuracy: 0.9565 - val_loss: 0.1099 - val_rounded_accuracy: 0.9606\n",
      "Epoch 7/10\n",
      "1719/1719 [==============================] - 7s 4ms/step - loss: 0.1145 - rounded_accuracy: 0.9574 - val_loss: 0.1085 - val_rounded_accuracy: 0.9612\n",
      "Epoch 8/10\n",
      "1719/1719 [==============================] - 8s 5ms/step - loss: 0.1133 - rounded_accuracy: 0.9581 - val_loss: 0.1072 - val_rounded_accuracy: 0.9622\n",
      "Epoch 9/10\n",
      "1719/1719 [==============================] - 7s 4ms/step - loss: 0.1123 - rounded_accuracy: 0.9587 - val_loss: 0.1063 - val_rounded_accuracy: 0.9625\n",
      "Epoch 10/10\n",
      "1719/1719 [==============================] - 7s 4ms/step - loss: 0.1114 - rounded_accuracy: 0.9591 - val_loss: 0.1063 - val_rounded_accuracy: 0.9621\n"
     ]
    },
    {
     "data": {
      "text/plain": [
       "<keras.callbacks.History at 0x248f1c4e448>"
      ]
     },
     "execution_count": 7,
     "metadata": {},
     "output_type": "execute_result"
    }
   ],
   "source": [
    "denoising_ae.fit(x_train, x_train, epochs=10, \n",
    "                 validation_data=(x_valid, x_valid))"
   ]
  },
  {
   "cell_type": "code",
   "execution_count": 8,
   "id": "217332ef",
   "metadata": {},
   "outputs": [
    {
     "data": {
      "image/png": "[encoded data removed]",
      "text/plain": [
       "<Figure size 432x720 with 15 Axes>"
      ]
     },
     "metadata": {
      "needs_background": "light"
     },
     "output_type": "display_data"
    }
   ],
   "source": [
    "n_images = 5\n",
    "new_images = x_test[:n_images]\n",
    "new_images_noisy = new_images + np.random.randn(n_images, 28, 28) * 0.1\n",
    "new_images_denoised = denoising_ae.predict(new_images_noisy)\n",
    "\n",
    "plt.figure(figsize=(6, n_images * 2))\n",
    "for index in range(n_images):\n",
    "    plt.subplot(n_images, 3, index * 3 + 1)\n",
    "    plt.imshow(new_images[index])\n",
    "    plt.axis('off')\n",
    "    if index == 0:\n",
    "        plt.title(\"Original\")\n",
    "    plt.subplot(n_images, 3, index * 3 + 2)\n",
    "    plt.imshow(np.clip(new_images_noisy[index], 0., 1.))\n",
    "    plt.axis('off')\n",
    "    if index == 0:\n",
    "        plt.title(\"Noisy\")\n",
    "    plt.subplot(n_images, 3, index * 3 + 3)\n",
    "    plt.imshow(new_images_denoised[index])\n",
    "    plt.axis('off')\n",
    "    if index == 0:\n",
    "        plt.title(\"Denoised\")\n",
    "plt.show()"
   ]
  },
  {
   "cell_type": "code",
   "execution_count": 9,
   "id": "9d38df38",
   "metadata": {},
   "outputs": [],
   "source": [
    "from tensorflow.keras.utils import to_categorical\n",
    "\n",
    "y_train_one_hot = to_categorical(y_train)\n",
    "y_valid_one_hot = to_categorical(y_valid)\n",
    "y_test_one_hot = to_categorical(y_test)\n",
    "\n",
    "x_train_small, y_train_small = x_train[:500], y_train_one_hot[:500]"
   ]
  },
  {
   "cell_type": "code",
   "execution_count": 10,
   "id": "7417cbeb",
   "metadata": {},
   "outputs": [],
   "source": [
    "cls = keras.models.Sequential([\n",
    "    keras.layers.Flatten(input_shape=[28, 28]),\n",
    "    keras.layers.GaussianNoise(0.2),\n",
    "    keras.layers.Dense(100, activation='selu'),\n",
    "    keras.layers.Dense(10, activation='softmax'),\n",
    "])"
   ]
  },
  {
   "cell_type": "code",
   "execution_count": 11,
   "id": "996c7d62",
   "metadata": {},
   "outputs": [
    {
     "name": "stdout",
     "output_type": "stream",
     "text": [
      "Model: \"sequential_3\"\n",
      "_________________________________________________________________\n",
      "Layer (type)                 Output Shape              Param #   \n",
      "=================================================================\n",
      "flatten_1 (Flatten)          (None, 784)               0         \n",
      "_________________________________________________________________\n",
      "gaussian_noise_1 (GaussianNo (None, 784)               0         \n",
      "_________________________________________________________________\n",
      "dense_4 (Dense)              (None, 100)               78500     \n",
      "_________________________________________________________________\n",
      "dense_5 (Dense)              (None, 10)                1010      \n",
      "=================================================================\n",
      "Total params: 79,510\n",
      "Trainable params: 79,510\n",
      "Non-trainable params: 0\n",
      "_________________________________________________________________\n"
     ]
    }
   ],
   "source": [
    "cls.summary()"
   ]
  },
  {
   "cell_type": "code",
   "execution_count": 12,
   "id": "158ab0bf",
   "metadata": {},
   "outputs": [],
   "source": [
    "for layer in denoising_encoder.layers:\n",
    "    if layer.name == 'dense':\n",
    "        weights = layer.get_weights()\n",
    "        \n",
    "for layer in cls.layers:\n",
    "    if layer.name == 'dense_4':\n",
    "        layer.set_weights(weights)"
   ]
  },
  {
   "cell_type": "code",
   "execution_count": 13,
   "id": "e2ab8470",
   "metadata": {},
   "outputs": [
    {
     "data": {
      "text/plain": [
       "array([[-0.00527395, -0.06471772, -0.0214266 , ..., -0.0615193 ,\n",
       "         0.03561438,  0.01336329],\n",
       "       [ 0.03959517, -0.06403989,  0.01336462, ...,  0.06326349,\n",
       "        -0.02782636, -0.03194641],\n",
       "       [ 0.02940785, -0.01331449,  0.02585114, ...,  0.05418384,\n",
       "        -0.03200356,  0.03616562],\n",
       "       ...,\n",
       "       [ 0.06627277, -0.03255405, -0.00811658, ..., -0.00042804,\n",
       "        -0.02126018, -0.05820848],\n",
       "       [-0.01002369,  0.01237492, -0.01288215, ..., -0.01495094,\n",
       "        -0.0651235 , -0.07172707],\n",
       "       [-0.0094409 ,  0.05525199, -0.01781904, ..., -0.01596308,\n",
       "         0.00172837, -0.05718918]], dtype=float32)"
      ]
     },
     "execution_count": 13,
     "metadata": {},
     "output_type": "execute_result"
    }
   ],
   "source": [
    "cls.get_weights()[0]"
   ]
  },
  {
   "cell_type": "code",
   "execution_count": 14,
   "id": "50ad605a",
   "metadata": {},
   "outputs": [
    {
     "data": {
      "text/plain": [
       "array([[-0.00527395, -0.06471772, -0.0214266 , ..., -0.0615193 ,\n",
       "         0.03561438,  0.01336329],\n",
       "       [ 0.03959517, -0.06403989,  0.01336462, ...,  0.06326349,\n",
       "        -0.02782636, -0.03194641],\n",
       "       [ 0.02940785, -0.01331449,  0.02585114, ...,  0.05418384,\n",
       "        -0.03200356,  0.03616562],\n",
       "       ...,\n",
       "       [ 0.06627277, -0.03255405, -0.00811658, ..., -0.00042804,\n",
       "        -0.02126018, -0.05820848],\n",
       "       [-0.01002369,  0.01237492, -0.01288215, ..., -0.01495094,\n",
       "        -0.0651235 , -0.07172707],\n",
       "       [-0.0094409 ,  0.05525199, -0.01781904, ..., -0.01596308,\n",
       "         0.00172837, -0.05718918]], dtype=float32)"
      ]
     },
     "execution_count": 14,
     "metadata": {},
     "output_type": "execute_result"
    }
   ],
   "source": [
    "denoising_encoder.get_weights()[0]"
   ]
  },
  {
   "cell_type": "code",
   "execution_count": 15,
   "id": "d030d647",
   "metadata": {},
   "outputs": [],
   "source": [
    "for layer in cls.layers:\n",
    "    if layer.name != 'dense_5':\n",
    "        layer.trainable = False"
   ]
  },
  {
   "cell_type": "code",
   "execution_count": 16,
   "id": "476a7ea0",
   "metadata": {},
   "outputs": [
    {
     "name": "stdout",
     "output_type": "stream",
     "text": [
      "Epoch 1/15\n",
      "16/16 [==============================] - 0s 3ms/step - loss: 3.1280 - acc: 0.1260\n",
      "Epoch 2/15\n",
      "16/16 [==============================] - 0s 3ms/step - loss: 2.4144 - acc: 0.2480\n",
      "Epoch 3/15\n",
      "16/16 [==============================] - 0s 3ms/step - loss: 2.0849 - acc: 0.3360\n",
      "Epoch 4/15\n",
      "16/16 [==============================] - 0s 3ms/step - loss: 1.7503 - acc: 0.4240\n",
      "Epoch 5/15\n",
      "16/16 [==============================] - 0s 3ms/step - loss: 1.5444 - acc: 0.5120\n",
      "Epoch 6/15\n",
      "16/16 [==============================] - 0s 3ms/step - loss: 1.3596 - acc: 0.5480\n",
      "Epoch 7/15\n",
      "16/16 [==============================] - 0s 3ms/step - loss: 1.2056 - acc: 0.6140\n",
      "Epoch 8/15\n",
      "16/16 [==============================] - 0s 3ms/step - loss: 1.0953 - acc: 0.6380\n",
      "Epoch 9/15\n",
      "16/16 [==============================] - 0s 3ms/step - loss: 0.9772 - acc: 0.7000\n",
      "Epoch 10/15\n",
      "16/16 [==============================] - 0s 3ms/step - loss: 0.8885 - acc: 0.7440\n",
      "Epoch 11/15\n",
      "16/16 [==============================] - 0s 3ms/step - loss: 0.8443 - acc: 0.7400\n",
      "Epoch 12/15\n",
      "16/16 [==============================] - 0s 3ms/step - loss: 0.8023 - acc: 0.7700\n",
      "Epoch 13/15\n",
      "16/16 [==============================] - 0s 3ms/step - loss: 0.7456 - acc: 0.7860\n",
      "Epoch 14/15\n",
      "16/16 [==============================] - 0s 3ms/step - loss: 0.7223 - acc: 0.8100\n",
      "Epoch 15/15\n",
      "16/16 [==============================] - 0s 3ms/step - loss: 0.6765 - acc: 0.8160\n"
     ]
    },
    {
     "data": {
      "text/plain": [
       "<keras.callbacks.History at 0x248f06e9188>"
      ]
     },
     "execution_count": 16,
     "metadata": {},
     "output_type": "execute_result"
    }
   ],
   "source": [
    "cls.compile(loss='categorical_crossentropy', \n",
    "            optimizer=keras.optimizers.Adam(), \n",
    "            metrics=['acc'])\n",
    "\n",
    "cls.fit(x_train_small, y_train_small, epochs=15)"
   ]
  },
  {
   "cell_type": "code",
   "execution_count": 17,
   "id": "c58d96ab",
   "metadata": {},
   "outputs": [],
   "source": [
    "for layer in cls.layers:\n",
    "    layer.trainable = True"
   ]
  },
  {
   "cell_type": "code",
   "execution_count": 18,
   "id": "591cd034",
   "metadata": {},
   "outputs": [
    {
     "name": "stdout",
     "output_type": "stream",
     "text": [
      "Epoch 1/15\n",
      "16/16 [==============================] - 0s 3ms/step - loss: 0.6257 - acc: 0.8160\n",
      "Epoch 2/15\n",
      "16/16 [==============================] - 0s 3ms/step - loss: 0.4474 - acc: 0.8800\n",
      "Epoch 3/15\n",
      "16/16 [==============================] - 0s 3ms/step - loss: 0.3514 - acc: 0.9320\n",
      "Epoch 4/15\n",
      "16/16 [==============================] - 0s 3ms/step - loss: 0.2855 - acc: 0.9360\n",
      "Epoch 5/15\n",
      "16/16 [==============================] - 0s 3ms/step - loss: 0.2578 - acc: 0.9460\n",
      "Epoch 6/15\n",
      "16/16 [==============================] - 0s 3ms/step - loss: 0.2253 - acc: 0.9480\n",
      "Epoch 7/15\n",
      "16/16 [==============================] - 0s 3ms/step - loss: 0.2053 - acc: 0.9660\n",
      "Epoch 8/15\n",
      "16/16 [==============================] - 0s 3ms/step - loss: 0.1784 - acc: 0.9640\n",
      "Epoch 9/15\n",
      "16/16 [==============================] - 0s 3ms/step - loss: 0.1552 - acc: 0.9680\n",
      "Epoch 10/15\n",
      "16/16 [==============================] - 0s 3ms/step - loss: 0.1362 - acc: 0.9760\n",
      "Epoch 11/15\n",
      "16/16 [==============================] - 0s 3ms/step - loss: 0.1201 - acc: 0.9680\n",
      "Epoch 12/15\n",
      "16/16 [==============================] - 0s 3ms/step - loss: 0.1125 - acc: 0.9800\n",
      "Epoch 13/15\n",
      "16/16 [==============================] - 0s 3ms/step - loss: 0.1150 - acc: 0.9820\n",
      "Epoch 14/15\n",
      "16/16 [==============================] - 0s 3ms/step - loss: 0.0857 - acc: 0.9840\n",
      "Epoch 15/15\n",
      "16/16 [==============================] - 0s 3ms/step - loss: 0.0828 - acc: 0.9840\n"
     ]
    },
    {
     "data": {
      "text/plain": [
       "<keras.callbacks.History at 0x248f07e6c08>"
      ]
     },
     "execution_count": 18,
     "metadata": {},
     "output_type": "execute_result"
    }
   ],
   "source": [
    "cls.compile(loss='categorical_crossentropy', \n",
    "            optimizer=keras.optimizers.Adam(), \n",
    "            metrics=['acc'])\n",
    "\n",
    "cls.fit(x_train_small, y_train_small, epochs=15)"
   ]
  },
  {
   "cell_type": "code",
   "execution_count": 19,
   "id": "6bc4bffb",
   "metadata": {},
   "outputs": [
    {
     "name": "stdout",
     "output_type": "stream",
     "text": [
      "313/313 [==============================] - 1s 2ms/step - loss: 0.4869 - acc: 0.8570\n"
     ]
    },
    {
     "data": {
      "text/plain": [
       "[0.4869116246700287, 0.8569999933242798]"
      ]
     },
     "execution_count": 19,
     "metadata": {},
     "output_type": "execute_result"
    }
   ],
   "source": [
    "cls.evaluate(x_test, y_test_one_hot)"
   ]
  },
  {
   "cell_type": "code",
   "execution_count": 20,
   "id": "4dca6e05",
   "metadata": {},
   "outputs": [
    {
     "name": "stdout",
     "output_type": "stream",
     "text": [
      "Epoch 1/30\n",
      "16/16 [==============================] - 0s 3ms/step - loss: 1.7807 - acc: 0.4420\n",
      "Epoch 2/30\n",
      "16/16 [==============================] - 0s 3ms/step - loss: 0.8662 - acc: 0.7580\n",
      "Epoch 3/30\n",
      "16/16 [==============================] - 0s 3ms/step - loss: 0.5813 - acc: 0.8500\n",
      "Epoch 4/30\n",
      "16/16 [==============================] - 0s 4ms/step - loss: 0.4514 - acc: 0.8920\n",
      "Epoch 5/30\n",
      "16/16 [==============================] - 0s 4ms/step - loss: 0.3940 - acc: 0.8940\n",
      "Epoch 6/30\n",
      "16/16 [==============================] - 0s 3ms/step - loss: 0.3524 - acc: 0.9180\n",
      "Epoch 7/30\n",
      "16/16 [==============================] - 0s 3ms/step - loss: 0.3146 - acc: 0.9260\n",
      "Epoch 8/30\n",
      "16/16 [==============================] - 0s 3ms/step - loss: 0.2456 - acc: 0.9540\n",
      "Epoch 9/30\n",
      "16/16 [==============================] - 0s 3ms/step - loss: 0.2339 - acc: 0.9480\n",
      "Epoch 10/30\n",
      "16/16 [==============================] - 0s 3ms/step - loss: 0.2249 - acc: 0.9340\n",
      "Epoch 11/30\n",
      "16/16 [==============================] - 0s 3ms/step - loss: 0.1963 - acc: 0.9560\n",
      "Epoch 12/30\n",
      "16/16 [==============================] - 0s 4ms/step - loss: 0.1791 - acc: 0.9660\n",
      "Epoch 13/30\n",
      "16/16 [==============================] - 0s 3ms/step - loss: 0.1675 - acc: 0.9600\n",
      "Epoch 14/30\n",
      "16/16 [==============================] - 0s 3ms/step - loss: 0.1473 - acc: 0.9720\n",
      "Epoch 15/30\n",
      "16/16 [==============================] - 0s 3ms/step - loss: 0.1350 - acc: 0.9740\n",
      "Epoch 16/30\n",
      "16/16 [==============================] - 0s 3ms/step - loss: 0.1168 - acc: 0.9820\n",
      "Epoch 17/30\n",
      "16/16 [==============================] - 0s 3ms/step - loss: 0.1230 - acc: 0.9720\n",
      "Epoch 18/30\n",
      "16/16 [==============================] - 0s 3ms/step - loss: 0.1044 - acc: 0.9820\n",
      "Epoch 19/30\n",
      "16/16 [==============================] - 0s 3ms/step - loss: 0.1042 - acc: 0.9740\n",
      "Epoch 20/30\n",
      "16/16 [==============================] - 0s 3ms/step - loss: 0.0883 - acc: 0.9900\n",
      "Epoch 21/30\n",
      "16/16 [==============================] - 0s 3ms/step - loss: 0.0823 - acc: 0.9900\n",
      "Epoch 22/30\n",
      "16/16 [==============================] - 0s 3ms/step - loss: 0.0755 - acc: 0.9940\n",
      "Epoch 23/30\n",
      "16/16 [==============================] - 0s 4ms/step - loss: 0.0805 - acc: 0.9860\n",
      "Epoch 24/30\n",
      "16/16 [==============================] - 0s 4ms/step - loss: 0.0749 - acc: 0.9940\n",
      "Epoch 25/30\n",
      "16/16 [==============================] - 0s 3ms/step - loss: 0.0623 - acc: 0.9960\n",
      "Epoch 26/30\n",
      "16/16 [==============================] - 0s 3ms/step - loss: 0.0580 - acc: 0.9960\n",
      "Epoch 27/30\n",
      "16/16 [==============================] - 0s 3ms/step - loss: 0.0610 - acc: 0.9980\n",
      "Epoch 28/30\n",
      "16/16 [==============================] - 0s 3ms/step - loss: 0.0546 - acc: 0.9920\n",
      "Epoch 29/30\n",
      "16/16 [==============================] - 0s 3ms/step - loss: 0.0530 - acc: 0.9980\n",
      "Epoch 30/30\n",
      "16/16 [==============================] - 0s 3ms/step - loss: 0.0482 - acc: 0.9920\n"
     ]
    },
    {
     "data": {
      "text/plain": [
       "<keras.callbacks.History at 0x248f0b7cdc8>"
      ]
     },
     "execution_count": 20,
     "metadata": {},
     "output_type": "execute_result"
    }
   ],
   "source": [
    "cls_2 = keras.models.Sequential([\n",
    "    keras.layers.Flatten(input_shape=[28, 28]),\n",
    "    keras.layers.GaussianNoise(0.2),\n",
    "    keras.layers.Dense(100, activation='selu'),\n",
    "    keras.layers.Dense(10, activation='softmax')\n",
    "])\n",
    "\n",
    "cls_2.compile(loss='categorical_crossentropy', \n",
    "            optimizer=keras.optimizers.Adam(), \n",
    "            metrics=['acc'])\n",
    "\n",
    "cls_2.fit(x_train_small, y_train_small, epochs=30)"
   ]
  },
  {
   "cell_type": "code",
   "execution_count": 21,
   "id": "1030a941",
   "metadata": {},
   "outputs": [
    {
     "name": "stdout",
     "output_type": "stream",
     "text": [
      "313/313 [==============================] - 1s 2ms/step - loss: 0.5594 - acc: 0.8441\n"
     ]
    },
    {
     "data": {
      "text/plain": [
       "[0.5594384074211121, 0.8440999984741211]"
      ]
     },
     "execution_count": 21,
     "metadata": {},
     "output_type": "execute_result"
    }
   ],
   "source": [
    "cls_2.evaluate(x_test, y_test_one_hot)"
   ]
  },
  {
   "cell_type": "code",
   "execution_count": null,
   "id": "d94e70c2",
   "metadata": {},
   "outputs": [],
   "source": []
  }
 ],
 "metadata": {
  "kernelspec": {
   "display_name": "Python [conda env:hands] *",
   "language": "python",
   "name": "conda-env-hands-py"
  },
  "language_info": {
   "codemirror_mode": {
    "name": "ipython",
    "version": 3
   },
   "file_extension": ".py",
   "mimetype": "text/x-python",
   "name": "python",
   "nbconvert_exporter": "python",
   "pygments_lexer": "ipython3",
   "version": "3.7.11"
  }
 },
 "nbformat": 4,
 "nbformat_minor": 5
}
