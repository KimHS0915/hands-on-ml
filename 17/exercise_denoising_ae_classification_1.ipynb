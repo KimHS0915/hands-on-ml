{
 "cells": [
  {
   "cell_type": "code",
   "execution_count": 1,
   "id": "8416f535",
   "metadata": {},
   "outputs": [],
   "source": [
    "import numpy as np\n",
    "import matplotlib.pyplot as plt\n",
    "import tensorflow as tf\n",
    "from tensorflow import keras"
   ]
  },
  {
   "cell_type": "markdown",
   "id": "5e3344c9",
   "metadata": {},
   "source": [
    "Exercise 9."
   ]
  },
  {
   "cell_type": "code",
   "execution_count": 2,
   "id": "b7fffff8",
   "metadata": {},
   "outputs": [],
   "source": [
    "(x_train_full, y_train_full), (x_test, y_test) = keras.datasets.mnist.load_data()\n",
    "\n",
    "x_train_full = x_train_full / 255\n",
    "x_test = x_test / 255\n",
    "\n",
    "x_train, x_valid = x_train_full[5000:], x_train_full[:5000]\n",
    "y_train, y_valid = y_train_full[5000:], y_train_full[:5000]"
   ]
  },
  {
   "cell_type": "code",
   "execution_count": 3,
   "id": "203834c2",
   "metadata": {},
   "outputs": [],
   "source": [
    "def rounded_accuracy(y_true, y_pred):\n",
    "    return keras.metrics.binary_accuracy(tf.round(y_true), tf.round(y_pred))\n",
    "\n",
    "\n",
    "def plot_image(image):\n",
    "    plt.imshow(image, cmap='binary')\n",
    "    plt.axis('off')\n",
    "    \n",
    "    \n",
    "def show_reconstructions(model, images=x_valid, n_images=5):\n",
    "    reconstructions = model.predict(images[:n_images])\n",
    "    fig = plt.figure(figsize=(n_images * 1.5, 3))\n",
    "    for image_index in range(n_images):\n",
    "        plt.subplot(2, n_images, 1 + image_index)\n",
    "        plot_image(images[image_index])\n",
    "        plt.subplot(2, n_images, 1 + n_images + image_index)\n",
    "        plot_image(reconstructions[image_index])"
   ]
  },
  {
   "cell_type": "code",
   "execution_count": 4,
   "id": "88d90c28",
   "metadata": {},
   "outputs": [],
   "source": [
    "denoising_encoder = keras.models.Sequential([\n",
    "    keras.layers.Flatten(input_shape=[28, 28]),\n",
    "    keras.layers.GaussianNoise(0.2),\n",
    "    keras.layers.Dense(100, activation='selu'),\n",
    "    keras.layers.Dense(30, activation='selu'),\n",
    "])\n",
    "\n",
    "denoising_decoder = keras.models.Sequential([\n",
    "    keras.layers.Dense(100, activation='selu', input_shape=[30]),\n",
    "    keras.layers.Dense(28 * 28, activation='sigmoid'),\n",
    "    keras.layers.Reshape([28, 28])\n",
    "])\n",
    "\n",
    "denoising_ae = keras.models.Sequential([denoising_encoder, denoising_decoder])\n",
    "denoising_ae.compile(loss='binary_crossentropy',\n",
    "                     optimizer=keras.optimizers.SGD(learning_rate=1.0), \n",
    "                     metrics=[rounded_accuracy])"
   ]
  },
  {
   "cell_type": "code",
   "execution_count": 5,
   "id": "3457eb01",
   "metadata": {},
   "outputs": [
    {
     "name": "stdout",
     "output_type": "stream",
     "text": [
      "Model: \"sequential\"\n",
      "_________________________________________________________________\n",
      "Layer (type)                 Output Shape              Param #   \n",
      "=================================================================\n",
      "flatten (Flatten)            (None, 784)               0         \n",
      "_________________________________________________________________\n",
      "gaussian_noise (GaussianNois (None, 784)               0         \n",
      "_________________________________________________________________\n",
      "dense (Dense)                (None, 100)               78500     \n",
      "_________________________________________________________________\n",
      "dense_1 (Dense)              (None, 30)                3030      \n",
      "=================================================================\n",
      "Total params: 81,530\n",
      "Trainable params: 81,530\n",
      "Non-trainable params: 0\n",
      "_________________________________________________________________\n"
     ]
    }
   ],
   "source": [
    "denoising_encoder.summary()"
   ]
  },
  {
   "cell_type": "code",
   "execution_count": 6,
   "id": "b6056e79",
   "metadata": {},
   "outputs": [
    {
     "name": "stdout",
     "output_type": "stream",
     "text": [
      "Model: \"sequential_1\"\n",
      "_________________________________________________________________\n",
      "Layer (type)                 Output Shape              Param #   \n",
      "=================================================================\n",
      "dense_2 (Dense)              (None, 100)               3100      \n",
      "_________________________________________________________________\n",
      "dense_3 (Dense)              (None, 784)               79184     \n",
      "_________________________________________________________________\n",
      "reshape (Reshape)            (None, 28, 28)            0         \n",
      "=================================================================\n",
      "Total params: 82,284\n",
      "Trainable params: 82,284\n",
      "Non-trainable params: 0\n",
      "_________________________________________________________________\n"
     ]
    }
   ],
   "source": [
    "denoising_decoder.summary()"
   ]
  },
  {
   "cell_type": "code",
   "execution_count": 7,
   "id": "dfb62bef",
   "metadata": {},
   "outputs": [
    {
     "name": "stdout",
     "output_type": "stream",
     "text": [
      "Epoch 1/10\n",
      "1719/1719 [==============================] - 7s 4ms/step - loss: 0.2000 - rounded_accuracy: 0.9095 - val_loss: 0.1536 - val_rounded_accuracy: 0.9360\n",
      "Epoch 2/10\n",
      "1719/1719 [==============================] - 6s 3ms/step - loss: 0.1440 - rounded_accuracy: 0.9411 - val_loss: 0.1304 - val_rounded_accuracy: 0.9489\n",
      "Epoch 3/10\n",
      "1719/1719 [==============================] - 6s 3ms/step - loss: 0.1293 - rounded_accuracy: 0.9493 - val_loss: 0.1201 - val_rounded_accuracy: 0.9550\n",
      "Epoch 4/10\n",
      "1719/1719 [==============================] - 6s 3ms/step - loss: 0.1224 - rounded_accuracy: 0.9531 - val_loss: 0.1155 - val_rounded_accuracy: 0.9574\n",
      "Epoch 5/10\n",
      "1719/1719 [==============================] - 6s 3ms/step - loss: 0.1194 - rounded_accuracy: 0.9546 - val_loss: 0.1129 - val_rounded_accuracy: 0.9587\n",
      "Epoch 6/10\n",
      "1719/1719 [==============================] - 6s 3ms/step - loss: 0.1171 - rounded_accuracy: 0.9559 - val_loss: 0.1105 - val_rounded_accuracy: 0.9600\n",
      "Epoch 7/10\n",
      "1719/1719 [==============================] - 6s 3ms/step - loss: 0.1154 - rounded_accuracy: 0.9569 - val_loss: 0.1095 - val_rounded_accuracy: 0.9607\n",
      "Epoch 8/10\n",
      "1719/1719 [==============================] - 6s 3ms/step - loss: 0.1143 - rounded_accuracy: 0.9575 - val_loss: 0.1084 - val_rounded_accuracy: 0.9613\n",
      "Epoch 9/10\n",
      "1719/1719 [==============================] - 6s 3ms/step - loss: 0.1133 - rounded_accuracy: 0.9580 - val_loss: 0.1081 - val_rounded_accuracy: 0.9615\n",
      "Epoch 10/10\n",
      "1719/1719 [==============================] - 6s 3ms/step - loss: 0.1125 - rounded_accuracy: 0.9585 - val_loss: 0.1075 - val_rounded_accuracy: 0.9616\n"
     ]
    },
    {
     "data": {
      "text/plain": [
       "<keras.callbacks.History at 0x1f2f0cc3b48>"
      ]
     },
     "execution_count": 7,
     "metadata": {},
     "output_type": "execute_result"
    }
   ],
   "source": [
    "denoising_ae.fit(x_train, x_train, epochs=10, \n",
    "                 validation_data=(x_valid, x_valid))"
   ]
  },
  {
   "cell_type": "code",
   "execution_count": 8,
   "id": "217332ef",
   "metadata": {},
   "outputs": [
    {
     "data": {
      "image/png": "[encoded data removed]",
      "text/plain": [
       "<Figure size 432x720 with 15 Axes>"
      ]
     },
     "metadata": {
      "needs_background": "light"
     },
     "output_type": "display_data"
    }
   ],
   "source": [
    "n_images = 5\n",
    "new_images = x_test[:n_images]\n",
    "new_images_noisy = new_images + np.random.randn(n_images, 28, 28) * 0.1\n",
    "new_images_denoised = denoising_ae.predict(new_images_noisy)\n",
    "\n",
    "plt.figure(figsize=(6, n_images * 2))\n",
    "for index in range(n_images):\n",
    "    plt.subplot(n_images, 3, index * 3 + 1)\n",
    "    plt.imshow(new_images[index])\n",
    "    plt.axis('off')\n",
    "    if index == 0:\n",
    "        plt.title(\"Original\")\n",
    "    plt.subplot(n_images, 3, index * 3 + 2)\n",
    "    plt.imshow(np.clip(new_images_noisy[index], 0., 1.))\n",
    "    plt.axis('off')\n",
    "    if index == 0:\n",
    "        plt.title(\"Noisy\")\n",
    "    plt.subplot(n_images, 3, index * 3 + 3)\n",
    "    plt.imshow(new_images_denoised[index])\n",
    "    plt.axis('off')\n",
    "    if index == 0:\n",
    "        plt.title(\"Denoised\")\n",
    "plt.show()"
   ]
  },
  {
   "cell_type": "code",
   "execution_count": 9,
   "id": "9d38df38",
   "metadata": {},
   "outputs": [],
   "source": [
    "from tensorflow.keras.utils import to_categorical\n",
    "\n",
    "y_train_one_hot = to_categorical(y_train)\n",
    "y_valid_one_hot = to_categorical(y_valid)\n",
    "y_test_one_hot = to_categorical(y_test)\n",
    "\n",
    "x_train_small, y_train_small = x_train[:500], y_train_one_hot[:500]"
   ]
  },
  {
   "cell_type": "code",
   "execution_count": 10,
   "id": "7417cbeb",
   "metadata": {},
   "outputs": [],
   "source": [
    "cls = keras.models.Sequential([\n",
    "    keras.layers.Flatten(input_shape=[28, 28]),\n",
    "    keras.layers.GaussianNoise(0.2),\n",
    "    keras.layers.Dense(100, activation='selu'),\n",
    "    keras.layers.Dense(10, activation='softmax'),\n",
    "])"
   ]
  },
  {
   "cell_type": "code",
   "execution_count": 11,
   "id": "996c7d62",
   "metadata": {},
   "outputs": [
    {
     "name": "stdout",
     "output_type": "stream",
     "text": [
      "Model: \"sequential_3\"\n",
      "_________________________________________________________________\n",
      "Layer (type)                 Output Shape              Param #   \n",
      "=================================================================\n",
      "flatten_1 (Flatten)          (None, 784)               0         \n",
      "_________________________________________________________________\n",
      "gaussian_noise_1 (GaussianNo (None, 784)               0         \n",
      "_________________________________________________________________\n",
      "dense_4 (Dense)              (None, 100)               78500     \n",
      "_________________________________________________________________\n",
      "dense_5 (Dense)              (None, 10)                1010      \n",
      "=================================================================\n",
      "Total params: 79,510\n",
      "Trainable params: 79,510\n",
      "Non-trainable params: 0\n",
      "_________________________________________________________________\n"
     ]
    }
   ],
   "source": [
    "cls.summary()"
   ]
  },
  {
   "cell_type": "code",
   "execution_count": 12,
   "id": "158ab0bf",
   "metadata": {},
   "outputs": [],
   "source": [
    "for layer in denoising_encoder.layers:\n",
    "    if layer.name == 'dense':\n",
    "        weights = layer.get_weights()\n",
    "        \n",
    "for layer in cls.layers:\n",
    "    if layer.name == 'dense_4':\n",
    "        layer.set_weights(weights)"
   ]
  },
  {
   "cell_type": "code",
   "execution_count": 13,
   "id": "e2ab8470",
   "metadata": {},
   "outputs": [
    {
     "data": {
      "text/plain": [
       "array([[-0.07664718,  0.0056848 ,  0.02932991, ..., -0.00272507,\n",
       "         0.04270015, -0.08057234],\n",
       "       [ 0.0530512 ,  0.06314112,  0.00263613, ..., -0.04261292,\n",
       "         0.02018734,  0.07975231],\n",
       "       [-0.0495843 ,  0.05799162,  0.00301617, ...,  0.02414516,\n",
       "        -0.02045208,  0.06103753],\n",
       "       ...,\n",
       "       [ 0.09076649, -0.03598722,  0.06942186, ..., -0.04387061,\n",
       "         0.0523596 ,  0.07302051],\n",
       "       [ 0.04121584, -0.04669381, -0.05541613, ..., -0.05130591,\n",
       "         0.05980787,  0.03104008],\n",
       "       [-0.01510532,  0.05340071, -0.05389055, ...,  0.0338779 ,\n",
       "         0.07712662,  0.03368571]], dtype=float32)"
      ]
     },
     "execution_count": 13,
     "metadata": {},
     "output_type": "execute_result"
    }
   ],
   "source": [
    "cls.get_weights()[0]"
   ]
  },
  {
   "cell_type": "code",
   "execution_count": 14,
   "id": "50ad605a",
   "metadata": {},
   "outputs": [
    {
     "data": {
      "text/plain": [
       "array([[-0.07664718,  0.0056848 ,  0.02932991, ..., -0.00272507,\n",
       "         0.04270015, -0.08057234],\n",
       "       [ 0.0530512 ,  0.06314112,  0.00263613, ..., -0.04261292,\n",
       "         0.02018734,  0.07975231],\n",
       "       [-0.0495843 ,  0.05799162,  0.00301617, ...,  0.02414516,\n",
       "        -0.02045208,  0.06103753],\n",
       "       ...,\n",
       "       [ 0.09076649, -0.03598722,  0.06942186, ..., -0.04387061,\n",
       "         0.0523596 ,  0.07302051],\n",
       "       [ 0.04121584, -0.04669381, -0.05541613, ..., -0.05130591,\n",
       "         0.05980787,  0.03104008],\n",
       "       [-0.01510532,  0.05340071, -0.05389055, ...,  0.0338779 ,\n",
       "         0.07712662,  0.03368571]], dtype=float32)"
      ]
     },
     "execution_count": 14,
     "metadata": {},
     "output_type": "execute_result"
    }
   ],
   "source": [
    "denoising_encoder.get_weights()[0]"
   ]
  },
  {
   "cell_type": "code",
   "execution_count": 15,
   "id": "d030d647",
   "metadata": {},
   "outputs": [],
   "source": [
    "for layer in cls.layers:\n",
    "    if layer.name != 'dense_5':\n",
    "        layer.trainable = False"
   ]
  },
  {
   "cell_type": "code",
   "execution_count": 16,
   "id": "476a7ea0",
   "metadata": {},
   "outputs": [
    {
     "name": "stdout",
     "output_type": "stream",
     "text": [
      "Epoch 1/15\n",
      "16/16 [==============================] - 0s 2ms/step - loss: 3.5360 - acc: 0.0780\n",
      "Epoch 2/15\n",
      "16/16 [==============================] - 0s 2ms/step - loss: 2.8105 - acc: 0.1460\n",
      "Epoch 3/15\n",
      "16/16 [==============================] - 0s 2ms/step - loss: 2.3588 - acc: 0.2000\n",
      "Epoch 4/15\n",
      "16/16 [==============================] - 0s 2ms/step - loss: 1.9889 - acc: 0.2840\n",
      "Epoch 5/15\n",
      "16/16 [==============================] - 0s 2ms/step - loss: 1.6976 - acc: 0.4400\n",
      "Epoch 6/15\n",
      "16/16 [==============================] - 0s 2ms/step - loss: 1.4837 - acc: 0.5080\n",
      "Epoch 7/15\n",
      "16/16 [==============================] - 0s 2ms/step - loss: 1.2878 - acc: 0.5900\n",
      "Epoch 8/15\n",
      "16/16 [==============================] - 0s 2ms/step - loss: 1.1634 - acc: 0.6360\n",
      "Epoch 9/15\n",
      "16/16 [==============================] - 0s 2ms/step - loss: 1.0572 - acc: 0.7020\n",
      "Epoch 10/15\n",
      "16/16 [==============================] - 0s 2ms/step - loss: 0.9705 - acc: 0.7400\n",
      "Epoch 11/15\n",
      "16/16 [==============================] - 0s 3ms/step - loss: 0.9015 - acc: 0.7300\n",
      "Epoch 12/15\n",
      "16/16 [==============================] - 0s 2ms/step - loss: 0.8421 - acc: 0.7680\n",
      "Epoch 13/15\n",
      "16/16 [==============================] - 0s 2ms/step - loss: 0.8049 - acc: 0.7740\n",
      "Epoch 14/15\n",
      "16/16 [==============================] - 0s 2ms/step - loss: 0.7603 - acc: 0.7800\n",
      "Epoch 15/15\n",
      "16/16 [==============================] - 0s 2ms/step - loss: 0.7216 - acc: 0.7920\n"
     ]
    },
    {
     "data": {
      "text/plain": [
       "<keras.callbacks.History at 0x1f2f06c8b48>"
      ]
     },
     "execution_count": 16,
     "metadata": {},
     "output_type": "execute_result"
    }
   ],
   "source": [
    "cls.compile(loss='categorical_crossentropy', \n",
    "            optimizer=keras.optimizers.Adam(), \n",
    "            metrics=['acc'])\n",
    "\n",
    "cls.fit(x_train_small, y_train_small, epochs=15)"
   ]
  },
  {
   "cell_type": "code",
   "execution_count": 17,
   "id": "c58d96ab",
   "metadata": {},
   "outputs": [],
   "source": [
    "for layer in cls.layers:\n",
    "    layer.trainable = True"
   ]
  },
  {
   "cell_type": "code",
   "execution_count": 18,
   "id": "591cd034",
   "metadata": {},
   "outputs": [
    {
     "name": "stdout",
     "output_type": "stream",
     "text": [
      "Epoch 1/15\n",
      "16/16 [==============================] - 0s 2ms/step - loss: 0.6860 - acc: 0.7880\n",
      "Epoch 2/15\n",
      "16/16 [==============================] - 0s 2ms/step - loss: 0.6482 - acc: 0.8240\n",
      "Epoch 3/15\n",
      "16/16 [==============================] - 0s 2ms/step - loss: 0.6177 - acc: 0.8400\n",
      "Epoch 4/15\n",
      "16/16 [==============================] - 0s 2ms/step - loss: 0.5996 - acc: 0.8400\n",
      "Epoch 5/15\n",
      "16/16 [==============================] - 0s 2ms/step - loss: 0.5772 - acc: 0.8480\n",
      "Epoch 6/15\n",
      "16/16 [==============================] - 0s 2ms/step - loss: 0.5710 - acc: 0.8600\n",
      "Epoch 7/15\n",
      "16/16 [==============================] - 0s 2ms/step - loss: 0.5490 - acc: 0.8600\n",
      "Epoch 8/15\n",
      "16/16 [==============================] - 0s 2ms/step - loss: 0.5144 - acc: 0.8760\n",
      "Epoch 9/15\n",
      "16/16 [==============================] - 0s 2ms/step - loss: 0.5233 - acc: 0.8680\n",
      "Epoch 10/15\n",
      "16/16 [==============================] - 0s 2ms/step - loss: 0.5018 - acc: 0.8700\n",
      "Epoch 11/15\n",
      "16/16 [==============================] - 0s 2ms/step - loss: 0.5004 - acc: 0.8760\n",
      "Epoch 12/15\n",
      "16/16 [==============================] - 0s 2ms/step - loss: 0.4838 - acc: 0.8820\n",
      "Epoch 13/15\n",
      "16/16 [==============================] - 0s 2ms/step - loss: 0.4809 - acc: 0.8760\n",
      "Epoch 14/15\n",
      "16/16 [==============================] - 0s 2ms/step - loss: 0.4640 - acc: 0.8900\n",
      "Epoch 15/15\n",
      "16/16 [==============================] - 0s 2ms/step - loss: 0.4490 - acc: 0.8760\n"
     ]
    },
    {
     "data": {
      "text/plain": [
       "<keras.callbacks.History at 0x1f2f07c3948>"
      ]
     },
     "execution_count": 18,
     "metadata": {},
     "output_type": "execute_result"
    }
   ],
   "source": [
    "cls.fit(x_train_small, y_train_small, epochs=15)"
   ]
  },
  {
   "cell_type": "code",
   "execution_count": 19,
   "id": "6bc4bffb",
   "metadata": {},
   "outputs": [
    {
     "name": "stdout",
     "output_type": "stream",
     "text": [
      "313/313 [==============================] - 1s 2ms/step - loss: 0.6044 - acc: 0.8209\n"
     ]
    },
    {
     "data": {
      "text/plain": [
       "[0.6043740510940552, 0.820900022983551]"
      ]
     },
     "execution_count": 19,
     "metadata": {},
     "output_type": "execute_result"
    }
   ],
   "source": [
    "cls.evaluate(x_test, y_test_one_hot)"
   ]
  },
  {
   "cell_type": "code",
   "execution_count": 20,
   "id": "4dca6e05",
   "metadata": {},
   "outputs": [
    {
     "name": "stdout",
     "output_type": "stream",
     "text": [
      "Epoch 1/30\n",
      "16/16 [==============================] - 0s 3ms/step - loss: 1.8244 - acc: 0.4220\n",
      "Epoch 2/30\n",
      "16/16 [==============================] - 0s 3ms/step - loss: 0.9298 - acc: 0.7100\n",
      "Epoch 3/30\n",
      "16/16 [==============================] - 0s 3ms/step - loss: 0.6071 - acc: 0.8320\n",
      "Epoch 4/30\n",
      "16/16 [==============================] - 0s 2ms/step - loss: 0.4843 - acc: 0.8660\n",
      "Epoch 5/30\n",
      "16/16 [==============================] - 0s 3ms/step - loss: 0.3969 - acc: 0.9040\n",
      "Epoch 6/30\n",
      "16/16 [==============================] - 0s 2ms/step - loss: 0.3390 - acc: 0.9180\n",
      "Epoch 7/30\n",
      "16/16 [==============================] - 0s 3ms/step - loss: 0.2962 - acc: 0.9360\n",
      "Epoch 8/30\n",
      "16/16 [==============================] - 0s 2ms/step - loss: 0.2811 - acc: 0.9180\n",
      "Epoch 9/30\n",
      "16/16 [==============================] - 0s 3ms/step - loss: 0.2333 - acc: 0.9480\n",
      "Epoch 10/30\n",
      "16/16 [==============================] - 0s 2ms/step - loss: 0.1982 - acc: 0.9620\n",
      "Epoch 11/30\n",
      "16/16 [==============================] - 0s 3ms/step - loss: 0.1783 - acc: 0.9620\n",
      "Epoch 12/30\n",
      "16/16 [==============================] - 0s 3ms/step - loss: 0.1896 - acc: 0.9540\n",
      "Epoch 13/30\n",
      "16/16 [==============================] - 0s 3ms/step - loss: 0.1544 - acc: 0.9700\n",
      "Epoch 14/30\n",
      "16/16 [==============================] - 0s 3ms/step - loss: 0.1446 - acc: 0.9760\n",
      "Epoch 15/30\n",
      "16/16 [==============================] - 0s 2ms/step - loss: 0.1355 - acc: 0.9740\n",
      "Epoch 16/30\n",
      "16/16 [==============================] - 0s 3ms/step - loss: 0.1154 - acc: 0.9800\n",
      "Epoch 17/30\n",
      "16/16 [==============================] - 0s 2ms/step - loss: 0.1141 - acc: 0.9780\n",
      "Epoch 18/30\n",
      "16/16 [==============================] - 0s 2ms/step - loss: 0.1030 - acc: 0.9780\n",
      "Epoch 19/30\n",
      "16/16 [==============================] - 0s 3ms/step - loss: 0.1007 - acc: 0.9800\n",
      "Epoch 20/30\n",
      "16/16 [==============================] - 0s 2ms/step - loss: 0.0758 - acc: 0.9960\n",
      "Epoch 21/30\n",
      "16/16 [==============================] - 0s 3ms/step - loss: 0.0846 - acc: 0.9840\n",
      "Epoch 22/30\n",
      "16/16 [==============================] - 0s 3ms/step - loss: 0.0774 - acc: 0.9860\n",
      "Epoch 23/30\n",
      "16/16 [==============================] - 0s 3ms/step - loss: 0.0871 - acc: 0.9800\n",
      "Epoch 24/30\n",
      "16/16 [==============================] - 0s 2ms/step - loss: 0.0684 - acc: 0.9940\n",
      "Epoch 25/30\n",
      "16/16 [==============================] - 0s 3ms/step - loss: 0.0765 - acc: 0.9860\n",
      "Epoch 26/30\n",
      "16/16 [==============================] - 0s 2ms/step - loss: 0.0584 - acc: 0.9960\n",
      "Epoch 27/30\n",
      "16/16 [==============================] - 0s 3ms/step - loss: 0.0603 - acc: 0.9920\n",
      "Epoch 28/30\n",
      "16/16 [==============================] - 0s 2ms/step - loss: 0.0520 - acc: 0.9940\n",
      "Epoch 29/30\n",
      "16/16 [==============================] - 0s 3ms/step - loss: 0.0573 - acc: 0.9980\n",
      "Epoch 30/30\n",
      "16/16 [==============================] - 0s 2ms/step - loss: 0.0561 - acc: 0.9900\n"
     ]
    },
    {
     "data": {
      "text/plain": [
       "<keras.callbacks.History at 0x1f2f0ab0c08>"
      ]
     },
     "execution_count": 20,
     "metadata": {},
     "output_type": "execute_result"
    }
   ],
   "source": [
    "cls_2 = keras.models.Sequential([\n",
    "    keras.layers.Flatten(input_shape=[28, 28]),\n",
    "    keras.layers.GaussianNoise(0.2),\n",
    "    keras.layers.Dense(100, activation='selu'),\n",
    "    keras.layers.Dense(10, activation='softmax')\n",
    "])\n",
    "\n",
    "cls_2.compile(loss='categorical_crossentropy', \n",
    "            optimizer=keras.optimizers.Adam(), \n",
    "            metrics=['acc'])\n",
    "\n",
    "cls_2.fit(x_train_small, y_train_small, epochs=30)"
   ]
  },
  {
   "cell_type": "code",
   "execution_count": 21,
   "id": "1030a941",
   "metadata": {},
   "outputs": [
    {
     "name": "stdout",
     "output_type": "stream",
     "text": [
      "313/313 [==============================] - 1s 2ms/step - loss: 0.5645 - acc: 0.8403\n"
     ]
    },
    {
     "data": {
      "text/plain": [
       "[0.5645262598991394, 0.8403000235557556]"
      ]
     },
     "execution_count": 21,
     "metadata": {},
     "output_type": "execute_result"
    }
   ],
   "source": [
    "cls_2.evaluate(x_test, y_test_one_hot)"
   ]
  },
  {
   "cell_type": "code",
   "execution_count": null,
   "id": "d94e70c2",
   "metadata": {},
   "outputs": [],
   "source": []
  }
 ],
 "metadata": {
  "kernelspec": {
   "display_name": "Python [conda env:hands] *",
   "language": "python",
   "name": "conda-env-hands-py"
  },
  "language_info": {
   "codemirror_mode": {
    "name": "ipython",
    "version": 3
   },
   "file_extension": ".py",
   "mimetype": "text/x-python",
   "name": "python",
   "nbconvert_exporter": "python",
   "pygments_lexer": "ipython3",
   "version": "3.7.11"
  }
 },
 "nbformat": 4,
 "nbformat_minor": 5
}
