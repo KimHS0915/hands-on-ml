{
 "cells": [
  {
   "cell_type": "markdown",
   "id": "7f91efe9",
   "metadata": {},
   "source": [
    "Keras Code examples - Conditional GAN  \n",
    "https://keras.io/examples/generative/conditional_gan/"
   ]
  },
  {
   "cell_type": "code",
   "execution_count": 1,
   "id": "f511353c",
   "metadata": {},
   "outputs": [],
   "source": [
    "from tensorflow import keras\n",
    "from tensorflow.keras import layers\n",
    "from tensorflow_docs.vis import embed\n",
    "import matplotlib.pyplot as plt\n",
    "import tensorflow as tf\n",
    "import numpy as np\n",
    "import imageio"
   ]
  },
  {
   "cell_type": "code",
   "execution_count": 2,
   "id": "2cb73edf",
   "metadata": {},
   "outputs": [],
   "source": [
    "batch_size = 64\n",
    "num_channels = 1\n",
    "num_classes = 10\n",
    "image_size = 28\n",
    "latent_dim = 128"
   ]
  },
  {
   "cell_type": "code",
   "execution_count": 3,
   "id": "ece61d4c",
   "metadata": {},
   "outputs": [
    {
     "name": "stdout",
     "output_type": "stream",
     "text": [
      "Shape of training images: (70000, 28, 28, 1)\n",
      "Shape of training labels: (70000, 10)\n"
     ]
    }
   ],
   "source": [
    "# We'll use all the available examples from both the training and test\n",
    "# sets.\n",
    "(x_train, y_train), (x_test, y_test) = keras.datasets.mnist.load_data()\n",
    "all_digits = np.concatenate([x_train, x_test])\n",
    "all_labels = np.concatenate([y_train, y_test])\n",
    "\n",
    "# Scale the pixel values to [0, 1] range, add a channel dimension to\n",
    "# the images, and one-hot encode the labels.\n",
    "all_digits = all_digits.astype(\"float32\") / 255.0\n",
    "all_digits = np.reshape(all_digits, (-1, 28, 28, 1))\n",
    "all_labels = keras.utils.to_categorical(all_labels, 10)\n",
    "\n",
    "# Create tf.data.Dataset.\n",
    "dataset = tf.data.Dataset.from_tensor_slices((all_digits, all_labels))\n",
    "dataset = dataset.shuffle(buffer_size=1024).batch(batch_size)\n",
    "\n",
    "print(f\"Shape of training images: {all_digits.shape}\")\n",
    "print(f\"Shape of training labels: {all_labels.shape}\")"
   ]
  },
  {
   "cell_type": "code",
   "execution_count": 4,
   "id": "071bdaa1",
   "metadata": {},
   "outputs": [
    {
     "name": "stdout",
     "output_type": "stream",
     "text": [
      "138 11\n"
     ]
    }
   ],
   "source": [
    "generator_in_channels = latent_dim + num_classes\n",
    "discriminator_in_channels = num_channels + num_classes\n",
    "print(generator_in_channels, discriminator_in_channels)"
   ]
  },
  {
   "cell_type": "code",
   "execution_count": 5,
   "id": "c0b1ce72",
   "metadata": {},
   "outputs": [],
   "source": [
    "# Create the discriminator.\n",
    "discriminator = keras.Sequential(\n",
    "    [\n",
    "        keras.layers.InputLayer((28, 28, discriminator_in_channels)),\n",
    "        layers.Conv2D(64, (3, 3), strides=(2, 2), padding=\"same\"),\n",
    "        layers.LeakyReLU(alpha=0.2),\n",
    "        layers.Conv2D(128, (3, 3), strides=(2, 2), padding=\"same\"),\n",
    "        layers.LeakyReLU(alpha=0.2),\n",
    "        layers.GlobalMaxPooling2D(),\n",
    "        layers.Dense(1),\n",
    "    ],\n",
    "    name=\"discriminator\",\n",
    ")\n",
    "\n",
    "# Create the generator.\n",
    "generator = keras.Sequential(\n",
    "    [\n",
    "        keras.layers.InputLayer((generator_in_channels,)),\n",
    "        # We want to generate 128 + num_classes coefficients to reshape into a\n",
    "        # 7x7x(128 + num_classes) map.\n",
    "        layers.Dense(7 * 7 * generator_in_channels),\n",
    "        layers.LeakyReLU(alpha=0.2),\n",
    "        layers.Reshape((7, 7, generator_in_channels)),\n",
    "        layers.Conv2DTranspose(128, (4, 4), strides=(2, 2), padding=\"same\"),\n",
    "        layers.LeakyReLU(alpha=0.2),\n",
    "        layers.Conv2DTranspose(128, (4, 4), strides=(2, 2), padding=\"same\"),\n",
    "        layers.LeakyReLU(alpha=0.2),\n",
    "        layers.Conv2D(1, (7, 7), padding=\"same\", activation=\"sigmoid\"),\n",
    "    ],\n",
    "    name=\"generator\",\n",
    ")"
   ]
  },
  {
   "cell_type": "code",
   "execution_count": 6,
   "id": "69e474e5",
   "metadata": {},
   "outputs": [],
   "source": [
    "class ConditionalGAN(keras.Model):\n",
    "    def __init__(self, discriminator, generator, latent_dim):\n",
    "        super(ConditionalGAN, self).__init__()\n",
    "        self.discriminator = discriminator\n",
    "        self.generator = generator\n",
    "        self.latent_dim = latent_dim\n",
    "        self.gen_loss_tracker = keras.metrics.Mean(name=\"generator_loss\")\n",
    "        self.disc_loss_tracker = keras.metrics.Mean(name=\"discriminator_loss\")\n",
    "\n",
    "    @property\n",
    "    def metrics(self):\n",
    "        return [self.gen_loss_tracker, self.disc_loss_tracker]\n",
    "\n",
    "    def compile(self, d_optimizer, g_optimizer, loss_fn):\n",
    "        super(ConditionalGAN, self).compile()\n",
    "        self.d_optimizer = d_optimizer\n",
    "        self.g_optimizer = g_optimizer\n",
    "        self.loss_fn = loss_fn\n",
    "\n",
    "    def train_step(self, data):\n",
    "        # Unpack the data.\n",
    "        real_images, one_hot_labels = data\n",
    "\n",
    "        # Add dummy dimensions to the labels so that they can be concatenated with\n",
    "        # the images. This is for the discriminator.\n",
    "        image_one_hot_labels = one_hot_labels[:, :, None, None]\n",
    "        image_one_hot_labels = tf.repeat(\n",
    "            image_one_hot_labels, repeats=[image_size * image_size]\n",
    "        )\n",
    "        image_one_hot_labels = tf.reshape(\n",
    "            image_one_hot_labels, (-1, image_size, image_size, num_classes)\n",
    "        )\n",
    "\n",
    "        # Sample random points in the latent space and concatenate the labels.\n",
    "        # This is for the generator.\n",
    "        batch_size = tf.shape(real_images)[0]\n",
    "        random_latent_vectors = tf.random.normal(shape=(batch_size, self.latent_dim))\n",
    "        random_vector_labels = tf.concat(\n",
    "            [random_latent_vectors, one_hot_labels], axis=1\n",
    "        )\n",
    "\n",
    "        # Decode the noise (guided by labels) to fake images.\n",
    "        generated_images = self.generator(random_vector_labels)\n",
    "\n",
    "        # Combine them with real images. Note that we are concatenating the labels\n",
    "        # with these images here.\n",
    "        fake_image_and_labels = tf.concat([generated_images, image_one_hot_labels], -1)\n",
    "        real_image_and_labels = tf.concat([real_images, image_one_hot_labels], -1)\n",
    "        combined_images = tf.concat(\n",
    "            [fake_image_and_labels, real_image_and_labels], axis=0\n",
    "        )\n",
    "\n",
    "        # Assemble labels discriminating real from fake images.\n",
    "        labels = tf.concat(\n",
    "            [tf.ones((batch_size, 1)), tf.zeros((batch_size, 1))], axis=0\n",
    "        )\n",
    "\n",
    "        # Train the discriminator.\n",
    "        with tf.GradientTape() as tape:\n",
    "            predictions = self.discriminator(combined_images)\n",
    "            d_loss = self.loss_fn(labels, predictions)\n",
    "        grads = tape.gradient(d_loss, self.discriminator.trainable_weights)\n",
    "        self.d_optimizer.apply_gradients(\n",
    "            zip(grads, self.discriminator.trainable_weights)\n",
    "        )\n",
    "\n",
    "        # Sample random points in the latent space.\n",
    "        random_latent_vectors = tf.random.normal(shape=(batch_size, self.latent_dim))\n",
    "        random_vector_labels = tf.concat(\n",
    "            [random_latent_vectors, one_hot_labels], axis=1\n",
    "        )\n",
    "\n",
    "        # Assemble labels that say \"all real images\".\n",
    "        misleading_labels = tf.zeros((batch_size, 1))\n",
    "\n",
    "        # Train the generator (note that we should *not* update the weights\n",
    "        # of the discriminator)!\n",
    "        with tf.GradientTape() as tape:\n",
    "            fake_images = self.generator(random_vector_labels)\n",
    "            fake_image_and_labels = tf.concat([fake_images, image_one_hot_labels], -1)\n",
    "            predictions = self.discriminator(fake_image_and_labels)\n",
    "            g_loss = self.loss_fn(misleading_labels, predictions)\n",
    "        grads = tape.gradient(g_loss, self.generator.trainable_weights)\n",
    "        self.g_optimizer.apply_gradients(zip(grads, self.generator.trainable_weights))\n",
    "\n",
    "        # Monitor loss.\n",
    "        self.gen_loss_tracker.update_state(g_loss)\n",
    "        self.disc_loss_tracker.update_state(d_loss)\n",
    "        return {\n",
    "            \"g_loss\": self.gen_loss_tracker.result(),\n",
    "            \"d_loss\": self.disc_loss_tracker.result(),\n",
    "        }"
   ]
  },
  {
   "cell_type": "code",
   "execution_count": 7,
   "id": "6e2024f3",
   "metadata": {},
   "outputs": [
    {
     "name": "stdout",
     "output_type": "stream",
     "text": [
      "Epoch 1/20\n",
      "1094/1094 [==============================] - 54s 47ms/step - g_loss: 1.5160 - d_loss: 0.4418\n",
      "Epoch 2/20\n",
      "1094/1094 [==============================] - 50s 46ms/step - g_loss: 1.2851 - d_loss: 0.5050\n",
      "Epoch 3/20\n",
      "1094/1094 [==============================] - 51s 47ms/step - g_loss: 1.5318 - d_loss: 0.4128\n",
      "Epoch 4/20\n",
      "1094/1094 [==============================] - 53s 49ms/step - g_loss: 2.0136 - d_loss: 0.2768\n",
      "Epoch 5/20\n",
      "1094/1094 [==============================] - 50s 46ms/step - g_loss: 1.0411 - d_loss: 0.6173\n",
      "Epoch 6/20\n",
      "1094/1094 [==============================] - 55s 50ms/step - g_loss: 0.8892 - d_loss: 0.6505\n",
      "Epoch 7/20\n",
      "1094/1094 [==============================] - 54s 49ms/step - g_loss: 0.8438 - d_loss: 0.6637\n",
      "Epoch 8/20\n",
      "1094/1094 [==============================] - 54s 49ms/step - g_loss: 0.7746 - d_loss: 0.6820\n",
      "Epoch 9/20\n",
      "1094/1094 [==============================] - 52s 47ms/step - g_loss: 0.7781 - d_loss: 0.6752\n",
      "Epoch 10/20\n",
      "1094/1094 [==============================] - 50s 45ms/step - g_loss: 0.7604 - d_loss: 0.6827\n",
      "Epoch 11/20\n",
      "1094/1094 [==============================] - 51s 47ms/step - g_loss: 0.7537 - d_loss: 0.6845\n",
      "Epoch 12/20\n",
      "1094/1094 [==============================] - 49s 45ms/step - g_loss: 0.7709 - d_loss: 0.6788\n",
      "Epoch 13/20\n",
      "1094/1094 [==============================] - 48s 44ms/step - g_loss: 0.7603 - d_loss: 0.6798\n",
      "Epoch 14/20\n",
      "1094/1094 [==============================] - 48s 44ms/step - g_loss: 0.7531 - d_loss: 0.6790\n",
      "Epoch 15/20\n",
      "1094/1094 [==============================] - 49s 45ms/step - g_loss: 0.7488 - d_loss: 0.6821\n",
      "Epoch 16/20\n",
      "1094/1094 [==============================] - 50s 46ms/step - g_loss: 0.7572 - d_loss: 0.6730\n",
      "Epoch 17/20\n",
      "1094/1094 [==============================] - 53s 49ms/step - g_loss: 0.7829 - d_loss: 0.6619\n",
      "Epoch 18/20\n",
      "1094/1094 [==============================] - 50s 46ms/step - g_loss: 0.7828 - d_loss: 0.6564\n",
      "Epoch 19/20\n",
      "1094/1094 [==============================] - 52s 48ms/step - g_loss: 0.8077 - d_loss: 0.6413\n",
      "Epoch 20/20\n",
      "1094/1094 [==============================] - 53s 48ms/step - g_loss: 0.8300 - d_loss: 0.6322\n"
     ]
    },
    {
     "data": {
      "text/plain": [
       "<keras.callbacks.History at 0x161200b9908>"
      ]
     },
     "execution_count": 7,
     "metadata": {},
     "output_type": "execute_result"
    }
   ],
   "source": [
    "cond_gan = ConditionalGAN(\n",
    "    discriminator=discriminator, generator=generator, latent_dim=latent_dim\n",
    ")\n",
    "cond_gan.compile(\n",
    "    d_optimizer=keras.optimizers.Adam(learning_rate=0.0003),\n",
    "    g_optimizer=keras.optimizers.Adam(learning_rate=0.0003),\n",
    "    loss_fn=keras.losses.BinaryCrossentropy(from_logits=True),\n",
    ")\n",
    "\n",
    "cond_gan.fit(dataset, epochs=20)"
   ]
  },
  {
   "cell_type": "code",
   "execution_count": 8,
   "id": "37e420fc",
   "metadata": {},
   "outputs": [],
   "source": [
    "# We first extract the trained generator from our Conditiona GAN.\n",
    "trained_gen = cond_gan.generator\n",
    "\n",
    "# Choose the number of intermediate images that would be generated in\n",
    "# between the interpolation + 2 (start and last images).\n",
    "num_interpolation = 9  # @param {type:\"integer\"}\n",
    "\n",
    "# Sample noise for the interpolation.\n",
    "interpolation_noise = tf.random.normal(shape=(1, latent_dim))\n",
    "interpolation_noise = tf.repeat(interpolation_noise, repeats=num_interpolation)\n",
    "interpolation_noise = tf.reshape(interpolation_noise, (num_interpolation, latent_dim))\n",
    "\n",
    "\n",
    "def interpolate_class(first_number, second_number):\n",
    "    # Convert the start and end labels to one-hot encoded vectors.\n",
    "    first_label = keras.utils.to_categorical([first_number], num_classes)\n",
    "    second_label = keras.utils.to_categorical([second_number], num_classes)\n",
    "    first_label = tf.cast(first_label, tf.float32)\n",
    "    second_label = tf.cast(second_label, tf.float32)\n",
    "\n",
    "    # Calculate the interpolation vector between the two labels.\n",
    "    percent_second_label = tf.linspace(0, 1, num_interpolation)[:, None]\n",
    "    percent_second_label = tf.cast(percent_second_label, tf.float32)\n",
    "    interpolation_labels = (\n",
    "        first_label * (1 - percent_second_label) + second_label * percent_second_label\n",
    "    )\n",
    "\n",
    "    # Combine the noise and the labels and run inference with the generator.\n",
    "    noise_and_labels = tf.concat([interpolation_noise, interpolation_labels], 1)\n",
    "    fake = trained_gen.predict(noise_and_labels)\n",
    "    return fake\n",
    "\n",
    "\n",
    "start_class = 1  # @param {type:\"slider\", min:0, max:9, step:1}\n",
    "end_class = 5  # @param {type:\"slider\", min:0, max:9, step:1}\n",
    "\n",
    "fake_images = interpolate_class(start_class, end_class)"
   ]
  },
  {
   "cell_type": "code",
   "execution_count": 9,
   "id": "ca4632a6",
   "metadata": {},
   "outputs": [
    {
     "data": {
      "text/html": [
       "<img src=\"data:image/gif;base64,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\"/>"
      ],
      "text/plain": [
       "<IPython.core.display.HTML object>"
      ]
     },
     "execution_count": 9,
     "metadata": {},
     "output_type": "execute_result"
    }
   ],
   "source": [
    "fake_images *= 255.0\n",
    "converted_images = fake_images.astype(np.uint8)\n",
    "converted_images = tf.image.resize(converted_images, (96, 96)).numpy().astype(np.uint8)\n",
    "imageio.mimsave(\"animation.gif\", converted_images, fps=1)\n",
    "embed.embed_file(\"animation.gif\")"
   ]
  },
  {
   "cell_type": "code",
   "execution_count": null,
   "id": "4fd46d1a",
   "metadata": {},
   "outputs": [],
   "source": []
  }
 ],
 "metadata": {
  "kernelspec": {
   "display_name": "Python 3 (ipykernel)",
   "language": "python",
   "name": "python3"
  },
  "language_info": {
   "codemirror_mode": {
    "name": "ipython",
    "version": 3
   },
   "file_extension": ".py",
   "mimetype": "text/x-python",
   "name": "python",
   "nbconvert_exporter": "python",
   "pygments_lexer": "ipython3",
   "version": "3.7.11"
  }
 },
 "nbformat": 4,
 "nbformat_minor": 5
}
