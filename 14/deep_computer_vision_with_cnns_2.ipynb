{
 "cells": [
  {
   "cell_type": "code",
   "execution_count": 1,
   "id": "industrial-hundred",
   "metadata": {},
   "outputs": [],
   "source": [
    "import numpy as np\n",
    "import tensorflow as tf\n",
    "from tensorflow import keras"
   ]
  },
  {
   "cell_type": "code",
   "execution_count": 2,
   "id": "persistent-aviation",
   "metadata": {},
   "outputs": [],
   "source": [
    "(x_train_full, y_train_full), (x_test, y_test) = keras.datasets.fashion_mnist.load_data()\n",
    "\n",
    "x_train, x_valid = x_train_full[5000:], x_train_full[:5000]\n",
    "y_train, y_valid = y_train_full[5000:], y_train_full[:5000]\n",
    "\n",
    "x_mean = x_train.mean(axis=0, keepdims=True)\n",
    "x_std = x_train.std(axis=0, keepdims=True) + 1e-7\n",
    "\n",
    "x_train = (x_train - x_mean) / x_std\n",
    "x_valid = (x_valid - x_mean) / x_std\n",
    "x_test = (x_test - x_mean) / x_std\n",
    "\n",
    "x_train = x_train[..., np.newaxis]\n",
    "x_valid = x_valid[..., np.newaxis]\n",
    "x_test = x_test[..., np.newaxis]"
   ]
  },
  {
   "cell_type": "code",
   "execution_count": 3,
   "id": "instant-determination",
   "metadata": {},
   "outputs": [],
   "source": [
    "from functools import partial\n",
    "\n",
    "DefaultConv2D = partial(keras.layers.Conv2D, kernel_size=3, \n",
    "                        activation='relu', padding='SAME')"
   ]
  },
  {
   "cell_type": "code",
   "execution_count": 4,
   "id": "classical-walter",
   "metadata": {},
   "outputs": [],
   "source": [
    "model = keras.models.Sequential([\n",
    "    DefaultConv2D(filters=64, kernel_size=7, \n",
    "                  input_shape=[28, 28, 1]),\n",
    "    keras.layers.MaxPooling2D(pool_size=2),\n",
    "    DefaultConv2D(filters=128),\n",
    "    DefaultConv2D(filters=128),\n",
    "    keras.layers.MaxPooling2D(pool_size=2),\n",
    "    DefaultConv2D(filters=256),\n",
    "    DefaultConv2D(filters=256),\n",
    "    keras.layers.MaxPooling2D(pool_size=2),\n",
    "    keras.layers.Flatten(),\n",
    "    keras.layers.Dense(units=128, activation='relu'),\n",
    "    keras.layers.Dropout(0.5),    \n",
    "    keras.layers.Dense(units=64, activation='relu'),\n",
    "    keras.layers.Dropout(0.5),\n",
    "    keras.layers.Dense(units=10, activation='softmax'),    \n",
    "])"
   ]
  },
  {
   "cell_type": "code",
   "execution_count": 5,
   "id": "first-recognition",
   "metadata": {},
   "outputs": [
    {
     "name": "stdout",
     "output_type": "stream",
     "text": [
      "Model: \"sequential\"\n",
      "_________________________________________________________________\n",
      "Layer (type)                 Output Shape              Param #   \n",
      "=================================================================\n",
      "conv2d (Conv2D)              (None, 28, 28, 64)        3200      \n",
      "_________________________________________________________________\n",
      "max_pooling2d (MaxPooling2D) (None, 14, 14, 64)        0         \n",
      "_________________________________________________________________\n",
      "conv2d_1 (Conv2D)            (None, 14, 14, 128)       73856     \n",
      "_________________________________________________________________\n",
      "conv2d_2 (Conv2D)            (None, 14, 14, 128)       147584    \n",
      "_________________________________________________________________\n",
      "max_pooling2d_1 (MaxPooling2 (None, 7, 7, 128)         0         \n",
      "_________________________________________________________________\n",
      "conv2d_3 (Conv2D)            (None, 7, 7, 256)         295168    \n",
      "_________________________________________________________________\n",
      "conv2d_4 (Conv2D)            (None, 7, 7, 256)         590080    \n",
      "_________________________________________________________________\n",
      "max_pooling2d_2 (MaxPooling2 (None, 3, 3, 256)         0         \n",
      "_________________________________________________________________\n",
      "flatten (Flatten)            (None, 2304)              0         \n",
      "_________________________________________________________________\n",
      "dense (Dense)                (None, 128)               295040    \n",
      "_________________________________________________________________\n",
      "dropout (Dropout)            (None, 128)               0         \n",
      "_________________________________________________________________\n",
      "dense_1 (Dense)              (None, 64)                8256      \n",
      "_________________________________________________________________\n",
      "dropout_1 (Dropout)          (None, 64)                0         \n",
      "_________________________________________________________________\n",
      "dense_2 (Dense)              (None, 10)                650       \n",
      "=================================================================\n",
      "Total params: 1,413,834\n",
      "Trainable params: 1,413,834\n",
      "Non-trainable params: 0\n",
      "_________________________________________________________________\n"
     ]
    }
   ],
   "source": [
    "model.summary()"
   ]
  },
  {
   "cell_type": "code",
   "execution_count": 6,
   "id": "compact-petersburg",
   "metadata": {},
   "outputs": [
    {
     "name": "stdout",
     "output_type": "stream",
     "text": [
      "Epoch 1/10\n",
      "1719/1719 [==============================] - 125s 72ms/step - loss: 0.7064 - acc: 0.7532 - val_loss: 0.3593 - val_acc: 0.8742\n",
      "Epoch 2/10\n",
      "1719/1719 [==============================] - 127s 74ms/step - loss: 0.4177 - acc: 0.8602 - val_loss: 0.3348 - val_acc: 0.8840\n",
      "Epoch 3/10\n",
      "1719/1719 [==============================] - 130s 76ms/step - loss: 0.3569 - acc: 0.8814 - val_loss: 0.3010 - val_acc: 0.8870\n",
      "Epoch 4/10\n",
      "1719/1719 [==============================] - 130s 76ms/step - loss: 0.3259 - acc: 0.8905 - val_loss: 0.3058 - val_acc: 0.8950\n",
      "Epoch 5/10\n",
      "1719/1719 [==============================] - 130s 76ms/step - loss: 0.3023 - acc: 0.8981 - val_loss: 0.2914 - val_acc: 0.8970\n",
      "Epoch 6/10\n",
      "1719/1719 [==============================] - 130s 76ms/step - loss: 0.2935 - acc: 0.9010 - val_loss: 0.2641 - val_acc: 0.9016\n",
      "Epoch 7/10\n",
      "1719/1719 [==============================] - 128s 74ms/step - loss: 0.2761 - acc: 0.9049 - val_loss: 0.2759 - val_acc: 0.9006\n",
      "Epoch 8/10\n",
      "1719/1719 [==============================] - 124s 72ms/step - loss: 0.2654 - acc: 0.9075 - val_loss: 0.2747 - val_acc: 0.9094\n",
      "Epoch 9/10\n",
      "1719/1719 [==============================] - 125s 72ms/step - loss: 0.2494 - acc: 0.9135 - val_loss: 0.2770 - val_acc: 0.9020\n",
      "Epoch 10/10\n",
      "1719/1719 [==============================] - 122s 71ms/step - loss: 0.2479 - acc: 0.9164 - val_loss: 0.2837 - val_acc: 0.9012\n"
     ]
    }
   ],
   "source": [
    "model.compile(loss='sparse_categorical_crossentropy', \n",
    "              optimizer='nadam', \n",
    "              metrics=['acc'])\n",
    "\n",
    "history = model.fit(x_train, y_train, epochs=10, \n",
    "                    validation_data=(x_valid, y_valid))"
   ]
  },
  {
   "cell_type": "code",
   "execution_count": 7,
   "id": "fifty-florence",
   "metadata": {},
   "outputs": [
    {
     "name": "stdout",
     "output_type": "stream",
     "text": [
      "313/313 [==============================] - 6s 18ms/step - loss: 0.3206 - acc: 0.8981\n"
     ]
    }
   ],
   "source": [
    "score = model.evaluate(x_test, y_test)"
   ]
  },
  {
   "cell_type": "code",
   "execution_count": null,
   "id": "crude-london",
   "metadata": {},
   "outputs": [],
   "source": []
  }
 ],
 "metadata": {
  "kernelspec": {
   "display_name": "Python 3",
   "language": "python",
   "name": "python3"
  },
  "language_info": {
   "codemirror_mode": {
    "name": "ipython",
    "version": 3
   },
   "file_extension": ".py",
   "mimetype": "text/x-python",
   "name": "python",
   "nbconvert_exporter": "python",
   "pygments_lexer": "ipython3",
   "version": "3.7.9"
  }
 },
 "nbformat": 4,
 "nbformat_minor": 5
}
