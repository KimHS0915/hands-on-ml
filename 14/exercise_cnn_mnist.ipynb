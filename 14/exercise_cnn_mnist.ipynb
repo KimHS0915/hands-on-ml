{
 "cells": [
  {
   "cell_type": "code",
   "execution_count": 1,
   "id": "insured-enforcement",
   "metadata": {},
   "outputs": [],
   "source": [
    "import numpy as np\n",
    "import tensorflow as tf\n",
    "from tensorflow import keras"
   ]
  },
  {
   "cell_type": "markdown",
   "id": "limited-disclosure",
   "metadata": {},
   "source": [
    "Exercise 9."
   ]
  },
  {
   "cell_type": "code",
   "execution_count": 2,
   "id": "catholic-thought",
   "metadata": {},
   "outputs": [],
   "source": [
    "(x_train_full, y_train_full), (x_test, y_test) = keras.datasets.mnist.load_data()\n",
    "\n",
    "x_train_full = x_train_full / 255\n",
    "x_test = x_test / 255\n",
    "\n",
    "x_train, x_valid = x_train_full[5000:], x_train_full[:5000]\n",
    "y_train, y_valid = y_train_full[5000:], y_train_full[:5000]\n",
    "\n",
    "x_train = x_train[..., np.newaxis]\n",
    "x_valid = x_valid[..., np.newaxis]\n",
    "x_test = x_test[..., np.newaxis]"
   ]
  },
  {
   "cell_type": "code",
   "execution_count": 3,
   "id": "competent-scholarship",
   "metadata": {},
   "outputs": [],
   "source": [
    "model = keras.models.Sequential([\n",
    "    keras.layers.Conv2D(64, kernel_size=3, padding='same', activation='relu', input_shape=(28, 28, 1)),\n",
    "    keras.layers.MaxPool2D(),\n",
    "    keras.layers.Conv2D(128, kernel_size=3, padding='same', activation='relu'),\n",
    "    keras.layers.Conv2D(128, kernel_size=3, padding='same', activation='relu'),\n",
    "    keras.layers.MaxPool2D(),\n",
    "    keras.layers.Flatten(),\n",
    "    keras.layers.Dense(64, activation='relu'),\n",
    "    keras.layers.Dropout(0.4),\n",
    "    keras.layers.Dense(10, activation='softmax'),\n",
    "])"
   ]
  },
  {
   "cell_type": "code",
   "execution_count": 4,
   "id": "lucky-philip",
   "metadata": {},
   "outputs": [
    {
     "name": "stdout",
     "output_type": "stream",
     "text": [
      "Model: \"sequential\"\n",
      "_________________________________________________________________\n",
      "Layer (type)                 Output Shape              Param #   \n",
      "=================================================================\n",
      "conv2d (Conv2D)              (None, 28, 28, 64)        640       \n",
      "_________________________________________________________________\n",
      "max_pooling2d (MaxPooling2D) (None, 14, 14, 64)        0         \n",
      "_________________________________________________________________\n",
      "conv2d_1 (Conv2D)            (None, 14, 14, 128)       73856     \n",
      "_________________________________________________________________\n",
      "conv2d_2 (Conv2D)            (None, 14, 14, 128)       147584    \n",
      "_________________________________________________________________\n",
      "max_pooling2d_1 (MaxPooling2 (None, 7, 7, 128)         0         \n",
      "_________________________________________________________________\n",
      "flatten (Flatten)            (None, 6272)              0         \n",
      "_________________________________________________________________\n",
      "dense (Dense)                (None, 64)                401472    \n",
      "_________________________________________________________________\n",
      "dropout (Dropout)            (None, 64)                0         \n",
      "_________________________________________________________________\n",
      "dense_1 (Dense)              (None, 10)                650       \n",
      "=================================================================\n",
      "Total params: 624,202\n",
      "Trainable params: 624,202\n",
      "Non-trainable params: 0\n",
      "_________________________________________________________________\n"
     ]
    }
   ],
   "source": [
    "model.summary()"
   ]
  },
  {
   "cell_type": "code",
   "execution_count": 5,
   "id": "specialized-machine",
   "metadata": {},
   "outputs": [
    {
     "name": "stdout",
     "output_type": "stream",
     "text": [
      "Epoch 1/10\n",
      "1719/1719 [==============================] - 15s 8ms/step - loss: 0.2060 - acc: 0.9384 - val_loss: 0.0469 - val_acc: 0.9854\n",
      "Epoch 2/10\n",
      "1719/1719 [==============================] - 13s 8ms/step - loss: 0.0809 - acc: 0.9760 - val_loss: 0.0426 - val_acc: 0.9896\n",
      "Epoch 3/10\n",
      "1719/1719 [==============================] - 13s 8ms/step - loss: 0.0611 - acc: 0.9828 - val_loss: 0.0357 - val_acc: 0.9888\n",
      "Epoch 4/10\n",
      "1719/1719 [==============================] - 13s 8ms/step - loss: 0.0480 - acc: 0.9852 - val_loss: 0.0315 - val_acc: 0.9910\n",
      "Epoch 5/10\n",
      "1719/1719 [==============================] - 13s 8ms/step - loss: 0.0372 - acc: 0.9892 - val_loss: 0.0309 - val_acc: 0.9918\n",
      "Epoch 6/10\n",
      "1719/1719 [==============================] - 13s 8ms/step - loss: 0.0332 - acc: 0.9899 - val_loss: 0.0322 - val_acc: 0.9908\n",
      "Epoch 7/10\n",
      "1719/1719 [==============================] - 13s 7ms/step - loss: 0.0290 - acc: 0.9914 - val_loss: 0.0407 - val_acc: 0.9906\n",
      "Epoch 8/10\n",
      "1719/1719 [==============================] - 12s 7ms/step - loss: 0.0253 - acc: 0.9921 - val_loss: 0.0361 - val_acc: 0.9930\n",
      "Epoch 9/10\n",
      "1719/1719 [==============================] - 12s 7ms/step - loss: 0.0221 - acc: 0.9932 - val_loss: 0.0304 - val_acc: 0.9930\n",
      "Epoch 10/10\n",
      "1719/1719 [==============================] - 12s 7ms/step - loss: 0.0202 - acc: 0.9938 - val_loss: 0.0444 - val_acc: 0.9920\n"
     ]
    },
    {
     "data": {
      "text/plain": [
       "<tensorflow.python.keras.callbacks.History at 0x227c282bac8>"
      ]
     },
     "execution_count": 5,
     "metadata": {},
     "output_type": "execute_result"
    }
   ],
   "source": [
    "model.compile(loss='sparse_categorical_crossentropy', optimizer='adam', metrics=['acc'])\n",
    "\n",
    "model.fit(x_train, y_train, epochs=10, validation_data=(x_valid, y_valid))"
   ]
  },
  {
   "cell_type": "code",
   "execution_count": 6,
   "id": "sized-browse",
   "metadata": {},
   "outputs": [],
   "source": [
    "model = keras.models.Sequential([\n",
    "    keras.layers.Conv2D(32, kernel_size=3, activation='relu', input_shape=(28, 28, 1)),\n",
    "    keras.layers.BatchNormalization(),\n",
    "    keras.layers.Conv2D(32, kernel_size=3, activation='relu'),\n",
    "    keras.layers.BatchNormalization(),\n",
    "    keras.layers.Conv2D(32, kernel_size=5, activation='relu'),\n",
    "    keras.layers.BatchNormalization(),\n",
    "    keras.layers.Dropout(0.4),\n",
    "    keras.layers.Conv2D(64, kernel_size=3, activation='relu'),\n",
    "    keras.layers.BatchNormalization(),\n",
    "    keras.layers.Conv2D(64, kernel_size=3, activation='relu'),\n",
    "    keras.layers.BatchNormalization(),\n",
    "    keras.layers.Conv2D(64, kernel_size=5, activation='relu'),\n",
    "    keras.layers.BatchNormalization(),\n",
    "    keras.layers.Dropout(0.4),\n",
    "    keras.layers.Conv2D(128, kernel_size=4, activation='relu'),\n",
    "    keras.layers.BatchNormalization(),\n",
    "    keras.layers.Flatten(),\n",
    "    keras.layers.Dropout(0.4),\n",
    "    keras.layers.Dense(10, activation='softmax')\n",
    "])"
   ]
  },
  {
   "cell_type": "code",
   "execution_count": 7,
   "id": "filled-privilege",
   "metadata": {},
   "outputs": [
    {
     "name": "stdout",
     "output_type": "stream",
     "text": [
      "Model: \"sequential_1\"\n",
      "_________________________________________________________________\n",
      "Layer (type)                 Output Shape              Param #   \n",
      "=================================================================\n",
      "conv2d_3 (Conv2D)            (None, 26, 26, 32)        320       \n",
      "_________________________________________________________________\n",
      "batch_normalization (BatchNo (None, 26, 26, 32)        128       \n",
      "_________________________________________________________________\n",
      "conv2d_4 (Conv2D)            (None, 24, 24, 32)        9248      \n",
      "_________________________________________________________________\n",
      "batch_normalization_1 (Batch (None, 24, 24, 32)        128       \n",
      "_________________________________________________________________\n",
      "conv2d_5 (Conv2D)            (None, 20, 20, 32)        25632     \n",
      "_________________________________________________________________\n",
      "batch_normalization_2 (Batch (None, 20, 20, 32)        128       \n",
      "_________________________________________________________________\n",
      "dropout_1 (Dropout)          (None, 20, 20, 32)        0         \n",
      "_________________________________________________________________\n",
      "conv2d_6 (Conv2D)            (None, 18, 18, 64)        18496     \n",
      "_________________________________________________________________\n",
      "batch_normalization_3 (Batch (None, 18, 18, 64)        256       \n",
      "_________________________________________________________________\n",
      "conv2d_7 (Conv2D)            (None, 16, 16, 64)        36928     \n",
      "_________________________________________________________________\n",
      "batch_normalization_4 (Batch (None, 16, 16, 64)        256       \n",
      "_________________________________________________________________\n",
      "conv2d_8 (Conv2D)            (None, 12, 12, 64)        102464    \n",
      "_________________________________________________________________\n",
      "batch_normalization_5 (Batch (None, 12, 12, 64)        256       \n",
      "_________________________________________________________________\n",
      "dropout_2 (Dropout)          (None, 12, 12, 64)        0         \n",
      "_________________________________________________________________\n",
      "conv2d_9 (Conv2D)            (None, 9, 9, 128)         131200    \n",
      "_________________________________________________________________\n",
      "batch_normalization_6 (Batch (None, 9, 9, 128)         512       \n",
      "_________________________________________________________________\n",
      "flatten_1 (Flatten)          (None, 10368)             0         \n",
      "_________________________________________________________________\n",
      "dropout_3 (Dropout)          (None, 10368)             0         \n",
      "_________________________________________________________________\n",
      "dense_2 (Dense)              (None, 10)                103690    \n",
      "=================================================================\n",
      "Total params: 429,642\n",
      "Trainable params: 428,810\n",
      "Non-trainable params: 832\n",
      "_________________________________________________________________\n"
     ]
    }
   ],
   "source": [
    "model.summary()"
   ]
  },
  {
   "cell_type": "code",
   "execution_count": 8,
   "id": "international-humidity",
   "metadata": {},
   "outputs": [
    {
     "name": "stdout",
     "output_type": "stream",
     "text": [
      "Epoch 1/30\n",
      "1719/1719 [==============================] - 23s 13ms/step - loss: 0.3102 - acc: 0.9423 - val_loss: 0.2221 - val_acc: 0.9658\n",
      "Epoch 2/30\n",
      "1719/1719 [==============================] - 21s 12ms/step - loss: 0.1773 - acc: 0.9725 - val_loss: 0.2019 - val_acc: 0.9720\n",
      "Epoch 3/30\n",
      "1719/1719 [==============================] - 21s 12ms/step - loss: 0.1241 - acc: 0.9795 - val_loss: 0.0883 - val_acc: 0.9848\n",
      "Epoch 4/30\n",
      "1719/1719 [==============================] - 23s 13ms/step - loss: 0.0871 - acc: 0.9831 - val_loss: 0.1012 - val_acc: 0.9806\n",
      "Epoch 5/30\n",
      "1719/1719 [==============================] - 22s 13ms/step - loss: 0.0686 - acc: 0.9848 - val_loss: 0.0776 - val_acc: 0.9862\n",
      "Epoch 6/30\n",
      "1719/1719 [==============================] - 21s 12ms/step - loss: 0.0473 - acc: 0.9873 - val_loss: 0.0461 - val_acc: 0.9882\n",
      "Epoch 7/30\n",
      "1719/1719 [==============================] - 23s 13ms/step - loss: 0.0384 - acc: 0.9890 - val_loss: 0.0402 - val_acc: 0.9890\n",
      "Epoch 8/30\n",
      "1719/1719 [==============================] - 21s 12ms/step - loss: 0.0321 - acc: 0.9906 - val_loss: 0.0294 - val_acc: 0.9924\n",
      "Epoch 9/30\n",
      "1719/1719 [==============================] - 23s 13ms/step - loss: 0.0283 - acc: 0.9914 - val_loss: 0.0322 - val_acc: 0.9914\n",
      "Epoch 10/30\n",
      "1719/1719 [==============================] - 23s 13ms/step - loss: 0.0256 - acc: 0.9924 - val_loss: 0.0393 - val_acc: 0.9872\n",
      "Epoch 11/30\n",
      "1719/1719 [==============================] - 23s 13ms/step - loss: 0.0230 - acc: 0.9928 - val_loss: 0.0353 - val_acc: 0.9904\n",
      "Epoch 12/30\n",
      "1719/1719 [==============================] - 24s 14ms/step - loss: 0.0221 - acc: 0.9930 - val_loss: 0.0323 - val_acc: 0.9914\n",
      "Epoch 13/30\n",
      "1719/1719 [==============================] - 23s 13ms/step - loss: 0.0197 - acc: 0.9939 - val_loss: 0.0325 - val_acc: 0.9914\n",
      "Epoch 14/30\n",
      "1719/1719 [==============================] - 20s 12ms/step - loss: 0.0188 - acc: 0.9945 - val_loss: 0.0310 - val_acc: 0.9916\n",
      "Epoch 15/30\n",
      "1719/1719 [==============================] - 20s 11ms/step - loss: 0.0153 - acc: 0.9951 - val_loss: 0.0359 - val_acc: 0.9922\n",
      "Epoch 16/30\n",
      "1719/1719 [==============================] - 20s 11ms/step - loss: 0.0175 - acc: 0.9947 - val_loss: 0.0263 - val_acc: 0.9926\n",
      "Epoch 17/30\n",
      "1719/1719 [==============================] - 20s 11ms/step - loss: 0.0137 - acc: 0.9957 - val_loss: 0.0295 - val_acc: 0.9926\n",
      "Epoch 18/30\n",
      "1719/1719 [==============================] - 20s 11ms/step - loss: 0.0146 - acc: 0.9955 - val_loss: 0.0330 - val_acc: 0.9930\n",
      "Epoch 19/30\n",
      "1719/1719 [==============================] - 22s 13ms/step - loss: 0.0131 - acc: 0.9960 - val_loss: 0.0435 - val_acc: 0.9908\n",
      "Epoch 20/30\n",
      "1719/1719 [==============================] - 23s 13ms/step - loss: 0.0130 - acc: 0.9962 - val_loss: 0.0221 - val_acc: 0.9940\n",
      "Epoch 21/30\n",
      "1719/1719 [==============================] - 22s 13ms/step - loss: 0.0121 - acc: 0.9962 - val_loss: 0.0399 - val_acc: 0.9902\n",
      "Epoch 22/30\n",
      "1719/1719 [==============================] - 22s 13ms/step - loss: 0.0117 - acc: 0.9962 - val_loss: 0.0418 - val_acc: 0.9912\n",
      "Epoch 23/30\n",
      "1719/1719 [==============================] - 21s 12ms/step - loss: 0.0128 - acc: 0.9960 - val_loss: 0.0505 - val_acc: 0.9896\n",
      "Epoch 24/30\n",
      "1719/1719 [==============================] - 22s 13ms/step - loss: 0.0104 - acc: 0.9967 - val_loss: 0.0314 - val_acc: 0.9930\n",
      "Epoch 25/30\n",
      "1719/1719 [==============================] - 22s 13ms/step - loss: 0.0119 - acc: 0.9961 - val_loss: 0.0347 - val_acc: 0.9924\n",
      "Epoch 26/30\n",
      "1719/1719 [==============================] - 22s 13ms/step - loss: 0.0097 - acc: 0.9972 - val_loss: 0.0296 - val_acc: 0.9946\n",
      "Epoch 27/30\n",
      "1719/1719 [==============================] - 20s 12ms/step - loss: 0.0082 - acc: 0.9973 - val_loss: 0.0408 - val_acc: 0.9912\n",
      "Epoch 28/30\n",
      "1719/1719 [==============================] - 22s 13ms/step - loss: 0.0101 - acc: 0.9970 - val_loss: 0.0436 - val_acc: 0.9920\n",
      "Epoch 29/30\n",
      "1719/1719 [==============================] - 22s 13ms/step - loss: 0.0091 - acc: 0.9971 - val_loss: 0.0362 - val_acc: 0.9922\n",
      "Epoch 30/30\n",
      "1719/1719 [==============================] - 23s 13ms/step - loss: 0.0089 - acc: 0.9974 - val_loss: 0.0369 - val_acc: 0.9918\n"
     ]
    },
    {
     "data": {
      "text/plain": [
       "<tensorflow.python.keras.callbacks.History at 0x227c2887f88>"
      ]
     },
     "execution_count": 8,
     "metadata": {},
     "output_type": "execute_result"
    }
   ],
   "source": [
    "model.compile(optimizer='adam', loss='sparse_categorical_crossentropy', metrics=['acc'])\n",
    "\n",
    "model.fit(x_train, y_train, epochs=30, validation_data=(x_valid, y_valid))"
   ]
  },
  {
   "cell_type": "code",
   "execution_count": 9,
   "id": "modified-exhibition",
   "metadata": {},
   "outputs": [
    {
     "name": "stdout",
     "output_type": "stream",
     "text": [
      "313/313 [==============================] - 1s 4ms/step - loss: 0.0407 - acc: 0.9934\n"
     ]
    },
    {
     "data": {
      "text/plain": [
       "[0.040658432990312576, 0.993399977684021]"
      ]
     },
     "execution_count": 9,
     "metadata": {},
     "output_type": "execute_result"
    }
   ],
   "source": [
    "model.evaluate(x_test, y_test)"
   ]
  },
  {
   "cell_type": "code",
   "execution_count": null,
   "id": "living-isaac",
   "metadata": {},
   "outputs": [],
   "source": []
  }
 ],
 "metadata": {
  "kernelspec": {
   "display_name": "Python 3",
   "language": "python",
   "name": "python3"
  },
  "language_info": {
   "codemirror_mode": {
    "name": "ipython",
    "version": 3
   },
   "file_extension": ".py",
   "mimetype": "text/x-python",
   "name": "python",
   "nbconvert_exporter": "python",
   "pygments_lexer": "ipython3",
   "version": "3.7.9"
  }
 },
 "nbformat": 4,
 "nbformat_minor": 5
}
