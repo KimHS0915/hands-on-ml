{
 "cells": [
  {
   "cell_type": "code",
   "execution_count": 1,
   "id": "massive-religion",
   "metadata": {},
   "outputs": [],
   "source": [
    "import numpy as np\n",
    "import tensorflow as tf\n",
    "from tensorflow import keras"
   ]
  },
  {
   "cell_type": "code",
   "execution_count": 2,
   "id": "surface-schema",
   "metadata": {},
   "outputs": [],
   "source": [
    "from functools import partial\n",
    "\n",
    "DefaultConv2D = partial(keras.layers.Conv2D, kernel_size=3, \n",
    "                        strides=1, padding='SAME', use_bias=False)"
   ]
  },
  {
   "cell_type": "code",
   "execution_count": 3,
   "id": "loving-fraction",
   "metadata": {},
   "outputs": [],
   "source": [
    "class ResidualUnit(keras.layers.Layer):\n",
    "    def __init__(self, filters, strides=1, activation='relu', **kwargs):\n",
    "        super().__init__(**kwargs)\n",
    "        self.activation = keras.activations.get(activation)\n",
    "        self.main_layers = [\n",
    "            DefaultConv2D(filters, strides=strides),\n",
    "            keras.layers.BatchNormalization(),\n",
    "            self.activation,\n",
    "            DefaultConv2D(filters),\n",
    "            keras.layers.BatchNormalization(),\n",
    "        ]\n",
    "        self.skip_layers = []\n",
    "        if strides > 1:\n",
    "            self.skip_layers = [\n",
    "                DefaultConv2D(filters, kernel_size=1, strides=strides),\n",
    "                keras.layers.BatchNormalization(),\n",
    "            ]\n",
    "    \n",
    "    def call(self, inputs):\n",
    "        z = inputs\n",
    "        for layer in self.main_layers:\n",
    "            z = layer(z)\n",
    "        skip_z = inputs\n",
    "        for layer in self.skip_layers:\n",
    "            skip_z = layer(skip_z)\n",
    "        return self.activation(z + skip_z)"
   ]
  },
  {
   "cell_type": "code",
   "execution_count": 4,
   "id": "damaged-thermal",
   "metadata": {},
   "outputs": [],
   "source": [
    "model = keras.models.Sequential([\n",
    "    DefaultConv2D(64, kernel_size=7, strides=2, \n",
    "                  input_shape=[224, 224, 3]),\n",
    "    keras.layers.BatchNormalization(),\n",
    "    keras.layers.Activation('relu'),\n",
    "    keras.layers.MaxPool2D(pool_size=3, strides=2, padding='SAME'),\n",
    "])\n",
    "\n",
    "prev_filters = 64\n",
    "\n",
    "for filters in [64] * 3 + [128] * 4 + [256] * 6 + [512] * 3:\n",
    "    strides = 1 if filters == prev_filters else 2\n",
    "    model.add(ResidualUnit(filters, strides=strides))\n",
    "    prev_filters = filters\n",
    "    \n",
    "model.add(keras.layers.GlobalAvgPool2D())\n",
    "model.add(keras.layers.Flatten())\n",
    "model.add(keras.layers.Dense(10, activation='softmax'))"
   ]
  },
  {
   "cell_type": "code",
   "execution_count": 5,
   "id": "fixed-benchmark",
   "metadata": {},
   "outputs": [
    {
     "name": "stdout",
     "output_type": "stream",
     "text": [
      "Model: \"sequential\"\n",
      "_________________________________________________________________\n",
      "Layer (type)                 Output Shape              Param #   \n",
      "=================================================================\n",
      "conv2d (Conv2D)              (None, 112, 112, 64)      9408      \n",
      "_________________________________________________________________\n",
      "batch_normalization (BatchNo (None, 112, 112, 64)      256       \n",
      "_________________________________________________________________\n",
      "activation (Activation)      (None, 112, 112, 64)      0         \n",
      "_________________________________________________________________\n",
      "max_pooling2d (MaxPooling2D) (None, 56, 56, 64)        0         \n",
      "_________________________________________________________________\n",
      "residual_unit (ResidualUnit) (None, 56, 56, 64)        74240     \n",
      "_________________________________________________________________\n",
      "residual_unit_1 (ResidualUni (None, 56, 56, 64)        74240     \n",
      "_________________________________________________________________\n",
      "residual_unit_2 (ResidualUni (None, 56, 56, 64)        74240     \n",
      "_________________________________________________________________\n",
      "residual_unit_3 (ResidualUni (None, 28, 28, 128)       230912    \n",
      "_________________________________________________________________\n",
      "residual_unit_4 (ResidualUni (None, 28, 28, 128)       295936    \n",
      "_________________________________________________________________\n",
      "residual_unit_5 (ResidualUni (None, 28, 28, 128)       295936    \n",
      "_________________________________________________________________\n",
      "residual_unit_6 (ResidualUni (None, 28, 28, 128)       295936    \n",
      "_________________________________________________________________\n",
      "residual_unit_7 (ResidualUni (None, 14, 14, 256)       920576    \n",
      "_________________________________________________________________\n",
      "residual_unit_8 (ResidualUni (None, 14, 14, 256)       1181696   \n",
      "_________________________________________________________________\n",
      "residual_unit_9 (ResidualUni (None, 14, 14, 256)       1181696   \n",
      "_________________________________________________________________\n",
      "residual_unit_10 (ResidualUn (None, 14, 14, 256)       1181696   \n",
      "_________________________________________________________________\n",
      "residual_unit_11 (ResidualUn (None, 14, 14, 256)       1181696   \n",
      "_________________________________________________________________\n",
      "residual_unit_12 (ResidualUn (None, 14, 14, 256)       1181696   \n",
      "_________________________________________________________________\n",
      "residual_unit_13 (ResidualUn (None, 7, 7, 512)         3676160   \n",
      "_________________________________________________________________\n",
      "residual_unit_14 (ResidualUn (None, 7, 7, 512)         4722688   \n",
      "_________________________________________________________________\n",
      "residual_unit_15 (ResidualUn (None, 7, 7, 512)         4722688   \n",
      "_________________________________________________________________\n",
      "global_average_pooling2d (Gl (None, 512)               0         \n",
      "_________________________________________________________________\n",
      "flatten (Flatten)            (None, 512)               0         \n",
      "_________________________________________________________________\n",
      "dense (Dense)                (None, 10)                5130      \n",
      "=================================================================\n",
      "Total params: 21,306,826\n",
      "Trainable params: 21,289,802\n",
      "Non-trainable params: 17,024\n",
      "_________________________________________________________________\n"
     ]
    }
   ],
   "source": [
    "model.summary()"
   ]
  },
  {
   "cell_type": "code",
   "execution_count": null,
   "id": "promotional-johnston",
   "metadata": {},
   "outputs": [],
   "source": []
  }
 ],
 "metadata": {
  "kernelspec": {
   "display_name": "Python 3",
   "language": "python",
   "name": "python3"
  },
  "language_info": {
   "codemirror_mode": {
    "name": "ipython",
    "version": 3
   },
   "file_extension": ".py",
   "mimetype": "text/x-python",
   "name": "python",
   "nbconvert_exporter": "python",
   "pygments_lexer": "ipython3",
   "version": "3.7.9"
  }
 },
 "nbformat": 4,
 "nbformat_minor": 5
}
