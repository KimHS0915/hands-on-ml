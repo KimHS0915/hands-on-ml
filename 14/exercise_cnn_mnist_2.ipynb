{
 "cells": [
  {
   "cell_type": "code",
   "execution_count": 1,
   "id": "applicable-consultancy",
   "metadata": {},
   "outputs": [],
   "source": [
    "import numpy as np\n",
    "import tensorflow as tf\n",
    "from tensorflow import keras"
   ]
  },
  {
   "cell_type": "code",
   "execution_count": 2,
   "id": "aerial-justice",
   "metadata": {},
   "outputs": [],
   "source": [
    "(x_train_full, y_train_full), (x_test, y_test) = keras.datasets.mnist.load_data()\n",
    "\n",
    "x_train_full = x_train_full / 255\n",
    "x_test = x_test / 255\n",
    "\n",
    "x_train, x_valid = x_train_full[5000:], x_train_full[:5000]\n",
    "y_train, y_valid = y_train_full[5000:], y_train_full[:5000]\n",
    "\n",
    "x_train = x_train[..., np.newaxis]\n",
    "x_valid = x_valid[..., np.newaxis]\n",
    "x_test = x_test[..., np.newaxis]"
   ]
  },
  {
   "cell_type": "code",
   "execution_count": 3,
   "id": "impossible-hudson",
   "metadata": {},
   "outputs": [],
   "source": [
    "from tensorflow.keras.preprocessing.image import ImageDataGenerator\n",
    "\n",
    "datagen = ImageDataGenerator(\n",
    "    rotation_range=20, \n",
    "    width_shift_range=0.1,\n",
    "    height_shift_range=0.1,\n",
    "    shear_range=0.1,\n",
    "    zoom_range=0.1,\n",
    "    fill_mode='nearest')"
   ]
  },
  {
   "cell_type": "code",
   "execution_count": 4,
   "id": "static-criterion",
   "metadata": {},
   "outputs": [],
   "source": [
    "traingen = datagen.flow(x_train, y_train)"
   ]
  },
  {
   "cell_type": "code",
   "execution_count": 5,
   "id": "consistent-helen",
   "metadata": {},
   "outputs": [],
   "source": [
    "model = keras.models.Sequential([\n",
    "    keras.layers.Conv2D(32, kernel_size=3, activation='relu', input_shape=(28, 28, 1)),\n",
    "    keras.layers.BatchNormalization(),\n",
    "    keras.layers.Conv2D(32, kernel_size=3, activation='relu'),\n",
    "    keras.layers.BatchNormalization(),\n",
    "    keras.layers.Conv2D(32, kernel_size=5, activation='relu'),\n",
    "    keras.layers.BatchNormalization(),\n",
    "    keras.layers.Dropout(0.4),\n",
    "    keras.layers.Conv2D(64, kernel_size=3, activation='relu'),\n",
    "    keras.layers.BatchNormalization(),\n",
    "    keras.layers.Conv2D(64, kernel_size=3, activation='relu'),\n",
    "    keras.layers.BatchNormalization(),\n",
    "    keras.layers.Conv2D(64, kernel_size=5, activation='relu'),\n",
    "    keras.layers.BatchNormalization(),\n",
    "    keras.layers.Dropout(0.4),\n",
    "    keras.layers.Conv2D(128, kernel_size=4, activation='relu'),\n",
    "    keras.layers.BatchNormalization(),\n",
    "    keras.layers.Flatten(),\n",
    "    keras.layers.Dropout(0.4),\n",
    "    keras.layers.Dense(10, activation='softmax')\n",
    "])"
   ]
  },
  {
   "cell_type": "code",
   "execution_count": 6,
   "id": "urban-termination",
   "metadata": {},
   "outputs": [],
   "source": [
    "lr_scheduler = keras.callbacks.ReduceLROnPlateau(factor=0.5, patience=5)"
   ]
  },
  {
   "cell_type": "code",
   "execution_count": 7,
   "id": "responsible-destiny",
   "metadata": {},
   "outputs": [
    {
     "name": "stdout",
     "output_type": "stream",
     "text": [
      "Epoch 1/30\n",
      "1719/1719 [==============================] - 24s 13ms/step - loss: 0.5833 - acc: 0.8730 - val_loss: 0.1274 - val_acc: 0.9808\n",
      "Epoch 2/30\n",
      "1719/1719 [==============================] - 22s 13ms/step - loss: 0.2555 - acc: 0.9470 - val_loss: 0.0795 - val_acc: 0.9824\n",
      "Epoch 3/30\n",
      "1719/1719 [==============================] - 21s 12ms/step - loss: 0.1649 - acc: 0.9625 - val_loss: 0.0712 - val_acc: 0.9806\n",
      "Epoch 4/30\n",
      "1719/1719 [==============================] - 22s 13ms/step - loss: 0.1237 - acc: 0.9677 - val_loss: 0.0557 - val_acc: 0.9838\n",
      "Epoch 5/30\n",
      "1719/1719 [==============================] - 21s 12ms/step - loss: 0.0968 - acc: 0.9736 - val_loss: 0.0458 - val_acc: 0.9880\n",
      "Epoch 6/30\n",
      "1719/1719 [==============================] - 22s 13ms/step - loss: 0.0841 - acc: 0.9767 - val_loss: 0.0318 - val_acc: 0.9900\n",
      "Epoch 7/30\n",
      "1719/1719 [==============================] - 23s 13ms/step - loss: 0.0734 - acc: 0.9790 - val_loss: 0.0254 - val_acc: 0.9924\n",
      "Epoch 8/30\n",
      "1719/1719 [==============================] - 23s 13ms/step - loss: 0.0639 - acc: 0.9809 - val_loss: 0.0262 - val_acc: 0.9908\n",
      "Epoch 9/30\n",
      "1719/1719 [==============================] - 23s 14ms/step - loss: 0.0597 - acc: 0.9825 - val_loss: 0.0238 - val_acc: 0.9918\n",
      "Epoch 10/30\n",
      "1719/1719 [==============================] - 23s 14ms/step - loss: 0.0553 - acc: 0.9834 - val_loss: 0.0214 - val_acc: 0.9928\n",
      "Epoch 11/30\n",
      "1719/1719 [==============================] - 21s 12ms/step - loss: 0.0522 - acc: 0.9844 - val_loss: 0.0192 - val_acc: 0.9942\n",
      "Epoch 12/30\n",
      "1719/1719 [==============================] - 22s 13ms/step - loss: 0.0531 - acc: 0.9842 - val_loss: 0.0245 - val_acc: 0.9928\n",
      "Epoch 13/30\n",
      "1719/1719 [==============================] - 21s 12ms/step - loss: 0.0488 - acc: 0.9856 - val_loss: 0.0166 - val_acc: 0.9942\n",
      "Epoch 14/30\n",
      "1719/1719 [==============================] - 20s 12ms/step - loss: 0.0484 - acc: 0.9855 - val_loss: 0.0195 - val_acc: 0.9944\n",
      "Epoch 15/30\n",
      "1719/1719 [==============================] - 19s 11ms/step - loss: 0.0473 - acc: 0.9859 - val_loss: 0.0210 - val_acc: 0.9938\n",
      "Epoch 16/30\n",
      "1719/1719 [==============================] - 19s 11ms/step - loss: 0.0439 - acc: 0.9870 - val_loss: 0.0216 - val_acc: 0.9940\n",
      "Epoch 17/30\n",
      "1719/1719 [==============================] - 19s 11ms/step - loss: 0.0414 - acc: 0.9876 - val_loss: 0.0147 - val_acc: 0.9954\n",
      "Epoch 18/30\n",
      "1719/1719 [==============================] - 21s 12ms/step - loss: 0.0407 - acc: 0.9878 - val_loss: 0.0146 - val_acc: 0.9954\n",
      "Epoch 19/30\n",
      "1719/1719 [==============================] - 26s 15ms/step - loss: 0.0396 - acc: 0.9885 - val_loss: 0.0216 - val_acc: 0.9930\n",
      "Epoch 20/30\n",
      "1719/1719 [==============================] - 24s 14ms/step - loss: 0.0395 - acc: 0.9882 - val_loss: 0.0176 - val_acc: 0.9948\n",
      "Epoch 21/30\n",
      "1719/1719 [==============================] - 22s 13ms/step - loss: 0.0389 - acc: 0.9879 - val_loss: 0.0169 - val_acc: 0.9958\n",
      "Epoch 22/30\n",
      "1719/1719 [==============================] - 23s 13ms/step - loss: 0.0383 - acc: 0.9886 - val_loss: 0.0152 - val_acc: 0.9954\n",
      "Epoch 23/30\n",
      "1719/1719 [==============================] - 20s 12ms/step - loss: 0.0284 - acc: 0.9914 - val_loss: 0.0099 - val_acc: 0.9972\n",
      "Epoch 24/30\n",
      "1719/1719 [==============================] - 20s 12ms/step - loss: 0.0257 - acc: 0.9919 - val_loss: 0.0092 - val_acc: 0.9974\n",
      "Epoch 25/30\n",
      "1719/1719 [==============================] - 20s 12ms/step - loss: 0.0253 - acc: 0.9925 - val_loss: 0.0104 - val_acc: 0.9970\n",
      "Epoch 26/30\n",
      "1719/1719 [==============================] - 20s 11ms/step - loss: 0.0235 - acc: 0.9928 - val_loss: 0.0116 - val_acc: 0.9962\n",
      "Epoch 27/30\n",
      "1719/1719 [==============================] - 19s 11ms/step - loss: 0.0243 - acc: 0.9930 - val_loss: 0.0116 - val_acc: 0.9976\n",
      "Epoch 28/30\n",
      "1719/1719 [==============================] - 20s 11ms/step - loss: 0.0255 - acc: 0.9923 - val_loss: 0.0094 - val_acc: 0.9974\n",
      "Epoch 29/30\n",
      "1719/1719 [==============================] - 20s 11ms/step - loss: 0.0224 - acc: 0.9932 - val_loss: 0.0132 - val_acc: 0.9964\n",
      "Epoch 30/30\n",
      "1719/1719 [==============================] - 19s 11ms/step - loss: 0.0190 - acc: 0.9942 - val_loss: 0.0110 - val_acc: 0.9970\n"
     ]
    },
    {
     "data": {
      "text/plain": [
       "<tensorflow.python.keras.callbacks.History at 0x1dca2e404c8>"
      ]
     },
     "execution_count": 7,
     "metadata": {},
     "output_type": "execute_result"
    }
   ],
   "source": [
    "model.compile(loss='sparse_categorical_crossentropy', optimizer='adam', metrics=['acc'])\n",
    "\n",
    "model.fit(traingen, epochs=30, \n",
    "          validation_data=(x_valid, y_valid), \n",
    "          callbacks=[lr_scheduler])"
   ]
  },
  {
   "cell_type": "code",
   "execution_count": 8,
   "id": "conservative-democracy",
   "metadata": {},
   "outputs": [
    {
     "name": "stdout",
     "output_type": "stream",
     "text": [
      "313/313 [==============================] - 1s 4ms/step - loss: 0.0114 - acc: 0.9961\n"
     ]
    },
    {
     "data": {
      "text/plain": [
       "[0.01137907337397337, 0.9961000084877014]"
      ]
     },
     "execution_count": 8,
     "metadata": {},
     "output_type": "execute_result"
    }
   ],
   "source": [
    "model.evaluate(x_test, y_test)"
   ]
  },
  {
   "cell_type": "code",
   "execution_count": null,
   "id": "hired-lawrence",
   "metadata": {},
   "outputs": [],
   "source": []
  }
 ],
 "metadata": {
  "kernelspec": {
   "display_name": "Python 3",
   "language": "python",
   "name": "python3"
  },
  "language_info": {
   "codemirror_mode": {
    "name": "ipython",
    "version": 3
   },
   "file_extension": ".py",
   "mimetype": "text/x-python",
   "name": "python",
   "nbconvert_exporter": "python",
   "pygments_lexer": "ipython3",
   "version": "3.7.9"
  }
 },
 "nbformat": 4,
 "nbformat_minor": 5
}
