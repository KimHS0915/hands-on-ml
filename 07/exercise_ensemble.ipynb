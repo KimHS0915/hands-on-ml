{
 "cells": [
  {
   "cell_type": "code",
   "execution_count": 1,
   "id": "offensive-glenn",
   "metadata": {},
   "outputs": [],
   "source": [
    "import warnings\n",
    "\n",
    "warnings.filterwarnings('ignore')"
   ]
  },
  {
   "cell_type": "code",
   "execution_count": 2,
   "id": "elementary-protection",
   "metadata": {},
   "outputs": [],
   "source": [
    "from sklearn.datasets import fetch_openml\n",
    "\n",
    "X, y = fetch_openml('mnist_784', version=1, return_X_y=True, as_frame=False)"
   ]
  },
  {
   "cell_type": "markdown",
   "id": "auburn-enemy",
   "metadata": {},
   "source": [
    "Exercise 8."
   ]
  },
  {
   "cell_type": "code",
   "execution_count": 3,
   "id": "loving-hundred",
   "metadata": {},
   "outputs": [
    {
     "data": {
      "text/plain": [
       "70000"
      ]
     },
     "execution_count": 3,
     "metadata": {},
     "output_type": "execute_result"
    }
   ],
   "source": [
    "len(X)"
   ]
  },
  {
   "cell_type": "code",
   "execution_count": 4,
   "id": "spectacular-friday",
   "metadata": {},
   "outputs": [],
   "source": [
    "X_train, X_valid, X_test = X[:50000], X[50000:60000], X[60000:]\n",
    "y_train, y_valid, y_test = y[:50000], y[50000:60000], y[60000:]"
   ]
  },
  {
   "cell_type": "code",
   "execution_count": 5,
   "id": "interracial-mainstream",
   "metadata": {},
   "outputs": [],
   "source": [
    "from lightgbm import LGBMClassifier\n",
    "from sklearn.ensemble import VotingClassifier\n",
    "from sklearn.ensemble import ExtraTreesClassifier\n",
    "from sklearn.ensemble import RandomForestClassifier\n",
    "from sklearn.svm import SVC\n",
    "\n",
    "et_clf = ExtraTreesClassifier(n_estimators=200, n_jobs=-1, random_state=42)\n",
    "rf_clf = RandomForestClassifier(n_estimators=200, n_jobs=-1, random_state=42)\n",
    "svm_clf = SVC(max_iter=200, random_state=42, probability=True)\n",
    "lgbm_clf = LGBMClassifier(n_jobs=-1, random_state=42)\n",
    "\n",
    "estimators = [('et', et_clf), ('rf', rf_clf), ('svm', svm_clf), ('lgbm', lgbm_clf)]\n",
    "\n",
    "voting_clf = VotingClassifier(estimators=estimators, voting='hard', n_jobs=-1)"
   ]
  },
  {
   "cell_type": "code",
   "execution_count": 6,
   "id": "indian-technology",
   "metadata": {},
   "outputs": [
    {
     "name": "stdout",
     "output_type": "stream",
     "text": [
      "ExtraTreesClassifier 0.975\n",
      "RandomForestClassifier 0.9741\n",
      "SVC 0.9742\n",
      "LGBMClassifier 0.9778\n",
      "VotingClassifier 0.9789\n"
     ]
    }
   ],
   "source": [
    "clfs = [et_clf, rf_clf, svm_clf, lgbm_clf, voting_clf]\n",
    "\n",
    "for clf in clfs:\n",
    "    clf.fit(X_train, y_train)\n",
    "    print(clf.__class__.__name__, clf.score(X_valid, y_valid))"
   ]
  },
  {
   "cell_type": "code",
   "execution_count": 7,
   "id": "fallen-leone",
   "metadata": {},
   "outputs": [
    {
     "data": {
      "text/plain": [
       "0.9795"
      ]
     },
     "execution_count": 7,
     "metadata": {},
     "output_type": "execute_result"
    }
   ],
   "source": [
    "voting_clf.voting = \"soft\"\n",
    "voting_clf.score(X_valid, y_valid)"
   ]
  },
  {
   "cell_type": "code",
   "execution_count": 8,
   "id": "psychological-bundle",
   "metadata": {},
   "outputs": [
    {
     "data": {
      "text/plain": [
       "0.9783"
      ]
     },
     "execution_count": 8,
     "metadata": {},
     "output_type": "execute_result"
    }
   ],
   "source": [
    "voting_clf.score(X_test, y_test)"
   ]
  },
  {
   "cell_type": "code",
   "execution_count": null,
   "id": "current-picking",
   "metadata": {},
   "outputs": [],
   "source": []
  }
 ],
 "metadata": {
  "kernelspec": {
   "display_name": "Python [conda env:hands] *",
   "language": "python",
   "name": "conda-env-hands-py"
  },
  "language_info": {
   "codemirror_mode": {
    "name": "ipython",
    "version": 3
   },
   "file_extension": ".py",
   "mimetype": "text/x-python",
   "name": "python",
   "nbconvert_exporter": "python",
   "pygments_lexer": "ipython3",
   "version": "3.7.9"
  }
 },
 "nbformat": 4,
 "nbformat_minor": 5
}
