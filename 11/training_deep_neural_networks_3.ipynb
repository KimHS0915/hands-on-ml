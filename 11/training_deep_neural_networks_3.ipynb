{
 "cells": [
  {
   "cell_type": "code",
   "execution_count": 1,
   "id": "portable-georgia",
   "metadata": {},
   "outputs": [],
   "source": [
    "import numpy as np\n",
    "import matplotlib.pyplot as plt\n",
    "import pandas as pd\n",
    "import tensorflow as tf\n",
    "from tensorflow import keras"
   ]
  },
  {
   "cell_type": "code",
   "execution_count": 2,
   "id": "compound-holly",
   "metadata": {},
   "outputs": [],
   "source": [
    "(x_train_full, y_train_full), (x_test, y_test) = keras.datasets.fashion_mnist.load_data()\n",
    "x_train_full = x_train_full / 255.0\n",
    "x_test = x_test / 255.0\n",
    "x_valid, x_train = x_train_full[:5000], x_train_full[5000:]\n",
    "y_valid, y_train = y_train_full[:5000], y_train_full[5000:]\n",
    "\n",
    "pixel_means = x_train.mean(axis=0, keepdims=True)\n",
    "pixel_stds = x_train.std(axis=0, keepdims=True)\n",
    "x_train_scaled = (x_train - pixel_means) / pixel_stds\n",
    "x_valid_scaled = (x_valid - pixel_means) / pixel_stds\n",
    "x_test_scaled = (x_test - pixel_means) / pixel_stds"
   ]
  },
  {
   "cell_type": "markdown",
   "id": "corporate-secret",
   "metadata": {},
   "source": [
    "## Faster Optimizers"
   ]
  },
  {
   "cell_type": "code",
   "execution_count": 3,
   "id": "subject-chrome",
   "metadata": {},
   "outputs": [],
   "source": [
    "# Momentum optimizaiton\n",
    "optimizer = keras.optimizers.SGD(learning_rate=0.001, momentum=0.9)\n",
    "\n",
    "# Nesterov Accelerated Gradient\n",
    "optimizer = keras.optimizers.SGD(learning_rate=0.001, momentum=0.9, nesterov=True)\n",
    "\n",
    "# AdaGrad\n",
    "optimizer = keras.optimizers.Adagrad(learning_rate=0.001)\n",
    "\n",
    "# RMSProp\n",
    "optimizer = keras.optimizers.RMSprop(learning_rate=0.001, rho=0.9)\n",
    "\n",
    "# Adam optimization\n",
    "optimizer = keras.optimizers.Adam(learning_rate=0.001, beta_1=0.9, beta_2=0.999)\n",
    "\n",
    "# Adamax optimization\n",
    "optimizer = keras.optimizers.Adamax(learning_rate=0.001, beta_1=0.9, beta_2=0.999)\n",
    "\n",
    "# Nadam optimization\n",
    "optimizer = keras.optimizers.Nadam(learning_rate=0.001, beta_1=0.9, beta_2=0.999)"
   ]
  },
  {
   "cell_type": "markdown",
   "id": "sensitive-shelf",
   "metadata": {},
   "source": [
    "## Learning Rate Scheduling"
   ]
  },
  {
   "cell_type": "markdown",
   "id": "invalid-peter",
   "metadata": {},
   "source": [
    "Power Scheduling"
   ]
  },
  {
   "cell_type": "code",
   "execution_count": 4,
   "id": "artificial-influence",
   "metadata": {},
   "outputs": [],
   "source": [
    "optimizer = keras.optimizers.SGD(learning_rate=0.01, decay=1e-4)\n",
    "\n",
    "model = keras.models.Sequential([\n",
    "    keras.layers.Flatten(input_shape=[28, 28]),\n",
    "    keras.layers.Dense(300, activation='selu', kernel_initializer='lecun_normal'),\n",
    "    keras.layers.Dense(100, activation='selu', kernel_initializer='lecun_normal'),\n",
    "    keras.layers.Dense(10, activation='softmax'),\n",
    "])\n",
    "\n",
    "model.compile(loss='sparse_categorical_crossentropy', \n",
    "              optimizer=optimizer, \n",
    "              metrics=['acc'])"
   ]
  },
  {
   "cell_type": "code",
   "execution_count": 5,
   "id": "tropical-climate",
   "metadata": {},
   "outputs": [
    {
     "name": "stdout",
     "output_type": "stream",
     "text": [
      "Epoch 1/25\n",
      "1719/1719 [==============================] - 2s 1ms/step - loss: 0.4869 - acc: 0.8277 - val_loss: 0.4229 - val_acc: 0.8590\n",
      "Epoch 2/25\n",
      "1719/1719 [==============================] - 2s 1ms/step - loss: 0.3791 - acc: 0.8662 - val_loss: 0.3863 - val_acc: 0.8630\n",
      "Epoch 3/25\n",
      "1719/1719 [==============================] - 2s 1ms/step - loss: 0.3451 - acc: 0.8782 - val_loss: 0.3678 - val_acc: 0.8752\n",
      "Epoch 4/25\n",
      "1719/1719 [==============================] - 2s 1ms/step - loss: 0.3245 - acc: 0.8856 - val_loss: 0.3564 - val_acc: 0.8768\n",
      "Epoch 5/25\n",
      "1719/1719 [==============================] - 2s 1ms/step - loss: 0.3083 - acc: 0.8906 - val_loss: 0.3559 - val_acc: 0.8760\n",
      "Epoch 6/25\n",
      "1719/1719 [==============================] - 2s 1ms/step - loss: 0.2961 - acc: 0.8961 - val_loss: 0.3471 - val_acc: 0.8804\n",
      "Epoch 7/25\n",
      "1719/1719 [==============================] - 2s 1ms/step - loss: 0.2861 - acc: 0.8987 - val_loss: 0.3457 - val_acc: 0.8794\n",
      "Epoch 8/25\n",
      "1719/1719 [==============================] - 2s 1ms/step - loss: 0.2763 - acc: 0.9020 - val_loss: 0.3379 - val_acc: 0.8844\n",
      "Epoch 9/25\n",
      "1719/1719 [==============================] - 2s 1ms/step - loss: 0.2690 - acc: 0.9054 - val_loss: 0.3390 - val_acc: 0.8838\n",
      "Epoch 10/25\n",
      "1719/1719 [==============================] - 2s 1ms/step - loss: 0.2618 - acc: 0.9074 - val_loss: 0.3363 - val_acc: 0.8830\n",
      "Epoch 11/25\n",
      "1719/1719 [==============================] - 2s 1ms/step - loss: 0.2556 - acc: 0.9097 - val_loss: 0.3353 - val_acc: 0.8824\n",
      "Epoch 12/25\n",
      "1719/1719 [==============================] - 2s 1ms/step - loss: 0.2500 - acc: 0.9119 - val_loss: 0.3330 - val_acc: 0.8856\n",
      "Epoch 13/25\n",
      "1719/1719 [==============================] - 2s 1ms/step - loss: 0.2449 - acc: 0.9148 - val_loss: 0.3332 - val_acc: 0.8872\n",
      "Epoch 14/25\n",
      "1719/1719 [==============================] - 2s 1ms/step - loss: 0.2402 - acc: 0.9164 - val_loss: 0.3316 - val_acc: 0.8884\n",
      "Epoch 15/25\n",
      "1719/1719 [==============================] - 2s 1ms/step - loss: 0.2361 - acc: 0.9166 - val_loss: 0.3282 - val_acc: 0.8856\n",
      "Epoch 16/25\n",
      "1719/1719 [==============================] - 2s 1ms/step - loss: 0.2322 - acc: 0.9183 - val_loss: 0.3305 - val_acc: 0.8854\n",
      "Epoch 17/25\n",
      "1719/1719 [==============================] - 2s 1ms/step - loss: 0.2283 - acc: 0.9199 - val_loss: 0.3243 - val_acc: 0.8876\n",
      "Epoch 18/25\n",
      "1719/1719 [==============================] - 2s 1ms/step - loss: 0.2247 - acc: 0.9218 - val_loss: 0.3292 - val_acc: 0.8844\n",
      "Epoch 19/25\n",
      "1719/1719 [==============================] - 2s 1ms/step - loss: 0.2213 - acc: 0.9242 - val_loss: 0.3256 - val_acc: 0.8876\n",
      "Epoch 20/25\n",
      "1719/1719 [==============================] - 2s 1ms/step - loss: 0.2181 - acc: 0.9240 - val_loss: 0.3278 - val_acc: 0.8870\n",
      "Epoch 21/25\n",
      "1719/1719 [==============================] - 2s 1ms/step - loss: 0.2153 - acc: 0.9253 - val_loss: 0.3283 - val_acc: 0.8892\n",
      "Epoch 22/25\n",
      "1719/1719 [==============================] - 2s 1ms/step - loss: 0.2123 - acc: 0.9268 - val_loss: 0.3240 - val_acc: 0.8910\n",
      "Epoch 23/25\n",
      "1719/1719 [==============================] - 2s 1ms/step - loss: 0.2096 - acc: 0.9272 - val_loss: 0.3251 - val_acc: 0.8914\n",
      "Epoch 24/25\n",
      "1719/1719 [==============================] - 2s 1ms/step - loss: 0.2072 - acc: 0.9289 - val_loss: 0.3262 - val_acc: 0.8912\n",
      "Epoch 25/25\n",
      "1719/1719 [==============================] - 2s 1ms/step - loss: 0.2048 - acc: 0.9299 - val_loss: 0.3260 - val_acc: 0.8892\n"
     ]
    }
   ],
   "source": [
    "n_epochs=25\n",
    "\n",
    "history = model.fit(x_train_scaled, y_train, epochs=n_epochs, \n",
    "                    validation_data=(x_valid_scaled, y_valid))"
   ]
  },
  {
   "cell_type": "code",
   "execution_count": 6,
   "id": "civilian-peeing",
   "metadata": {},
   "outputs": [
    {
     "data": {
      "image/png": "[encoded data removed]",
      "text/plain": [
       "<Figure size 432x288 with 1 Axes>"
      ]
     },
     "metadata": {
      "needs_background": "light"
     },
     "output_type": "display_data"
    }
   ],
   "source": [
    "import math\n",
    "\n",
    "learning_rate = 0.01\n",
    "decay = 1e-4\n",
    "batch_size = 32\n",
    "n_steps_per_epoch = math.ceil(len(x_train) / batch_size)\n",
    "epochs = np.arange(n_epochs)\n",
    "lrs = learning_rate / (1 + decay * epochs * n_steps_per_epoch)\n",
    "\n",
    "plt.plot(epochs, lrs, 'o-')\n",
    "plt.axis([0, n_epochs - 1, 0, 0.01])\n",
    "plt.xlabel('Epoch')\n",
    "plt.ylabel('Learning Rate')\n",
    "plt.title('Power Scheduling', fontsize=14)\n",
    "plt.grid(True)\n",
    "plt.show()"
   ]
  },
  {
   "cell_type": "markdown",
   "id": "outside-commodity",
   "metadata": {},
   "source": [
    "Exponential Scheduling"
   ]
  },
  {
   "cell_type": "code",
   "execution_count": 7,
   "id": "canadian-catering",
   "metadata": {},
   "outputs": [],
   "source": [
    "def exponential_decay_fn(epoch):\n",
    "    return 0.01 * 0.1 ** (epoch / 20)"
   ]
  },
  {
   "cell_type": "code",
   "execution_count": 8,
   "id": "wireless-resource",
   "metadata": {},
   "outputs": [],
   "source": [
    "def exponential_decay(lr0, s):\n",
    "    def exponential_decay_fn(epoch):\n",
    "        return lr0 * 0.01 ** (epoch / s)\n",
    "    return exponential_decay_fn\n",
    "\n",
    "exponential_decay_fn = exponential_decay(lr0=0.01, s=20)"
   ]
  },
  {
   "cell_type": "code",
   "execution_count": 9,
   "id": "super-housing",
   "metadata": {},
   "outputs": [],
   "source": [
    "model = keras.models.Sequential([\n",
    "    keras.layers.Flatten(input_shape=[28, 28]),\n",
    "    keras.layers.Dense(300, activation='selu', kernel_initializer='lecun_normal'),\n",
    "    keras.layers.Dense(100, activation='selu', kernel_initializer='lecun_normal'),\n",
    "    keras.layers.Dense(10, activation='softmax'),\n",
    "])\n",
    "\n",
    "model.compile(loss='sparse_categorical_crossentropy', \n",
    "              optimizer='nadam', \n",
    "              metrics=['acc'])\n",
    "\n",
    "n_epochs=25"
   ]
  },
  {
   "cell_type": "code",
   "execution_count": 10,
   "id": "natural-anxiety",
   "metadata": {},
   "outputs": [
    {
     "name": "stdout",
     "output_type": "stream",
     "text": [
      "Epoch 1/25\n",
      "1719/1719 [==============================] - 4s 2ms/step - loss: 0.8340 - acc: 0.7593 - val_loss: 0.6795 - val_acc: 0.7886\n",
      "Epoch 2/25\n",
      "1719/1719 [==============================] - 3s 2ms/step - loss: 0.5928 - acc: 0.8162 - val_loss: 0.6020 - val_acc: 0.8322\n",
      "Epoch 3/25\n",
      "1719/1719 [==============================] - 3s 2ms/step - loss: 0.4994 - acc: 0.8420 - val_loss: 0.5184 - val_acc: 0.8284\n",
      "Epoch 4/25\n",
      "1719/1719 [==============================] - 3s 2ms/step - loss: 0.4320 - acc: 0.8583 - val_loss: 0.4902 - val_acc: 0.8518\n",
      "Epoch 5/25\n",
      "1719/1719 [==============================] - 3s 2ms/step - loss: 0.3814 - acc: 0.8732 - val_loss: 0.4597 - val_acc: 0.8784\n",
      "Epoch 6/25\n",
      "1719/1719 [==============================] - 3s 2ms/step - loss: 0.3395 - acc: 0.8833 - val_loss: 0.4651 - val_acc: 0.8574\n",
      "Epoch 7/25\n",
      "1719/1719 [==============================] - 4s 2ms/step - loss: 0.3016 - acc: 0.8945 - val_loss: 0.4156 - val_acc: 0.8662\n",
      "Epoch 8/25\n",
      "1719/1719 [==============================] - 3s 2ms/step - loss: 0.2701 - acc: 0.9059 - val_loss: 0.3805 - val_acc: 0.8856\n",
      "Epoch 9/25\n",
      "1719/1719 [==============================] - 3s 2ms/step - loss: 0.2433 - acc: 0.9147 - val_loss: 0.3811 - val_acc: 0.8850\n",
      "Epoch 10/25\n",
      "1719/1719 [==============================] - 3s 2ms/step - loss: 0.2206 - acc: 0.9225 - val_loss: 0.3963 - val_acc: 0.8864\n",
      "Epoch 11/25\n",
      "1719/1719 [==============================] - 3s 2ms/step - loss: 0.1998 - acc: 0.9287 - val_loss: 0.3671 - val_acc: 0.8926\n",
      "Epoch 12/25\n",
      "1719/1719 [==============================] - 3s 2ms/step - loss: 0.1825 - acc: 0.9352 - val_loss: 0.3979 - val_acc: 0.8874\n",
      "Epoch 13/25\n",
      "1719/1719 [==============================] - 3s 2ms/step - loss: 0.1667 - acc: 0.9409 - val_loss: 0.3962 - val_acc: 0.8896\n",
      "Epoch 14/25\n",
      "1719/1719 [==============================] - 3s 2ms/step - loss: 0.1542 - acc: 0.9459 - val_loss: 0.4119 - val_acc: 0.8938\n",
      "Epoch 15/25\n",
      "1719/1719 [==============================] - 4s 2ms/step - loss: 0.1429 - acc: 0.9502 - val_loss: 0.4205 - val_acc: 0.8924\n",
      "Epoch 16/25\n",
      "1719/1719 [==============================] - 4s 2ms/step - loss: 0.1330 - acc: 0.9536 - val_loss: 0.4479 - val_acc: 0.8922\n",
      "Epoch 17/25\n",
      "1719/1719 [==============================] - 3s 2ms/step - loss: 0.1240 - acc: 0.9578 - val_loss: 0.4592 - val_acc: 0.8924\n",
      "Epoch 18/25\n",
      "1719/1719 [==============================] - 4s 2ms/step - loss: 0.1165 - acc: 0.9603 - val_loss: 0.4768 - val_acc: 0.8906\n",
      "Epoch 19/25\n",
      "1719/1719 [==============================] - 3s 2ms/step - loss: 0.1112 - acc: 0.9623 - val_loss: 0.4810 - val_acc: 0.8890\n",
      "Epoch 20/25\n",
      "1719/1719 [==============================] - 3s 2ms/step - loss: 0.1066 - acc: 0.9642 - val_loss: 0.4863 - val_acc: 0.8910\n",
      "Epoch 21/25\n",
      "1719/1719 [==============================] - 3s 2ms/step - loss: 0.1027 - acc: 0.9655 - val_loss: 0.5014 - val_acc: 0.8936\n",
      "Epoch 22/25\n",
      "1719/1719 [==============================] - 3s 2ms/step - loss: 0.0999 - acc: 0.9667 - val_loss: 0.5079 - val_acc: 0.8904\n",
      "Epoch 23/25\n",
      "1719/1719 [==============================] - 3s 2ms/step - loss: 0.0972 - acc: 0.9678 - val_loss: 0.5103 - val_acc: 0.8896\n",
      "Epoch 24/25\n",
      "1719/1719 [==============================] - 3s 2ms/step - loss: 0.0953 - acc: 0.9679 - val_loss: 0.5166 - val_acc: 0.8900\n",
      "Epoch 25/25\n",
      "1719/1719 [==============================] - 4s 2ms/step - loss: 0.0939 - acc: 0.9689 - val_loss: 0.5226 - val_acc: 0.8914\n"
     ]
    }
   ],
   "source": [
    "lr_scheduler = keras.callbacks.LearningRateScheduler(exponential_decay_fn)\n",
    "\n",
    "history = model.fit(x_train_scaled, y_train, epochs=n_epochs, \n",
    "                    validation_data=(x_valid_scaled, y_valid), \n",
    "                    callbacks=[lr_scheduler])"
   ]
  },
  {
   "cell_type": "code",
   "execution_count": 11,
   "id": "realistic-traffic",
   "metadata": {},
   "outputs": [
    {
     "data": {
      "image/png": "[encoded data removed]",
      "text/plain": [
       "<Figure size 432x288 with 1 Axes>"
      ]
     },
     "metadata": {
      "needs_background": "light"
     },
     "output_type": "display_data"
    }
   ],
   "source": [
    "plt.plot(history.epoch, history.history['lr'], 'o-')\n",
    "plt.axis([0, n_epochs - 1, 0, 0.011])\n",
    "plt.xlabel('Epoch')\n",
    "plt.ylabel('Learning Rate')\n",
    "plt.title('Exponential Scheduling', fontsize=14)\n",
    "plt.grid(True)\n",
    "plt.show()"
   ]
  },
  {
   "cell_type": "code",
   "execution_count": 12,
   "id": "eligible-patrol",
   "metadata": {},
   "outputs": [],
   "source": [
    "def exponential_decay_fn(epoch, lr):\n",
    "    return lr * 0.1 ** (1 / 20)"
   ]
  },
  {
   "cell_type": "code",
   "execution_count": 13,
   "id": "bright-sleep",
   "metadata": {},
   "outputs": [
    {
     "name": "stdout",
     "output_type": "stream",
     "text": [
      "Epoch 1/25\n",
      "1719/1719 [==============================] - 4s 2ms/step - loss: 0.8094 - acc: 0.7653 - val_loss: 0.6675 - val_acc: 0.8108\n",
      "Epoch 2/25\n",
      "1719/1719 [==============================] - 4s 2ms/step - loss: 0.6654 - acc: 0.8013 - val_loss: 0.6831 - val_acc: 0.7846\n",
      "Epoch 3/25\n",
      "1719/1719 [==============================] - 4s 2ms/step - loss: 0.5880 - acc: 0.8179 - val_loss: 0.6663 - val_acc: 0.7948\n",
      "Epoch 4/25\n",
      "1719/1719 [==============================] - 4s 2ms/step - loss: 0.4962 - acc: 0.8430 - val_loss: 0.7252 - val_acc: 0.8086\n",
      "Epoch 5/25\n",
      "1719/1719 [==============================] - 5s 3ms/step - loss: 0.4787 - acc: 0.8493 - val_loss: 0.5137 - val_acc: 0.8582\n",
      "Epoch 6/25\n",
      "1719/1719 [==============================] - 4s 2ms/step - loss: 0.4269 - acc: 0.8617 - val_loss: 0.5519 - val_acc: 0.8632\n",
      "Epoch 7/25\n",
      "1719/1719 [==============================] - 4s 2ms/step - loss: 0.3972 - acc: 0.8701 - val_loss: 0.5232 - val_acc: 0.8646\n",
      "Epoch 8/25\n",
      "1719/1719 [==============================] - 4s 2ms/step - loss: 0.3787 - acc: 0.8801 - val_loss: 0.4872 - val_acc: 0.8762\n",
      "Epoch 9/25\n",
      "1719/1719 [==============================] - 4s 2ms/step - loss: 0.3372 - acc: 0.8873 - val_loss: 0.4371 - val_acc: 0.8764\n",
      "Epoch 10/25\n",
      "1719/1719 [==============================] - 4s 2ms/step - loss: 0.3118 - acc: 0.8965 - val_loss: 0.4354 - val_acc: 0.8772\n",
      "Epoch 11/25\n",
      "1719/1719 [==============================] - 4s 2ms/step - loss: 0.2894 - acc: 0.9034 - val_loss: 0.4589 - val_acc: 0.8838\n",
      "Epoch 12/25\n",
      "1719/1719 [==============================] - 4s 2ms/step - loss: 0.2744 - acc: 0.9096 - val_loss: 0.5526 - val_acc: 0.8684\n",
      "Epoch 13/25\n",
      "1719/1719 [==============================] - 4s 2ms/step - loss: 0.2512 - acc: 0.9159 - val_loss: 0.4658 - val_acc: 0.8868\n",
      "Epoch 14/25\n",
      "1719/1719 [==============================] - 4s 2ms/step - loss: 0.2356 - acc: 0.9222 - val_loss: 0.4489 - val_acc: 0.8850\n",
      "Epoch 15/25\n",
      "1719/1719 [==============================] - 4s 2ms/step - loss: 0.2176 - acc: 0.9245 - val_loss: 0.5238 - val_acc: 0.8816\n",
      "Epoch 16/25\n",
      "1719/1719 [==============================] - 4s 2ms/step - loss: 0.2056 - acc: 0.9306 - val_loss: 0.4342 - val_acc: 0.8948\n",
      "Epoch 17/25\n",
      "1719/1719 [==============================] - 4s 2ms/step - loss: 0.1897 - acc: 0.9358 - val_loss: 0.4879 - val_acc: 0.8866\n",
      "Epoch 18/25\n",
      "1719/1719 [==============================] - 4s 2ms/step - loss: 0.1780 - acc: 0.9404 - val_loss: 0.5053 - val_acc: 0.8840\n",
      "Epoch 19/25\n",
      "1719/1719 [==============================] - 4s 2ms/step - loss: 0.1629 - acc: 0.9452 - val_loss: 0.4887 - val_acc: 0.8898\n",
      "Epoch 20/25\n",
      "1719/1719 [==============================] - 4s 2ms/step - loss: 0.1545 - acc: 0.9485 - val_loss: 0.5321 - val_acc: 0.8912\n",
      "Epoch 21/25\n",
      "1719/1719 [==============================] - 4s 2ms/step - loss: 0.1433 - acc: 0.9520 - val_loss: 0.5337 - val_acc: 0.8912\n",
      "Epoch 22/25\n",
      "1719/1719 [==============================] - 4s 2ms/step - loss: 0.1345 - acc: 0.9554 - val_loss: 0.5368 - val_acc: 0.8908\n",
      "Epoch 23/25\n",
      "1719/1719 [==============================] - 4s 2ms/step - loss: 0.1258 - acc: 0.9590 - val_loss: 0.5699 - val_acc: 0.8920\n",
      "Epoch 24/25\n",
      "1719/1719 [==============================] - 4s 2ms/step - loss: 0.1198 - acc: 0.9611 - val_loss: 0.5933 - val_acc: 0.8922\n",
      "Epoch 25/25\n",
      "1719/1719 [==============================] - 4s 2ms/step - loss: 0.1112 - acc: 0.9640 - val_loss: 0.6062 - val_acc: 0.8940\n"
     ]
    }
   ],
   "source": [
    "K = keras.backend\n",
    "\n",
    "\n",
    "class ExponentialDecay(keras.callbacks.Callback):\n",
    "    def __init__(self, s=40000):\n",
    "        super().__init__()\n",
    "        self.s = s\n",
    "        \n",
    "    def on_batch_begin(self, batch, logs=None):\n",
    "        lr = K.get_value(self.model.optimizer.lr)\n",
    "        K.set_value(self.model.optimizer.lr, lr * 0.1 ** (1 / s))\n",
    "        \n",
    "    def on_epoch_end(self, epoch, logs=None):\n",
    "        logs = logs or {}\n",
    "        logs['lr'] = K.get_value(self.model.optimizer.lr)\n",
    "        \n",
    "\n",
    "model = keras.models.Sequential([\n",
    "    keras.layers.Flatten(input_shape=[28, 28]),\n",
    "    keras.layers.Dense(300, activation='selu', kernel_initializer='lecun_normal'),\n",
    "    keras.layers.Dense(100, activation='selu', kernel_initializer='lecun_normal'),\n",
    "    keras.layers.Dense(10, activation='softmax')\n",
    "])\n",
    "\n",
    "lr0 = 0.01\n",
    "optimizer = keras.optimizers.Nadam(learning_rate=lr0)\n",
    "model.compile(loss='sparse_categorical_crossentropy', optimizer=optimizer, metrics=['acc'])\n",
    "n_epochs = 25\n",
    "\n",
    "s = 20 * len(x_train) // 32\n",
    "exp_decay = ExponentialDecay(s)\n",
    "\n",
    "history = model.fit(x_train_scaled, y_train, epochs=n_epochs, \n",
    "                    validation_data=(x_valid_scaled, y_valid), \n",
    "                    callbacks=[exp_decay])"
   ]
  },
  {
   "cell_type": "code",
   "execution_count": 14,
   "id": "prospective-retreat",
   "metadata": {},
   "outputs": [],
   "source": [
    "n_steps = n_epochs * len(x_train) // 32\n",
    "steps = np.arange(n_steps)\n",
    "lrs = lr0 * 0.1 ** (steps / s)"
   ]
  },
  {
   "cell_type": "code",
   "execution_count": 15,
   "id": "chief-mercy",
   "metadata": {},
   "outputs": [
    {
     "data": {
      "image/png": "[encoded data removed]",
      "text/plain": [
       "<Figure size 432x288 with 1 Axes>"
      ]
     },
     "metadata": {
      "needs_background": "light"
     },
     "output_type": "display_data"
    }
   ],
   "source": [
    "plt.plot(steps, lrs, '-', linewidth=2)\n",
    "plt.axis([0, n_steps - 1, 0, lr0 * 1.1])\n",
    "plt.xlabel('Batch')\n",
    "plt.ylabel('Learning Rate')\n",
    "plt.title('Exponential Scheduling (per batch)', fontsize=14)\n",
    "plt.grid(True)\n",
    "plt.show()"
   ]
  },
  {
   "cell_type": "code",
   "execution_count": null,
   "id": "first-frame",
   "metadata": {},
   "outputs": [],
   "source": []
  }
 ],
 "metadata": {
  "kernelspec": {
   "display_name": "Python 3",
   "language": "python",
   "name": "python3"
  },
  "language_info": {
   "codemirror_mode": {
    "name": "ipython",
    "version": 3
   },
   "file_extension": ".py",
   "mimetype": "text/x-python",
   "name": "python",
   "nbconvert_exporter": "python",
   "pygments_lexer": "ipython3",
   "version": "3.7.9"
  }
 },
 "nbformat": 4,
 "nbformat_minor": 5
}
