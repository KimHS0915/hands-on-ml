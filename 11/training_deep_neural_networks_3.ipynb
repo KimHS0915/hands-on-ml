{
 "cells": [
  {
   "cell_type": "code",
   "execution_count": 1,
   "id": "surface-beijing",
   "metadata": {},
   "outputs": [],
   "source": [
    "import numpy as np\n",
    "import matplotlib.pyplot as plt\n",
    "import pandas as pd\n",
    "import tensorflow as tf\n",
    "from tensorflow import keras"
   ]
  },
  {
   "cell_type": "code",
   "execution_count": 2,
   "id": "increasing-essence",
   "metadata": {},
   "outputs": [],
   "source": [
    "(x_train_full, y_train_full), (x_test, y_test) = keras.datasets.fashion_mnist.load_data()\n",
    "x_train_full = x_train_full / 255.0\n",
    "x_test = x_test / 255.0\n",
    "x_valid, x_train = x_train_full[:5000], x_train_full[5000:]\n",
    "y_valid, y_train = y_train_full[:5000], y_train_full[5000:]\n",
    "\n",
    "pixel_means = x_train.mean(axis=0, keepdims=True)\n",
    "pixel_stds = x_train.std(axis=0, keepdims=True)\n",
    "x_train_scaled = (x_train - pixel_means) / pixel_stds\n",
    "x_valid_scaled = (x_valid - pixel_means) / pixel_stds\n",
    "x_test_scaled = (x_test - pixel_means) / pixel_stds"
   ]
  },
  {
   "cell_type": "markdown",
   "id": "strong-composer",
   "metadata": {},
   "source": [
    "## Faster Optimizers"
   ]
  },
  {
   "cell_type": "code",
   "execution_count": 3,
   "id": "clean-permission",
   "metadata": {},
   "outputs": [],
   "source": [
    "# Momentum optimizaiton\n",
    "optimizer = keras.optimizers.SGD(learning_rate=0.001, momentum=0.9)\n",
    "\n",
    "# Nesterov Accelerated Gradient\n",
    "optimizer = keras.optimizers.SGD(learning_rate=0.001, momentum=0.9, nesterov=True)\n",
    "\n",
    "# AdaGrad\n",
    "optimizer = keras.optimizers.Adagrad(learning_rate=0.001)\n",
    "\n",
    "# RMSProp\n",
    "optimizer = keras.optimizers.RMSprop(learning_rate=0.001, rho=0.9)\n",
    "\n",
    "# Adam optimization\n",
    "optimizer = keras.optimizers.Adam(learning_rate=0.001, beta_1=0.9, beta_2=0.999)\n",
    "\n",
    "# Adamax optimization\n",
    "optimizer = keras.optimizers.Adamax(learning_rate=0.001, beta_1=0.9, beta_2=0.999)\n",
    "\n",
    "# Nadam optimization\n",
    "optimizer = keras.optimizers.Nadam(learning_rate=0.001, beta_1=0.9, beta_2=0.999)"
   ]
  },
  {
   "cell_type": "markdown",
   "id": "moral-montreal",
   "metadata": {},
   "source": [
    "## Learning Rate Scheduling"
   ]
  },
  {
   "cell_type": "markdown",
   "id": "weekly-optimization",
   "metadata": {},
   "source": [
    "Power Scheduling"
   ]
  },
  {
   "cell_type": "code",
   "execution_count": 4,
   "id": "pregnant-suicide",
   "metadata": {},
   "outputs": [],
   "source": [
    "optimizer = keras.optimizers.SGD(learning_rate=0.01, decay=1e-4)\n",
    "\n",
    "model = keras.models.Sequential([\n",
    "    keras.layers.Flatten(input_shape=[28, 28]),\n",
    "    keras.layers.Dense(300, activation='selu', kernel_initializer='lecun_normal'),\n",
    "    keras.layers.Dense(100, activation='selu', kernel_initializer='lecun_normal'),\n",
    "    keras.layers.Dense(10, activation='softmax'),\n",
    "])\n",
    "\n",
    "model.compile(loss='sparse_categorical_crossentropy', \n",
    "              optimizer=optimizer, \n",
    "              metrics=['acc'])"
   ]
  },
  {
   "cell_type": "code",
   "execution_count": 5,
   "id": "nuclear-providence",
   "metadata": {},
   "outputs": [
    {
     "name": "stdout",
     "output_type": "stream",
     "text": [
      "Epoch 1/25\n",
      "1719/1719 [==============================] - 2s 1ms/step - loss: 0.4882 - acc: 0.8278 - val_loss: 0.4111 - val_acc: 0.8558\n",
      "Epoch 2/25\n",
      "1719/1719 [==============================] - 2s 1ms/step - loss: 0.3822 - acc: 0.8645 - val_loss: 0.3728 - val_acc: 0.8694\n",
      "Epoch 3/25\n",
      "1719/1719 [==============================] - 2s 1ms/step - loss: 0.3490 - acc: 0.8762 - val_loss: 0.3624 - val_acc: 0.8730\n",
      "Epoch 4/25\n",
      "1719/1719 [==============================] - 2s 1ms/step - loss: 0.3273 - acc: 0.8834 - val_loss: 0.3522 - val_acc: 0.8780\n",
      "Epoch 5/25\n",
      "1719/1719 [==============================] - 2s 1ms/step - loss: 0.3111 - acc: 0.8894 - val_loss: 0.3436 - val_acc: 0.8788\n",
      "Epoch 6/25\n",
      "1719/1719 [==============================] - 2s 1ms/step - loss: 0.2988 - acc: 0.8941 - val_loss: 0.3408 - val_acc: 0.8776\n",
      "Epoch 7/25\n",
      "1719/1719 [==============================] - 2s 1ms/step - loss: 0.2887 - acc: 0.8969 - val_loss: 0.3373 - val_acc: 0.8826\n",
      "Epoch 8/25\n",
      "1719/1719 [==============================] - 2s 1ms/step - loss: 0.2795 - acc: 0.9007 - val_loss: 0.3361 - val_acc: 0.8812\n",
      "Epoch 9/25\n",
      "1719/1719 [==============================] - 2s 1ms/step - loss: 0.2716 - acc: 0.9037 - val_loss: 0.3324 - val_acc: 0.8830\n",
      "Epoch 10/25\n",
      "1719/1719 [==============================] - 2s 1ms/step - loss: 0.2646 - acc: 0.9067 - val_loss: 0.3283 - val_acc: 0.8844\n",
      "Epoch 11/25\n",
      "1719/1719 [==============================] - 2s 1ms/step - loss: 0.2581 - acc: 0.9095 - val_loss: 0.3360 - val_acc: 0.8796\n",
      "Epoch 12/25\n",
      "1719/1719 [==============================] - 2s 1ms/step - loss: 0.2529 - acc: 0.9107 - val_loss: 0.3215 - val_acc: 0.8872\n",
      "Epoch 13/25\n",
      "1719/1719 [==============================] - 2s 1ms/step - loss: 0.2472 - acc: 0.9135 - val_loss: 0.3288 - val_acc: 0.8862\n",
      "Epoch 14/25\n",
      "1719/1719 [==============================] - 2s 1ms/step - loss: 0.2428 - acc: 0.9135 - val_loss: 0.3236 - val_acc: 0.8860\n",
      "Epoch 15/25\n",
      "1719/1719 [==============================] - 2s 1ms/step - loss: 0.2386 - acc: 0.9164 - val_loss: 0.3207 - val_acc: 0.8866\n",
      "Epoch 16/25\n",
      "1719/1719 [==============================] - 2s 1ms/step - loss: 0.2341 - acc: 0.9176 - val_loss: 0.3218 - val_acc: 0.8880\n",
      "Epoch 17/25\n",
      "1719/1719 [==============================] - 2s 1ms/step - loss: 0.2301 - acc: 0.9196 - val_loss: 0.3229 - val_acc: 0.8874\n",
      "Epoch 18/25\n",
      "1719/1719 [==============================] - 2s 1ms/step - loss: 0.2267 - acc: 0.9206 - val_loss: 0.3210 - val_acc: 0.8890\n",
      "Epoch 19/25\n",
      "1719/1719 [==============================] - 2s 1ms/step - loss: 0.2235 - acc: 0.9210 - val_loss: 0.3197 - val_acc: 0.8890\n",
      "Epoch 20/25\n",
      "1719/1719 [==============================] - 2s 1ms/step - loss: 0.2204 - acc: 0.9241 - val_loss: 0.3187 - val_acc: 0.8886\n",
      "Epoch 21/25\n",
      "1719/1719 [==============================] - 2s 1ms/step - loss: 0.2169 - acc: 0.9243 - val_loss: 0.3183 - val_acc: 0.8890\n",
      "Epoch 22/25\n",
      "1719/1719 [==============================] - 2s 1ms/step - loss: 0.2148 - acc: 0.9250 - val_loss: 0.3167 - val_acc: 0.8880\n",
      "Epoch 23/25\n",
      "1719/1719 [==============================] - 2s 1ms/step - loss: 0.2117 - acc: 0.9262 - val_loss: 0.3172 - val_acc: 0.8884\n",
      "Epoch 24/25\n",
      "1719/1719 [==============================] - 2s 1ms/step - loss: 0.2089 - acc: 0.9277 - val_loss: 0.3186 - val_acc: 0.8880\n",
      "Epoch 25/25\n",
      "1719/1719 [==============================] - 2s 1ms/step - loss: 0.2062 - acc: 0.9287 - val_loss: 0.3157 - val_acc: 0.8904\n"
     ]
    }
   ],
   "source": [
    "n_epochs=25\n",
    "\n",
    "history = model.fit(x_train_scaled, y_train, epochs=n_epochs, \n",
    "                    validation_data=(x_valid_scaled, y_valid))"
   ]
  },
  {
   "cell_type": "code",
   "execution_count": 6,
   "id": "announced-zoning",
   "metadata": {},
   "outputs": [
    {
     "data": {
      "image/png": "[encoded data removed]",
      "text/plain": [
       "<Figure size 432x288 with 1 Axes>"
      ]
     },
     "metadata": {
      "needs_background": "light"
     },
     "output_type": "display_data"
    }
   ],
   "source": [
    "import math\n",
    "\n",
    "learning_rate = 0.01\n",
    "decay = 1e-4\n",
    "batch_size = 32\n",
    "n_steps_per_epoch = math.ceil(len(x_train) / batch_size)\n",
    "epochs = np.arange(n_epochs)\n",
    "lrs = learning_rate / (1 + decay * epochs * n_steps_per_epoch)\n",
    "\n",
    "plt.plot(epochs, lrs, 'o-')\n",
    "plt.axis([0, n_epochs - 1, 0, 0.01])\n",
    "plt.xlabel('Epoch')\n",
    "plt.ylabel('Learning Rate')\n",
    "plt.title('Power Scheduling', fontsize=14)\n",
    "plt.grid(True)\n",
    "plt.show()"
   ]
  },
  {
   "cell_type": "markdown",
   "id": "married-shooting",
   "metadata": {},
   "source": [
    "Exponential Scheduling"
   ]
  },
  {
   "cell_type": "code",
   "execution_count": 7,
   "id": "harmful-shadow",
   "metadata": {},
   "outputs": [],
   "source": [
    "def exponential_decay_fn(epoch):\n",
    "    return 0.01 * 0.1 ** (epoch / 20)"
   ]
  },
  {
   "cell_type": "code",
   "execution_count": 8,
   "id": "logical-mortgage",
   "metadata": {},
   "outputs": [],
   "source": [
    "def exponential_decay(lr0, s):\n",
    "    def exponential_decay_fn(epoch):\n",
    "        return lr0 * 0.01 ** (epoch / s)\n",
    "    return exponential_decay_fn\n",
    "\n",
    "exponential_decay_fn = exponential_decay(lr0=0.01, s=20)"
   ]
  },
  {
   "cell_type": "code",
   "execution_count": 9,
   "id": "stock-newark",
   "metadata": {},
   "outputs": [],
   "source": [
    "model = keras.models.Sequential([\n",
    "    keras.layers.Flatten(input_shape=[28, 28]),\n",
    "    keras.layers.Dense(300, activation='selu', kernel_initializer='lecun_normal'),\n",
    "    keras.layers.Dense(100, activation='selu', kernel_initializer='lecun_normal'),\n",
    "    keras.layers.Dense(10, activation='softmax'),\n",
    "])\n",
    "\n",
    "model.compile(loss='sparse_categorical_crossentropy', \n",
    "              optimizer='nadam', \n",
    "              metrics=['acc'])\n",
    "\n",
    "n_epochs=25"
   ]
  },
  {
   "cell_type": "code",
   "execution_count": 10,
   "id": "prostate-stuart",
   "metadata": {},
   "outputs": [
    {
     "name": "stdout",
     "output_type": "stream",
     "text": [
      "Epoch 1/25\n",
      "1719/1719 [==============================] - 4s 2ms/step - loss: 0.8387 - acc: 0.7556 - val_loss: 0.8214 - val_acc: 0.7812\n",
      "Epoch 2/25\n",
      "1719/1719 [==============================] - 3s 2ms/step - loss: 0.5855 - acc: 0.8170 - val_loss: 0.7699 - val_acc: 0.8146\n",
      "Epoch 3/25\n",
      "1719/1719 [==============================] - 3s 2ms/step - loss: 0.5064 - acc: 0.8394 - val_loss: 0.5018 - val_acc: 0.8536\n",
      "Epoch 4/25\n",
      "1719/1719 [==============================] - 3s 2ms/step - loss: 0.4406 - acc: 0.8577 - val_loss: 0.4437 - val_acc: 0.8654\n",
      "Epoch 5/25\n",
      "1719/1719 [==============================] - 3s 2ms/step - loss: 0.3765 - acc: 0.8752 - val_loss: 0.4615 - val_acc: 0.8568\n",
      "Epoch 6/25\n",
      "1719/1719 [==============================] - 3s 2ms/step - loss: 0.3363 - acc: 0.8872 - val_loss: 0.4026 - val_acc: 0.8748\n",
      "Epoch 7/25\n",
      "1719/1719 [==============================] - 3s 2ms/step - loss: 0.2957 - acc: 0.8974 - val_loss: 0.4046 - val_acc: 0.8822\n",
      "Epoch 8/25\n",
      "1719/1719 [==============================] - 3s 2ms/step - loss: 0.2733 - acc: 0.9057 - val_loss: 0.4100 - val_acc: 0.8836\n",
      "Epoch 9/25\n",
      "1719/1719 [==============================] - 4s 2ms/step - loss: 0.2426 - acc: 0.9151 - val_loss: 0.4094 - val_acc: 0.8796\n",
      "Epoch 10/25\n",
      "1719/1719 [==============================] - 3s 2ms/step - loss: 0.2202 - acc: 0.9238 - val_loss: 0.3888 - val_acc: 0.8910\n",
      "Epoch 11/25\n",
      "1719/1719 [==============================] - 3s 2ms/step - loss: 0.2017 - acc: 0.9295 - val_loss: 0.3979 - val_acc: 0.8914\n",
      "Epoch 12/25\n",
      "1719/1719 [==============================] - 4s 2ms/step - loss: 0.1817 - acc: 0.9364 - val_loss: 0.4048 - val_acc: 0.8928\n",
      "Epoch 13/25\n",
      "1719/1719 [==============================] - 3s 2ms/step - loss: 0.1683 - acc: 0.9419 - val_loss: 0.3976 - val_acc: 0.8916\n",
      "Epoch 14/25\n",
      "1719/1719 [==============================] - 3s 2ms/step - loss: 0.1555 - acc: 0.9461 - val_loss: 0.4091 - val_acc: 0.8916\n",
      "Epoch 15/25\n",
      "1719/1719 [==============================] - 3s 2ms/step - loss: 0.1445 - acc: 0.9511 - val_loss: 0.4304 - val_acc: 0.8940\n",
      "Epoch 16/25\n",
      "1719/1719 [==============================] - 4s 2ms/step - loss: 0.1350 - acc: 0.9540 - val_loss: 0.4330 - val_acc: 0.8936\n",
      "Epoch 17/25\n",
      "1719/1719 [==============================] - 3s 2ms/step - loss: 0.1283 - acc: 0.9565 - val_loss: 0.4387 - val_acc: 0.8944\n",
      "Epoch 18/25\n",
      "1719/1719 [==============================] - 3s 2ms/step - loss: 0.1217 - acc: 0.9598 - val_loss: 0.4698 - val_acc: 0.8944\n",
      "Epoch 19/25\n",
      "1719/1719 [==============================] - 3s 2ms/step - loss: 0.1164 - acc: 0.9620 - val_loss: 0.4749 - val_acc: 0.8962\n",
      "Epoch 20/25\n",
      "1719/1719 [==============================] - 3s 2ms/step - loss: 0.1126 - acc: 0.9628 - val_loss: 0.4841 - val_acc: 0.8946\n",
      "Epoch 21/25\n",
      "1719/1719 [==============================] - 3s 2ms/step - loss: 0.1090 - acc: 0.9646 - val_loss: 0.4954 - val_acc: 0.8944\n",
      "Epoch 22/25\n",
      "1719/1719 [==============================] - 3s 2ms/step - loss: 0.1064 - acc: 0.9657 - val_loss: 0.5029 - val_acc: 0.8952\n",
      "Epoch 23/25\n",
      "1719/1719 [==============================] - 3s 2ms/step - loss: 0.1045 - acc: 0.9664 - val_loss: 0.5141 - val_acc: 0.8942\n",
      "Epoch 24/25\n",
      "1719/1719 [==============================] - 3s 2ms/step - loss: 0.1028 - acc: 0.9671 - val_loss: 0.5159 - val_acc: 0.8938\n",
      "Epoch 25/25\n",
      "1719/1719 [==============================] - 3s 2ms/step - loss: 0.1014 - acc: 0.9676 - val_loss: 0.5224 - val_acc: 0.8948\n"
     ]
    }
   ],
   "source": [
    "lr_scheduler = keras.callbacks.LearningRateScheduler(exponential_decay_fn)\n",
    "\n",
    "history = model.fit(x_train_scaled, y_train, epochs=n_epochs, \n",
    "                    validation_data=(x_valid_scaled, y_valid), \n",
    "                    callbacks=[lr_scheduler])"
   ]
  },
  {
   "cell_type": "code",
   "execution_count": 11,
   "id": "precious-driver",
   "metadata": {},
   "outputs": [
    {
     "data": {
      "image/png": "[encoded data removed]",
      "text/plain": [
       "<Figure size 432x288 with 1 Axes>"
      ]
     },
     "metadata": {
      "needs_background": "light"
     },
     "output_type": "display_data"
    }
   ],
   "source": [
    "plt.plot(history.epoch, history.history['lr'], 'o-')\n",
    "plt.axis([0, n_epochs - 1, 0, 0.011])\n",
    "plt.xlabel('Epoch')\n",
    "plt.ylabel('Learning Rate')\n",
    "plt.title('Exponential Scheduling', fontsize=14)\n",
    "plt.grid(True)\n",
    "plt.show()"
   ]
  },
  {
   "cell_type": "code",
   "execution_count": 12,
   "id": "aboriginal-database",
   "metadata": {},
   "outputs": [],
   "source": [
    "def exponential_decay_fn(epoch, lr):\n",
    "    return lr * 0.1 ** (1 / 20)"
   ]
  },
  {
   "cell_type": "code",
   "execution_count": 13,
   "id": "considered-large",
   "metadata": {},
   "outputs": [
    {
     "name": "stdout",
     "output_type": "stream",
     "text": [
      "Epoch 1/25\n",
      "1719/1719 [==============================] - 4s 2ms/step - loss: 0.7882 - acc: 0.7720 - val_loss: 0.7218 - val_acc: 0.7972\n",
      "Epoch 2/25\n",
      "1719/1719 [==============================] - 4s 2ms/step - loss: 0.6512 - acc: 0.8030 - val_loss: 0.7537 - val_acc: 0.7802\n",
      "Epoch 3/25\n",
      "1719/1719 [==============================] - 4s 2ms/step - loss: 0.5519 - acc: 0.8279 - val_loss: 0.8631 - val_acc: 0.7598\n",
      "Epoch 4/25\n",
      "1719/1719 [==============================] - 4s 2ms/step - loss: 0.4879 - acc: 0.8460 - val_loss: 0.5320 - val_acc: 0.8164\n",
      "Epoch 5/25\n",
      "1719/1719 [==============================] - 4s 2ms/step - loss: 0.4702 - acc: 0.8523 - val_loss: 0.5176 - val_acc: 0.8562\n",
      "Epoch 6/25\n",
      "1719/1719 [==============================] - 4s 2ms/step - loss: 0.4328 - acc: 0.8654 - val_loss: 0.5715 - val_acc: 0.8478\n",
      "Epoch 7/25\n",
      "1719/1719 [==============================] - 4s 2ms/step - loss: 0.3899 - acc: 0.8729 - val_loss: 0.4751 - val_acc: 0.8620\n",
      "Epoch 8/25\n",
      "1719/1719 [==============================] - 4s 2ms/step - loss: 0.3689 - acc: 0.8788 - val_loss: 0.4281 - val_acc: 0.8686\n",
      "Epoch 9/25\n",
      "1719/1719 [==============================] - 4s 2ms/step - loss: 0.3390 - acc: 0.8877 - val_loss: 0.4398 - val_acc: 0.8708\n",
      "Epoch 10/25\n",
      "1719/1719 [==============================] - 4s 2ms/step - loss: 0.3137 - acc: 0.8958 - val_loss: 0.4261 - val_acc: 0.8714\n",
      "Epoch 11/25\n",
      "1719/1719 [==============================] - 4s 2ms/step - loss: 0.2879 - acc: 0.9025 - val_loss: 0.5084 - val_acc: 0.8786\n",
      "Epoch 12/25\n",
      "1719/1719 [==============================] - 4s 2ms/step - loss: 0.2656 - acc: 0.9089 - val_loss: 0.4709 - val_acc: 0.8836\n",
      "Epoch 13/25\n",
      "1719/1719 [==============================] - 4s 2ms/step - loss: 0.2516 - acc: 0.9145 - val_loss: 0.4371 - val_acc: 0.8758\n",
      "Epoch 14/25\n",
      "1719/1719 [==============================] - 4s 2ms/step - loss: 0.2296 - acc: 0.9202 - val_loss: 0.4827 - val_acc: 0.8838\n",
      "Epoch 15/25\n",
      "1719/1719 [==============================] - 4s 2ms/step - loss: 0.2136 - acc: 0.9262 - val_loss: 0.4650 - val_acc: 0.8872\n",
      "Epoch 16/25\n",
      "1719/1719 [==============================] - 4s 2ms/step - loss: 0.1986 - acc: 0.9319 - val_loss: 0.4453 - val_acc: 0.8886\n",
      "Epoch 17/25\n",
      "1719/1719 [==============================] - 4s 2ms/step - loss: 0.1890 - acc: 0.9369 - val_loss: 0.4685 - val_acc: 0.8882\n",
      "Epoch 18/25\n",
      "1719/1719 [==============================] - 4s 2ms/step - loss: 0.1735 - acc: 0.9401 - val_loss: 0.4766 - val_acc: 0.8914\n",
      "Epoch 19/25\n",
      "1719/1719 [==============================] - 4s 2ms/step - loss: 0.1607 - acc: 0.9444 - val_loss: 0.4931 - val_acc: 0.8892\n",
      "Epoch 20/25\n",
      "1719/1719 [==============================] - 4s 2ms/step - loss: 0.1485 - acc: 0.9493 - val_loss: 0.5148 - val_acc: 0.8890\n",
      "Epoch 21/25\n",
      "1719/1719 [==============================] - 4s 2ms/step - loss: 0.1374 - acc: 0.9545 - val_loss: 0.5500 - val_acc: 0.8888\n",
      "Epoch 22/25\n",
      "1719/1719 [==============================] - 4s 2ms/step - loss: 0.1288 - acc: 0.9571 - val_loss: 0.5880 - val_acc: 0.8904\n",
      "Epoch 23/25\n",
      "1719/1719 [==============================] - 3s 2ms/step - loss: 0.1219 - acc: 0.9599 - val_loss: 0.5843 - val_acc: 0.8944\n",
      "Epoch 24/25\n",
      "1719/1719 [==============================] - 3s 2ms/step - loss: 0.1132 - acc: 0.9619 - val_loss: 0.6048 - val_acc: 0.8914\n",
      "Epoch 25/25\n",
      "1719/1719 [==============================] - 3s 2ms/step - loss: 0.1057 - acc: 0.9657 - val_loss: 0.6349 - val_acc: 0.8954\n"
     ]
    }
   ],
   "source": [
    "K = keras.backend\n",
    "\n",
    "\n",
    "class ExponentialDecay(keras.callbacks.Callback):\n",
    "    def __init__(self, s=40000):\n",
    "        super().__init__()\n",
    "        self.s = s\n",
    "        \n",
    "    def on_batch_begin(self, batch, logs=None):\n",
    "        lr = K.get_value(self.model.optimizer.lr)\n",
    "        K.set_value(self.model.optimizer.lr, lr * 0.1 ** (1 / s))\n",
    "        \n",
    "    def on_epoch_end(self, epoch, logs=None):\n",
    "        logs = logs or {}\n",
    "        logs['lr'] = K.get_value(self.model.optimizer.lr)\n",
    "        \n",
    "\n",
    "model = keras.models.Sequential([\n",
    "    keras.layers.Flatten(input_shape=[28, 28]),\n",
    "    keras.layers.Dense(300, activation='selu', kernel_initializer='lecun_normal'),\n",
    "    keras.layers.Dense(100, activation='selu', kernel_initializer='lecun_normal'),\n",
    "    keras.layers.Dense(10, activation='softmax')\n",
    "])\n",
    "\n",
    "lr0 = 0.01\n",
    "optimizer = keras.optimizers.Nadam(learning_rate=lr0)\n",
    "model.compile(loss='sparse_categorical_crossentropy', \n",
    "              optimizer=optimizer, \n",
    "              metrics=['acc'])\n",
    "n_epochs = 25\n",
    "\n",
    "s = 20 * len(x_train) // 32\n",
    "exp_decay = ExponentialDecay(s)\n",
    "\n",
    "history = model.fit(x_train_scaled, y_train, epochs=n_epochs, \n",
    "                    validation_data=(x_valid_scaled, y_valid), \n",
    "                    callbacks=[exp_decay])"
   ]
  },
  {
   "cell_type": "code",
   "execution_count": 14,
   "id": "vocational-engagement",
   "metadata": {},
   "outputs": [],
   "source": [
    "n_steps = n_epochs * len(x_train) // 32\n",
    "steps = np.arange(n_steps)\n",
    "lrs = lr0 * 0.1 ** (steps / s)"
   ]
  },
  {
   "cell_type": "code",
   "execution_count": 15,
   "id": "other-marsh",
   "metadata": {},
   "outputs": [
    {
     "data": {
      "image/png": "[encoded data removed]",
      "text/plain": [
       "<Figure size 432x288 with 1 Axes>"
      ]
     },
     "metadata": {
      "needs_background": "light"
     },
     "output_type": "display_data"
    }
   ],
   "source": [
    "plt.plot(steps, lrs, '-', linewidth=2)\n",
    "plt.axis([0, n_steps - 1, 0, lr0 * 1.1])\n",
    "plt.xlabel('Batch')\n",
    "plt.ylabel('Learning Rate')\n",
    "plt.title('Exponential Scheduling (per batch)', fontsize=14)\n",
    "plt.grid(True)\n",
    "plt.show()"
   ]
  },
  {
   "cell_type": "markdown",
   "id": "reverse-wrapping",
   "metadata": {},
   "source": [
    "Piecewise Constant Scheduling"
   ]
  },
  {
   "cell_type": "code",
   "execution_count": 16,
   "id": "precise-consequence",
   "metadata": {},
   "outputs": [],
   "source": [
    "def piecewise_constant_fn(epoch):\n",
    "    if epoch < 5:\n",
    "        return 0.01\n",
    "    elif epoch < 15:\n",
    "        return 0.005\n",
    "    else:\n",
    "        return 0.001"
   ]
  },
  {
   "cell_type": "code",
   "execution_count": 17,
   "id": "particular-penny",
   "metadata": {},
   "outputs": [],
   "source": [
    "def piecewise_constant(boundaries, values):\n",
    "    boundaries = np.array([0] + boundaries)\n",
    "    values = np.array(values)\n",
    "    def piecewise_constant_fn(epoch):\n",
    "        return values[np.argmax(boundaries > epoch) - 1]\n",
    "    return piecewise_constant_fn\n",
    "\n",
    "piecewise_constant_fn = piecewise_constant([5, 15], [0.01, 0.005, 0.001])"
   ]
  },
  {
   "cell_type": "code",
   "execution_count": 18,
   "id": "great-smart",
   "metadata": {},
   "outputs": [
    {
     "name": "stdout",
     "output_type": "stream",
     "text": [
      "Epoch 1/25\n",
      "1719/1719 [==============================] - 4s 2ms/step - loss: 0.8663 - acc: 0.7549 - val_loss: 1.2180 - val_acc: 0.7260\n",
      "Epoch 2/25\n",
      "1719/1719 [==============================] - 3s 2ms/step - loss: 0.8608 - acc: 0.7530 - val_loss: 1.2445 - val_acc: 0.6442\n",
      "Epoch 3/25\n",
      "1719/1719 [==============================] - 3s 2ms/step - loss: 0.8145 - acc: 0.7568 - val_loss: 1.3102 - val_acc: 0.6252\n",
      "Epoch 4/25\n",
      "1719/1719 [==============================] - 3s 2ms/step - loss: 0.8421 - acc: 0.7608 - val_loss: 0.8308 - val_acc: 0.7480\n",
      "Epoch 5/25\n",
      "1719/1719 [==============================] - 3s 2ms/step - loss: 0.8364 - acc: 0.7568 - val_loss: 1.0003 - val_acc: 0.6796\n",
      "Epoch 6/25\n",
      "1719/1719 [==============================] - 3s 2ms/step - loss: 0.5414 - acc: 0.8312 - val_loss: 0.6967 - val_acc: 0.7962\n",
      "Epoch 7/25\n",
      "1719/1719 [==============================] - 3s 2ms/step - loss: 0.4716 - acc: 0.8530 - val_loss: 0.5542 - val_acc: 0.8412\n",
      "Epoch 8/25\n",
      "1719/1719 [==============================] - 3s 2ms/step - loss: 0.4791 - acc: 0.8563 - val_loss: 0.5486 - val_acc: 0.8416\n",
      "Epoch 9/25\n",
      "1719/1719 [==============================] - 3s 2ms/step - loss: 0.4587 - acc: 0.8600 - val_loss: 0.5360 - val_acc: 0.8562\n",
      "Epoch 10/25\n",
      "1719/1719 [==============================] - 3s 2ms/step - loss: 0.4567 - acc: 0.8653 - val_loss: 0.5869 - val_acc: 0.8546\n",
      "Epoch 11/25\n",
      "1719/1719 [==============================] - 3s 2ms/step - loss: 0.4437 - acc: 0.8710 - val_loss: 0.5504 - val_acc: 0.8566\n",
      "Epoch 12/25\n",
      "1719/1719 [==============================] - 3s 2ms/step - loss: 0.4407 - acc: 0.8727 - val_loss: 0.5938 - val_acc: 0.8588\n",
      "Epoch 13/25\n",
      "1719/1719 [==============================] - 3s 2ms/step - loss: 0.4166 - acc: 0.8747 - val_loss: 0.6272 - val_acc: 0.8234\n",
      "Epoch 14/25\n",
      "1719/1719 [==============================] - 3s 2ms/step - loss: 0.4114 - acc: 0.8765 - val_loss: 0.4971 - val_acc: 0.8584\n",
      "Epoch 15/25\n",
      "1719/1719 [==============================] - 3s 2ms/step - loss: 0.3969 - acc: 0.8802 - val_loss: 0.9131 - val_acc: 0.8640\n",
      "Epoch 16/25\n",
      "1719/1719 [==============================] - 3s 2ms/step - loss: 0.2837 - acc: 0.9092 - val_loss: 0.4490 - val_acc: 0.8814\n",
      "Epoch 17/25\n",
      "1719/1719 [==============================] - 3s 2ms/step - loss: 0.2531 - acc: 0.9157 - val_loss: 0.4860 - val_acc: 0.8782\n",
      "Epoch 18/25\n",
      "1719/1719 [==============================] - 3s 2ms/step - loss: 0.2428 - acc: 0.9193 - val_loss: 0.5080 - val_acc: 0.8818\n",
      "Epoch 19/25\n",
      "1719/1719 [==============================] - 3s 2ms/step - loss: 0.2329 - acc: 0.9224 - val_loss: 0.4872 - val_acc: 0.8874\n",
      "Epoch 20/25\n",
      "1719/1719 [==============================] - 3s 2ms/step - loss: 0.2264 - acc: 0.9255 - val_loss: 0.5371 - val_acc: 0.8784\n",
      "Epoch 21/25\n",
      "1719/1719 [==============================] - 3s 2ms/step - loss: 0.2200 - acc: 0.9301 - val_loss: 0.5062 - val_acc: 0.8864\n",
      "Epoch 22/25\n",
      "1719/1719 [==============================] - 3s 2ms/step - loss: 0.2118 - acc: 0.9301 - val_loss: 0.5320 - val_acc: 0.8862\n",
      "Epoch 23/25\n",
      "1719/1719 [==============================] - 3s 2ms/step - loss: 0.2022 - acc: 0.9338 - val_loss: 0.5483 - val_acc: 0.8822\n",
      "Epoch 24/25\n",
      "1719/1719 [==============================] - 3s 2ms/step - loss: 0.1974 - acc: 0.9353 - val_loss: 0.5682 - val_acc: 0.8848\n",
      "Epoch 25/25\n",
      "1719/1719 [==============================] - 3s 2ms/step - loss: 0.1922 - acc: 0.9371 - val_loss: 0.5565 - val_acc: 0.8868\n"
     ]
    }
   ],
   "source": [
    "lr_scheduler = keras.callbacks.LearningRateScheduler(piecewise_constant_fn)\n",
    "\n",
    "model = keras.models.Sequential([\n",
    "    keras.layers.Flatten(input_shape=[28, 28]),\n",
    "    keras.layers.Dense(300, activation='selu', kernel_initializer='lecun_normal'),\n",
    "    keras.layers.Dense(100, activation='selu', kernel_initializer='lecun_normal'),\n",
    "    keras.layers.Dense(10, activation='softmax')\n",
    "])\n",
    "\n",
    "model.compile(loss='sparse_categorical_crossentropy', \n",
    "              optimizer='nadam', \n",
    "              metrics=['acc'])\n",
    "\n",
    "n_epochs = 25\n",
    "\n",
    "history = model.fit(x_train_scaled, y_train, epochs=n_epochs, \n",
    "                    validation_data=(x_valid_scaled, y_valid), \n",
    "                    callbacks=[lr_scheduler])"
   ]
  },
  {
   "cell_type": "code",
   "execution_count": 19,
   "id": "latin-entrepreneur",
   "metadata": {},
   "outputs": [
    {
     "data": {
      "image/png": "[encoded data removed]",
      "text/plain": [
       "<Figure size 432x288 with 1 Axes>"
      ]
     },
     "metadata": {
      "needs_background": "light"
     },
     "output_type": "display_data"
    }
   ],
   "source": [
    "plt.plot(history.epoch, [piecewise_constant_fn(epoch) for epoch in history.epoch], 'o-')\n",
    "plt.axis([0, n_epochs - 1, 0, 0.011])\n",
    "plt.xlabel('Epoch')\n",
    "plt.ylabel('Learning Rate')\n",
    "plt.title('Piecewise Constant Scheduling', fontsize=14)\n",
    "plt.grid(True)\n",
    "plt.show()"
   ]
  },
  {
   "cell_type": "markdown",
   "id": "instructional-ending",
   "metadata": {},
   "source": [
    "Performance Scheduling"
   ]
  },
  {
   "cell_type": "code",
   "execution_count": 20,
   "id": "contrary-tractor",
   "metadata": {},
   "outputs": [],
   "source": [
    "tf.random.set_seed(42)\n",
    "np.random.seed(42)"
   ]
  },
  {
   "cell_type": "code",
   "execution_count": 21,
   "id": "verbal-darwin",
   "metadata": {},
   "outputs": [
    {
     "name": "stdout",
     "output_type": "stream",
     "text": [
      "Epoch 1/25\n",
      "1719/1719 [==============================] - 2s 1ms/step - loss: 0.5935 - acc: 0.8070 - val_loss: 0.4701 - val_acc: 0.8488\n",
      "Epoch 2/25\n",
      "1719/1719 [==============================] - 2s 1ms/step - loss: 0.4962 - acc: 0.8396 - val_loss: 0.5691 - val_acc: 0.8334\n",
      "Epoch 3/25\n",
      "1719/1719 [==============================] - 2s 1ms/step - loss: 0.5228 - acc: 0.8412 - val_loss: 0.5809 - val_acc: 0.8430\n",
      "Epoch 4/25\n",
      "1719/1719 [==============================] - 2s 1ms/step - loss: 0.5163 - acc: 0.8468 - val_loss: 0.4740 - val_acc: 0.8576\n",
      "Epoch 5/25\n",
      "1719/1719 [==============================] - 2s 1ms/step - loss: 0.5251 - acc: 0.8486 - val_loss: 0.5588 - val_acc: 0.8286\n",
      "Epoch 6/25\n",
      "1719/1719 [==============================] - 2s 1ms/step - loss: 0.5026 - acc: 0.8541 - val_loss: 0.5672 - val_acc: 0.8468\n",
      "Epoch 7/25\n",
      "1719/1719 [==============================] - 2s 1ms/step - loss: 0.3045 - acc: 0.8950 - val_loss: 0.3696 - val_acc: 0.8826\n",
      "Epoch 8/25\n",
      "1719/1719 [==============================] - 2s 1ms/step - loss: 0.2576 - acc: 0.9071 - val_loss: 0.4111 - val_acc: 0.8700\n",
      "Epoch 9/25\n",
      "1719/1719 [==============================] - 2s 1ms/step - loss: 0.2346 - acc: 0.9139 - val_loss: 0.3967 - val_acc: 0.8856\n",
      "Epoch 10/25\n",
      "1719/1719 [==============================] - 2s 1ms/step - loss: 0.2204 - acc: 0.9186 - val_loss: 0.4256 - val_acc: 0.8848\n",
      "Epoch 11/25\n",
      "1719/1719 [==============================] - 2s 1ms/step - loss: 0.2045 - acc: 0.9236 - val_loss: 0.3996 - val_acc: 0.8868\n",
      "Epoch 12/25\n",
      "1719/1719 [==============================] - 2s 1ms/step - loss: 0.1978 - acc: 0.9267 - val_loss: 0.4988 - val_acc: 0.8698\n",
      "Epoch 13/25\n",
      "1719/1719 [==============================] - 2s 1ms/step - loss: 0.1393 - acc: 0.9454 - val_loss: 0.4115 - val_acc: 0.8910\n",
      "Epoch 14/25\n",
      "1719/1719 [==============================] - 2s 1ms/step - loss: 0.1219 - acc: 0.9522 - val_loss: 0.4061 - val_acc: 0.8924\n",
      "Epoch 15/25\n",
      "1719/1719 [==============================] - 2s 1ms/step - loss: 0.1139 - acc: 0.9559 - val_loss: 0.4212 - val_acc: 0.8894\n",
      "Epoch 16/25\n",
      "1719/1719 [==============================] - 2s 1ms/step - loss: 0.1057 - acc: 0.9595 - val_loss: 0.4489 - val_acc: 0.8946\n",
      "Epoch 17/25\n",
      "1719/1719 [==============================] - 2s 1ms/step - loss: 0.0988 - acc: 0.9627 - val_loss: 0.4616 - val_acc: 0.8916\n",
      "Epoch 18/25\n",
      "1719/1719 [==============================] - 2s 1ms/step - loss: 0.0767 - acc: 0.9710 - val_loss: 0.4605 - val_acc: 0.8938\n",
      "Epoch 19/25\n",
      "1719/1719 [==============================] - 2s 1ms/step - loss: 0.0702 - acc: 0.9744 - val_loss: 0.4868 - val_acc: 0.8940\n",
      "Epoch 20/25\n",
      "1719/1719 [==============================] - 2s 1ms/step - loss: 0.0658 - acc: 0.9764 - val_loss: 0.4741 - val_acc: 0.8928\n",
      "Epoch 21/25\n",
      "1719/1719 [==============================] - 2s 1ms/step - loss: 0.0624 - acc: 0.9779 - val_loss: 0.4931 - val_acc: 0.8954\n",
      "Epoch 22/25\n",
      "1719/1719 [==============================] - 2s 1ms/step - loss: 0.0598 - acc: 0.9781 - val_loss: 0.5130 - val_acc: 0.8912\n",
      "Epoch 23/25\n",
      "1719/1719 [==============================] - 2s 1ms/step - loss: 0.0502 - acc: 0.9837 - val_loss: 0.5136 - val_acc: 0.8914\n",
      "Epoch 24/25\n",
      "1719/1719 [==============================] - 2s 1ms/step - loss: 0.0477 - acc: 0.9840 - val_loss: 0.5171 - val_acc: 0.8930\n",
      "Epoch 25/25\n",
      "1719/1719 [==============================] - 2s 1ms/step - loss: 0.0459 - acc: 0.9849 - val_loss: 0.5246 - val_acc: 0.8910\n"
     ]
    }
   ],
   "source": [
    "lr_scheduler = keras.callbacks.ReduceLROnPlateau(factor=0.5, patience=5)\n",
    "\n",
    "model = keras.models.Sequential([\n",
    "    keras.layers.Flatten(input_shape=[28, 28]),\n",
    "    keras.layers.Dense(300, activation='selu', kernel_initializer='lecun_normal'),\n",
    "    keras.layers.Dense(100, activation='selu', kernel_initializer='lecun_normal'),\n",
    "    keras.layers.Dense(10, activation='softmax')\n",
    "])\n",
    "\n",
    "optimizer = keras.optimizers.SGD(learning_rate=0.02, momentum=0.9)\n",
    "\n",
    "model.compile(loss='sparse_categorical_crossentropy', \n",
    "              optimizer=optimizer, \n",
    "              metrics=['acc'])\n",
    "\n",
    "n_epochs = 25\n",
    "\n",
    "history = model.fit(x_train_scaled, y_train, epochs=n_epochs, \n",
    "                    validation_data=(x_valid_scaled, y_valid), \n",
    "                    callbacks=[lr_scheduler])"
   ]
  },
  {
   "cell_type": "code",
   "execution_count": 22,
   "id": "balanced-passage",
   "metadata": {},
   "outputs": [
    {
     "data": {
      "image/png": "[encoded data removed]",
      "text/plain": [
       "<Figure size 432x288 with 2 Axes>"
      ]
     },
     "metadata": {
      "needs_background": "light"
     },
     "output_type": "display_data"
    }
   ],
   "source": [
    "plt.plot(history.epoch, history.history['lr'], 'bo-')\n",
    "plt.xlabel('Epoch')\n",
    "plt.ylabel('Learning Rate', color='b')\n",
    "plt.tick_params('y', colors='b')\n",
    "plt.gca().set_xlim(0, n_epochs - 1)\n",
    "plt.grid(True)\n",
    "\n",
    "ax2 = plt.gca().twinx()\n",
    "ax2.plot(history.epoch, history.history['val_loss'], 'r^-')\n",
    "ax2.set_ylabel('Validation Loss', color='r')\n",
    "ax2.tick_params('y', colors='r')\n",
    "\n",
    "plt.title('Reduce LR on Plateau', fontsize=14)\n",
    "plt.show()"
   ]
  },
  {
   "cell_type": "markdown",
   "id": "exceptional-lobby",
   "metadata": {},
   "source": [
    "tf.keras schedulers"
   ]
  },
  {
   "cell_type": "code",
   "execution_count": 23,
   "id": "dominican-contributor",
   "metadata": {},
   "outputs": [
    {
     "name": "stdout",
     "output_type": "stream",
     "text": [
      "Epoch 1/25\n",
      "1719/1719 [==============================] - 2s 1ms/step - loss: 0.4893 - acc: 0.8273 - val_loss: 0.4094 - val_acc: 0.8606\n",
      "Epoch 2/25\n",
      "1719/1719 [==============================] - 2s 1ms/step - loss: 0.3819 - acc: 0.8647 - val_loss: 0.3738 - val_acc: 0.8692\n",
      "Epoch 3/25\n",
      "1719/1719 [==============================] - 2s 1ms/step - loss: 0.3487 - acc: 0.8763 - val_loss: 0.3730 - val_acc: 0.8688\n",
      "Epoch 4/25\n",
      "1719/1719 [==============================] - 2s 1ms/step - loss: 0.3264 - acc: 0.8834 - val_loss: 0.3491 - val_acc: 0.8802\n",
      "Epoch 5/25\n",
      "1719/1719 [==============================] - 2s 1ms/step - loss: 0.3104 - acc: 0.8897 - val_loss: 0.3431 - val_acc: 0.8800\n",
      "Epoch 6/25\n",
      "1719/1719 [==============================] - 2s 1ms/step - loss: 0.2959 - acc: 0.8954 - val_loss: 0.3412 - val_acc: 0.8816\n",
      "Epoch 7/25\n",
      "1719/1719 [==============================] - 2s 1ms/step - loss: 0.2855 - acc: 0.8985 - val_loss: 0.3353 - val_acc: 0.8812\n",
      "Epoch 8/25\n",
      "1719/1719 [==============================] - 2s 1ms/step - loss: 0.2761 - acc: 0.9016 - val_loss: 0.3362 - val_acc: 0.8824\n",
      "Epoch 9/25\n",
      "1719/1719 [==============================] - 2s 1ms/step - loss: 0.2679 - acc: 0.9051 - val_loss: 0.3263 - val_acc: 0.8858\n",
      "Epoch 10/25\n",
      "1719/1719 [==============================] - 2s 1ms/step - loss: 0.2608 - acc: 0.9068 - val_loss: 0.3238 - val_acc: 0.8856\n",
      "Epoch 11/25\n",
      "1719/1719 [==============================] - 2s 1ms/step - loss: 0.2552 - acc: 0.9088 - val_loss: 0.3249 - val_acc: 0.8860\n",
      "Epoch 12/25\n",
      "1719/1719 [==============================] - 2s 1ms/step - loss: 0.2498 - acc: 0.9127 - val_loss: 0.3299 - val_acc: 0.8816\n",
      "Epoch 13/25\n",
      "1719/1719 [==============================] - 2s 1ms/step - loss: 0.2451 - acc: 0.9133 - val_loss: 0.3216 - val_acc: 0.8868\n",
      "Epoch 14/25\n",
      "1719/1719 [==============================] - 2s 1ms/step - loss: 0.2417 - acc: 0.9149 - val_loss: 0.3220 - val_acc: 0.8864\n",
      "Epoch 15/25\n",
      "1719/1719 [==============================] - 2s 1ms/step - loss: 0.2377 - acc: 0.9167 - val_loss: 0.3205 - val_acc: 0.8878\n",
      "Epoch 16/25\n",
      "1719/1719 [==============================] - 2s 1ms/step - loss: 0.2345 - acc: 0.9177 - val_loss: 0.3182 - val_acc: 0.8886\n",
      "Epoch 17/25\n",
      "1719/1719 [==============================] - 2s 1ms/step - loss: 0.2319 - acc: 0.9187 - val_loss: 0.3194 - val_acc: 0.8902\n",
      "Epoch 18/25\n",
      "1719/1719 [==============================] - 2s 1ms/step - loss: 0.2293 - acc: 0.9194 - val_loss: 0.3166 - val_acc: 0.8898\n",
      "Epoch 19/25\n",
      "1719/1719 [==============================] - 2s 1ms/step - loss: 0.2271 - acc: 0.9203 - val_loss: 0.3195 - val_acc: 0.8894\n",
      "Epoch 20/25\n",
      "1719/1719 [==============================] - 2s 1ms/step - loss: 0.2252 - acc: 0.9217 - val_loss: 0.3166 - val_acc: 0.8900\n",
      "Epoch 21/25\n",
      "1719/1719 [==============================] - 2s 1ms/step - loss: 0.2231 - acc: 0.9223 - val_loss: 0.3177 - val_acc: 0.8904\n",
      "Epoch 22/25\n",
      "1719/1719 [==============================] - 2s 1ms/step - loss: 0.2218 - acc: 0.9221 - val_loss: 0.3159 - val_acc: 0.8914\n",
      "Epoch 23/25\n",
      "1719/1719 [==============================] - 2s 1ms/step - loss: 0.2203 - acc: 0.9228 - val_loss: 0.3168 - val_acc: 0.8900\n",
      "Epoch 24/25\n",
      "1719/1719 [==============================] - 2s 1ms/step - loss: 0.2190 - acc: 0.9241 - val_loss: 0.3162 - val_acc: 0.8890\n",
      "Epoch 25/25\n",
      "1719/1719 [==============================] - 2s 1ms/step - loss: 0.2181 - acc: 0.9241 - val_loss: 0.3161 - val_acc: 0.8912\n"
     ]
    }
   ],
   "source": [
    "model = keras.models.Sequential([\n",
    "    keras.layers.Flatten(input_shape=[28, 28]),\n",
    "    keras.layers.Dense(300, activation='selu', kernel_initializer='lecun_normal'),\n",
    "    keras.layers.Dense(100, activation='selu', kernel_initializer='lecun_normal'),\n",
    "    keras.layers.Dense(10, activation='softmax')\n",
    "])\n",
    "\n",
    "s = 20 * len(x_train) // 32\n",
    "learning_rate = keras.optimizers.schedules.ExponentialDecay(0.01, s, 0.1)\n",
    "optimizer = keras.optimizers.SGD(learning_rate=learning_rate)\n",
    "\n",
    "model.compile(loss='sparse_categorical_crossentropy', \n",
    "              optimizer=optimizer, \n",
    "              metrics=['acc'])\n",
    "\n",
    "n_epochs = 25\n",
    "\n",
    "history = model.fit(x_train_scaled, y_train, epochs=n_epochs, \n",
    "                    validation_data=(x_valid_scaled, y_valid), \n",
    "                    callbacks=[lr_scheduler])"
   ]
  },
  {
   "cell_type": "markdown",
   "id": "computational-target",
   "metadata": {},
   "source": [
    "One Cycle Scheduler"
   ]
  },
  {
   "cell_type": "code",
   "execution_count": 24,
   "id": "dominican-recording",
   "metadata": {},
   "outputs": [],
   "source": [
    "tf.random.set_seed(42)\n",
    "np.random.seed(42)"
   ]
  },
  {
   "cell_type": "code",
   "execution_count": 25,
   "id": "coral-frost",
   "metadata": {},
   "outputs": [],
   "source": [
    "K = keras.backend\n",
    "\n",
    "class ExponentialLearningRate(keras.callbacks.Callback):\n",
    "    def __init__(self, factor):\n",
    "        self.factor = factor\n",
    "        self.rates = []\n",
    "        self.losses = []\n",
    "    \n",
    "    def on_batch_end(self, batch, logs):\n",
    "        self.rates.append(K.get_value(self.model.optimizer.lr))\n",
    "        self.losses.append(logs['loss'])\n",
    "        K.set_value(self.model.optimizer.lr, \n",
    "                    self.model.optimizer.lr * self.factor)"
   ]
  },
  {
   "cell_type": "code",
   "execution_count": 26,
   "id": "exempt-armor",
   "metadata": {},
   "outputs": [],
   "source": [
    "import math\n",
    "\n",
    "def find_learning_rate(model, x, y, epochs=1, batch_size=32, \n",
    "                       min_rate=10 ** -5, max_rate=10):\n",
    "    init_weights = model.get_weights()\n",
    "    iterations = math.ceil(len(x) / batch_size) * epochs\n",
    "    factor = np.exp(np.log(max_rate / min_rate) / iterations)\n",
    "    init_lr = K.get_value(model.optimizer.lr)\n",
    "    K.set_value(model.optimizer.lr, min_rate)\n",
    "    exp_lr = ExponentialLearningRate(factor)\n",
    "    history = model.fit(x, y, epochs=epochs, \n",
    "                        batch_size=batch_size, \n",
    "                        callbacks=[exp_lr])\n",
    "    K.set_value(model.optimizer.lr, init_lr)\n",
    "    model.set_weights(init_weights)\n",
    "    return exp_lr.rates, exp_lr.losses\n",
    "\n",
    "\n",
    "def plot_lr_vs_loss(rates, losses):\n",
    "    plt.plot(rates, losses)\n",
    "    plt.gca().set_xscale('log')\n",
    "    plt.hlines(min(losses), min(rates), max(rates))\n",
    "    plt.axis([min(rates), max(rates), min(losses), (losses[0] + min(losses)) / 2])\n",
    "    plt.xlabel('Learning rate', fontsize=14)\n",
    "    plt.ylabel('Loss', fontsize=14)"
   ]
  },
  {
   "cell_type": "code",
   "execution_count": 27,
   "id": "expired-jacob",
   "metadata": {},
   "outputs": [],
   "source": [
    "model = keras.models.Sequential([\n",
    "    keras.layers.Flatten(input_shape=[28, 28]),\n",
    "    keras.layers.Dense(300, activation='selu', kernel_initializer='lecun_normal'),\n",
    "    keras.layers.Dense(100, activation='selu', kernel_initializer='lecun_normal'),\n",
    "    keras.layers.Dense(10, activation='softmax')\n",
    "])\n",
    "\n",
    "optimizer = keras.optimizers.SGD(learning_rate=1e-3)\n",
    "\n",
    "model.compile(loss='sparse_categorical_crossentropy', \n",
    "              optimizer=optimizer, \n",
    "              metrics=['acc'])"
   ]
  },
  {
   "cell_type": "code",
   "execution_count": 28,
   "id": "attractive-jonathan",
   "metadata": {},
   "outputs": [
    {
     "name": "stdout",
     "output_type": "stream",
     "text": [
      "430/430 [==============================] - 1s 2ms/step - loss: 2722270531289088.0000 - acc: 0.3867\n"
     ]
    },
    {
     "data": {
      "image/png": "[encoded data removed]",
      "text/plain": [
       "<Figure size 432x288 with 1 Axes>"
      ]
     },
     "metadata": {
      "needs_background": "light"
     },
     "output_type": "display_data"
    }
   ],
   "source": [
    "batch_size = 128\n",
    "rates, losses = find_learning_rate(model, x_train_scaled, y_train, \n",
    "                                   epochs=1, batch_size=batch_size)\n",
    "plot_lr_vs_loss(rates, losses)"
   ]
  },
  {
   "cell_type": "code",
   "execution_count": 29,
   "id": "inside-default",
   "metadata": {},
   "outputs": [],
   "source": [
    " class OneCycleScheduler(keras.callbacks.Callback):\n",
    "        def __init__(self, iterations, max_rate, start_rate=None, \n",
    "                     last_iterations=None, last_rate=None):\n",
    "            self.iterations = iterations\n",
    "            self.max_rate = max_rate\n",
    "            self.start_rate = start_rate or max_rate / 10\n",
    "            self.last_iterations = last_iterations or iterations // 10 + 1\n",
    "            self.half_iteration = (iterations - self.last_iterations) // 2\n",
    "            self.last_rate = last_rate or self.start_rate / 1000\n",
    "            self.iteration = 0\n",
    "            \n",
    "        def _interpolate(self, iter1, iter2, rate1, rate2):\n",
    "            return ((rate2 - rate1) * (self.iteration - iter1) \n",
    "                    / (iter2 - iter1) + rate1)\n",
    "        \n",
    "        def on_batch_begin(self, batch, logs):\n",
    "            if self.iteration < self.half_iteration:\n",
    "                rate = self._interpolate(0, self.half_iteration, \n",
    "                                         self.start_rate, self.max_rate)\n",
    "            elif self.iteration < 2 * self.half_iteration:\n",
    "                rate = self._interpolate(self.half_iteration, 2 * self.half_iteration, \n",
    "                                         self.max_rate, self.start_rate)\n",
    "            else:\n",
    "                rate = self._interpolate(2 * self.half_iteration, self.iterations, \n",
    "                                         self.start_rate, self.last_rate)\n",
    "            self.iteration += 1\n",
    "            K.set_value(self.model.optimizer.lr, rate)"
   ]
  },
  {
   "cell_type": "code",
   "execution_count": 30,
   "id": "minor-parcel",
   "metadata": {},
   "outputs": [
    {
     "name": "stdout",
     "output_type": "stream",
     "text": [
      "Epoch 1/25\n",
      "430/430 [==============================] - 1s 2ms/step - loss: 0.6572 - acc: 0.7740 - val_loss: 0.4872 - val_acc: 0.8336\n",
      "Epoch 2/25\n",
      "430/430 [==============================] - 1s 2ms/step - loss: 0.4581 - acc: 0.8395 - val_loss: 0.4275 - val_acc: 0.8522\n",
      "Epoch 3/25\n",
      "430/430 [==============================] - 1s 2ms/step - loss: 0.4122 - acc: 0.8547 - val_loss: 0.4115 - val_acc: 0.8582\n",
      "Epoch 4/25\n",
      "430/430 [==============================] - 1s 2ms/step - loss: 0.3837 - acc: 0.8641 - val_loss: 0.3868 - val_acc: 0.8682\n",
      "Epoch 5/25\n",
      "430/430 [==============================] - 1s 2ms/step - loss: 0.3639 - acc: 0.8718 - val_loss: 0.3766 - val_acc: 0.8688\n",
      "Epoch 6/25\n",
      "430/430 [==============================] - 1s 2ms/step - loss: 0.3457 - acc: 0.8771 - val_loss: 0.3742 - val_acc: 0.8710\n",
      "Epoch 7/25\n",
      "430/430 [==============================] - 1s 2ms/step - loss: 0.3330 - acc: 0.8809 - val_loss: 0.3636 - val_acc: 0.8714\n",
      "Epoch 8/25\n",
      "430/430 [==============================] - 1s 2ms/step - loss: 0.3184 - acc: 0.8862 - val_loss: 0.3950 - val_acc: 0.8608\n",
      "Epoch 9/25\n",
      "430/430 [==============================] - 1s 2ms/step - loss: 0.3066 - acc: 0.8895 - val_loss: 0.3488 - val_acc: 0.8760\n",
      "Epoch 10/25\n",
      "430/430 [==============================] - 1s 2ms/step - loss: 0.2945 - acc: 0.8927 - val_loss: 0.3404 - val_acc: 0.8786\n",
      "Epoch 11/25\n",
      "430/430 [==============================] - 1s 2ms/step - loss: 0.2839 - acc: 0.8961 - val_loss: 0.3450 - val_acc: 0.8822\n",
      "Epoch 12/25\n",
      "430/430 [==============================] - 1s 2ms/step - loss: 0.2709 - acc: 0.9025 - val_loss: 0.3646 - val_acc: 0.8690\n",
      "Epoch 13/25\n",
      "430/430 [==============================] - 1s 2ms/step - loss: 0.2538 - acc: 0.9082 - val_loss: 0.3350 - val_acc: 0.8834\n",
      "Epoch 14/25\n",
      "430/430 [==============================] - 1s 2ms/step - loss: 0.2406 - acc: 0.9134 - val_loss: 0.3463 - val_acc: 0.8802\n",
      "Epoch 15/25\n",
      "430/430 [==============================] - 1s 2ms/step - loss: 0.2280 - acc: 0.9183 - val_loss: 0.3268 - val_acc: 0.8846\n",
      "Epoch 16/25\n",
      "430/430 [==============================] - 1s 2ms/step - loss: 0.2160 - acc: 0.9235 - val_loss: 0.3292 - val_acc: 0.8830\n",
      "Epoch 17/25\n",
      "430/430 [==============================] - 1s 2ms/step - loss: 0.2062 - acc: 0.9266 - val_loss: 0.3348 - val_acc: 0.8874\n",
      "Epoch 18/25\n",
      "430/430 [==============================] - 1s 2ms/step - loss: 0.1978 - acc: 0.9303 - val_loss: 0.3246 - val_acc: 0.8902\n",
      "Epoch 19/25\n",
      "430/430 [==============================] - 1s 2ms/step - loss: 0.1893 - acc: 0.9339 - val_loss: 0.3234 - val_acc: 0.8904\n",
      "Epoch 20/25\n",
      "430/430 [==============================] - 1s 2ms/step - loss: 0.1821 - acc: 0.9367 - val_loss: 0.3225 - val_acc: 0.8918\n",
      "Epoch 21/25\n",
      "430/430 [==============================] - 1s 2ms/step - loss: 0.1753 - acc: 0.9401 - val_loss: 0.3221 - val_acc: 0.8912\n",
      "Epoch 22/25\n",
      "430/430 [==============================] - 1s 2ms/step - loss: 0.1700 - acc: 0.9419 - val_loss: 0.3185 - val_acc: 0.8946\n",
      "Epoch 23/25\n",
      "430/430 [==============================] - 1s 2ms/step - loss: 0.1655 - acc: 0.9439 - val_loss: 0.3189 - val_acc: 0.8942\n",
      "Epoch 24/25\n",
      "430/430 [==============================] - 1s 2ms/step - loss: 0.1626 - acc: 0.9454 - val_loss: 0.3179 - val_acc: 0.8936\n",
      "Epoch 25/25\n",
      "430/430 [==============================] - 1s 2ms/step - loss: 0.1609 - acc: 0.9463 - val_loss: 0.3172 - val_acc: 0.8934\n"
     ]
    }
   ],
   "source": [
    "n_epochs = 25\n",
    "onecycle = OneCycleScheduler(math.ceil(len(x_train) / batch_size) * n_epochs, max_rate=0.05)\n",
    "history = model.fit(x_train_scaled, y_train, epochs=n_epochs, batch_size=batch_size, \n",
    "                    validation_data=(x_valid_scaled, y_valid), callbacks=[onecycle])"
   ]
  },
  {
   "cell_type": "code",
   "execution_count": null,
   "id": "hourly-integrity",
   "metadata": {},
   "outputs": [],
   "source": []
  }
 ],
 "metadata": {
  "kernelspec": {
   "display_name": "Python 3",
   "language": "python",
   "name": "python3"
  },
  "language_info": {
   "codemirror_mode": {
    "name": "ipython",
    "version": 3
   },
   "file_extension": ".py",
   "mimetype": "text/x-python",
   "name": "python",
   "nbconvert_exporter": "python",
   "pygments_lexer": "ipython3",
   "version": "3.7.9"
  }
 },
 "nbformat": 4,
 "nbformat_minor": 5
}
