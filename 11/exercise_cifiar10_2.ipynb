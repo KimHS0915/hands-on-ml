{
 "cells": [
  {
   "cell_type": "code",
   "execution_count": 1,
   "id": "seasonal-charles",
   "metadata": {},
   "outputs": [],
   "source": [
    "import numpy as np\n",
    "import matplotlib.pyplot as plt\n",
    "import pandas as pd\n",
    "import tensorflow as tf\n",
    "from tensorflow import keras"
   ]
  },
  {
   "cell_type": "code",
   "execution_count": 2,
   "id": "mobile-concern",
   "metadata": {},
   "outputs": [],
   "source": [
    "(x_train_full, y_train_full), (x_test, y_test) = keras.datasets.cifar10.load_data()\n",
    "\n",
    "def split_train_valid(data, split_number=5000):\n",
    "    return data[split_number:], data[:split_number]\n",
    "\n",
    "x_train, x_valid = split_train_valid(x_train_full)\n",
    "y_train, y_valid = split_train_valid(y_train_full)"
   ]
  },
  {
   "cell_type": "markdown",
   "id": "split-tattoo",
   "metadata": {},
   "source": [
    "Exercise 8c."
   ]
  },
  {
   "cell_type": "code",
   "execution_count": 3,
   "id": "virgin-dance",
   "metadata": {},
   "outputs": [],
   "source": [
    "n_epochs = 100\n",
    "loss = 'sparse_categorical_crossentropy'\n",
    "lr = 5e-5"
   ]
  },
  {
   "cell_type": "code",
   "execution_count": 4,
   "id": "welsh-thriller",
   "metadata": {},
   "outputs": [],
   "source": [
    "def make_model():\n",
    "    model = keras.models.Sequential()\n",
    "    model.add(keras.layers.Flatten(input_shape=[32, 32, 3]))\n",
    "    model.add(keras.layers.BatchNormalization())\n",
    "    for i in range(20):\n",
    "        model.add(keras.layers.Dense(100, activation='elu', \n",
    "                                     kernel_initializer='he_normal'))\n",
    "        model.add(keras.layers.BatchNormalization())\n",
    "    model.add(keras.layers.Dense(10, activation='softmax'))\n",
    "    return model"
   ]
  },
  {
   "cell_type": "code",
   "execution_count": 5,
   "id": "spectacular-letter",
   "metadata": {},
   "outputs": [
    {
     "name": "stdout",
     "output_type": "stream",
     "text": [
      "Epoch 1/100\n",
      "1407/1407 [==============================] - 19s 10ms/step - loss: 2.2608 - acc: 0.2118 - val_loss: 1.9544 - val_acc: 0.3026\n",
      "Epoch 2/100\n",
      "1407/1407 [==============================] - 13s 9ms/step - loss: 1.9277 - acc: 0.3089 - val_loss: 1.7927 - val_acc: 0.3558\n",
      "Epoch 3/100\n",
      "1407/1407 [==============================] - 14s 10ms/step - loss: 1.8216 - acc: 0.3468 - val_loss: 1.7100 - val_acc: 0.3896\n",
      "Epoch 4/100\n",
      "1407/1407 [==============================] - 13s 9ms/step - loss: 1.7556 - acc: 0.3729 - val_loss: 1.6593 - val_acc: 0.4020\n",
      "Epoch 5/100\n",
      "1407/1407 [==============================] - 13s 9ms/step - loss: 1.7016 - acc: 0.3903 - val_loss: 1.6045 - val_acc: 0.4196\n",
      "Epoch 6/100\n",
      "1407/1407 [==============================] - 13s 9ms/step - loss: 1.6601 - acc: 0.4057 - val_loss: 1.5763 - val_acc: 0.4354\n",
      "Epoch 7/100\n",
      "1407/1407 [==============================] - 14s 10ms/step - loss: 1.6267 - acc: 0.4204 - val_loss: 1.5469 - val_acc: 0.4470\n",
      "Epoch 8/100\n",
      "1407/1407 [==============================] - 14s 10ms/step - loss: 1.6005 - acc: 0.4293 - val_loss: 1.5283 - val_acc: 0.4652\n",
      "Epoch 9/100\n",
      "1407/1407 [==============================] - 14s 10ms/step - loss: 1.5710 - acc: 0.4414 - val_loss: 1.4990 - val_acc: 0.4744\n",
      "Epoch 10/100\n",
      "1407/1407 [==============================] - 14s 10ms/step - loss: 1.5449 - acc: 0.4490 - val_loss: 1.4964 - val_acc: 0.4724\n",
      "Epoch 11/100\n",
      "1407/1407 [==============================] - 14s 10ms/step - loss: 1.5189 - acc: 0.4605 - val_loss: 1.4719 - val_acc: 0.4776\n",
      "Epoch 12/100\n",
      "1407/1407 [==============================] - 14s 10ms/step - loss: 1.4970 - acc: 0.4711 - val_loss: 1.4625 - val_acc: 0.4800\n",
      "Epoch 13/100\n",
      "1407/1407 [==============================] - 14s 10ms/step - loss: 1.4817 - acc: 0.4751 - val_loss: 1.4519 - val_acc: 0.4822\n",
      "Epoch 14/100\n",
      "1407/1407 [==============================] - 14s 10ms/step - loss: 1.4591 - acc: 0.4815 - val_loss: 1.4325 - val_acc: 0.4968\n",
      "Epoch 15/100\n",
      "1407/1407 [==============================] - 14s 10ms/step - loss: 1.4533 - acc: 0.4836 - val_loss: 1.4214 - val_acc: 0.4962\n",
      "Epoch 16/100\n",
      "1407/1407 [==============================] - 14s 10ms/step - loss: 1.4293 - acc: 0.4910 - val_loss: 1.4201 - val_acc: 0.4918\n",
      "Epoch 17/100\n",
      "1407/1407 [==============================] - 14s 10ms/step - loss: 1.4145 - acc: 0.4995 - val_loss: 1.4194 - val_acc: 0.4962\n",
      "Epoch 18/100\n",
      "1407/1407 [==============================] - 14s 10ms/step - loss: 1.4015 - acc: 0.5020 - val_loss: 1.4110 - val_acc: 0.5026\n",
      "Epoch 19/100\n",
      "1407/1407 [==============================] - 14s 10ms/step - loss: 1.3850 - acc: 0.5079 - val_loss: 1.3986 - val_acc: 0.5034\n",
      "Epoch 20/100\n",
      "1407/1407 [==============================] - 14s 10ms/step - loss: 1.3768 - acc: 0.5128 - val_loss: 1.4081 - val_acc: 0.5002\n",
      "Epoch 21/100\n",
      "1407/1407 [==============================] - 13s 10ms/step - loss: 1.3595 - acc: 0.5181 - val_loss: 1.3972 - val_acc: 0.5022\n",
      "Epoch 22/100\n",
      "1407/1407 [==============================] - 13s 10ms/step - loss: 1.3459 - acc: 0.5208 - val_loss: 1.4018 - val_acc: 0.5010\n",
      "Epoch 23/100\n",
      "1407/1407 [==============================] - 13s 10ms/step - loss: 1.3374 - acc: 0.5254 - val_loss: 1.4009 - val_acc: 0.5068\n",
      "Epoch 24/100\n",
      "1407/1407 [==============================] - 13s 9ms/step - loss: 1.3253 - acc: 0.5289 - val_loss: 1.3834 - val_acc: 0.5112\n",
      "Epoch 25/100\n",
      "1407/1407 [==============================] - 13s 10ms/step - loss: 1.3170 - acc: 0.5323 - val_loss: 1.3886 - val_acc: 0.5086\n",
      "Epoch 26/100\n",
      "1407/1407 [==============================] - 14s 10ms/step - loss: 1.3051 - acc: 0.5372 - val_loss: 1.3885 - val_acc: 0.5150\n",
      "Epoch 27/100\n",
      "1407/1407 [==============================] - 14s 10ms/step - loss: 1.2936 - acc: 0.5411 - val_loss: 1.3807 - val_acc: 0.5220\n",
      "Epoch 28/100\n",
      "1407/1407 [==============================] - 14s 10ms/step - loss: 1.2836 - acc: 0.5439 - val_loss: 1.3700 - val_acc: 0.5234\n",
      "Epoch 29/100\n",
      "1407/1407 [==============================] - 14s 10ms/step - loss: 1.2751 - acc: 0.5470 - val_loss: 1.3784 - val_acc: 0.5220\n",
      "Epoch 30/100\n",
      "1407/1407 [==============================] - 14s 10ms/step - loss: 1.2662 - acc: 0.5501 - val_loss: 1.3896 - val_acc: 0.5138\n",
      "Epoch 31/100\n",
      "1407/1407 [==============================] - 13s 10ms/step - loss: 1.2582 - acc: 0.5548 - val_loss: 1.3865 - val_acc: 0.5202\n",
      "Epoch 32/100\n",
      "1407/1407 [==============================] - 14s 10ms/step - loss: 1.2538 - acc: 0.5530 - val_loss: 1.3698 - val_acc: 0.5172\n",
      "Epoch 33/100\n",
      "1407/1407 [==============================] - 14s 10ms/step - loss: 1.2405 - acc: 0.5602 - val_loss: 1.3644 - val_acc: 0.5206\n",
      "Epoch 34/100\n",
      "1407/1407 [==============================] - 15s 10ms/step - loss: 1.2343 - acc: 0.5628 - val_loss: 1.3754 - val_acc: 0.5210\n",
      "Epoch 35/100\n",
      "1407/1407 [==============================] - 14s 10ms/step - loss: 1.2296 - acc: 0.5643 - val_loss: 1.3722 - val_acc: 0.5180\n",
      "Epoch 36/100\n",
      "1407/1407 [==============================] - 14s 10ms/step - loss: 1.2169 - acc: 0.5676 - val_loss: 1.3698 - val_acc: 0.5142\n",
      "Epoch 37/100\n",
      "1407/1407 [==============================] - 14s 10ms/step - loss: 1.2090 - acc: 0.5725 - val_loss: 1.3637 - val_acc: 0.5208\n",
      "Epoch 38/100\n",
      "1407/1407 [==============================] - 14s 10ms/step - loss: 1.2029 - acc: 0.5730 - val_loss: 1.3744 - val_acc: 0.5224\n",
      "Epoch 39/100\n",
      "1407/1407 [==============================] - 14s 10ms/step - loss: 1.1908 - acc: 0.5760 - val_loss: 1.3797 - val_acc: 0.5182\n",
      "Epoch 40/100\n",
      "1407/1407 [==============================] - 14s 10ms/step - loss: 1.1905 - acc: 0.5781 - val_loss: 1.3750 - val_acc: 0.5104\n",
      "Epoch 41/100\n",
      "1407/1407 [==============================] - 15s 11ms/step - loss: 1.1798 - acc: 0.5820 - val_loss: 1.3696 - val_acc: 0.5212\n",
      "Epoch 42/100\n",
      "1407/1407 [==============================] - 14s 10ms/step - loss: 1.1767 - acc: 0.5823 - val_loss: 1.3748 - val_acc: 0.5180\n",
      "Epoch 43/100\n",
      "1407/1407 [==============================] - 14s 10ms/step - loss: 1.1676 - acc: 0.5857 - val_loss: 1.3779 - val_acc: 0.5186\n",
      "Epoch 44/100\n",
      "1407/1407 [==============================] - 14s 10ms/step - loss: 1.1622 - acc: 0.5896 - val_loss: 1.3717 - val_acc: 0.5214\n",
      "Epoch 45/100\n",
      "1407/1407 [==============================] - 14s 10ms/step - loss: 1.1512 - acc: 0.5921 - val_loss: 1.3753 - val_acc: 0.5214\n",
      "Epoch 46/100\n",
      "1407/1407 [==============================] - 14s 10ms/step - loss: 1.1486 - acc: 0.5913 - val_loss: 1.3940 - val_acc: 0.5180\n",
      "Epoch 47/100\n",
      "1407/1407 [==============================] - 14s 10ms/step - loss: 1.1453 - acc: 0.5928 - val_loss: 1.3686 - val_acc: 0.5270\n",
      "Epoch 48/100\n",
      "1407/1407 [==============================] - 14s 10ms/step - loss: 1.1306 - acc: 0.5994 - val_loss: 1.3846 - val_acc: 0.5228\n",
      "Epoch 49/100\n",
      "1407/1407 [==============================] - 14s 10ms/step - loss: 1.1314 - acc: 0.5998 - val_loss: 1.3869 - val_acc: 0.5158\n",
      "Epoch 50/100\n",
      "1407/1407 [==============================] - 14s 10ms/step - loss: 1.1226 - acc: 0.6041 - val_loss: 1.3832 - val_acc: 0.5246\n",
      "Epoch 51/100\n",
      "1407/1407 [==============================] - 14s 10ms/step - loss: 1.1176 - acc: 0.6049 - val_loss: 1.3794 - val_acc: 0.5248\n",
      "Epoch 52/100\n",
      "1407/1407 [==============================] - 14s 10ms/step - loss: 1.1114 - acc: 0.6081 - val_loss: 1.3810 - val_acc: 0.5262\n",
      "Epoch 53/100\n",
      "1407/1407 [==============================] - 14s 10ms/step - loss: 1.1024 - acc: 0.6086 - val_loss: 1.3785 - val_acc: 0.5260\n",
      "Epoch 54/100\n",
      "1407/1407 [==============================] - 13s 10ms/step - loss: 1.1037 - acc: 0.6107 - val_loss: 1.3700 - val_acc: 0.5274\n",
      "Epoch 55/100\n",
      "1407/1407 [==============================] - 14s 10ms/step - loss: 1.0897 - acc: 0.6153 - val_loss: 1.3903 - val_acc: 0.5252\n",
      "Epoch 56/100\n",
      "1407/1407 [==============================] - 13s 10ms/step - loss: 1.0894 - acc: 0.6131 - val_loss: 1.3916 - val_acc: 0.5200\n",
      "Epoch 57/100\n",
      "1407/1407 [==============================] - 13s 9ms/step - loss: 1.0834 - acc: 0.6154 - val_loss: 1.3944 - val_acc: 0.5200\n",
      "Epoch 58/100\n",
      "1407/1407 [==============================] - 13s 10ms/step - loss: 1.0804 - acc: 0.6195 - val_loss: 1.3837 - val_acc: 0.5264\n",
      "Epoch 59/100\n",
      "1407/1407 [==============================] - 14s 10ms/step - loss: 1.0738 - acc: 0.6195 - val_loss: 1.3792 - val_acc: 0.5286\n",
      "Epoch 60/100\n"
     ]
    },
    {
     "name": "stdout",
     "output_type": "stream",
     "text": [
      "1407/1407 [==============================] - 13s 10ms/step - loss: 1.0761 - acc: 0.6172 - val_loss: 1.3991 - val_acc: 0.5180\n",
      "Epoch 61/100\n",
      "1407/1407 [==============================] - 13s 10ms/step - loss: 1.0603 - acc: 0.6265 - val_loss: 1.3866 - val_acc: 0.5224\n",
      "Epoch 62/100\n",
      "1407/1407 [==============================] - 13s 10ms/step - loss: 1.0582 - acc: 0.6263 - val_loss: 1.4047 - val_acc: 0.5194\n"
     ]
    },
    {
     "data": {
      "text/plain": [
       "<tensorflow.python.keras.callbacks.History at 0x2569da73b48>"
      ]
     },
     "execution_count": 5,
     "metadata": {},
     "output_type": "execute_result"
    }
   ],
   "source": [
    "early_stopping_cb = keras.callbacks.EarlyStopping(patience=25)\n",
    "optimizer = keras.optimizers.Nadam(learning_rate=lr)\n",
    "model_checkpoint_cb = keras.callbacks.ModelCheckpoint('cifar10_model_a.h5', save_best_only=True)\n",
    "callbacks = [early_stopping_cb, model_checkpoint_cb]\n",
    "\n",
    "model = make_model()\n",
    "model.compile(loss=loss, optimizer=optimizer, metrics=['acc'])\n",
    "model.fit(x_train, y_train, \n",
    "          epochs=n_epochs, \n",
    "          validation_data=(x_valid, y_valid), \n",
    "          callbacks=callbacks)"
   ]
  },
  {
   "cell_type": "code",
   "execution_count": 6,
   "id": "weekly-upgrade",
   "metadata": {},
   "outputs": [],
   "source": [
    "def make_model():\n",
    "    model = keras.models.Sequential()\n",
    "    model.add(keras.layers.Flatten(input_shape=[32, 32, 3]))\n",
    "    model.add(keras.layers.BatchNormalization())\n",
    "    for i in range(20):\n",
    "        model.add(keras.layers.Dense(100, \n",
    "                                     kernel_initializer='he_normal',\n",
    "                                     use_bias=False))\n",
    "        model.add(keras.layers.BatchNormalization())\n",
    "        model.add(keras.layers.Activation('elu'))\n",
    "    model.add(keras.layers.Dense(10, activation='softmax'))\n",
    "    return model"
   ]
  },
  {
   "cell_type": "code",
   "execution_count": 7,
   "id": "colored-float",
   "metadata": {},
   "outputs": [
    {
     "name": "stdout",
     "output_type": "stream",
     "text": [
      "Epoch 1/100\n",
      "1407/1407 [==============================] - 18s 10ms/step - loss: 2.0595 - acc: 0.2654 - val_loss: 1.7732 - val_acc: 0.3602\n",
      "Epoch 2/100\n",
      "1407/1407 [==============================] - 14s 10ms/step - loss: 1.7885 - acc: 0.3578 - val_loss: 1.6577 - val_acc: 0.4048\n",
      "Epoch 3/100\n",
      "1407/1407 [==============================] - 13s 9ms/step - loss: 1.6945 - acc: 0.3958 - val_loss: 1.5840 - val_acc: 0.4310\n",
      "Epoch 4/100\n",
      "1407/1407 [==============================] - 13s 9ms/step - loss: 1.6349 - acc: 0.4183 - val_loss: 1.5408 - val_acc: 0.4456\n",
      "Epoch 5/100\n",
      "1407/1407 [==============================] - 13s 9ms/step - loss: 1.5877 - acc: 0.4374 - val_loss: 1.5193 - val_acc: 0.4540\n",
      "Epoch 6/100\n",
      "1407/1407 [==============================] - 13s 9ms/step - loss: 1.5576 - acc: 0.4478 - val_loss: 1.4886 - val_acc: 0.4642\n",
      "Epoch 7/100\n",
      "1407/1407 [==============================] - 13s 9ms/step - loss: 1.5210 - acc: 0.4604 - val_loss: 1.4693 - val_acc: 0.4768\n",
      "Epoch 8/100\n",
      "1407/1407 [==============================] - 13s 9ms/step - loss: 1.4980 - acc: 0.4693 - val_loss: 1.4621 - val_acc: 0.4788\n",
      "Epoch 9/100\n",
      "1407/1407 [==============================] - 13s 9ms/step - loss: 1.4740 - acc: 0.4803 - val_loss: 1.4450 - val_acc: 0.4856\n",
      "Epoch 10/100\n",
      "1407/1407 [==============================] - 13s 9ms/step - loss: 1.4530 - acc: 0.4857 - val_loss: 1.4396 - val_acc: 0.4920\n",
      "Epoch 11/100\n",
      "1407/1407 [==============================] - 13s 9ms/step - loss: 1.4306 - acc: 0.4934 - val_loss: 1.4237 - val_acc: 0.4996\n",
      "Epoch 12/100\n",
      "1407/1407 [==============================] - 13s 9ms/step - loss: 1.4184 - acc: 0.4961 - val_loss: 1.4226 - val_acc: 0.4922\n",
      "Epoch 13/100\n",
      "1407/1407 [==============================] - 13s 9ms/step - loss: 1.3990 - acc: 0.5027 - val_loss: 1.4095 - val_acc: 0.5038\n",
      "Epoch 14/100\n",
      "1407/1407 [==============================] - 13s 9ms/step - loss: 1.3822 - acc: 0.5094 - val_loss: 1.4020 - val_acc: 0.5004\n",
      "Epoch 15/100\n",
      "1407/1407 [==============================] - 14s 10ms/step - loss: 1.3684 - acc: 0.5132 - val_loss: 1.4006 - val_acc: 0.4976\n",
      "Epoch 16/100\n",
      "1407/1407 [==============================] - 13s 9ms/step - loss: 1.3561 - acc: 0.5202 - val_loss: 1.3991 - val_acc: 0.5040\n",
      "Epoch 17/100\n",
      "1407/1407 [==============================] - 14s 10ms/step - loss: 1.3466 - acc: 0.5253 - val_loss: 1.3761 - val_acc: 0.5108\n",
      "Epoch 18/100\n",
      "1407/1407 [==============================] - 13s 9ms/step - loss: 1.3318 - acc: 0.5297 - val_loss: 1.3824 - val_acc: 0.5138\n",
      "Epoch 19/100\n",
      "1407/1407 [==============================] - 13s 9ms/step - loss: 1.3159 - acc: 0.5342 - val_loss: 1.3748 - val_acc: 0.5194\n",
      "Epoch 20/100\n",
      "1407/1407 [==============================] - 13s 9ms/step - loss: 1.3021 - acc: 0.5389 - val_loss: 1.3706 - val_acc: 0.5160\n",
      "Epoch 21/100\n",
      "1407/1407 [==============================] - 14s 10ms/step - loss: 1.2955 - acc: 0.5428 - val_loss: 1.3667 - val_acc: 0.5142\n",
      "Epoch 22/100\n",
      "1407/1407 [==============================] - 13s 9ms/step - loss: 1.2806 - acc: 0.5472 - val_loss: 1.3810 - val_acc: 0.5184\n",
      "Epoch 23/100\n",
      "1407/1407 [==============================] - 13s 9ms/step - loss: 1.2771 - acc: 0.5468 - val_loss: 1.3662 - val_acc: 0.5112\n",
      "Epoch 24/100\n",
      "1407/1407 [==============================] - 13s 9ms/step - loss: 1.2632 - acc: 0.5519 - val_loss: 1.3742 - val_acc: 0.5148\n",
      "Epoch 25/100\n",
      "1407/1407 [==============================] - 14s 10ms/step - loss: 1.2531 - acc: 0.5566 - val_loss: 1.3674 - val_acc: 0.5206\n",
      "Epoch 26/100\n",
      "1407/1407 [==============================] - 13s 10ms/step - loss: 1.2464 - acc: 0.5576 - val_loss: 1.3710 - val_acc: 0.5156\n",
      "Epoch 27/100\n",
      "1407/1407 [==============================] - 13s 9ms/step - loss: 1.2354 - acc: 0.5603 - val_loss: 1.3779 - val_acc: 0.5154\n",
      "Epoch 28/100\n",
      "1407/1407 [==============================] - 13s 9ms/step - loss: 1.2262 - acc: 0.5654 - val_loss: 1.3702 - val_acc: 0.5202\n",
      "Epoch 29/100\n",
      "1407/1407 [==============================] - 13s 9ms/step - loss: 1.2175 - acc: 0.5703 - val_loss: 1.3608 - val_acc: 0.5226\n",
      "Epoch 30/100\n",
      "1407/1407 [==============================] - 13s 9ms/step - loss: 1.2046 - acc: 0.5735 - val_loss: 1.3673 - val_acc: 0.5208\n",
      "Epoch 31/100\n",
      "1407/1407 [==============================] - 13s 10ms/step - loss: 1.1987 - acc: 0.5738 - val_loss: 1.3744 - val_acc: 0.5186\n",
      "Epoch 32/100\n",
      "1407/1407 [==============================] - 13s 9ms/step - loss: 1.1906 - acc: 0.5755 - val_loss: 1.3673 - val_acc: 0.5224\n",
      "Epoch 33/100\n",
      "1407/1407 [==============================] - 13s 9ms/step - loss: 1.1793 - acc: 0.5831 - val_loss: 1.3752 - val_acc: 0.5176\n",
      "Epoch 34/100\n",
      "1407/1407 [==============================] - 13s 9ms/step - loss: 1.1735 - acc: 0.5815 - val_loss: 1.3667 - val_acc: 0.5196\n",
      "Epoch 35/100\n",
      "1407/1407 [==============================] - 13s 10ms/step - loss: 1.1696 - acc: 0.5826 - val_loss: 1.3587 - val_acc: 0.5226\n",
      "Epoch 36/100\n",
      "1407/1407 [==============================] - 13s 9ms/step - loss: 1.1611 - acc: 0.5868 - val_loss: 1.3719 - val_acc: 0.5188\n",
      "Epoch 37/100\n",
      "1407/1407 [==============================] - 13s 9ms/step - loss: 1.1519 - acc: 0.5916 - val_loss: 1.3600 - val_acc: 0.5196\n",
      "Epoch 38/100\n",
      "1407/1407 [==============================] - 13s 9ms/step - loss: 1.1504 - acc: 0.5899 - val_loss: 1.3582 - val_acc: 0.5254\n",
      "Epoch 39/100\n",
      "1407/1407 [==============================] - 13s 9ms/step - loss: 1.1367 - acc: 0.5958 - val_loss: 1.3673 - val_acc: 0.5248\n",
      "Epoch 40/100\n",
      "1407/1407 [==============================] - 14s 10ms/step - loss: 1.1368 - acc: 0.5961 - val_loss: 1.3464 - val_acc: 0.5338\n",
      "Epoch 41/100\n",
      "1407/1407 [==============================] - 14s 10ms/step - loss: 1.1273 - acc: 0.5990 - val_loss: 1.3620 - val_acc: 0.5278\n",
      "Epoch 42/100\n",
      "1407/1407 [==============================] - 14s 10ms/step - loss: 1.1212 - acc: 0.6026 - val_loss: 1.3694 - val_acc: 0.5288\n",
      "Epoch 43/100\n",
      "1407/1407 [==============================] - 13s 10ms/step - loss: 1.1231 - acc: 0.5996 - val_loss: 1.3606 - val_acc: 0.5330\n",
      "Epoch 44/100\n",
      "1407/1407 [==============================] - 13s 9ms/step - loss: 1.1105 - acc: 0.6053 - val_loss: 1.3607 - val_acc: 0.5258\n",
      "Epoch 45/100\n",
      "1407/1407 [==============================] - 13s 9ms/step - loss: 1.1027 - acc: 0.6068 - val_loss: 1.3694 - val_acc: 0.5254\n",
      "Epoch 46/100\n",
      "1407/1407 [==============================] - 13s 9ms/step - loss: 1.1000 - acc: 0.6087 - val_loss: 1.3680 - val_acc: 0.5294\n",
      "Epoch 47/100\n",
      "1407/1407 [==============================] - 13s 9ms/step - loss: 1.0910 - acc: 0.6107 - val_loss: 1.3668 - val_acc: 0.5262\n",
      "Epoch 48/100\n",
      "1407/1407 [==============================] - 14s 10ms/step - loss: 1.0884 - acc: 0.6150 - val_loss: 1.3774 - val_acc: 0.5276\n",
      "Epoch 49/100\n",
      "1407/1407 [==============================] - 13s 9ms/step - loss: 1.0827 - acc: 0.6154 - val_loss: 1.3678 - val_acc: 0.5222\n",
      "Epoch 50/100\n",
      "1407/1407 [==============================] - 14s 10ms/step - loss: 1.0729 - acc: 0.6202 - val_loss: 1.3622 - val_acc: 0.5348\n",
      "Epoch 51/100\n",
      "1407/1407 [==============================] - 13s 9ms/step - loss: 1.0756 - acc: 0.6161 - val_loss: 1.3720 - val_acc: 0.5266\n",
      "Epoch 52/100\n",
      "1407/1407 [==============================] - 13s 10ms/step - loss: 1.0623 - acc: 0.6195 - val_loss: 1.3960 - val_acc: 0.5234\n",
      "Epoch 53/100\n",
      "1407/1407 [==============================] - 13s 9ms/step - loss: 1.0540 - acc: 0.6245 - val_loss: 1.3832 - val_acc: 0.5264\n",
      "Epoch 54/100\n",
      "1407/1407 [==============================] - 13s 9ms/step - loss: 1.0541 - acc: 0.6262 - val_loss: 1.3801 - val_acc: 0.5286\n",
      "Epoch 55/100\n",
      "1407/1407 [==============================] - 13s 9ms/step - loss: 1.0453 - acc: 0.6281 - val_loss: 1.3767 - val_acc: 0.5298\n",
      "Epoch 56/100\n",
      "1407/1407 [==============================] - 13s 9ms/step - loss: 1.0456 - acc: 0.6278 - val_loss: 1.4057 - val_acc: 0.5214\n",
      "Epoch 57/100\n",
      "1407/1407 [==============================] - 13s 9ms/step - loss: 1.0375 - acc: 0.6322 - val_loss: 1.3921 - val_acc: 0.5280\n",
      "Epoch 58/100\n",
      "1407/1407 [==============================] - 13s 9ms/step - loss: 1.0313 - acc: 0.6348 - val_loss: 1.3858 - val_acc: 0.5298\n",
      "Epoch 59/100\n",
      "1407/1407 [==============================] - 13s 9ms/step - loss: 1.0323 - acc: 0.6303 - val_loss: 1.3865 - val_acc: 0.5232\n",
      "Epoch 60/100\n",
      "1407/1407 [==============================] - 13s 9ms/step - loss: 1.0231 - acc: 0.6362 - val_loss: 1.3778 - val_acc: 0.5238\n"
     ]
    },
    {
     "name": "stdout",
     "output_type": "stream",
     "text": [
      "Epoch 61/100\n",
      "1407/1407 [==============================] - 13s 9ms/step - loss: 1.0219 - acc: 0.6360 - val_loss: 1.3989 - val_acc: 0.5178\n",
      "Epoch 62/100\n",
      "1407/1407 [==============================] - 13s 9ms/step - loss: 1.0074 - acc: 0.6400 - val_loss: 1.4070 - val_acc: 0.5240\n",
      "Epoch 63/100\n",
      "1407/1407 [==============================] - 13s 9ms/step - loss: 1.0111 - acc: 0.6430 - val_loss: 1.4154 - val_acc: 0.5120\n",
      "Epoch 64/100\n",
      "1407/1407 [==============================] - 13s 9ms/step - loss: 1.0075 - acc: 0.6412 - val_loss: 1.4009 - val_acc: 0.5204\n",
      "Epoch 65/100\n",
      "1407/1407 [==============================] - 14s 10ms/step - loss: 1.0026 - acc: 0.6424 - val_loss: 1.3991 - val_acc: 0.5278\n"
     ]
    },
    {
     "data": {
      "text/plain": [
       "<tensorflow.python.keras.callbacks.History at 0x256ae75a0c8>"
      ]
     },
     "execution_count": 7,
     "metadata": {},
     "output_type": "execute_result"
    }
   ],
   "source": [
    "early_stopping_cb = keras.callbacks.EarlyStopping(patience=25)\n",
    "optimizer = keras.optimizers.Nadam(learning_rate=lr)\n",
    "model_checkpoint_cb = keras.callbacks.ModelCheckpoint('cifar10_model_b.h5', save_best_only=True)\n",
    "callbacks = [early_stopping_cb, model_checkpoint_cb]\n",
    "\n",
    "model = make_model()\n",
    "model.compile(loss=loss, optimizer=optimizer, metrics=['acc'])\n",
    "model.fit(x_train, y_train, \n",
    "          epochs=n_epochs, \n",
    "          validation_data=(x_valid, y_valid), \n",
    "          callbacks=callbacks)"
   ]
  },
  {
   "cell_type": "code",
   "execution_count": 8,
   "id": "guilty-knife",
   "metadata": {},
   "outputs": [
    {
     "name": "stdout",
     "output_type": "stream",
     "text": [
      "157/157 [==============================] - 1s 2ms/step - loss: 1.3637 - acc: 0.5208\n"
     ]
    },
    {
     "data": {
      "text/plain": [
       "[1.3636817932128906, 0.520799994468689]"
      ]
     },
     "execution_count": 8,
     "metadata": {},
     "output_type": "execute_result"
    }
   ],
   "source": [
    "model = keras.models.load_model('cifar10_model_a.h5')\n",
    "model.evaluate(x_valid, y_valid)"
   ]
  },
  {
   "cell_type": "code",
   "execution_count": 9,
   "id": "fixed-broadway",
   "metadata": {},
   "outputs": [
    {
     "name": "stdout",
     "output_type": "stream",
     "text": [
      "157/157 [==============================] - 1s 2ms/step - loss: 1.3464 - acc: 0.5338\n"
     ]
    },
    {
     "data": {
      "text/plain": [
       "[1.346433401107788, 0.5338000059127808]"
      ]
     },
     "execution_count": 9,
     "metadata": {},
     "output_type": "execute_result"
    }
   ],
   "source": [
    "model = keras.models.load_model('cifar10_model_b.h5')\n",
    "model.evaluate(x_valid, y_valid)"
   ]
  },
  {
   "cell_type": "code",
   "execution_count": null,
   "id": "placed-transsexual",
   "metadata": {},
   "outputs": [],
   "source": []
  }
 ],
 "metadata": {
  "kernelspec": {
   "display_name": "Python 3",
   "language": "python",
   "name": "python3"
  },
  "language_info": {
   "codemirror_mode": {
    "name": "ipython",
    "version": 3
   },
   "file_extension": ".py",
   "mimetype": "text/x-python",
   "name": "python",
   "nbconvert_exporter": "python",
   "pygments_lexer": "ipython3",
   "version": "3.7.9"
  }
 },
 "nbformat": 4,
 "nbformat_minor": 5
}
