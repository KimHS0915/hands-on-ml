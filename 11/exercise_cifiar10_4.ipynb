{
 "cells": [
  {
   "cell_type": "code",
   "execution_count": 1,
   "id": "received-rider",
   "metadata": {},
   "outputs": [],
   "source": [
    "import numpy as np\n",
    "import matplotlib.pyplot as plt\n",
    "import pandas as pd\n",
    "import tensorflow as tf\n",
    "from tensorflow import keras"
   ]
  },
  {
   "cell_type": "markdown",
   "id": "opened-lyric",
   "metadata": {},
   "source": [
    "Exercise 8d."
   ]
  },
  {
   "cell_type": "code",
   "execution_count": 2,
   "id": "matched-property",
   "metadata": {},
   "outputs": [],
   "source": [
    "(x_train_full, y_train_full), (x_test, y_test) = keras.datasets.cifar10.load_data()\n",
    "\n",
    "def split_train_valid(data, split_number=5000):\n",
    "    return data[split_number:], data[:split_number]\n",
    "\n",
    "x_train, x_valid = split_train_valid(x_train_full)\n",
    "y_train, y_valid = split_train_valid(y_train_full)\n",
    "\n",
    "x_means = x_train.mean(axis=0)\n",
    "x_stds = x_train.std(axis=0)\n",
    "x_train_scaled = (x_train - x_means) / x_stds\n",
    "x_valid_scaled = (x_valid - x_means) / x_stds\n",
    "x_test_scaled = (x_test - x_means) / x_stds"
   ]
  },
  {
   "cell_type": "code",
   "execution_count": 3,
   "id": "retained-region",
   "metadata": {},
   "outputs": [],
   "source": [
    "model = keras.models.Sequential()\n",
    "model.add(keras.layers.Flatten(input_shape=[32, 32, 3]))\n",
    "\n",
    "for i in range(20):\n",
    "    model.add(keras.layers.Dense(100, \n",
    "                                 activation='selu', \n",
    "                                 kernel_initializer='lecun_normal'))\n",
    "\n",
    "model.add(keras.layers.Dense(10, activation='softmax'))"
   ]
  },
  {
   "cell_type": "code",
   "execution_count": 4,
   "id": "compound-transparency",
   "metadata": {},
   "outputs": [],
   "source": [
    "loss = 'sparse_categorical_crossentropy'\n",
    "optimizer = keras.optimizers.Nadam(learning_rate=1e-4)\n",
    "n_epochs = 100\n",
    "early_stopping_cb = keras.callbacks.EarlyStopping(patience=25)\n",
    "model_checkpoint_cb = keras.callbacks.ModelCheckpoint('selu_cifar10_model.h5')\n",
    "callbacks = [early_stopping_cb, model_checkpoint_cb]"
   ]
  },
  {
   "cell_type": "code",
   "execution_count": 5,
   "id": "legal-parade",
   "metadata": {},
   "outputs": [
    {
     "name": "stdout",
     "output_type": "stream",
     "text": [
      "Epoch 1/100\n",
      "1407/1407 [==============================] - 10s 6ms/step - loss: 1.8152 - acc: 0.3516 - val_loss: 1.7017 - val_acc: 0.3866\n",
      "Epoch 2/100\n",
      "1407/1407 [==============================] - 8s 6ms/step - loss: 1.6069 - acc: 0.4264 - val_loss: 1.5933 - val_acc: 0.4306\n",
      "Epoch 3/100\n",
      "1407/1407 [==============================] - 8s 6ms/step - loss: 1.5082 - acc: 0.4613 - val_loss: 1.5335 - val_acc: 0.4532\n",
      "Epoch 4/100\n",
      "1407/1407 [==============================] - 8s 6ms/step - loss: 1.4314 - acc: 0.4939 - val_loss: 1.4943 - val_acc: 0.4762\n",
      "Epoch 5/100\n",
      "1407/1407 [==============================] - 8s 6ms/step - loss: 1.3723 - acc: 0.5154 - val_loss: 1.4831 - val_acc: 0.4804\n",
      "Epoch 6/100\n",
      "1407/1407 [==============================] - 8s 6ms/step - loss: 1.3182 - acc: 0.5335 - val_loss: 1.4748 - val_acc: 0.4894\n",
      "Epoch 7/100\n",
      "1407/1407 [==============================] - 8s 6ms/step - loss: 1.2712 - acc: 0.5525 - val_loss: 1.4758 - val_acc: 0.4862\n",
      "Epoch 8/100\n",
      "1407/1407 [==============================] - 8s 6ms/step - loss: 1.2270 - acc: 0.5655 - val_loss: 1.4636 - val_acc: 0.4968\n",
      "Epoch 9/100\n",
      "1407/1407 [==============================] - 8s 6ms/step - loss: 1.1826 - acc: 0.5814 - val_loss: 1.5049 - val_acc: 0.4900\n",
      "Epoch 10/100\n",
      "1407/1407 [==============================] - 8s 6ms/step - loss: 1.1471 - acc: 0.5947 - val_loss: 1.4794 - val_acc: 0.4954\n",
      "Epoch 11/100\n",
      "1407/1407 [==============================] - 8s 6ms/step - loss: 1.1092 - acc: 0.6076 - val_loss: 1.5141 - val_acc: 0.4896\n",
      "Epoch 12/100\n",
      "1407/1407 [==============================] - 8s 6ms/step - loss: 1.0726 - acc: 0.6190 - val_loss: 1.4979 - val_acc: 0.4932\n",
      "Epoch 13/100\n",
      "1407/1407 [==============================] - 8s 6ms/step - loss: 1.0388 - acc: 0.6322 - val_loss: 1.4890 - val_acc: 0.4934\n",
      "Epoch 14/100\n",
      "1407/1407 [==============================] - 8s 6ms/step - loss: 1.0070 - acc: 0.6448 - val_loss: 1.5599 - val_acc: 0.4896\n",
      "Epoch 15/100\n",
      "1407/1407 [==============================] - 8s 6ms/step - loss: 0.9767 - acc: 0.6536 - val_loss: 1.5550 - val_acc: 0.4884\n",
      "Epoch 16/100\n",
      "1407/1407 [==============================] - 8s 6ms/step - loss: 0.9438 - acc: 0.6654 - val_loss: 1.5470 - val_acc: 0.5006\n",
      "Epoch 17/100\n",
      "1407/1407 [==============================] - 8s 6ms/step - loss: 0.9110 - acc: 0.6774 - val_loss: 1.6017 - val_acc: 0.4904\n",
      "Epoch 18/100\n",
      "1407/1407 [==============================] - 8s 6ms/step - loss: 0.8827 - acc: 0.6859 - val_loss: 1.6272 - val_acc: 0.4944\n",
      "Epoch 19/100\n",
      "1407/1407 [==============================] - 8s 6ms/step - loss: 0.8561 - acc: 0.6966 - val_loss: 1.6392 - val_acc: 0.4928\n",
      "Epoch 20/100\n",
      "1407/1407 [==============================] - 8s 6ms/step - loss: 0.8276 - acc: 0.7073 - val_loss: 1.6740 - val_acc: 0.4834\n",
      "Epoch 21/100\n",
      "1407/1407 [==============================] - 8s 6ms/step - loss: 0.7976 - acc: 0.7175 - val_loss: 1.7086 - val_acc: 0.4906\n",
      "Epoch 22/100\n",
      "1407/1407 [==============================] - 8s 6ms/step - loss: 0.7703 - acc: 0.7264 - val_loss: 1.7525 - val_acc: 0.4810\n",
      "Epoch 23/100\n",
      "1407/1407 [==============================] - 8s 6ms/step - loss: 0.7434 - acc: 0.7394 - val_loss: 1.7953 - val_acc: 0.4856\n",
      "Epoch 24/100\n",
      "1407/1407 [==============================] - 8s 6ms/step - loss: 0.7223 - acc: 0.7436 - val_loss: 1.7719 - val_acc: 0.4868\n",
      "Epoch 25/100\n",
      "1407/1407 [==============================] - 9s 6ms/step - loss: 0.6962 - acc: 0.7518 - val_loss: 1.8618 - val_acc: 0.4802\n",
      "Epoch 26/100\n",
      "1407/1407 [==============================] - 9s 6ms/step - loss: 0.6710 - acc: 0.7641 - val_loss: 1.9070 - val_acc: 0.4798\n",
      "Epoch 27/100\n",
      "1407/1407 [==============================] - 8s 6ms/step - loss: 0.6467 - acc: 0.7728 - val_loss: 1.9399 - val_acc: 0.4818\n",
      "Epoch 28/100\n",
      "1407/1407 [==============================] - 8s 6ms/step - loss: 0.6249 - acc: 0.7788 - val_loss: 1.9397 - val_acc: 0.4720\n",
      "Epoch 29/100\n",
      "1407/1407 [==============================] - 8s 6ms/step - loss: 0.5995 - acc: 0.7884 - val_loss: 1.9659 - val_acc: 0.4824\n",
      "Epoch 30/100\n",
      "1407/1407 [==============================] - 8s 6ms/step - loss: 0.5880 - acc: 0.7930 - val_loss: 2.0229 - val_acc: 0.4776\n",
      "Epoch 31/100\n",
      "1407/1407 [==============================] - 8s 6ms/step - loss: 0.5675 - acc: 0.7997 - val_loss: 2.0716 - val_acc: 0.4762\n",
      "Epoch 32/100\n",
      "1407/1407 [==============================] - 8s 6ms/step - loss: 0.5440 - acc: 0.8082 - val_loss: 2.1421 - val_acc: 0.4840\n",
      "Epoch 33/100\n",
      "1407/1407 [==============================] - 8s 6ms/step - loss: 0.5216 - acc: 0.8159 - val_loss: 2.1529 - val_acc: 0.4814\n"
     ]
    }
   ],
   "source": [
    "model.compile(loss=loss, optimizer=optimizer, metrics=['acc'])\n",
    "\n",
    "history = model.fit(x_train_scaled, y_train, \n",
    "                    epochs=n_epochs, \n",
    "                    validation_data=(x_valid_scaled, y_valid), \n",
    "                    callbacks=callbacks)"
   ]
  },
  {
   "cell_type": "code",
   "execution_count": 6,
   "id": "filled-fishing",
   "metadata": {},
   "outputs": [
    {
     "name": "stdout",
     "output_type": "stream",
     "text": [
      "157/157 [==============================] - 0s 1ms/step - loss: 2.1529 - acc: 0.4814\n"
     ]
    },
    {
     "data": {
      "text/plain": [
       "[2.1529006958007812, 0.4814000129699707]"
      ]
     },
     "execution_count": 6,
     "metadata": {},
     "output_type": "execute_result"
    }
   ],
   "source": [
    "model = keras.models.load_model('selu_cifar10_model.h5')\n",
    "model.evaluate(x_valid_scaled, y_valid)"
   ]
  },
  {
   "cell_type": "code",
   "execution_count": 7,
   "id": "consolidated-fraud",
   "metadata": {},
   "outputs": [
    {
     "name": "stdout",
     "output_type": "stream",
     "text": [
      "313/313 [==============================] - 0s 1ms/step - loss: 2.1488 - acc: 0.4742\n"
     ]
    },
    {
     "data": {
      "text/plain": [
       "[2.148838996887207, 0.4742000102996826]"
      ]
     },
     "execution_count": 7,
     "metadata": {},
     "output_type": "execute_result"
    }
   ],
   "source": [
    "model.evaluate(x_test_scaled, y_test)"
   ]
  },
  {
   "cell_type": "code",
   "execution_count": null,
   "id": "fluid-penny",
   "metadata": {},
   "outputs": [],
   "source": []
  }
 ],
 "metadata": {
  "kernelspec": {
   "display_name": "Python 3",
   "language": "python",
   "name": "python3"
  },
  "language_info": {
   "codemirror_mode": {
    "name": "ipython",
    "version": 3
   },
   "file_extension": ".py",
   "mimetype": "text/x-python",
   "name": "python",
   "nbconvert_exporter": "python",
   "pygments_lexer": "ipython3",
   "version": "3.7.9"
  }
 },
 "nbformat": 4,
 "nbformat_minor": 5
}
