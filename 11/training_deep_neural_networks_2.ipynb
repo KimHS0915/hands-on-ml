{
 "cells": [
  {
   "cell_type": "code",
   "execution_count": 1,
   "id": "tutorial-chicago",
   "metadata": {},
   "outputs": [],
   "source": [
    "import numpy as np\n",
    "import matplotlib.pyplot as plt\n",
    "import pandas as pd\n",
    "import tensorflow as tf\n",
    "from tensorflow import keras"
   ]
  },
  {
   "cell_type": "code",
   "execution_count": 2,
   "id": "accurate-ground",
   "metadata": {},
   "outputs": [],
   "source": [
    "def split_dataset(x, y):\n",
    "    y_5_or_6 = (y == 5) | (y == 6)\n",
    "    y_a = y[~y_5_or_6]\n",
    "    y_a[y_a > 6] -= 2\n",
    "    y_b = (y[y_5_or_6] == 6).astype(np.float32)\n",
    "    return ((x[~y_5_or_6], y_a), (x[y_5_or_6], y_b))"
   ]
  },
  {
   "cell_type": "code",
   "execution_count": 3,
   "id": "quality-symbol",
   "metadata": {},
   "outputs": [],
   "source": [
    "(x_train_full, y_train_full), (x_test, y_test) = keras.datasets.fashion_mnist.load_data()\n",
    "x_train_full = x_train_full / 255.0\n",
    "x_test = x_test / 255.0\n",
    "x_valid, x_train = x_train_full[:5000], x_train_full[5000:]\n",
    "y_valid, y_train = y_train_full[:5000], y_train_full[5000:]\n",
    "\n",
    "(x_train_a, y_train_a), (x_train_b, y_train_b) = split_dataset(x_train, y_train)\n",
    "(x_valid_a, y_valid_a), (x_valid_b, y_valid_b) = split_dataset(x_valid, y_valid)\n",
    "(x_test_a, y_test_a), (x_test_b, y_test_b) = split_dataset(x_test, y_test)\n",
    "x_train_b = x_train_b[:200]\n",
    "y_train_b = y_train_b[:200]"
   ]
  },
  {
   "cell_type": "code",
   "execution_count": 4,
   "id": "developing-contrary",
   "metadata": {},
   "outputs": [
    {
     "data": {
      "text/plain": [
       "(43986, 28, 28)"
      ]
     },
     "execution_count": 4,
     "metadata": {},
     "output_type": "execute_result"
    }
   ],
   "source": [
    "x_train_a.shape"
   ]
  },
  {
   "cell_type": "code",
   "execution_count": 5,
   "id": "approximate-cable",
   "metadata": {},
   "outputs": [
    {
     "data": {
      "text/plain": [
       "(200, 28, 28)"
      ]
     },
     "execution_count": 5,
     "metadata": {},
     "output_type": "execute_result"
    }
   ],
   "source": [
    "x_train_b.shape"
   ]
  },
  {
   "cell_type": "code",
   "execution_count": 6,
   "id": "shared-fault",
   "metadata": {},
   "outputs": [
    {
     "data": {
      "text/plain": [
       "array([4, 0, 5, 7, 7, 7, 4, 4, 3, 4, 0, 1, 6, 3, 4, 3, 2, 6, 5, 3, 4, 5,\n",
       "       1, 3, 4, 2, 0, 6, 7, 1], dtype=uint8)"
      ]
     },
     "execution_count": 6,
     "metadata": {},
     "output_type": "execute_result"
    }
   ],
   "source": [
    "y_train_a[:30]"
   ]
  },
  {
   "cell_type": "code",
   "execution_count": 7,
   "id": "gorgeous-sheet",
   "metadata": {},
   "outputs": [
    {
     "data": {
      "text/plain": [
       "array([1., 1., 0., 0., 0., 0., 1., 1., 1., 0., 0., 1., 1., 0., 0., 0., 0.,\n",
       "       0., 0., 1., 1., 0., 0., 1., 1., 0., 1., 1., 1., 1.], dtype=float32)"
      ]
     },
     "execution_count": 7,
     "metadata": {},
     "output_type": "execute_result"
    }
   ],
   "source": [
    "y_train_b[:30]"
   ]
  },
  {
   "cell_type": "code",
   "execution_count": 8,
   "id": "dependent-credits",
   "metadata": {},
   "outputs": [],
   "source": [
    "tf.random.set_seed(42)\n",
    "np.random.seed(42)"
   ]
  },
  {
   "cell_type": "code",
   "execution_count": 9,
   "id": "welcome-polish",
   "metadata": {},
   "outputs": [],
   "source": [
    "model_a = keras.models.Sequential()\n",
    "model_a.add(keras.layers.Flatten(input_shape=[28, 28]))\n",
    "\n",
    "for n_hidden in (300, 100, 50, 50, 50):\n",
    "    model_a.add(keras.layers.Dense(n_hidden, activation='selu'))\n",
    "\n",
    "model_a.add(keras.layers.Dense(8, activation='softmax'))"
   ]
  },
  {
   "cell_type": "code",
   "execution_count": 10,
   "id": "graduate-complexity",
   "metadata": {},
   "outputs": [
    {
     "name": "stdout",
     "output_type": "stream",
     "text": [
      "Model: \"sequential\"\n",
      "_________________________________________________________________\n",
      "Layer (type)                 Output Shape              Param #   \n",
      "=================================================================\n",
      "flatten (Flatten)            (None, 784)               0         \n",
      "_________________________________________________________________\n",
      "dense (Dense)                (None, 300)               235500    \n",
      "_________________________________________________________________\n",
      "dense_1 (Dense)              (None, 100)               30100     \n",
      "_________________________________________________________________\n",
      "dense_2 (Dense)              (None, 50)                5050      \n",
      "_________________________________________________________________\n",
      "dense_3 (Dense)              (None, 50)                2550      \n",
      "_________________________________________________________________\n",
      "dense_4 (Dense)              (None, 50)                2550      \n",
      "_________________________________________________________________\n",
      "dense_5 (Dense)              (None, 8)                 408       \n",
      "=================================================================\n",
      "Total params: 276,158\n",
      "Trainable params: 276,158\n",
      "Non-trainable params: 0\n",
      "_________________________________________________________________\n"
     ]
    }
   ],
   "source": [
    "model_a.summary()"
   ]
  },
  {
   "cell_type": "code",
   "execution_count": 11,
   "id": "prostate-cartridge",
   "metadata": {},
   "outputs": [],
   "source": [
    "model_a.compile(loss='sparse_categorical_crossentropy', \n",
    "                optimizer=keras.optimizers.SGD(learning_rate=1e-3), \n",
    "                metrics=['acc'])"
   ]
  },
  {
   "cell_type": "code",
   "execution_count": 12,
   "id": "humanitarian-guide",
   "metadata": {},
   "outputs": [
    {
     "name": "stdout",
     "output_type": "stream",
     "text": [
      "Epoch 1/20\n",
      "1375/1375 [==============================] - 2s 1ms/step - loss: 0.5927 - acc: 0.8104 - val_loss: 0.3896 - val_acc: 0.8667\n",
      "Epoch 2/20\n",
      "1375/1375 [==============================] - 2s 1ms/step - loss: 0.3523 - acc: 0.8786 - val_loss: 0.3289 - val_acc: 0.8824\n",
      "Epoch 3/20\n",
      "1375/1375 [==============================] - 2s 2ms/step - loss: 0.3170 - acc: 0.8894 - val_loss: 0.3012 - val_acc: 0.8996\n",
      "Epoch 4/20\n",
      "1375/1375 [==============================] - 2s 1ms/step - loss: 0.2973 - acc: 0.8975 - val_loss: 0.2891 - val_acc: 0.9028\n",
      "Epoch 5/20\n",
      "1375/1375 [==============================] - 2s 1ms/step - loss: 0.2835 - acc: 0.9020 - val_loss: 0.2774 - val_acc: 0.9061\n",
      "Epoch 6/20\n",
      "1375/1375 [==============================] - 2s 1ms/step - loss: 0.2729 - acc: 0.9060 - val_loss: 0.2733 - val_acc: 0.9066\n",
      "Epoch 7/20\n",
      "1375/1375 [==============================] - 2s 1ms/step - loss: 0.2641 - acc: 0.9091 - val_loss: 0.2721 - val_acc: 0.9086\n",
      "Epoch 8/20\n",
      "1375/1375 [==============================] - 2s 2ms/step - loss: 0.2573 - acc: 0.9128 - val_loss: 0.2588 - val_acc: 0.9143\n",
      "Epoch 9/20\n",
      "1375/1375 [==============================] - 2s 1ms/step - loss: 0.2518 - acc: 0.9136 - val_loss: 0.2563 - val_acc: 0.9148\n",
      "Epoch 10/20\n",
      "1375/1375 [==============================] - 2s 1ms/step - loss: 0.2469 - acc: 0.9154 - val_loss: 0.2539 - val_acc: 0.9158\n",
      "Epoch 11/20\n",
      "1375/1375 [==============================] - 2s 1ms/step - loss: 0.2422 - acc: 0.9176 - val_loss: 0.2497 - val_acc: 0.9148\n",
      "Epoch 12/20\n",
      "1375/1375 [==============================] - 2s 1ms/step - loss: 0.2382 - acc: 0.9188 - val_loss: 0.2510 - val_acc: 0.9133\n",
      "Epoch 13/20\n",
      "1375/1375 [==============================] - 2s 2ms/step - loss: 0.2350 - acc: 0.9197 - val_loss: 0.2445 - val_acc: 0.9158\n",
      "Epoch 14/20\n",
      "1375/1375 [==============================] - 2s 2ms/step - loss: 0.2316 - acc: 0.9214 - val_loss: 0.2414 - val_acc: 0.9178\n",
      "Epoch 15/20\n",
      "1375/1375 [==============================] - 2s 1ms/step - loss: 0.2287 - acc: 0.9213 - val_loss: 0.2447 - val_acc: 0.9185\n",
      "Epoch 16/20\n",
      "1375/1375 [==============================] - 2s 2ms/step - loss: 0.2254 - acc: 0.9224 - val_loss: 0.2386 - val_acc: 0.9193\n",
      "Epoch 17/20\n",
      "1375/1375 [==============================] - 2s 1ms/step - loss: 0.2231 - acc: 0.9235 - val_loss: 0.2408 - val_acc: 0.9180\n",
      "Epoch 18/20\n",
      "1375/1375 [==============================] - 2s 1ms/step - loss: 0.2201 - acc: 0.9244 - val_loss: 0.2429 - val_acc: 0.9155\n",
      "Epoch 19/20\n",
      "1375/1375 [==============================] - 2s 1ms/step - loss: 0.2178 - acc: 0.9254 - val_loss: 0.2330 - val_acc: 0.9200\n",
      "Epoch 20/20\n",
      "1375/1375 [==============================] - 2s 1ms/step - loss: 0.2156 - acc: 0.9262 - val_loss: 0.2333 - val_acc: 0.9203\n"
     ]
    }
   ],
   "source": [
    "history = model_a.fit(x_train_a, y_train_a, epochs=20, \n",
    "                      validation_data=(x_valid_a, y_valid_a))"
   ]
  },
  {
   "cell_type": "code",
   "execution_count": 13,
   "id": "native-microwave",
   "metadata": {},
   "outputs": [],
   "source": [
    "model_a.save('model_a.h5')"
   ]
  },
  {
   "cell_type": "code",
   "execution_count": 14,
   "id": "cosmetic-auction",
   "metadata": {},
   "outputs": [],
   "source": [
    "model_b = keras.models.Sequential()\n",
    "model_b.add(keras.layers.Flatten(input_shape=[28, 28]))\n",
    "\n",
    "for n_hidden in (300, 100, 50, 50, 50):\n",
    "    model_b.add(keras.layers.Dense(n_hidden, activation='selu'))\n",
    "\n",
    "model_b.add(keras.layers.Dense(1, activation='sigmoid'))"
   ]
  },
  {
   "cell_type": "code",
   "execution_count": 15,
   "id": "promotional-german",
   "metadata": {},
   "outputs": [
    {
     "name": "stdout",
     "output_type": "stream",
     "text": [
      "Model: \"sequential_1\"\n",
      "_________________________________________________________________\n",
      "Layer (type)                 Output Shape              Param #   \n",
      "=================================================================\n",
      "flatten_1 (Flatten)          (None, 784)               0         \n",
      "_________________________________________________________________\n",
      "dense_6 (Dense)              (None, 300)               235500    \n",
      "_________________________________________________________________\n",
      "dense_7 (Dense)              (None, 100)               30100     \n",
      "_________________________________________________________________\n",
      "dense_8 (Dense)              (None, 50)                5050      \n",
      "_________________________________________________________________\n",
      "dense_9 (Dense)              (None, 50)                2550      \n",
      "_________________________________________________________________\n",
      "dense_10 (Dense)             (None, 50)                2550      \n",
      "_________________________________________________________________\n",
      "dense_11 (Dense)             (None, 1)                 51        \n",
      "=================================================================\n",
      "Total params: 275,801\n",
      "Trainable params: 275,801\n",
      "Non-trainable params: 0\n",
      "_________________________________________________________________\n"
     ]
    }
   ],
   "source": [
    "model_b.summary()"
   ]
  },
  {
   "cell_type": "code",
   "execution_count": 16,
   "id": "related-cycle",
   "metadata": {},
   "outputs": [],
   "source": [
    "model_b.compile(loss='binary_crossentropy', \n",
    "                optimizer=keras.optimizers.SGD(learning_rate=1e-3), \n",
    "                metrics=['acc'])"
   ]
  },
  {
   "cell_type": "code",
   "execution_count": 17,
   "id": "numerical-comment",
   "metadata": {},
   "outputs": [
    {
     "name": "stdout",
     "output_type": "stream",
     "text": [
      "Epoch 1/20\n",
      "7/7 [==============================] - 0s 25ms/step - loss: 0.9573 - acc: 0.4650 - val_loss: 0.6314 - val_acc: 0.6004\n",
      "Epoch 2/20\n",
      "7/7 [==============================] - 0s 8ms/step - loss: 0.5692 - acc: 0.7450 - val_loss: 0.4784 - val_acc: 0.8529\n",
      "Epoch 3/20\n",
      "7/7 [==============================] - 0s 8ms/step - loss: 0.4503 - acc: 0.8650 - val_loss: 0.4102 - val_acc: 0.8945\n",
      "Epoch 4/20\n",
      "7/7 [==============================] - 0s 7ms/step - loss: 0.3879 - acc: 0.8950 - val_loss: 0.3647 - val_acc: 0.9178\n",
      "Epoch 5/20\n",
      "7/7 [==============================] - 0s 8ms/step - loss: 0.3435 - acc: 0.9250 - val_loss: 0.3300 - val_acc: 0.9320\n",
      "Epoch 6/20\n",
      "7/7 [==============================] - 0s 7ms/step - loss: 0.3081 - acc: 0.9300 - val_loss: 0.3019 - val_acc: 0.9402\n",
      "Epoch 7/20\n",
      "7/7 [==============================] - 0s 8ms/step - loss: 0.2800 - acc: 0.9350 - val_loss: 0.2804 - val_acc: 0.9422\n",
      "Epoch 8/20\n",
      "7/7 [==============================] - 0s 8ms/step - loss: 0.2564 - acc: 0.9450 - val_loss: 0.2606 - val_acc: 0.9473\n",
      "Epoch 9/20\n",
      "7/7 [==============================] - 0s 7ms/step - loss: 0.2362 - acc: 0.9550 - val_loss: 0.2428 - val_acc: 0.9523\n",
      "Epoch 10/20\n",
      "7/7 [==============================] - 0s 7ms/step - loss: 0.2188 - acc: 0.9600 - val_loss: 0.2281 - val_acc: 0.9544\n",
      "Epoch 11/20\n",
      "7/7 [==============================] - 0s 7ms/step - loss: 0.2036 - acc: 0.9700 - val_loss: 0.2150 - val_acc: 0.9584\n",
      "Epoch 12/20\n",
      "7/7 [==============================] - 0s 7ms/step - loss: 0.1898 - acc: 0.9700 - val_loss: 0.2036 - val_acc: 0.9584\n",
      "Epoch 13/20\n",
      "7/7 [==============================] - 0s 7ms/step - loss: 0.1773 - acc: 0.9750 - val_loss: 0.1931 - val_acc: 0.9615\n",
      "Epoch 14/20\n",
      "7/7 [==============================] - 0s 7ms/step - loss: 0.1668 - acc: 0.9800 - val_loss: 0.1838 - val_acc: 0.9635\n",
      "Epoch 15/20\n",
      "7/7 [==============================] - 0s 7ms/step - loss: 0.1570 - acc: 0.9900 - val_loss: 0.1746 - val_acc: 0.9686\n",
      "Epoch 16/20\n",
      "7/7 [==============================] - 0s 7ms/step - loss: 0.1481 - acc: 0.9900 - val_loss: 0.1674 - val_acc: 0.9686\n",
      "Epoch 17/20\n",
      "7/7 [==============================] - 0s 7ms/step - loss: 0.1406 - acc: 0.9900 - val_loss: 0.1604 - val_acc: 0.9706\n",
      "Epoch 18/20\n",
      "7/7 [==============================] - 0s 8ms/step - loss: 0.1334 - acc: 0.9900 - val_loss: 0.1539 - val_acc: 0.9706\n",
      "Epoch 19/20\n",
      "7/7 [==============================] - 0s 7ms/step - loss: 0.1268 - acc: 0.9900 - val_loss: 0.1482 - val_acc: 0.9716\n",
      "Epoch 20/20\n",
      "7/7 [==============================] - 0s 7ms/step - loss: 0.1208 - acc: 0.9900 - val_loss: 0.1431 - val_acc: 0.9716\n"
     ]
    }
   ],
   "source": [
    "history = model_b.fit(x_train_b, y_train_b, epochs=20, \n",
    "                      validation_data=(x_valid_b, y_valid_b))"
   ]
  },
  {
   "cell_type": "code",
   "execution_count": 18,
   "id": "changing-julian",
   "metadata": {},
   "outputs": [],
   "source": [
    "model_a = keras.models.load_model('model_a.h5')\n",
    "model_b_on_a = keras.models.Sequential(model_a.layers[:-1])\n",
    "model_b_on_a.add(keras.layers.Dense(1, activation='sigmoid'))"
   ]
  },
  {
   "cell_type": "code",
   "execution_count": 19,
   "id": "instrumental-drink",
   "metadata": {},
   "outputs": [],
   "source": [
    "model_a_clone = keras.models.clone_model(model_a)\n",
    "model_a_clone.set_weights(model_a.get_weights())"
   ]
  },
  {
   "cell_type": "code",
   "execution_count": 20,
   "id": "attached-bundle",
   "metadata": {},
   "outputs": [],
   "source": [
    "for layer in model_b_on_a.layers[:-1]:\n",
    "    layer.trainable = False\n",
    "\n",
    "model_b_on_a.compile(loss='binary_crossentropy', \n",
    "                     optimizer=keras.optimizers.SGD(learning_rate=1e-3), \n",
    "                     metrics=['acc'])"
   ]
  },
  {
   "cell_type": "code",
   "execution_count": 21,
   "id": "incorrect-girlfriend",
   "metadata": {},
   "outputs": [
    {
     "name": "stdout",
     "output_type": "stream",
     "text": [
      "Epoch 1/4\n",
      "7/7 [==============================] - 0s 21ms/step - loss: 0.5731 - acc: 0.6550 - val_loss: 0.5783 - val_acc: 0.6359\n",
      "Epoch 2/4\n",
      "7/7 [==============================] - 0s 7ms/step - loss: 0.5371 - acc: 0.6950 - val_loss: 0.5413 - val_acc: 0.6846\n",
      "Epoch 3/4\n",
      "7/7 [==============================] - 0s 7ms/step - loss: 0.5008 - acc: 0.7300 - val_loss: 0.5096 - val_acc: 0.7140\n",
      "Epoch 4/4\n",
      "7/7 [==============================] - 0s 7ms/step - loss: 0.4697 - acc: 0.7550 - val_loss: 0.4813 - val_acc: 0.7363\n",
      "Epoch 1/16\n",
      "7/7 [==============================] - 0s 21ms/step - loss: 0.3924 - acc: 0.8150 - val_loss: 0.3438 - val_acc: 0.8661\n",
      "Epoch 2/16\n",
      "7/7 [==============================] - 0s 7ms/step - loss: 0.2778 - acc: 0.9350 - val_loss: 0.2590 - val_acc: 0.9290\n",
      "Epoch 3/16\n",
      "7/7 [==============================] - 0s 7ms/step - loss: 0.2071 - acc: 0.9650 - val_loss: 0.2103 - val_acc: 0.9554\n",
      "Epoch 4/16\n",
      "7/7 [==============================] - 0s 8ms/step - loss: 0.1663 - acc: 0.9800 - val_loss: 0.1786 - val_acc: 0.9686\n",
      "Epoch 5/16\n",
      "7/7 [==============================] - 0s 8ms/step - loss: 0.1393 - acc: 0.9800 - val_loss: 0.1558 - val_acc: 0.9757\n",
      "Epoch 6/16\n",
      "7/7 [==============================] - 0s 7ms/step - loss: 0.1194 - acc: 0.9950 - val_loss: 0.1391 - val_acc: 0.9797\n",
      "Epoch 7/16\n",
      "7/7 [==============================] - 0s 7ms/step - loss: 0.1048 - acc: 0.9950 - val_loss: 0.1265 - val_acc: 0.9838\n",
      "Epoch 8/16\n",
      "7/7 [==============================] - 0s 7ms/step - loss: 0.0936 - acc: 1.0000 - val_loss: 0.1163 - val_acc: 0.9858\n",
      "Epoch 9/16\n",
      "7/7 [==============================] - 0s 7ms/step - loss: 0.0846 - acc: 1.0000 - val_loss: 0.1065 - val_acc: 0.9888\n",
      "Epoch 10/16\n",
      "7/7 [==============================] - 0s 7ms/step - loss: 0.0761 - acc: 1.0000 - val_loss: 0.0999 - val_acc: 0.9899\n",
      "Epoch 11/16\n",
      "7/7 [==============================] - 0s 7ms/step - loss: 0.0703 - acc: 1.0000 - val_loss: 0.0939 - val_acc: 0.9899\n",
      "Epoch 12/16\n",
      "7/7 [==============================] - 0s 7ms/step - loss: 0.0648 - acc: 1.0000 - val_loss: 0.0887 - val_acc: 0.9899\n",
      "Epoch 13/16\n",
      "7/7 [==============================] - 0s 7ms/step - loss: 0.0601 - acc: 1.0000 - val_loss: 0.0839 - val_acc: 0.9899\n",
      "Epoch 14/16\n",
      "7/7 [==============================] - 0s 7ms/step - loss: 0.0558 - acc: 1.0000 - val_loss: 0.0802 - val_acc: 0.9899\n",
      "Epoch 15/16\n",
      "7/7 [==============================] - 0s 7ms/step - loss: 0.0525 - acc: 1.0000 - val_loss: 0.0768 - val_acc: 0.9899\n",
      "Epoch 16/16\n",
      "7/7 [==============================] - 0s 7ms/step - loss: 0.0496 - acc: 1.0000 - val_loss: 0.0739 - val_acc: 0.9899\n"
     ]
    }
   ],
   "source": [
    "history = model_b_on_a.fit(x_train_b, y_train_b, epochs=4, \n",
    "                           validation_data=(x_valid_b, y_valid_b))\n",
    "\n",
    "for layer in model_b_on_a.layers[:-1]:\n",
    "    layer.trainable = True\n",
    "\n",
    "model_b_on_a.compile(loss='binary_crossentropy', \n",
    "                     optimizer=keras.optimizers.SGD(learning_rate=1e-3), \n",
    "                     metrics=['acc'])\n",
    "\n",
    "history = model_b_on_a.fit(x_train_b, y_train_b, epochs=16, \n",
    "                           validation_data=(x_valid_b, y_valid_b))"
   ]
  },
  {
   "cell_type": "code",
   "execution_count": 22,
   "id": "musical-pocket",
   "metadata": {},
   "outputs": [
    {
     "name": "stdout",
     "output_type": "stream",
     "text": [
      "63/63 [==============================] - 0s 823us/step - loss: 0.1408 - acc: 0.9705\n"
     ]
    },
    {
     "data": {
      "text/plain": [
       "[0.14084076881408691, 0.9704999923706055]"
      ]
     },
     "execution_count": 22,
     "metadata": {},
     "output_type": "execute_result"
    }
   ],
   "source": [
    "model_b.evaluate(x_test_b, y_test_b)"
   ]
  },
  {
   "cell_type": "code",
   "execution_count": 23,
   "id": "opposite-extraction",
   "metadata": {},
   "outputs": [
    {
     "name": "stdout",
     "output_type": "stream",
     "text": [
      "63/63 [==============================] - 0s 802us/step - loss: 0.0681 - acc: 0.9930\n"
     ]
    },
    {
     "data": {
      "text/plain": [
       "[0.06810946017503738, 0.9929999709129333]"
      ]
     },
     "execution_count": 23,
     "metadata": {},
     "output_type": "execute_result"
    }
   ],
   "source": [
    "model_b_on_a.evaluate(x_test_b, y_test_b)"
   ]
  },
  {
   "cell_type": "code",
   "execution_count": 24,
   "id": "miniature-video",
   "metadata": {},
   "outputs": [
    {
     "data": {
      "text/plain": [
       "4.214285714285701"
      ]
     },
     "execution_count": 24,
     "metadata": {},
     "output_type": "execute_result"
    }
   ],
   "source": [
    "(100 - 97.05) / (100 - 99.3)"
   ]
  },
  {
   "cell_type": "code",
   "execution_count": null,
   "id": "burning-picture",
   "metadata": {},
   "outputs": [],
   "source": []
  }
 ],
 "metadata": {
  "kernelspec": {
   "display_name": "Python 3",
   "language": "python",
   "name": "python3"
  },
  "language_info": {
   "codemirror_mode": {
    "name": "ipython",
    "version": 3
   },
   "file_extension": ".py",
   "mimetype": "text/x-python",
   "name": "python",
   "nbconvert_exporter": "python",
   "pygments_lexer": "ipython3",
   "version": "3.7.9"
  }
 },
 "nbformat": 4,
 "nbformat_minor": 5
}
