{
 "cells": [
  {
   "cell_type": "code",
   "execution_count": 1,
   "id": "precise-vulnerability",
   "metadata": {},
   "outputs": [],
   "source": [
    "import numpy as np\n",
    "import matplotlib.pyplot as plt\n",
    "import pandas as pd\n",
    "import tensorflow as tf\n",
    "from tensorflow import keras"
   ]
  },
  {
   "cell_type": "markdown",
   "id": "imposed-herald",
   "metadata": {},
   "source": [
    "Exercise 8f."
   ]
  },
  {
   "cell_type": "code",
   "execution_count": 2,
   "id": "thrown-sentence",
   "metadata": {},
   "outputs": [],
   "source": [
    "(x_train_full, y_train_full), (x_test, y_test) = keras.datasets.cifar10.load_data()\n",
    "\n",
    "def split_train_valid(data, split_number=5000):\n",
    "    return data[split_number:], data[:split_number]\n",
    "\n",
    "x_train, x_valid = split_train_valid(x_train_full)\n",
    "y_train, y_valid = split_train_valid(y_train_full)\n",
    "\n",
    "x_means = x_train.mean(axis=0)\n",
    "x_stds = x_train.std(axis=0)\n",
    "x_train_scaled = (x_train - x_means) / x_stds\n",
    "x_valid_scaled = (x_valid - x_means) / x_stds\n",
    "x_test_scaled = (x_test - x_means) / x_stds"
   ]
  },
  {
   "cell_type": "code",
   "execution_count": 3,
   "id": "dress-slave",
   "metadata": {},
   "outputs": [],
   "source": [
    "import math\n",
    "\n",
    "K = keras.backend\n",
    "\n",
    "class ExponentialLearningRate(keras.callbacks.Callback):\n",
    "    def __init__(self, factor):\n",
    "        self.factor = factor\n",
    "        self.rates = []\n",
    "        self.losses = []\n",
    "    \n",
    "    def on_batch_end(self, batch, logs):\n",
    "        self.rates.append(K.get_value(self.model.optimizer.lr))\n",
    "        self.losses.append(logs['loss'])\n",
    "        K.set_value(self.model.optimizer.lr, \n",
    "                    self.model.optimizer.lr * self.factor)\n",
    "\n",
    "\n",
    "def find_learning_rate(model, x, y, epochs=1, batch_size=32, \n",
    "                       min_rate=10 ** -5, max_rate=10):\n",
    "    init_weights = model.get_weights()\n",
    "    iterations = math.ceil(len(x) / batch_size) * epochs\n",
    "    factor = np.exp(np.log(max_rate / min_rate) / iterations)\n",
    "    init_lr = K.get_value(model.optimizer.lr)\n",
    "    K.set_value(model.optimizer.lr, min_rate)\n",
    "    exp_lr = ExponentialLearningRate(factor)\n",
    "    history = model.fit(x, y, epochs=epochs, \n",
    "                        batch_size=batch_size, \n",
    "                        callbacks=[exp_lr])\n",
    "    K.set_value(model.optimizer.lr, init_lr)\n",
    "    model.set_weights(init_weights)\n",
    "    return exp_lr.rates, exp_lr.losses\n",
    "\n",
    "\n",
    "def plot_lr_vs_loss(rates, losses):\n",
    "    plt.plot(rates, losses)\n",
    "    plt.gca().set_xscale('log')\n",
    "    plt.hlines(min(losses), min(rates), max(rates))\n",
    "    plt.axis([min(rates), max(rates), min(losses), (losses[0] + min(losses)) / 2])\n",
    "    plt.xlabel('Learning rate', fontsize=14)\n",
    "    plt.ylabel('Loss', fontsize=14)"
   ]
  },
  {
   "cell_type": "code",
   "execution_count": 4,
   "id": "cooked-clause",
   "metadata": {},
   "outputs": [],
   "source": [
    " class OneCycleScheduler(keras.callbacks.Callback):\n",
    "        def __init__(self, iterations, max_rate, start_rate=None, \n",
    "                     last_iterations=None, last_rate=None):\n",
    "            self.iterations = iterations\n",
    "            self.max_rate = max_rate\n",
    "            self.start_rate = start_rate or max_rate / 10\n",
    "            self.last_iterations = last_iterations or iterations // 10 + 1\n",
    "            self.half_iteration = (iterations - self.last_iterations) // 2\n",
    "            self.last_rate = last_rate or self.start_rate / 1000\n",
    "            self.iteration = 0\n",
    "            \n",
    "        def _interpolate(self, iter1, iter2, rate1, rate2):\n",
    "            return ((rate2 - rate1) * (self.iteration - iter1) \n",
    "                    / (iter2 - iter1) + rate1)\n",
    "        \n",
    "        def on_batch_begin(self, batch, logs):\n",
    "            if self.iteration < self.half_iteration:\n",
    "                rate = self._interpolate(0, self.half_iteration, \n",
    "                                         self.start_rate, self.max_rate)\n",
    "            elif self.iteration < 2 * self.half_iteration:\n",
    "                rate = self._interpolate(self.half_iteration, 2 * self.half_iteration, \n",
    "                                         self.max_rate, self.start_rate)\n",
    "            else:\n",
    "                rate = self._interpolate(2 * self.half_iteration, self.iterations, \n",
    "                                         self.start_rate, self.last_rate)\n",
    "            self.iteration += 1\n",
    "            K.set_value(self.model.optimizer.lr, rate)"
   ]
  },
  {
   "cell_type": "code",
   "execution_count": 5,
   "id": "crucial-firmware",
   "metadata": {},
   "outputs": [],
   "source": [
    "def make_model():\n",
    "    model = keras.models.Sequential()\n",
    "    model.add(keras.layers.Flatten(input_shape=[32, 32, 3]))\n",
    "    for i in range(20):\n",
    "        model.add(keras.layers.Dense(100, \n",
    "                                     activation='selu', \n",
    "                                     kernel_initializer='lecun_normal'))\n",
    "    model.add(keras.layers.AlphaDropout(rate=0.1))\n",
    "    model.add(keras.layers.Dense(10, activation='softmax'))\n",
    "    return model"
   ]
  },
  {
   "cell_type": "code",
   "execution_count": 6,
   "id": "banner-pioneer",
   "metadata": {},
   "outputs": [],
   "source": [
    "loss = 'sparse_categorical_crossentropy'\n",
    "optimizer = keras.optimizers.SGD(learning_rate=1e-4)"
   ]
  },
  {
   "cell_type": "code",
   "execution_count": 7,
   "id": "medical-means",
   "metadata": {},
   "outputs": [
    {
     "name": "stdout",
     "output_type": "stream",
     "text": [
      "352/352 [==============================] - 3s 6ms/step - loss: nan - acc: 0.1472\n"
     ]
    },
    {
     "data": {
      "text/plain": [
       "(9.999999747378752e-06,\n",
       " 9.615227699279785,\n",
       " 2.593752861022949,\n",
       " 3.9678849492754256)"
      ]
     },
     "execution_count": 7,
     "metadata": {},
     "output_type": "execute_result"
    },
    {
     "data": {
      "image/png": "[encoded data removed]",
      "text/plain": [
       "<Figure size 432x288 with 1 Axes>"
      ]
     },
     "metadata": {
      "needs_background": "light"
     },
     "output_type": "display_data"
    }
   ],
   "source": [
    "model = make_model()\n",
    "\n",
    "model.compile(loss=loss, optimizer=optimizer, metrics=['acc'])\n",
    "\n",
    "batch_size = 128\n",
    "rates, losses = find_learning_rate(model, x_train_scaled, y_train, \n",
    "                                   epochs=1, batch_size=batch_size)\n",
    "plot_lr_vs_loss(rates, losses)\n",
    "plt.axis([min(rates), max(rates), min(losses), (losses[0] + min(losses)) / 1.4])"
   ]
  },
  {
   "cell_type": "code",
   "execution_count": 8,
   "id": "noticed-degree",
   "metadata": {},
   "outputs": [
    {
     "name": "stdout",
     "output_type": "stream",
     "text": [
      "Epoch 1/15\n",
      "352/352 [==============================] - 3s 7ms/step - loss: 2.0680 - acc: 0.2797 - val_loss: 1.7697 - val_acc: 0.3808\n",
      "Epoch 2/15\n",
      "352/352 [==============================] - 2s 7ms/step - loss: 1.7624 - acc: 0.3752 - val_loss: 1.6964 - val_acc: 0.4010\n",
      "Epoch 3/15\n",
      "352/352 [==============================] - 2s 7ms/step - loss: 1.6205 - acc: 0.4249 - val_loss: 1.6155 - val_acc: 0.4268\n",
      "Epoch 4/15\n",
      "352/352 [==============================] - 2s 7ms/step - loss: 1.5430 - acc: 0.4518 - val_loss: 1.6587 - val_acc: 0.4276\n",
      "Epoch 5/15\n",
      "352/352 [==============================] - 3s 7ms/step - loss: 1.4885 - acc: 0.4718 - val_loss: 1.5922 - val_acc: 0.4410\n",
      "Epoch 6/15\n",
      "352/352 [==============================] - 3s 7ms/step - loss: 1.4527 - acc: 0.4874 - val_loss: 1.5899 - val_acc: 0.4472\n",
      "Epoch 7/15\n",
      "352/352 [==============================] - 2s 7ms/step - loss: 1.4135 - acc: 0.5005 - val_loss: 1.5352 - val_acc: 0.4802\n",
      "Epoch 8/15\n",
      "352/352 [==============================] - 2s 7ms/step - loss: 1.3449 - acc: 0.5239 - val_loss: 1.5180 - val_acc: 0.4912\n",
      "Epoch 9/15\n",
      "352/352 [==============================] - 2s 7ms/step - loss: 1.2681 - acc: 0.5486 - val_loss: 1.5829 - val_acc: 0.4742\n",
      "Epoch 10/15\n",
      "352/352 [==============================] - 3s 7ms/step - loss: 1.1983 - acc: 0.5718 - val_loss: 1.5012 - val_acc: 0.5122\n",
      "Epoch 11/15\n",
      "352/352 [==============================] - 2s 7ms/step - loss: 1.1284 - acc: 0.5972 - val_loss: 1.5327 - val_acc: 0.5102\n",
      "Epoch 12/15\n",
      "352/352 [==============================] - 2s 7ms/step - loss: 1.0583 - acc: 0.6198 - val_loss: 1.5132 - val_acc: 0.5142\n",
      "Epoch 13/15\n",
      "352/352 [==============================] - 2s 7ms/step - loss: 0.9915 - acc: 0.6456 - val_loss: 1.5290 - val_acc: 0.5188\n",
      "Epoch 14/15\n",
      "352/352 [==============================] - 2s 7ms/step - loss: 0.9262 - acc: 0.6666 - val_loss: 1.5636 - val_acc: 0.5268\n",
      "Epoch 15/15\n",
      "352/352 [==============================] - 2s 7ms/step - loss: 0.8852 - acc: 0.6825 - val_loss: 1.5881 - val_acc: 0.5256\n"
     ]
    }
   ],
   "source": [
    "n_epochs = 15\n",
    "\n",
    "model = make_model()\n",
    "optimizer = keras.optimizers.SGD(learning_rate=1e-2)\n",
    "model.compile(loss=loss, optimizer=optimizer, metrics=['acc'])\n",
    "\n",
    "onecycle = OneCycleScheduler(len(x_train_scaled) // batch_size * n_epochs, max_rate=0.05)\n",
    "\n",
    "history = model.fit(x_train_scaled, y_train, \n",
    "                    epochs=n_epochs, batch_size=batch_size,\n",
    "                    validation_data=(x_valid_scaled, y_valid), \n",
    "                    callbacks=[onecycle])"
   ]
  },
  {
   "cell_type": "code",
   "execution_count": 9,
   "id": "critical-italian",
   "metadata": {},
   "outputs": [
    {
     "name": "stdout",
     "output_type": "stream",
     "text": [
      "157/157 [==============================] - 0s 1ms/step - loss: 1.5881 - acc: 0.5256\n"
     ]
    },
    {
     "data": {
      "text/plain": [
       "[1.5881247520446777, 0.525600016117096]"
      ]
     },
     "execution_count": 9,
     "metadata": {},
     "output_type": "execute_result"
    }
   ],
   "source": [
    "model.evaluate(x_valid_scaled, y_valid)"
   ]
  },
  {
   "cell_type": "code",
   "execution_count": 10,
   "id": "written-walnut",
   "metadata": {},
   "outputs": [
    {
     "name": "stdout",
     "output_type": "stream",
     "text": [
      "313/313 [==============================] - 0s 1ms/step - loss: 1.5982 - acc: 0.5174\n"
     ]
    },
    {
     "data": {
      "text/plain": [
       "[1.598231554031372, 0.5174000263214111]"
      ]
     },
     "execution_count": 10,
     "metadata": {},
     "output_type": "execute_result"
    }
   ],
   "source": [
    "model.evaluate(x_test_scaled, y_test)"
   ]
  },
  {
   "cell_type": "code",
   "execution_count": null,
   "id": "worst-personal",
   "metadata": {},
   "outputs": [],
   "source": []
  }
 ],
 "metadata": {
  "kernelspec": {
   "display_name": "Python 3",
   "language": "python",
   "name": "python3"
  },
  "language_info": {
   "codemirror_mode": {
    "name": "ipython",
    "version": 3
   },
   "file_extension": ".py",
   "mimetype": "text/x-python",
   "name": "python",
   "nbconvert_exporter": "python",
   "pygments_lexer": "ipython3",
   "version": "3.7.9"
  }
 },
 "nbformat": 4,
 "nbformat_minor": 5
}
