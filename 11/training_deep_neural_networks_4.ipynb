{
 "cells": [
  {
   "cell_type": "code",
   "execution_count": 1,
   "id": "informal-preservation",
   "metadata": {},
   "outputs": [],
   "source": [
    "import numpy as np\n",
    "import matplotlib.pyplot as plt\n",
    "import pandas as pd\n",
    "import tensorflow as tf\n",
    "from tensorflow import keras\n",
    "\n",
    "(x_train_full, y_train_full), (x_test, y_test) = keras.datasets.fashion_mnist.load_data()\n",
    "x_train_full = x_train_full / 255.0\n",
    "x_test = x_test / 255.0\n",
    "x_valid, x_train = x_train_full[:5000], x_train_full[5000:]\n",
    "y_valid, y_train = y_train_full[:5000], y_train_full[5000:]\n",
    "\n",
    "pixel_means = x_train.mean(axis=0, keepdims=True)\n",
    "pixel_stds = x_train.std(axis=0, keepdims=True)\n",
    "x_train_scaled = (x_train - pixel_means) / pixel_stds\n",
    "x_valid_scaled = (x_valid - pixel_means) / pixel_stds\n",
    "x_test_scaled = (x_test - pixel_means) / pixel_stds"
   ]
  },
  {
   "cell_type": "markdown",
   "id": "vital-emission",
   "metadata": {},
   "source": [
    "$\\ell_1$  and  $\\ell_2$ Regularization"
   ]
  },
  {
   "cell_type": "code",
   "execution_count": 2,
   "id": "naughty-brooklyn",
   "metadata": {},
   "outputs": [],
   "source": [
    "# l1 regularization\n",
    "layer = keras.layers.Dense(100, activation='elu', \n",
    "                          kernel_initializer='he_normal', \n",
    "                          kernel_regularizer=keras.regularizers.l1(0.1))\n",
    "\n",
    "# l2 regularization\n",
    "layer = keras.layers.Dense(100, activation='elu', \n",
    "                          kernel_initializer='he_normal', \n",
    "                          kernel_regularizer=keras.regularizers.l2(0.01))\n",
    "\n",
    "# l1 and l2 rgularization\n",
    "layer = keras.layers.Dense(100, activation='elu', \n",
    "                          kernel_initializer='he_normal', \n",
    "                          kernel_regularizer=keras.regularizers.l1_l2(l1=0.1, l2=0.01))"
   ]
  },
  {
   "cell_type": "code",
   "execution_count": 3,
   "id": "organized-phase",
   "metadata": {},
   "outputs": [
    {
     "name": "stdout",
     "output_type": "stream",
     "text": [
      "Epoch 1/2\n",
      "1719/1719 [==============================] - 4s 2ms/step - loss: 1.6272 - acc: 0.8129 - val_loss: 0.7527 - val_acc: 0.8088\n",
      "Epoch 2/2\n",
      "1719/1719 [==============================] - 4s 2ms/step - loss: 0.7193 - acc: 0.8255 - val_loss: 0.7031 - val_acc: 0.8378\n"
     ]
    }
   ],
   "source": [
    "model = keras.models.Sequential([\n",
    "    keras.layers.Flatten(input_shape=[28, 28]),\n",
    "    keras.layers.Dense(300, activation='elu', \n",
    "                       kernel_initializer='he_normal', \n",
    "                       kernel_regularizer=keras.regularizers.l2(0.01)),\n",
    "    keras.layers.Dense(100, activation='elu', \n",
    "                       kernel_initializer='he_normal', \n",
    "                       kernel_regularizer=keras.regularizers.l2(0.01)),\n",
    "    keras.layers.Dense(10, activation='softmax', \n",
    "                       kernel_regularizer=keras.regularizers.l2(0.01))    \n",
    "])\n",
    "\n",
    "model.compile(loss='sparse_categorical_crossentropy', \n",
    "              optimizer='nadam', metrics=['acc'])\n",
    "n_epochs = 2\n",
    "history = model.fit(x_train_scaled, y_train, epochs=n_epochs, \n",
    "                    validation_data=(x_valid_scaled, y_valid))"
   ]
  },
  {
   "cell_type": "code",
   "execution_count": 4,
   "id": "qualified-glass",
   "metadata": {},
   "outputs": [
    {
     "name": "stdout",
     "output_type": "stream",
     "text": [
      "Epoch 1/2\n",
      "1719/1719 [==============================] - 4s 2ms/step - loss: 1.6641 - acc: 0.8137 - val_loss: 0.7324 - val_acc: 0.8168\n",
      "Epoch 2/2\n",
      "1719/1719 [==============================] - 4s 2ms/step - loss: 0.7211 - acc: 0.8254 - val_loss: 0.6875 - val_acc: 0.8366\n"
     ]
    }
   ],
   "source": [
    "from functools import partial\n",
    "\n",
    "RegularizedDense = partial(keras.layers.Dense, activation='elu', \n",
    "                           kernel_initializer='he_normal', \n",
    "                           kernel_regularizer=keras.regularizers.l2(0.01))\n",
    "\n",
    "model = keras.models.Sequential([\n",
    "    keras.layers.Flatten(input_shape=[28, 28]),\n",
    "    RegularizedDense(300),\n",
    "    RegularizedDense(100),\n",
    "    RegularizedDense(10, activation='softmax')\n",
    "])\n",
    "\n",
    "model.compile(loss='sparse_categorical_crossentropy', \n",
    "              optimizer='nadam', metrics=['acc'])\n",
    "n_epochs = 2\n",
    "history = model.fit(x_train_scaled, y_train, epochs=n_epochs, \n",
    "                    validation_data=(x_valid_scaled, y_valid))"
   ]
  },
  {
   "cell_type": "markdown",
   "id": "amateur-automation",
   "metadata": {},
   "source": [
    "Dropout"
   ]
  },
  {
   "cell_type": "code",
   "execution_count": 5,
   "id": "particular-egypt",
   "metadata": {},
   "outputs": [
    {
     "name": "stdout",
     "output_type": "stream",
     "text": [
      "Epoch 1/2\n",
      "1719/1719 [==============================] - 5s 3ms/step - loss: 0.5795 - acc: 0.7996 - val_loss: 0.3749 - val_acc: 0.8614\n",
      "Epoch 2/2\n",
      "1719/1719 [==============================] - 4s 3ms/step - loss: 0.4219 - acc: 0.8444 - val_loss: 0.3643 - val_acc: 0.8612\n"
     ]
    }
   ],
   "source": [
    "model = keras.models.Sequential([\n",
    "    keras.layers.Flatten(input_shape=[28, 28]),\n",
    "    keras.layers.Dropout(rate=0.2),\n",
    "    keras.layers.Dense(300, activation='elu', \n",
    "                       kernel_initializer='he_normal'),\n",
    "    keras.layers.Dropout(rate=0.2), \n",
    "    keras.layers.Dense(100, activation='elu', \n",
    "                       kernel_initializer='he_normal'),\n",
    "    keras.layers.Dropout(rate=0.2),\n",
    "    keras.layers.Dense(10, activation='softmax')    \n",
    "])\n",
    "\n",
    "model.compile(loss='sparse_categorical_crossentropy', \n",
    "              optimizer='nadam', metrics=['acc'])\n",
    "n_epochs = 2\n",
    "history = model.fit(x_train_scaled, y_train, epochs=n_epochs, \n",
    "                    validation_data=(x_valid_scaled, y_valid))"
   ]
  },
  {
   "cell_type": "markdown",
   "id": "flexible-generator",
   "metadata": {},
   "source": [
    "Alpha Dropout"
   ]
  },
  {
   "cell_type": "code",
   "execution_count": 6,
   "id": "sacred-sterling",
   "metadata": {},
   "outputs": [],
   "source": [
    "tf.random.set_seed(42)\n",
    "np.random.seed(42)"
   ]
  },
  {
   "cell_type": "code",
   "execution_count": 7,
   "id": "fatal-queue",
   "metadata": {},
   "outputs": [
    {
     "name": "stdout",
     "output_type": "stream",
     "text": [
      "Epoch 1/20\n",
      "1719/1719 [==============================] - 4s 2ms/step - loss: 0.6640 - acc: 0.7593 - val_loss: 0.5783 - val_acc: 0.8446\n",
      "Epoch 2/20\n",
      "1719/1719 [==============================] - 3s 2ms/step - loss: 0.5566 - acc: 0.7945 - val_loss: 0.5181 - val_acc: 0.8514\n",
      "Epoch 3/20\n",
      "1719/1719 [==============================] - 3s 2ms/step - loss: 0.5205 - acc: 0.8084 - val_loss: 0.4899 - val_acc: 0.8614\n",
      "Epoch 4/20\n",
      "1719/1719 [==============================] - 3s 2ms/step - loss: 0.5084 - acc: 0.8117 - val_loss: 0.4846 - val_acc: 0.8604\n",
      "Epoch 5/20\n",
      "1719/1719 [==============================] - 3s 2ms/step - loss: 0.4949 - acc: 0.8179 - val_loss: 0.4234 - val_acc: 0.8682\n",
      "Epoch 6/20\n",
      "1719/1719 [==============================] - 3s 2ms/step - loss: 0.4831 - acc: 0.8198 - val_loss: 0.4596 - val_acc: 0.8622\n",
      "Epoch 7/20\n",
      "1719/1719 [==============================] - 3s 2ms/step - loss: 0.4726 - acc: 0.8242 - val_loss: 0.4686 - val_acc: 0.8610\n",
      "Epoch 8/20\n",
      "1719/1719 [==============================] - 3s 2ms/step - loss: 0.4615 - acc: 0.8276 - val_loss: 0.4215 - val_acc: 0.8694\n",
      "Epoch 9/20\n",
      "1719/1719 [==============================] - 3s 2ms/step - loss: 0.4619 - acc: 0.8286 - val_loss: 0.4392 - val_acc: 0.8740\n",
      "Epoch 10/20\n",
      "1719/1719 [==============================] - 3s 2ms/step - loss: 0.4559 - acc: 0.8312 - val_loss: 0.4316 - val_acc: 0.8648\n",
      "Epoch 11/20\n",
      "1719/1719 [==============================] - 3s 2ms/step - loss: 0.4492 - acc: 0.8325 - val_loss: 0.4286 - val_acc: 0.8700\n",
      "Epoch 12/20\n",
      "1719/1719 [==============================] - 3s 2ms/step - loss: 0.4442 - acc: 0.8352 - val_loss: 0.5025 - val_acc: 0.8572\n",
      "Epoch 13/20\n",
      "1719/1719 [==============================] - 3s 2ms/step - loss: 0.4380 - acc: 0.8378 - val_loss: 0.4411 - val_acc: 0.8736\n",
      "Epoch 14/20\n",
      "1719/1719 [==============================] - 3s 2ms/step - loss: 0.4361 - acc: 0.8385 - val_loss: 0.4483 - val_acc: 0.8652\n",
      "Epoch 15/20\n",
      "1719/1719 [==============================] - 3s 2ms/step - loss: 0.4324 - acc: 0.8391 - val_loss: 0.4258 - val_acc: 0.8696\n",
      "Epoch 16/20\n",
      "1719/1719 [==============================] - 3s 2ms/step - loss: 0.4313 - acc: 0.8401 - val_loss: 0.4200 - val_acc: 0.8782\n",
      "Epoch 17/20\n",
      "1719/1719 [==============================] - 3s 2ms/step - loss: 0.4279 - acc: 0.8405 - val_loss: 0.5405 - val_acc: 0.8560\n",
      "Epoch 18/20\n",
      "1719/1719 [==============================] - 3s 2ms/step - loss: 0.4266 - acc: 0.8415 - val_loss: 0.4689 - val_acc: 0.8726\n",
      "Epoch 19/20\n",
      "1719/1719 [==============================] - 3s 2ms/step - loss: 0.4261 - acc: 0.8416 - val_loss: 0.4714 - val_acc: 0.8672\n",
      "Epoch 20/20\n",
      "1719/1719 [==============================] - 3s 2ms/step - loss: 0.4194 - acc: 0.8430 - val_loss: 0.4497 - val_acc: 0.8724\n"
     ]
    }
   ],
   "source": [
    "model = keras.models.Sequential([\n",
    "    keras.layers.Flatten(input_shape=[28, 28]),\n",
    "    keras.layers.AlphaDropout(rate=0.2),\n",
    "    keras.layers.Dense(300, activation='selu', \n",
    "                       kernel_initializer='lecun_normal'),\n",
    "    keras.layers.AlphaDropout(rate=0.2), \n",
    "    keras.layers.Dense(100, activation='selu', \n",
    "                       kernel_initializer='lecun_normal'),\n",
    "    keras.layers.AlphaDropout(rate=0.2),\n",
    "    keras.layers.Dense(10, activation='softmax')    \n",
    "])\n",
    "\n",
    "optimizer = keras.optimizers.SGD(learning_rate=0.01, \n",
    "                                 momentum=0.9, \n",
    "                                 nesterov=True)\n",
    "model.compile(loss='sparse_categorical_crossentropy', \n",
    "              optimizer=optimizer, metrics=['acc'])\n",
    "n_epochs = 20\n",
    "history = model.fit(x_train_scaled, y_train, epochs=n_epochs, \n",
    "                    validation_data=(x_valid_scaled, y_valid))"
   ]
  },
  {
   "cell_type": "code",
   "execution_count": 8,
   "id": "unavailable-jones",
   "metadata": {},
   "outputs": [
    {
     "name": "stdout",
     "output_type": "stream",
     "text": [
      "313/313 [==============================] - 0s 686us/step - loss: 0.4873 - acc: 0.8566\n"
     ]
    },
    {
     "data": {
      "text/plain": [
       "[0.48730704188346863, 0.8565999865531921]"
      ]
     },
     "execution_count": 8,
     "metadata": {},
     "output_type": "execute_result"
    }
   ],
   "source": [
    "model.evaluate(x_test_scaled, y_test)"
   ]
  },
  {
   "cell_type": "code",
   "execution_count": 9,
   "id": "supreme-stamp",
   "metadata": {},
   "outputs": [
    {
     "name": "stdout",
     "output_type": "stream",
     "text": [
      "1719/1719 [==============================] - 1s 655us/step - loss: 0.3619 - acc: 0.8801\n"
     ]
    },
    {
     "data": {
      "text/plain": [
       "[0.36193376779556274, 0.8800545334815979]"
      ]
     },
     "execution_count": 9,
     "metadata": {},
     "output_type": "execute_result"
    }
   ],
   "source": [
    "model.evaluate(x_train_scaled, y_train)"
   ]
  },
  {
   "cell_type": "code",
   "execution_count": 10,
   "id": "social-holly",
   "metadata": {},
   "outputs": [
    {
     "name": "stdout",
     "output_type": "stream",
     "text": [
      "1719/1719 [==============================] - 3s 2ms/step - loss: 0.4226 - acc: 0.8427\n"
     ]
    }
   ],
   "source": [
    "history = model.fit(x_train_scaled, y_train)"
   ]
  },
  {
   "cell_type": "code",
   "execution_count": null,
   "id": "applied-suspension",
   "metadata": {},
   "outputs": [],
   "source": []
  }
 ],
 "metadata": {
  "kernelspec": {
   "display_name": "Python 3",
   "language": "python",
   "name": "python3"
  },
  "language_info": {
   "codemirror_mode": {
    "name": "ipython",
    "version": 3
   },
   "file_extension": ".py",
   "mimetype": "text/x-python",
   "name": "python",
   "nbconvert_exporter": "python",
   "pygments_lexer": "ipython3",
   "version": "3.7.9"
  }
 },
 "nbformat": 4,
 "nbformat_minor": 5
}
