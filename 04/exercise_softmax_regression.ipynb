{
 "cells": [
  {
   "cell_type": "code",
   "execution_count": 1,
   "id": "anonymous-executive",
   "metadata": {},
   "outputs": [],
   "source": [
    "import numpy as np\n",
    "import matplotlib.pyplot as plt"
   ]
  },
  {
   "cell_type": "code",
   "execution_count": 2,
   "id": "separate-yorkshire",
   "metadata": {},
   "outputs": [],
   "source": [
    "from sklearn.datasets import load_iris\n",
    "\n",
    "iris = load_iris()\n",
    "X = iris['data'][:, (2, 3)]\n",
    "y = iris['target']"
   ]
  },
  {
   "cell_type": "code",
   "execution_count": 3,
   "id": "ongoing-withdrawal",
   "metadata": {},
   "outputs": [],
   "source": [
    "X_with_bias = np.c_[np.ones([len(X), 1]), X]"
   ]
  },
  {
   "cell_type": "code",
   "execution_count": 4,
   "id": "numerous-plant",
   "metadata": {},
   "outputs": [],
   "source": [
    "np.random.seed(42)"
   ]
  },
  {
   "cell_type": "code",
   "execution_count": 5,
   "id": "handy-reservation",
   "metadata": {},
   "outputs": [],
   "source": [
    "def train_valid_test_split(X, y, valid_ratio=0.2, test_ratio=0.2):\n",
    "    \n",
    "    size = len(X)\n",
    "    valid_size = int(size * valid_ratio)\n",
    "    test_size = int(size * test_ratio)\n",
    "    train_size = size - valid_size - test_size\n",
    "    \n",
    "    rnd_indices = np.random.permutation(size)\n",
    "    X_train = X[rnd_indices[:train_size]]\n",
    "    y_train = y[rnd_indices[:train_size]]\n",
    "    X_valid = X[rnd_indices[train_size:-test_size]]\n",
    "    y_valid = y[rnd_indices[train_size:-test_size]]\n",
    "    X_test = X[rnd_indices[-test_size:]]\n",
    "    y_test = y[rnd_indices[-test_size:]]\n",
    "    \n",
    "    return X_train, y_train, X_valid, y_valid, X_test, y_test"
   ]
  },
  {
   "cell_type": "code",
   "execution_count": 6,
   "id": "immediate-second",
   "metadata": {},
   "outputs": [],
   "source": [
    "X_train, y_train, X_valid, y_valid, X_test, y_test = train_valid_test_split(X_with_bias, y)"
   ]
  },
  {
   "cell_type": "code",
   "execution_count": 7,
   "id": "located-crest",
   "metadata": {},
   "outputs": [],
   "source": [
    "def to_one_hot(y):\n",
    "    \n",
    "    n_classes = y.max() + 1\n",
    "    m = len(y)\n",
    "    y_one_hot = np.zeros((m, n_classes))\n",
    "    y_one_hot[np.arange(m), y] = 1\n",
    "    \n",
    "    return y_one_hot"
   ]
  },
  {
   "cell_type": "code",
   "execution_count": 8,
   "id": "technological-piano",
   "metadata": {},
   "outputs": [
    {
     "data": {
      "text/plain": [
       "array([1, 0, 2, 1, 1, 0, 1, 2, 1, 1])"
      ]
     },
     "execution_count": 8,
     "metadata": {},
     "output_type": "execute_result"
    }
   ],
   "source": [
    "y_train[:10]"
   ]
  },
  {
   "cell_type": "code",
   "execution_count": 9,
   "id": "supposed-budapest",
   "metadata": {},
   "outputs": [
    {
     "data": {
      "text/plain": [
       "array([[0., 1., 0.],\n",
       "       [1., 0., 0.],\n",
       "       [0., 0., 1.],\n",
       "       [0., 1., 0.],\n",
       "       [0., 1., 0.],\n",
       "       [1., 0., 0.],\n",
       "       [0., 1., 0.],\n",
       "       [0., 0., 1.],\n",
       "       [0., 1., 0.],\n",
       "       [0., 1., 0.]])"
      ]
     },
     "execution_count": 9,
     "metadata": {},
     "output_type": "execute_result"
    }
   ],
   "source": [
    "to_one_hot(y_train[:10])"
   ]
  },
  {
   "cell_type": "code",
   "execution_count": 10,
   "id": "sustained-mediterranean",
   "metadata": {},
   "outputs": [],
   "source": [
    "y_train_one_hot = to_one_hot(y_train)\n",
    "y_valid_one_hot = to_one_hot(y_valid)\n",
    "y_test_one_hot = to_one_hot(y_test)"
   ]
  },
  {
   "cell_type": "code",
   "execution_count": 11,
   "id": "blocked-dollar",
   "metadata": {},
   "outputs": [],
   "source": [
    "def softmax(logits):\n",
    "    \n",
    "    exps = np.exp(logits)\n",
    "    exp_sums = np.sum(exps, axis=1, keepdims=True)\n",
    "    \n",
    "    return exps / exp_sums"
   ]
  },
  {
   "cell_type": "code",
   "execution_count": 12,
   "id": "metric-florist",
   "metadata": {},
   "outputs": [],
   "source": [
    "n_inputs = X_train.shape[1]\n",
    "n_outputs = len(np.unique(y_train))"
   ]
  },
  {
   "cell_type": "code",
   "execution_count": 13,
   "id": "ceramic-interstate",
   "metadata": {},
   "outputs": [],
   "source": [
    "eta = 0.01\n",
    "n_iters = 5000\n",
    "m = len(X_train)\n",
    "epsilon = 1e-7\n",
    "\n",
    "theta = np.random.randn(n_inputs, n_outputs)"
   ]
  },
  {
   "cell_type": "code",
   "execution_count": 14,
   "id": "promotional-johnson",
   "metadata": {},
   "outputs": [
    {
     "name": "stdout",
     "output_type": "stream",
     "text": [
      "iterration 0, loss : 3.5356045081790177\n",
      "iterration 500, loss : 0.7698276617097016\n",
      "iterration 1000, loss : 0.6394784332731978\n",
      "iterration 1500, loss : 0.5618741363839648\n",
      "iterration 2000, loss : 0.5095831080853224\n",
      "iterration 2500, loss : 0.471273775599093\n",
      "iterration 3000, loss : 0.44155863305230325\n",
      "iterration 3500, loss : 0.4175598664804123\n",
      "iterration 4000, loss : 0.3975941721521857\n",
      "iterration 4500, loss : 0.38060484552797946\n",
      "iterration 5000, loss : 0.3658905593000994\n"
     ]
    }
   ],
   "source": [
    "for iter in range(n_iters+1):\n",
    "    logits = X_train.dot(theta)\n",
    "    y_proba = softmax(logits)\n",
    "    if iter % 500 == 0:\n",
    "        loss = -np.mean(np.sum(y_train_one_hot * np.log(y_proba + epsilon), axis=1))\n",
    "        print(f'iterration {iter}, loss : {loss}')\n",
    "    error = y_proba - y_train_one_hot\n",
    "    gradients = 1 / m * X_train.T.dot(error)\n",
    "    theta = theta - eta * gradients"
   ]
  },
  {
   "cell_type": "code",
   "execution_count": 15,
   "id": "signal-break",
   "metadata": {},
   "outputs": [
    {
     "data": {
      "text/plain": [
       "array([[ 2.44942005, -1.63172695, -3.63642175],\n",
       "       [-0.61947541,  0.50273412,  0.22142236],\n",
       "       [-0.96378971,  0.39312153,  2.48742003]])"
      ]
     },
     "execution_count": 15,
     "metadata": {},
     "output_type": "execute_result"
    }
   ],
   "source": [
    "theta"
   ]
  },
  {
   "cell_type": "code",
   "execution_count": 16,
   "id": "first-blackberry",
   "metadata": {},
   "outputs": [
    {
     "data": {
      "text/plain": [
       "0.9333333333333333"
      ]
     },
     "execution_count": 16,
     "metadata": {},
     "output_type": "execute_result"
    }
   ],
   "source": [
    "logits = X_valid.dot(theta)\n",
    "y_proba = softmax(logits)\n",
    "y_predict = np.argmax(y_proba, axis=1)\n",
    "\n",
    "accuracy_score = np.mean(y_predict == y_valid)\n",
    "accuracy_score"
   ]
  },
  {
   "cell_type": "code",
   "execution_count": null,
   "id": "constitutional-crawford",
   "metadata": {},
   "outputs": [],
   "source": []
  }
 ],
 "metadata": {
  "kernelspec": {
   "display_name": "Python 3",
   "language": "python",
   "name": "python3"
  },
  "language_info": {
   "codemirror_mode": {
    "name": "ipython",
    "version": 3
   },
   "file_extension": ".py",
   "mimetype": "text/x-python",
   "name": "python",
   "nbconvert_exporter": "python",
   "pygments_lexer": "ipython3",
   "version": "3.7.9"
  }
 },
 "nbformat": 4,
 "nbformat_minor": 5
}
