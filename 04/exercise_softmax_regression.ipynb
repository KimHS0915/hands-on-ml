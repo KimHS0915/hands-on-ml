{
 "cells": [
  {
   "cell_type": "code",
   "execution_count": 1,
   "id": "prescription-drama",
   "metadata": {},
   "outputs": [],
   "source": [
    "import numpy as np\n",
    "import matplotlib.pyplot as plt"
   ]
  },
  {
   "cell_type": "code",
   "execution_count": 2,
   "id": "executive-gilbert",
   "metadata": {},
   "outputs": [],
   "source": [
    "from sklearn.datasets import load_iris\n",
    "\n",
    "iris = load_iris()\n",
    "X = iris['data'][:, (2, 3)]\n",
    "y = iris['target']"
   ]
  },
  {
   "cell_type": "code",
   "execution_count": 3,
   "id": "incoming-settle",
   "metadata": {},
   "outputs": [],
   "source": [
    "X_with_bias = np.c_[np.ones([len(X), 1]), X]"
   ]
  },
  {
   "cell_type": "code",
   "execution_count": 4,
   "id": "insured-fabric",
   "metadata": {},
   "outputs": [],
   "source": [
    "np.random.seed(42)"
   ]
  },
  {
   "cell_type": "code",
   "execution_count": 5,
   "id": "loose-strap",
   "metadata": {},
   "outputs": [],
   "source": [
    "def train_valid_test_split(X, y, valid_ratio=0.2, test_ratio=0.2):\n",
    "    \n",
    "    size = len(X)\n",
    "    valid_size = int(size * valid_ratio)\n",
    "    test_size = int(size * test_ratio)\n",
    "    train_size = size - valid_size - test_size\n",
    "    \n",
    "    rnd_indices = np.random.permutation(size)\n",
    "    X_train = X[rnd_indices[:train_size]]\n",
    "    y_train = y[rnd_indices[:train_size]]\n",
    "    X_valid = X[rnd_indices[train_size:-test_size]]\n",
    "    y_valid = y[rnd_indices[train_size:-test_size]]\n",
    "    X_test = X[rnd_indices[-test_size:]]\n",
    "    y_test = y[rnd_indices[-test_size:]]\n",
    "    \n",
    "    return X_train, y_train, X_valid, y_valid, X_test, y_test"
   ]
  },
  {
   "cell_type": "code",
   "execution_count": 6,
   "id": "mounted-phase",
   "metadata": {},
   "outputs": [],
   "source": [
    "X_train, y_train, X_valid, y_valid, X_test, y_test = train_valid_test_split(X_with_bias, y)"
   ]
  },
  {
   "cell_type": "code",
   "execution_count": 7,
   "id": "fuzzy-fight",
   "metadata": {},
   "outputs": [],
   "source": [
    "def to_one_hot(y):\n",
    "    \n",
    "    n_classes = y.max() + 1\n",
    "    m = len(y)\n",
    "    y_one_hot = np.zeros((m, n_classes))\n",
    "    y_one_hot[np.arange(m), y] = 1\n",
    "    \n",
    "    return y_one_hot"
   ]
  },
  {
   "cell_type": "code",
   "execution_count": 8,
   "id": "automotive-evidence",
   "metadata": {},
   "outputs": [
    {
     "data": {
      "text/plain": [
       "array([1, 0, 2, 1, 1, 0, 1, 2, 1, 1])"
      ]
     },
     "execution_count": 8,
     "metadata": {},
     "output_type": "execute_result"
    }
   ],
   "source": [
    "y_train[:10]"
   ]
  },
  {
   "cell_type": "code",
   "execution_count": 9,
   "id": "maritime-genetics",
   "metadata": {},
   "outputs": [
    {
     "data": {
      "text/plain": [
       "array([[0., 1., 0.],\n",
       "       [1., 0., 0.],\n",
       "       [0., 0., 1.],\n",
       "       [0., 1., 0.],\n",
       "       [0., 1., 0.],\n",
       "       [1., 0., 0.],\n",
       "       [0., 1., 0.],\n",
       "       [0., 0., 1.],\n",
       "       [0., 1., 0.],\n",
       "       [0., 1., 0.]])"
      ]
     },
     "execution_count": 9,
     "metadata": {},
     "output_type": "execute_result"
    }
   ],
   "source": [
    "to_one_hot(y_train[:10])"
   ]
  },
  {
   "cell_type": "code",
   "execution_count": 10,
   "id": "rough-pencil",
   "metadata": {},
   "outputs": [],
   "source": [
    "y_train_one_hot = to_one_hot(y_train)\n",
    "y_valid_one_hot = to_one_hot(y_valid)\n",
    "y_test_one_hot = to_one_hot(y_test)"
   ]
  },
  {
   "cell_type": "code",
   "execution_count": 11,
   "id": "satisfactory-helmet",
   "metadata": {},
   "outputs": [],
   "source": [
    "def softmax(logits):\n",
    "    \n",
    "    exps = np.exp(logits)\n",
    "    exp_sums = np.sum(exps, axis=1, keepdims=True)\n",
    "    \n",
    "    return exps / exp_sums"
   ]
  },
  {
   "cell_type": "code",
   "execution_count": 12,
   "id": "designed-acting",
   "metadata": {},
   "outputs": [],
   "source": [
    "n_inputs = X_train.shape[1]\n",
    "n_outputs = len(np.unique(y_train))"
   ]
  },
  {
   "cell_type": "code",
   "execution_count": 13,
   "id": "returning-inquiry",
   "metadata": {},
   "outputs": [],
   "source": [
    "eta = 0.01\n",
    "n_iters = 5000\n",
    "m = len(X_train)\n",
    "epsilon = 1e-7\n",
    "\n",
    "theta = np.random.randn(n_inputs, n_outputs)"
   ]
  },
  {
   "cell_type": "code",
   "execution_count": 14,
   "id": "trying-genius",
   "metadata": {},
   "outputs": [
    {
     "name": "stdout",
     "output_type": "stream",
     "text": [
      "iteration 0, loss : 3.5356045081790177\n",
      "iteration 500, loss : 0.7698276617097016\n",
      "iteration 1000, loss : 0.6394784332731978\n",
      "iteration 1500, loss : 0.5618741363839648\n",
      "iteration 2000, loss : 0.5095831080853224\n",
      "iteration 2500, loss : 0.471273775599093\n",
      "iteration 3000, loss : 0.44155863305230325\n",
      "iteration 3500, loss : 0.4175598664804123\n",
      "iteration 4000, loss : 0.3975941721521857\n",
      "iteration 4500, loss : 0.38060484552797946\n",
      "iteration 5000, loss : 0.3658905593000994\n"
     ]
    }
   ],
   "source": [
    "for iter in range(n_iters+1):\n",
    "    logits = X_train.dot(theta)\n",
    "    y_proba = softmax(logits)\n",
    "    if iter % 500 == 0:\n",
    "        loss = -np.mean(np.sum(y_train_one_hot * np.log(y_proba + epsilon), axis=1))\n",
    "        print(f'iteration {iter}, loss : {loss}')\n",
    "    error = y_proba - y_train_one_hot\n",
    "    gradients = 1 / m * X_train.T.dot(error)\n",
    "    theta = theta - eta * gradients"
   ]
  },
  {
   "cell_type": "code",
   "execution_count": 15,
   "id": "alive-techno",
   "metadata": {},
   "outputs": [
    {
     "data": {
      "text/plain": [
       "array([[ 2.44942005, -1.63172695, -3.63642175],\n",
       "       [-0.61947541,  0.50273412,  0.22142236],\n",
       "       [-0.96378971,  0.39312153,  2.48742003]])"
      ]
     },
     "execution_count": 15,
     "metadata": {},
     "output_type": "execute_result"
    }
   ],
   "source": [
    "theta"
   ]
  },
  {
   "cell_type": "code",
   "execution_count": 16,
   "id": "proof-halloween",
   "metadata": {},
   "outputs": [
    {
     "data": {
      "text/plain": [
       "0.9333333333333333"
      ]
     },
     "execution_count": 16,
     "metadata": {},
     "output_type": "execute_result"
    }
   ],
   "source": [
    "logits = X_valid.dot(theta)\n",
    "y_proba = softmax(logits)\n",
    "y_predict = np.argmax(y_proba, axis=1)\n",
    "\n",
    "accuracy_score = np.mean(y_predict == y_valid)\n",
    "accuracy_score"
   ]
  },
  {
   "cell_type": "code",
   "execution_count": 17,
   "id": "automatic-disposal",
   "metadata": {},
   "outputs": [
    {
     "name": "stdout",
     "output_type": "stream",
     "text": [
      "iteration 0, loss : 4.074160805836161\n",
      "iteration 500, loss : 0.5159746132958637\n",
      "iteration 1000, loss : 0.49124622842160703\n",
      "iteration 1500, loss : 0.4842826626269516\n",
      "iteration 2000, loss : 0.48172881149189384\n",
      "iteration 2500, loss : 0.4807092367289707\n",
      "iteration 3000, loss : 0.4802846688736693\n",
      "iteration 3500, loss : 0.48010354679755285\n",
      "iteration 4000, loss : 0.4800251331504283\n",
      "iteration 4500, loss : 0.4799908689215818\n",
      "iteration 5000, loss : 0.4799758070182931\n"
     ]
    }
   ],
   "source": [
    "eta = 0.1\n",
    "n_iters = 5000\n",
    "m = len(X_train)\n",
    "epsilon = 1e-7\n",
    "alpha = 0.1\n",
    "\n",
    "theta = np.random.randn(n_inputs, n_outputs)\n",
    "\n",
    "for iter in range(n_iters+1):\n",
    "    logits = X_train.dot(theta)\n",
    "    y_proba = softmax(logits)\n",
    "    if iter % 500 == 0:\n",
    "        xentropy_loss = -np.mean(np.sum(y_train_one_hot * np.log(y_proba + epsilon), axis=1))\n",
    "        l2_loss = 1 / 2 * np.sum(np.square(theta[1:]))\n",
    "        loss = xentropy_loss + alpha * l2_loss\n",
    "        print(f'iteration {iter}, loss : {loss}')\n",
    "    error = y_proba - y_train_one_hot\n",
    "    gradients = 1 / m * X_train.T.dot(error) + np.r_[np.zeros([1, n_outputs]), alpha * theta[1:]]\n",
    "    theta = theta - eta * gradients"
   ]
  },
  {
   "cell_type": "code",
   "execution_count": 18,
   "id": "casual-delay",
   "metadata": {},
   "outputs": [
    {
     "data": {
      "text/plain": [
       "0.9333333333333333"
      ]
     },
     "execution_count": 18,
     "metadata": {},
     "output_type": "execute_result"
    }
   ],
   "source": [
    "logits = X_valid.dot(theta)\n",
    "y_proba = softmax(logits)\n",
    "y_predict = np.argmax(y_proba, axis=1)\n",
    "\n",
    "accuracy_score = np.mean(y_predict == y_valid)\n",
    "accuracy_score"
   ]
  },
  {
   "cell_type": "code",
   "execution_count": 19,
   "id": "based-central",
   "metadata": {},
   "outputs": [
    {
     "name": "stdout",
     "output_type": "stream",
     "text": [
      "iteration 0, loss : 1.7715206020472196\n",
      "iteration 500, loss : 0.5707532983595428\n",
      "iteration 1000, loss : 0.545946882198638\n",
      "iteration 1500, loss : 0.5380948912189549\n",
      "iteration 2000, loss : 0.5349265834600064\n",
      "iteration 2500, loss : 0.5335454107098025\n",
      "iteration 3000, loss : 0.5329073608729564\n",
      "iteration 3500, loss : 0.5325963465739497\n",
      "iteration 4000, loss : 0.5324366553661258\n",
      "iteration 4500, loss : 0.5323504675033873\n",
      "iteration 5000, loss : 0.5323017576862805\n",
      "iteration 5500, loss : 0.5322730965149327\n",
      "iteration 6000, loss : 0.5322556606856291\n",
      "iteration 6500, loss : 0.5322447728304798\n",
      "iteration 7000, loss : 0.5322378391451005\n",
      "iteration 7500, loss : 0.5322333602722991\n",
      "iteration 8000, loss : 0.5322304378296702\n",
      "iteration 8500, loss : 0.532228517572195\n",
      "iteration 9000, loss : 0.5322272497623664\n",
      "iteration 9500, loss : 0.5322264099879318\n",
      "iteration 10000, loss : 0.5322258525122914\n",
      "iteration 10500, loss : 0.5322254818903361\n",
      "iteration 11000, loss : 0.5322252352484067\n",
      "iteration 11500, loss : 0.5322250710039061\n",
      "iteration 12000, loss : 0.5322249615812137\n",
      "iteration 12500, loss : 0.5322248886602121\n",
      "iteration 13000, loss : 0.5322248400548989\n",
      "iteration 13500, loss : 0.5322248076528713\n",
      "iteration 14000, loss : 0.5322247860506273\n",
      "iteration 14500, loss : 0.5322247716476906\n",
      "iteration 15000, loss : 0.5322247620443961\n",
      "iteration 15500, loss : 0.5322247556411411\n",
      "iteration 16000, loss : 0.5322247513715243\n",
      "iteration 16500, loss : 0.5322247485245597\n",
      "iteration 17000, loss : 0.5322247466261997\n",
      "iteration 17500, loss : 0.5322247453603641\n",
      "iteration 18000, loss : 0.5322247445162958\n",
      "iteration 18500, loss : 0.5322247439534636\n",
      "iteration 19000, loss : 0.5322247435781619\n",
      "iteration 19500, loss : 0.5322247433279066\n",
      "iteration 20000, loss : 0.5322247431610336\n",
      "iteration 20500, loss : 0.532224743049761\n",
      "iteration 21000, loss : 0.532224742975563\n",
      "iteration 21500, loss : 0.532224742926087\n",
      "iteration 22000, loss : 0.5322247428930958\n",
      "iteration 22500, loss : 0.5322247428710969\n",
      "iteration 23000, loss : 0.5322247428564277\n",
      "iteration 23500, loss : 0.5322247428466462\n",
      "iteration 24000, loss : 0.5322247428401238\n",
      "iteration 24500, loss : 0.5322247428357747\n",
      "iteration 25000, loss : 0.5322247428328744\n",
      "iteration 25500, loss : 0.5322247428309406\n",
      "iteration 26000, loss : 0.5322247428296512\n",
      "iteration 26500, loss : 0.5322247428287912\n",
      "iteration 27000, loss : 0.5322247428282179\n",
      "iteration 27500, loss : 0.5322247428278356\n",
      "iteration 28000, loss : 0.5322247428275806\n",
      "iteration 28419, loss : 0.5322247428274338 <-early stopping\n"
     ]
    }
   ],
   "source": [
    "eta = 0.1\n",
    "n_iters = 50000\n",
    "m = len(X_train)\n",
    "epsilon = 1e-7\n",
    "alpha = 0.1\n",
    "best_loss = np.inf\n",
    "\n",
    "theta = np.random.randn(n_inputs, n_outputs)\n",
    "\n",
    "for iter in range(n_iters+1):\n",
    "    logits = X_train.dot(theta)\n",
    "    y_proba = softmax(logits)\n",
    "    error = y_proba - y_train_one_hot\n",
    "    gradients = 1 / m * X_train.T.dot(error) + np.r_[np.zeros([1, n_outputs]), alpha * theta[1:]]\n",
    "    theta = theta - eta * gradients\n",
    "    \n",
    "    logits = X_valid.dot(theta)\n",
    "    y_proba = softmax(logits)\n",
    "    xentropy_loss = -np.mean(np.sum(y_valid_one_hot * np.log(y_proba + epsilon), axis=1))\n",
    "    l2_loss = 1 / 2 * np.sum(np.square(theta[1:]))\n",
    "    loss = xentropy_loss + alpha * l2_loss\n",
    "    if iter % 500 == 0:\n",
    "        print(f'iteration {iter}, loss : {loss}')\n",
    "    if loss < best_loss:\n",
    "        best_loss = loss\n",
    "    else:\n",
    "        print(f'iteration {iter}, loss : {best_loss} <-early stopping')\n",
    "        break"
   ]
  },
  {
   "cell_type": "code",
   "execution_count": 20,
   "id": "skilled-mobility",
   "metadata": {},
   "outputs": [
    {
     "data": {
      "text/plain": [
       "0.9333333333333333"
      ]
     },
     "execution_count": 20,
     "metadata": {},
     "output_type": "execute_result"
    }
   ],
   "source": [
    "logits = X_valid.dot(theta)\n",
    "y_proba = softmax(logits)\n",
    "y_predict = np.argmax(y_proba, axis=1)\n",
    "\n",
    "accuracy_score = np.mean(y_predict == y_valid)\n",
    "accuracy_score"
   ]
  },
  {
   "cell_type": "code",
   "execution_count": 21,
   "id": "precise-senate",
   "metadata": {},
   "outputs": [
    {
     "data": {
      "image/png": "[encoded data removed]",
      "text/plain": [
       "<Figure size 720x288 with 1 Axes>"
      ]
     },
     "metadata": {
      "needs_background": "light"
     },
     "output_type": "display_data"
    }
   ],
   "source": [
    "x0, x1 = np.meshgrid(\n",
    "        np.linspace(0, 8, 500).reshape(-1, 1),\n",
    "        np.linspace(0, 3.5, 200).reshape(-1, 1),\n",
    "    )\n",
    "X_new = np.c_[x0.ravel(), x1.ravel()]\n",
    "X_new_with_bias = np.c_[np.ones([len(X_new), 1]), X_new]\n",
    "\n",
    "logits = X_new_with_bias.dot(theta)\n",
    "Y_proba = softmax(logits)\n",
    "y_predict = np.argmax(Y_proba, axis=1)\n",
    "\n",
    "zz1 = Y_proba[:, 1].reshape(x0.shape)\n",
    "zz = y_predict.reshape(x0.shape)\n",
    "\n",
    "plt.figure(figsize=(10, 4))\n",
    "plt.plot(X[y==2, 0], X[y==2, 1], \"g^\", label=\"Iris virginica\")\n",
    "plt.plot(X[y==1, 0], X[y==1, 1], \"bs\", label=\"Iris versicolor\")\n",
    "plt.plot(X[y==0, 0], X[y==0, 1], \"yo\", label=\"Iris setosa\")\n",
    "\n",
    "from matplotlib.colors import ListedColormap\n",
    "custom_cmap = ListedColormap(['#fafab0','#9898ff','#a0faa0'])\n",
    "\n",
    "plt.contourf(x0, x1, zz, cmap=custom_cmap)\n",
    "contour = plt.contour(x0, x1, zz1, cmap=plt.cm.brg)\n",
    "plt.clabel(contour, inline=1, fontsize=12)\n",
    "plt.xlabel(\"Petal length\", fontsize=14)\n",
    "plt.ylabel(\"Petal width\", fontsize=14)\n",
    "plt.legend(loc=\"upper left\", fontsize=14)\n",
    "plt.axis([0, 7, 0, 3.5])\n",
    "plt.show()"
   ]
  },
  {
   "cell_type": "code",
   "execution_count": 22,
   "id": "worthy-colombia",
   "metadata": {},
   "outputs": [
    {
     "data": {
      "text/plain": [
       "0.9666666666666667"
      ]
     },
     "execution_count": 22,
     "metadata": {},
     "output_type": "execute_result"
    }
   ],
   "source": [
    "logits = X_test.dot(theta)\n",
    "y_proba = softmax(logits)\n",
    "y_predict = np.argmax(y_proba, axis=1)\n",
    "\n",
    "accuracy_score = np.mean(y_predict == y_test)\n",
    "accuracy_score"
   ]
  },
  {
   "cell_type": "code",
   "execution_count": null,
   "id": "mounted-payday",
   "metadata": {},
   "outputs": [],
   "source": []
  }
 ],
 "metadata": {
  "kernelspec": {
   "display_name": "Python 3",
   "language": "python",
   "name": "python3"
  },
  "language_info": {
   "codemirror_mode": {
    "name": "ipython",
    "version": 3
   },
   "file_extension": ".py",
   "mimetype": "text/x-python",
   "name": "python",
   "nbconvert_exporter": "python",
   "pygments_lexer": "ipython3",
   "version": "3.7.9"
  }
 },
 "nbformat": 4,
 "nbformat_minor": 5
}
