{
 "cells": [
  {
   "cell_type": "code",
   "execution_count": 1,
   "id": "illegal-fashion",
   "metadata": {},
   "outputs": [],
   "source": [
    "import warnings\n",
    "\n",
    "warnings.filterwarnings('ignore')"
   ]
  },
  {
   "cell_type": "code",
   "execution_count": 2,
   "id": "administrative-annotation",
   "metadata": {},
   "outputs": [],
   "source": [
    "from sklearn.datasets import fetch_california_housing\n",
    "from sklearn.model_selection import train_test_split\n",
    "from sklearn.preprocessing import StandardScaler\n",
    "\n",
    "X, y = fetch_california_housing(return_X_y=True)\n",
    "X_train, X_test, y_train, y_test = train_test_split(X, y, test_size=0.2, random_state=42)\n",
    "\n",
    "scaler = StandardScaler()\n",
    "scaled_X_train = scaler.fit_transform(X_train)\n",
    "scaled_X_test = scaler.transform(X_test)"
   ]
  },
  {
   "cell_type": "code",
   "execution_count": 3,
   "id": "proprietary-modem",
   "metadata": {},
   "outputs": [],
   "source": [
    "def print_rmse(y_train, y_pred):\n",
    "    mse = mean_squared_error(y_train, y_pred)\n",
    "    rmse = np.sqrt(mse)\n",
    "    print(f'MSE : {mse}, RMSE: {rmse}')"
   ]
  },
  {
   "cell_type": "code",
   "execution_count": 4,
   "id": "incorporated-obligation",
   "metadata": {},
   "outputs": [
    {
     "name": "stdout",
     "output_type": "stream",
     "text": [
      "MSE : 0.9641780189948642, RMSE: 0.9819256687727764\n"
     ]
    }
   ],
   "source": [
    "import numpy as np\n",
    "from sklearn.svm import LinearSVR\n",
    "from sklearn.metrics import mean_squared_error\n",
    "\n",
    "linear_svr = LinearSVR(random_state=42)\n",
    "linear_svr.fit(scaled_X_train, y_train)\n",
    "\n",
    "y_pred = linear_svr.predict(scaled_X_train)\n",
    "print_rmse(y_train, y_pred)"
   ]
  },
  {
   "cell_type": "code",
   "execution_count": 5,
   "id": "fresh-independence",
   "metadata": {},
   "outputs": [
    {
     "name": "stdout",
     "output_type": "stream",
     "text": [
      "MSE : 0.33613015291858067, RMSE: 0.5797673265358964\n"
     ]
    }
   ],
   "source": [
    "from sklearn.svm import SVR\n",
    "\n",
    "svr = SVR()\n",
    "svr.fit(scaled_X_train, y_train)\n",
    "\n",
    "y_pred = svr.predict(scaled_X_train)\n",
    "print_rmse(y_train, y_pred)"
   ]
  },
  {
   "cell_type": "code",
   "execution_count": 6,
   "id": "removed-annual",
   "metadata": {},
   "outputs": [
    {
     "data": {
      "text/plain": [
       "RandomizedSearchCV(cv=3, estimator=SVR(), n_jobs=-1,\n",
       "                   param_distributions={'C': <scipy.stats._distn_infrastructure.rv_frozen object at 0x0000012685328B88>,\n",
       "                                        'gamma': <scipy.stats._distn_infrastructure.rv_frozen object at 0x000001268585C708>},\n",
       "                   random_state=42, scoring='neg_mean_squared_error')"
      ]
     },
     "execution_count": 6,
     "metadata": {},
     "output_type": "execute_result"
    }
   ],
   "source": [
    "from sklearn.model_selection import RandomizedSearchCV\n",
    "from scipy.stats import reciprocal, uniform\n",
    "\n",
    "params = {\n",
    "    'gamma': reciprocal(0.001, 0.1),\n",
    "    'C': uniform(1, 10)\n",
    "}\n",
    "\n",
    "svr = SVR()\n",
    "rcv = RandomizedSearchCV(svr, params, scoring='neg_mean_squared_error', n_jobs=-1, cv=3, random_state=42)\n",
    "rcv.fit(scaled_X_train, y_train)"
   ]
  },
  {
   "cell_type": "code",
   "execution_count": 7,
   "id": "alive-salad",
   "metadata": {},
   "outputs": [
    {
     "name": "stdout",
     "output_type": "stream",
     "text": [
      "best score\n",
      " mse: 0.34980808276117986 rmse: 0.591445756397981\n",
      "best estimator\n",
      " SVR(C=4.745401188473625, gamma=0.07969454818643928)\n"
     ]
    }
   ],
   "source": [
    "print(f'best score\\n mse: {-rcv.best_score_} rmse: {np.sqrt(-rcv.best_score_)}')\n",
    "print(f'best estimator\\n {rcv.best_estimator_}')"
   ]
  },
  {
   "cell_type": "code",
   "execution_count": 8,
   "id": "aggregate-somerset",
   "metadata": {},
   "outputs": [
    {
     "name": "stdout",
     "output_type": "stream",
     "text": [
      "MSE : 0.3280453999995986, RMSE: 0.5727524770785357\n"
     ]
    }
   ],
   "source": [
    "y_pred = rcv.best_estimator_.predict(scaled_X_train)\n",
    "print_rmse(y_train, y_pred)"
   ]
  },
  {
   "cell_type": "code",
   "execution_count": 9,
   "id": "embedded-teaching",
   "metadata": {},
   "outputs": [
    {
     "name": "stdout",
     "output_type": "stream",
     "text": [
      "MSE : 0.3515503774395355, RMSE: 0.5929168385528746\n"
     ]
    }
   ],
   "source": [
    "y_pred = rcv.best_estimator_.predict(scaled_X_test)\n",
    "print_rmse(y_test, y_pred)"
   ]
  },
  {
   "cell_type": "code",
   "execution_count": null,
   "id": "defined-bracelet",
   "metadata": {},
   "outputs": [],
   "source": []
  }
 ],
 "metadata": {
  "kernelspec": {
   "display_name": "Python [conda env:hands] *",
   "language": "python",
   "name": "conda-env-hands-py"
  },
  "language_info": {
   "codemirror_mode": {
    "name": "ipython",
    "version": 3
   },
   "file_extension": ".py",
   "mimetype": "text/x-python",
   "name": "python",
   "nbconvert_exporter": "python",
   "pygments_lexer": "ipython3",
   "version": "3.7.9"
  }
 },
 "nbformat": 4,
 "nbformat_minor": 5
}
