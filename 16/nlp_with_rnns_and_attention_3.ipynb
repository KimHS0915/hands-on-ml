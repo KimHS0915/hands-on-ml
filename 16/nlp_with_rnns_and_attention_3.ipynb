{
 "cells": [
  {
   "cell_type": "code",
   "execution_count": 1,
   "id": "gorgeous-amount",
   "metadata": {},
   "outputs": [],
   "source": [
    "import numpy as np\n",
    "import tensorflow as tf\n",
    "from tensorflow import keras"
   ]
  },
  {
   "cell_type": "code",
   "execution_count": 2,
   "id": "affected-matter",
   "metadata": {},
   "outputs": [],
   "source": [
    "shakespeare_url = 'https://homl.info/shakespeare'\n",
    "filepath = keras.utils.get_file('shakespeare.txt', shakespeare_url)\n",
    "\n",
    "with open(filepath) as f:\n",
    "    shakespeare_text = f.read()"
   ]
  },
  {
   "cell_type": "code",
   "execution_count": 3,
   "id": "theoretical-sharp",
   "metadata": {},
   "outputs": [],
   "source": [
    "tokenizer = keras.preprocessing.text.Tokenizer(char_level=True)\n",
    "tokenizer.fit_on_texts(shakespeare_text)"
   ]
  },
  {
   "cell_type": "code",
   "execution_count": 4,
   "id": "informed-resort",
   "metadata": {},
   "outputs": [],
   "source": [
    "max_id = len(tokenizer.word_index)\n",
    "dataset_size = tokenizer.document_count\n",
    "[encoded] = np.array(tokenizer.texts_to_sequences([shakespeare_text])) - 1\n",
    "train_size = int(dataset_size * 0.9)\n",
    "n_steps = 100\n",
    "window_length = n_steps + 1"
   ]
  },
  {
   "cell_type": "code",
   "execution_count": 5,
   "id": "automatic-vertex",
   "metadata": {},
   "outputs": [],
   "source": [
    "dataset = tf.data.Dataset.from_tensor_slices(encoded[:train_size])\n",
    "dataset = dataset.window(window_length, shift=n_steps, drop_remainder=True)\n",
    "dataset = dataset.flat_map(lambda window: window.batch(window_length))\n",
    "dataset = dataset.batch(1)\n",
    "dataset = dataset.map(lambda windows: (windows[:, :-1], windows[:, 1:]))\n",
    "dataset = dataset.map(\n",
    "    lambda x_batch, y_batch: (tf.one_hot(x_batch, depth=max_id), y_batch))\n",
    "dataset = dataset.prefetch(1)"
   ]
  },
  {
   "cell_type": "code",
   "execution_count": 6,
   "id": "sublime-strip",
   "metadata": {},
   "outputs": [],
   "source": [
    "model = keras.models.Sequential([\n",
    "    keras.layers.GRU(128, return_sequences=True, \n",
    "                     batch_input_shape=[1, None, max_id], \n",
    "                     dropout=0.2, stateful=True), \n",
    "    keras.layers.GRU(128, return_sequences=True, \n",
    "                     dropout=0.2, stateful=True), \n",
    "    keras.layers.TimeDistributed(\n",
    "        keras.layers.Dense(max_id, activation='softmax'))\n",
    "])"
   ]
  },
  {
   "cell_type": "code",
   "execution_count": 7,
   "id": "likely-apollo",
   "metadata": {},
   "outputs": [],
   "source": [
    "class ResetStatesCallback(keras.callbacks.Callback):\n",
    "    def on_epoch_begin(self, epoch, logs):\n",
    "        self.model.reset_states()"
   ]
  },
  {
   "cell_type": "code",
   "execution_count": 8,
   "id": "surrounded-consciousness",
   "metadata": {},
   "outputs": [
    {
     "name": "stdout",
     "output_type": "stream",
     "text": [
      "Epoch 1/5\n",
      "10038/10038 [==============================] - 79s 8ms/step - loss: 2.0886\n",
      "Epoch 2/5\n",
      "10038/10038 [==============================] - 73s 7ms/step - loss: 1.8959\n",
      "Epoch 3/5\n",
      "10038/10038 [==============================] - 73s 7ms/step - loss: 1.8458\n",
      "Epoch 4/5\n",
      "10038/10038 [==============================] - 78s 8ms/step - loss: 1.8184\n",
      "Epoch 5/5\n",
      "10038/10038 [==============================] - 76s 8ms/step - loss: 1.7992\n"
     ]
    }
   ],
   "source": [
    "model.compile(loss='sparse_categorical_crossentropy', optimizer='adam')\n",
    "\n",
    "history = model.fit(dataset, epochs=5, callbacks=[ResetStatesCallback()])"
   ]
  },
  {
   "cell_type": "code",
   "execution_count": 9,
   "id": "emotional-blend",
   "metadata": {},
   "outputs": [],
   "source": [
    "def preprocess(texts):\n",
    "    x = np.array(tokenizer.texts_to_sequences(texts)) - 1\n",
    "    return tf.one_hot(x, max_id)\n",
    "\n",
    "def next_char(text, temperature=1):\n",
    "    x_new = preprocess([text])\n",
    "    y_proba = model(x_new)[0, -1:, :]\n",
    "    rescaled_logits = tf.math.log(y_proba) / temperature\n",
    "    char_id = tf.random.categorical(rescaled_logits, num_samples=1) + 1\n",
    "    return tokenizer.sequences_to_texts(char_id.numpy())[0]\n",
    "\n",
    "def complete_text(text, n_chars=50, temperature=1):\n",
    "    for _ in range(n_chars):\n",
    "        text += next_char(text, temperature)\n",
    "    return text"
   ]
  },
  {
   "cell_type": "code",
   "execution_count": 10,
   "id": "lined-lighting",
   "metadata": {},
   "outputs": [],
   "source": [
    "stateless_model = keras.models.Sequential([\n",
    "    keras.layers.GRU(128, return_sequences=True, input_shape=[None, max_id]),\n",
    "    keras.layers.GRU(128, return_sequences=True),\n",
    "    keras.layers.TimeDistributed(\n",
    "        keras.layers.Dense(max_id, activation='softmax'))\n",
    "])"
   ]
  },
  {
   "cell_type": "code",
   "execution_count": 11,
   "id": "black-millennium",
   "metadata": {},
   "outputs": [],
   "source": [
    "stateless_model.build(tf.TensorShape([None, None, max_id]))"
   ]
  },
  {
   "cell_type": "code",
   "execution_count": 12,
   "id": "becoming-announcement",
   "metadata": {},
   "outputs": [],
   "source": [
    "stateless_model.set_weights(model.get_weights())\n",
    "model = stateless_model"
   ]
  },
  {
   "cell_type": "code",
   "execution_count": 13,
   "id": "third-budapest",
   "metadata": {},
   "outputs": [
    {
     "data": {
      "text/plain": [
       "'the world her for my father,\\nand she shall be the s'"
      ]
     },
     "execution_count": 13,
     "metadata": {},
     "output_type": "execute_result"
    }
   ],
   "source": [
    "complete_text('t', temperature=0.2)"
   ]
  },
  {
   "cell_type": "code",
   "execution_count": 14,
   "id": "arctic-booth",
   "metadata": {},
   "outputs": [
    {
     "data": {
      "text/plain": [
       "'to clare it would him\\nit is been of\\nyour dighters y'"
      ]
     },
     "execution_count": 14,
     "metadata": {},
     "output_type": "execute_result"
    }
   ],
   "source": [
    "complete_text('t', temperature=1)"
   ]
  },
  {
   "cell_type": "code",
   "execution_count": 15,
   "id": "exceptional-sauce",
   "metadata": {},
   "outputs": [
    {
     "data": {
      "text/plain": [
       "\"tis?\\nby kope m! her yeajy'd; the mea. cspuls fac yo\""
      ]
     },
     "execution_count": 15,
     "metadata": {},
     "output_type": "execute_result"
    }
   ],
   "source": [
    "complete_text('t', temperature=2)"
   ]
  },
  {
   "cell_type": "code",
   "execution_count": 16,
   "id": "broken-majority",
   "metadata": {},
   "outputs": [],
   "source": [
    "batch_size = 32\n",
    "encoded_parts = np.array_split(encoded[:train_size], batch_size)\n",
    "\n",
    "datasets = []\n",
    "for encoded_part in encoded_parts:\n",
    "    dataset = tf.data.Dataset.from_tensor_slices(encoded_part)\n",
    "    dataset = dataset.window(window_length, shift=n_steps, drop_remainder=True)\n",
    "    dataset = dataset.flat_map(lambda window: window.batch(window_length))\n",
    "    datasets.append(dataset)\n",
    "\n",
    "dataset = tf.data.Dataset.zip(tuple(datasets)).map(lambda *windows: tf.stack(windows))\n",
    "dataset = dataset.map(lambda windows: (windows[:, :-1], windows[:, 1:]))\n",
    "dataset = dataset.map(\n",
    "    lambda x_batch, y_batch: (tf.one_hot(x_batch, depth=max_id), y_batch))\n",
    "dataset = dataset.prefetch(1)"
   ]
  },
  {
   "cell_type": "code",
   "execution_count": 17,
   "id": "elder-melissa",
   "metadata": {},
   "outputs": [
    {
     "name": "stdout",
     "output_type": "stream",
     "text": [
      "Epoch 1/50\n",
      "313/313 [==============================] - 5s 11ms/step - loss: 2.6124\n",
      "Epoch 2/50\n",
      "313/313 [==============================] - 3s 11ms/step - loss: 2.2407\n",
      "Epoch 3/50\n",
      "313/313 [==============================] - 3s 10ms/step - loss: 2.1119\n",
      "Epoch 4/50\n",
      "313/313 [==============================] - 3s 10ms/step - loss: 2.0353\n",
      "Epoch 5/50\n",
      "313/313 [==============================] - 3s 11ms/step - loss: 1.9857\n",
      "Epoch 6/50\n",
      "313/313 [==============================] - 3s 10ms/step - loss: 1.9471\n",
      "Epoch 7/50\n",
      "313/313 [==============================] - 3s 10ms/step - loss: 1.9186\n",
      "Epoch 8/50\n",
      "313/313 [==============================] - 3s 10ms/step - loss: 1.8967\n",
      "Epoch 9/50\n",
      "313/313 [==============================] - 3s 10ms/step - loss: 1.8780\n",
      "Epoch 10/50\n",
      "313/313 [==============================] - 3s 10ms/step - loss: 1.8653\n",
      "Epoch 11/50\n",
      "313/313 [==============================] - 3s 10ms/step - loss: 1.8513\n",
      "Epoch 12/50\n",
      "313/313 [==============================] - 3s 10ms/step - loss: 1.8390\n",
      "Epoch 13/50\n",
      "313/313 [==============================] - 3s 11ms/step - loss: 1.8291\n",
      "Epoch 14/50\n",
      "313/313 [==============================] - 3s 11ms/step - loss: 1.8231\n",
      "Epoch 15/50\n",
      "313/313 [==============================] - 3s 10ms/step - loss: 1.8131\n",
      "Epoch 16/50\n",
      "313/313 [==============================] - 3s 10ms/step - loss: 1.8077\n",
      "Epoch 17/50\n",
      "313/313 [==============================] - 4s 12ms/step - loss: 1.8021\n",
      "Epoch 18/50\n",
      "313/313 [==============================] - 3s 11ms/step - loss: 1.7973\n",
      "Epoch 19/50\n",
      "313/313 [==============================] - 4s 13ms/step - loss: 1.7887\n",
      "Epoch 20/50\n",
      "313/313 [==============================] - 4s 12ms/step - loss: 1.7868\n",
      "Epoch 21/50\n",
      "313/313 [==============================] - 4s 12ms/step - loss: 1.7806\n",
      "Epoch 22/50\n",
      "313/313 [==============================] - 4s 12ms/step - loss: 1.7756\n",
      "Epoch 23/50\n",
      "313/313 [==============================] - 4s 13ms/step - loss: 1.7727\n",
      "Epoch 24/50\n",
      "313/313 [==============================] - 4s 12ms/step - loss: 1.7691\n",
      "Epoch 25/50\n",
      "313/313 [==============================] - 4s 13ms/step - loss: 1.7653\n",
      "Epoch 26/50\n",
      "313/313 [==============================] - 4s 12ms/step - loss: 1.7609\n",
      "Epoch 27/50\n",
      "313/313 [==============================] - 4s 12ms/step - loss: 1.7597\n",
      "Epoch 28/50\n",
      "313/313 [==============================] - 4s 11ms/step - loss: 1.7548\n",
      "Epoch 29/50\n",
      "313/313 [==============================] - 3s 11ms/step - loss: 1.7521\n",
      "Epoch 30/50\n",
      "313/313 [==============================] - 3s 11ms/step - loss: 1.7521\n",
      "Epoch 31/50\n",
      "313/313 [==============================] - 3s 11ms/step - loss: 1.7491\n",
      "Epoch 32/50\n",
      "313/313 [==============================] - 3s 11ms/step - loss: 1.7449\n",
      "Epoch 33/50\n",
      "313/313 [==============================] - 4s 12ms/step - loss: 1.7427\n",
      "Epoch 34/50\n",
      "313/313 [==============================] - 3s 11ms/step - loss: 1.7404\n",
      "Epoch 35/50\n",
      "313/313 [==============================] - 3s 11ms/step - loss: 1.7412\n",
      "Epoch 36/50\n",
      "313/313 [==============================] - 3s 11ms/step - loss: 1.7375\n",
      "Epoch 37/50\n",
      "313/313 [==============================] - 3s 11ms/step - loss: 1.7360\n",
      "Epoch 38/50\n",
      "313/313 [==============================] - 3s 11ms/step - loss: 1.7328\n",
      "Epoch 39/50\n",
      "313/313 [==============================] - 3s 11ms/step - loss: 1.7319\n",
      "Epoch 40/50\n",
      "313/313 [==============================] - 3s 11ms/step - loss: 1.7297\n",
      "Epoch 41/50\n",
      "313/313 [==============================] - 3s 11ms/step - loss: 1.7270\n",
      "Epoch 42/50\n",
      "313/313 [==============================] - 3s 11ms/step - loss: 1.7269\n",
      "Epoch 43/50\n",
      "313/313 [==============================] - 3s 11ms/step - loss: 1.7262\n",
      "Epoch 44/50\n",
      "313/313 [==============================] - 3s 11ms/step - loss: 1.7241\n",
      "Epoch 45/50\n",
      "313/313 [==============================] - 3s 11ms/step - loss: 1.7198\n",
      "Epoch 46/50\n",
      "313/313 [==============================] - 3s 11ms/step - loss: 1.7220\n",
      "Epoch 47/50\n",
      "313/313 [==============================] - 3s 10ms/step - loss: 1.7190\n",
      "Epoch 48/50\n",
      "313/313 [==============================] - 3s 11ms/step - loss: 1.7197\n",
      "Epoch 49/50\n",
      "313/313 [==============================] - 3s 10ms/step - loss: 1.7174\n",
      "Epoch 50/50\n",
      "313/313 [==============================] - 3s 10ms/step - loss: 1.7165\n"
     ]
    }
   ],
   "source": [
    "model = keras.models.Sequential([\n",
    "    keras.layers.GRU(128, return_sequences=True, \n",
    "                     batch_input_shape=[batch_size, None, max_id], \n",
    "                     dropout=0.2, stateful=True), \n",
    "    keras.layers.GRU(128, return_sequences=True, \n",
    "                     dropout=0.2, stateful=True), \n",
    "    keras.layers.TimeDistributed(\n",
    "        keras.layers.Dense(max_id, activation='softmax'))\n",
    "])\n",
    "\n",
    "model.compile(loss='sparse_categorical_crossentropy', optimizer='adam')\n",
    "\n",
    "history = model.fit(dataset, epochs=50, callbacks=[ResetStatesCallback()])"
   ]
  },
  {
   "cell_type": "code",
   "execution_count": 18,
   "id": "biblical-schedule",
   "metadata": {},
   "outputs": [],
   "source": [
    "stateless_model = keras.models.Sequential([\n",
    "    keras.layers.GRU(128, return_sequences=True, input_shape=[None, max_id]),\n",
    "    keras.layers.GRU(128, return_sequences=True),\n",
    "    keras.layers.TimeDistributed(\n",
    "        keras.layers.Dense(max_id, activation='softmax'))\n",
    "])\n",
    "\n",
    "stateless_model.build(tf.TensorShape([None, None, max_id]))\n",
    "stateless_model.set_weights(model.get_weights())\n",
    "model = stateless_model"
   ]
  },
  {
   "cell_type": "code",
   "execution_count": 19,
   "id": "metropolitan-grain",
   "metadata": {},
   "outputs": [
    {
     "data": {
      "text/plain": [
       "'there we will be a seed\\nto his son to the fire of a'"
      ]
     },
     "execution_count": 19,
     "metadata": {},
     "output_type": "execute_result"
    }
   ],
   "source": [
    "complete_text('t', temperature=0.2)"
   ]
  },
  {
   "cell_type": "code",
   "execution_count": 20,
   "id": "occasional-botswana",
   "metadata": {},
   "outputs": [
    {
     "data": {
      "text/plain": [
       "'thore,\\nby pacred but bark you land true from him.\\ns'"
      ]
     },
     "execution_count": 20,
     "metadata": {},
     "output_type": "execute_result"
    }
   ],
   "source": [
    "complete_text('t', temperature=1)"
   ]
  },
  {
   "cell_type": "code",
   "execution_count": 21,
   "id": "standard-papua",
   "metadata": {},
   "outputs": [
    {
     "data": {
      "text/plain": [
       "'tceoh\\nekmlesiceor by miscrmns blyst ben?\\nmat hust?e'"
      ]
     },
     "execution_count": 21,
     "metadata": {},
     "output_type": "execute_result"
    }
   ],
   "source": [
    "complete_text('t', temperature=2)"
   ]
  },
  {
   "cell_type": "code",
   "execution_count": null,
   "id": "cooked-pleasure",
   "metadata": {},
   "outputs": [],
   "source": []
  }
 ],
 "metadata": {
  "kernelspec": {
   "display_name": "Python 3",
   "language": "python",
   "name": "python3"
  },
  "language_info": {
   "codemirror_mode": {
    "name": "ipython",
    "version": 3
   },
   "file_extension": ".py",
   "mimetype": "text/x-python",
   "name": "python",
   "nbconvert_exporter": "python",
   "pygments_lexer": "ipython3",
   "version": "3.7.9"
  }
 },
 "nbformat": 4,
 "nbformat_minor": 5
}
