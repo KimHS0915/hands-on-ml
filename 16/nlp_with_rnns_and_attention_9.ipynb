{
 "cells": [
  {
   "cell_type": "markdown",
   "id": "cognitive-cruise",
   "metadata": {},
   "source": [
    "Transformer model for language understanding \n",
    "\n",
    "https://www.tensorflow.org/text/tutorials/transformer"
   ]
  },
  {
   "cell_type": "code",
   "execution_count": 1,
   "id": "f34eb511",
   "metadata": {},
   "outputs": [],
   "source": [
    "import numpy as np\n",
    "import matplotlib.pyplot as plt\n",
    "import tensorflow as tf\n",
    "import tensorflow_text as text\n",
    "from tensorflow import keras"
   ]
  },
  {
   "cell_type": "code",
   "execution_count": 2,
   "id": "residential-guest",
   "metadata": {},
   "outputs": [],
   "source": [
    "import tensorflow_datasets as tfds\n",
    "\n",
    "examples, metadata = tfds.load('ted_hrlr_translate/pt_to_en', with_info=True,\n",
    "                               as_supervised=True)\n",
    "train_examples, val_examples = examples['train'], examples['validation']"
   ]
  },
  {
   "cell_type": "code",
   "execution_count": 3,
   "id": "e3155016",
   "metadata": {},
   "outputs": [
    {
     "name": "stdout",
     "output_type": "stream",
     "text": [
      "e quando melhoramos a procura , tiramos a única vantagem da impressão , que é a serendipidade .\n",
      "mas e se estes fatores fossem ativos ?\n",
      "mas eles não tinham a curiosidade de me testar .\n",
      "\n",
      "and when you improve searchability , you actually take away the one advantage of print , which is serendipity .\n",
      "but what if it were active ?\n",
      "but they did n't test for curiosity .\n"
     ]
    }
   ],
   "source": [
    "for pt_examples, en_examples in train_examples.batch(3).take(1):\n",
    "    for pt in pt_examples.numpy():\n",
    "        print(pt.decode('utf-8'))\n",
    "    \n",
    "    print()\n",
    "    \n",
    "    for en in en_examples.numpy():\n",
    "        print(en.decode('utf-8'))"
   ]
  },
  {
   "cell_type": "code",
   "execution_count": 4,
   "id": "545be0b3",
   "metadata": {},
   "outputs": [
    {
     "data": {
      "text/plain": [
       "'.\\\\ted_hrlr_translate_pt_en_converter.zip'"
      ]
     },
     "execution_count": 4,
     "metadata": {},
     "output_type": "execute_result"
    }
   ],
   "source": [
    "model_name = \"ted_hrlr_translate_pt_en_converter\"\n",
    "keras.utils.get_file(\n",
    "    f\"{model_name}.zip\",\n",
    "    f\"https://storage.googleapis.com/download.tensorflow.org/models/{model_name}.zip\",\n",
    "    cache_dir='.', cache_subdir='', extract=True\n",
    ")"
   ]
  },
  {
   "cell_type": "code",
   "execution_count": 5,
   "id": "fa8b622e",
   "metadata": {},
   "outputs": [],
   "source": [
    "tokenizers = tf.saved_model.load(model_name)"
   ]
  },
  {
   "cell_type": "code",
   "execution_count": 6,
   "id": "9408c7c9",
   "metadata": {},
   "outputs": [
    {
     "data": {
      "text/plain": [
       "['detokenize',\n",
       " 'get_reserved_tokens',\n",
       " 'get_vocab_path',\n",
       " 'get_vocab_size',\n",
       " 'lookup',\n",
       " 'tokenize',\n",
       " 'tokenizer',\n",
       " 'vocab']"
      ]
     },
     "execution_count": 6,
     "metadata": {},
     "output_type": "execute_result"
    }
   ],
   "source": [
    "[item for item in dir(tokenizers.en) if not item.startswith('_')]"
   ]
  },
  {
   "cell_type": "code",
   "execution_count": 7,
   "id": "604297e9",
   "metadata": {},
   "outputs": [
    {
     "name": "stdout",
     "output_type": "stream",
     "text": [
      "and when you improve searchability , you actually take away the one advantage of print , which is serendipity .\n",
      "but what if it were active ?\n",
      "but they did n't test for curiosity .\n"
     ]
    }
   ],
   "source": [
    "for en in en_examples.numpy():\n",
    "    print(en.decode('utf-8'))"
   ]
  },
  {
   "cell_type": "code",
   "execution_count": 8,
   "id": "52162d41",
   "metadata": {},
   "outputs": [
    {
     "name": "stdout",
     "output_type": "stream",
     "text": [
      "[2, 72, 117, 79, 1259, 1491, 2362, 13, 79, 150, 184, 311, 71, 103, 2308, 74, 2679, 13, 148, 80, 55, 4840, 1434, 2423, 540, 15, 3]\n",
      "[2, 87, 90, 107, 76, 129, 1852, 30, 3]\n",
      "[2, 87, 83, 149, 50, 9, 56, 664, 85, 2512, 15, 3]\n"
     ]
    }
   ],
   "source": [
    "encoded = tokenizers.en.tokenize(en_examples)\n",
    "\n",
    "for row in encoded.to_list():\n",
    "    print(row)"
   ]
  },
  {
   "cell_type": "code",
   "execution_count": 9,
   "id": "f9517f62",
   "metadata": {},
   "outputs": [
    {
     "name": "stdout",
     "output_type": "stream",
     "text": [
      "and when you improve searchability , you actually take away the one advantage of print , which is serendipity .\n",
      "but what if it were active ?\n",
      "but they did n ' t test for curiosity .\n"
     ]
    }
   ],
   "source": [
    "round_trip = tokenizers.en.detokenize(encoded)\n",
    "\n",
    "for line in round_trip.numpy():\n",
    "    print(line.decode('utf-8'))"
   ]
  },
  {
   "cell_type": "code",
   "execution_count": 10,
   "id": "a0c88c0b",
   "metadata": {},
   "outputs": [
    {
     "data": {
      "text/plain": [
       "<tf.RaggedTensor [[b'[START]', b'and', b'when', b'you', b'improve', b'search', b'##ability', b',', b'you', b'actually', b'take', b'away', b'the', b'one', b'advantage', b'of', b'print', b',', b'which', b'is', b's', b'##ere', b'##nd', b'##ip', b'##ity', b'.', b'[END]'], [b'[START]', b'but', b'what', b'if', b'it', b'were', b'active', b'?', b'[END]'], [b'[START]', b'but', b'they', b'did', b'n', b\"'\", b't', b'test', b'for', b'curiosity', b'.', b'[END]']]>"
      ]
     },
     "execution_count": 10,
     "metadata": {},
     "output_type": "execute_result"
    }
   ],
   "source": [
    "tokens = tokenizers.en.lookup(encoded)\n",
    "tokens"
   ]
  },
  {
   "cell_type": "code",
   "execution_count": 11,
   "id": "6ede1b03",
   "metadata": {},
   "outputs": [],
   "source": [
    "def tokenize_pairs(pt, en):\n",
    "    pt = tokenizers.pt.tokenize(pt)\n",
    "    pt = pt.to_tensor()\n",
    "    en = tokenizers.en.tokenize(en)\n",
    "    en = en.to_tensor()   \n",
    "    return pt, en"
   ]
  },
  {
   "cell_type": "code",
   "execution_count": 12,
   "id": "3cd2188b",
   "metadata": {},
   "outputs": [],
   "source": [
    "BUFFER_SIZE = 20000\n",
    "BATCH_SIZE = 64"
   ]
  },
  {
   "cell_type": "code",
   "execution_count": 13,
   "id": "66b7d372",
   "metadata": {},
   "outputs": [],
   "source": [
    "def make_batches(ds):\n",
    "    return ds.cache().shuffle(BUFFER_SIZE).batch(BATCH_SIZE).map(\n",
    "        tokenize_pairs, \n",
    "        num_parallel_calls=tf.data.AUTOTUNE).prefetch(tf.data.AUTOTUNE)"
   ]
  },
  {
   "cell_type": "code",
   "execution_count": 14,
   "id": "4e8031c7",
   "metadata": {},
   "outputs": [],
   "source": [
    "train_batches = make_batches(train_examples)\n",
    "val_batches = make_batches(val_examples)"
   ]
  },
  {
   "cell_type": "code",
   "execution_count": 15,
   "id": "a00e9918",
   "metadata": {},
   "outputs": [],
   "source": [
    "def get_angles(pos, i, d_model):\n",
    "    angle_rates = 1 / np.power(10000, (2 * (i//2)) / np.float32(d_model))\n",
    "    return pos * angle_rates"
   ]
  },
  {
   "cell_type": "code",
   "execution_count": 16,
   "id": "d89e9cc4",
   "metadata": {},
   "outputs": [],
   "source": [
    "def positional_encoding(position, d_model):\n",
    "    angle_rads = get_angles(np.arange(position)[:, np.newaxis],\n",
    "                            np.arange(d_model)[np.newaxis, :],\n",
    "                            d_model)    \n",
    "    angle_rads[:, 0::2] = np.sin(angle_rads[:, 0::2])\n",
    "    angle_rads[:, 1::2] = np.cos(angle_rads[:, 1::2])\n",
    "    pos_encoding = angle_rads[np.newaxis, ...]\n",
    "    return tf.cast(pos_encoding, dtype=tf.float32)"
   ]
  },
  {
   "cell_type": "code",
   "execution_count": 17,
   "id": "a8b823ee",
   "metadata": {},
   "outputs": [
    {
     "name": "stdout",
     "output_type": "stream",
     "text": [
      "(1, 2048, 512)\n"
     ]
    },
    {
     "data": {
      "image/png": "[encoded data removed]",
      "text/plain": [
       "<Figure size 432x288 with 2 Axes>"
      ]
     },
     "metadata": {
      "needs_background": "light"
     },
     "output_type": "display_data"
    }
   ],
   "source": [
    "n, d = 2048, 512\n",
    "pos_encoding = positional_encoding(n, d)\n",
    "print(pos_encoding.shape)\n",
    "pos_encoding = pos_encoding[0]\n",
    "\n",
    "pos_encoding = tf.reshape(pos_encoding, (n, d//2, 2))\n",
    "pos_encoding = tf.transpose(pos_encoding, (2, 1, 0))\n",
    "pos_encoding = tf.reshape(pos_encoding, (d, n))\n",
    "\n",
    "plt.pcolormesh(pos_encoding, cmap='RdBu')\n",
    "plt.ylabel('Depth')\n",
    "plt.xlabel('Position')\n",
    "plt.colorbar()\n",
    "plt.show()"
   ]
  },
  {
   "cell_type": "code",
   "execution_count": 18,
   "id": "ad3f6932",
   "metadata": {},
   "outputs": [],
   "source": [
    "def create_padding_mask(seq):\n",
    "    seq = tf.cast(tf.math.equal(seq, 0), tf.float32)\n",
    "    return seq[:, tf.newaxis, tf.newaxis, :]"
   ]
  },
  {
   "cell_type": "code",
   "execution_count": 19,
   "id": "eac0c0c8",
   "metadata": {},
   "outputs": [
    {
     "data": {
      "text/plain": [
       "<tf.Tensor: shape=(3, 1, 1, 5), dtype=float32, numpy=\n",
       "array([[[[0., 0., 1., 1., 0.]]],\n",
       "\n",
       "\n",
       "       [[[0., 0., 0., 1., 1.]]],\n",
       "\n",
       "\n",
       "       [[[1., 1., 1., 0., 0.]]]], dtype=float32)>"
      ]
     },
     "execution_count": 19,
     "metadata": {},
     "output_type": "execute_result"
    }
   ],
   "source": [
    "x = tf.constant([[7, 6, 0, 0, 1], [1, 2, 3, 0, 0], [0, 0, 0, 4, 5]])\n",
    "create_padding_mask(x)"
   ]
  },
  {
   "cell_type": "code",
   "execution_count": 20,
   "id": "b093ec7b",
   "metadata": {},
   "outputs": [],
   "source": [
    "def create_look_ahead_mask(size):\n",
    "    mask = 1 - tf.linalg.band_part(tf.ones((size, size)), -1, 0)\n",
    "    return mask"
   ]
  },
  {
   "cell_type": "code",
   "execution_count": 21,
   "id": "26242f61",
   "metadata": {},
   "outputs": [
    {
     "data": {
      "text/plain": [
       "<tf.Tensor: shape=(3, 3), dtype=float32, numpy=\n",
       "array([[0., 1., 1.],\n",
       "       [0., 0., 1.],\n",
       "       [0., 0., 0.]], dtype=float32)>"
      ]
     },
     "execution_count": 21,
     "metadata": {},
     "output_type": "execute_result"
    }
   ],
   "source": [
    "x = tf.random.uniform((1, 3))\n",
    "temp = create_look_ahead_mask(x.shape[1])\n",
    "temp"
   ]
  },
  {
   "cell_type": "code",
   "execution_count": 22,
   "id": "cd45af3f",
   "metadata": {},
   "outputs": [],
   "source": [
    "def scaled_dot_product_attention(q, k, v, mask):\n",
    "    matmul_qk = tf.matmul(q, k, transpose_b=True)\n",
    "    dk = tf.cast(tf.shape(k)[-1], tf.float32)\n",
    "    scaled_attention_logits = matmul_qk / tf.math.sqrt(dk)\n",
    "    \n",
    "    if mask is not None:\n",
    "        scaled_attention_logits += (mask * -1e9)\n",
    "    \n",
    "    attention_weights = tf.nn.softmax(scaled_attention_logits, axis=-1)\n",
    "    output = tf.matmul(attention_weights, v)\n",
    "    \n",
    "    return output, attention_weights"
   ]
  },
  {
   "cell_type": "code",
   "execution_count": 23,
   "id": "395bd5dd",
   "metadata": {},
   "outputs": [],
   "source": [
    "def print_out(q, k, v):\n",
    "    temp_out, temp_attn = scaled_dot_product_attention(q, k, v, None)\n",
    "    print('Attention weights are:')\n",
    "    print(temp_attn)\n",
    "    print('Output is:')\n",
    "    print(temp_out)"
   ]
  },
  {
   "cell_type": "code",
   "execution_count": 24,
   "id": "fda63e5b",
   "metadata": {},
   "outputs": [
    {
     "name": "stdout",
     "output_type": "stream",
     "text": [
      "Attention weights are:\n",
      "tf.Tensor([[0. 1. 0. 0.]], shape=(1, 4), dtype=float32)\n",
      "Output is:\n",
      "tf.Tensor([[10.  0.]], shape=(1, 2), dtype=float32)\n"
     ]
    }
   ],
   "source": [
    "np.set_printoptions(suppress=True)\n",
    "\n",
    "temp_k = tf.constant([[10, 0, 0],\n",
    "                      [0, 10, 0],\n",
    "                      [0, 0, 10],\n",
    "                      [0, 0, 10]], dtype=tf.float32)\n",
    "\n",
    "temp_v = tf.constant([[1, 0],\n",
    "                      [10, 0],\n",
    "                      [100, 5],\n",
    "                      [1000, 6]], dtype=tf.float32)\n",
    "\n",
    "temp_q = tf.constant([[0, 10, 0]], dtype=tf.float32)\n",
    "print_out(temp_q, temp_k, temp_v)"
   ]
  },
  {
   "cell_type": "code",
   "execution_count": 25,
   "id": "d94b7a9d",
   "metadata": {},
   "outputs": [
    {
     "name": "stdout",
     "output_type": "stream",
     "text": [
      "Attention weights are:\n",
      "tf.Tensor([[0.  0.  0.5 0.5]], shape=(1, 4), dtype=float32)\n",
      "Output is:\n",
      "tf.Tensor([[550.    5.5]], shape=(1, 2), dtype=float32)\n"
     ]
    }
   ],
   "source": [
    "temp_q = tf.constant([[0, 0, 10]], dtype=tf.float32)\n",
    "print_out(temp_q, temp_k, temp_v)"
   ]
  },
  {
   "cell_type": "code",
   "execution_count": 26,
   "id": "293f6fea",
   "metadata": {},
   "outputs": [
    {
     "name": "stdout",
     "output_type": "stream",
     "text": [
      "Attention weights are:\n",
      "tf.Tensor([[0.5 0.5 0.  0. ]], shape=(1, 4), dtype=float32)\n",
      "Output is:\n",
      "tf.Tensor([[5.5 0. ]], shape=(1, 2), dtype=float32)\n"
     ]
    }
   ],
   "source": [
    "temp_q = tf.constant([[10, 10, 0]], dtype=tf.float32)\n",
    "print_out(temp_q, temp_k, temp_v)"
   ]
  },
  {
   "cell_type": "code",
   "execution_count": 27,
   "id": "8d83f36d",
   "metadata": {},
   "outputs": [
    {
     "name": "stdout",
     "output_type": "stream",
     "text": [
      "Attention weights are:\n",
      "tf.Tensor(\n",
      "[[0.  0.  0.5 0.5]\n",
      " [0.  1.  0.  0. ]\n",
      " [0.5 0.5 0.  0. ]], shape=(3, 4), dtype=float32)\n",
      "Output is:\n",
      "tf.Tensor(\n",
      "[[550.    5.5]\n",
      " [ 10.    0. ]\n",
      " [  5.5   0. ]], shape=(3, 2), dtype=float32)\n"
     ]
    }
   ],
   "source": [
    "temp_q = tf.constant([[0, 0, 10],\n",
    "                      [0, 10, 0],\n",
    "                      [10, 10, 0]], dtype=tf.float32)\n",
    "print_out(temp_q, temp_k, temp_v)"
   ]
  },
  {
   "cell_type": "code",
   "execution_count": 28,
   "id": "d7bf9e30",
   "metadata": {},
   "outputs": [],
   "source": [
    "class MultiHeadAttention(keras.layers.Layer):\n",
    "    def __init__(self, d_model, num_heads):\n",
    "        super(MultiHeadAttention, self).__init__()\n",
    "        self.num_heads = num_heads\n",
    "        self.d_model = d_model\n",
    "        assert d_model % self.num_heads == 0\n",
    "        self.depth = d_model // self.num_heads\n",
    "        self.wq = keras.layers.Dense(d_model)\n",
    "        self.wk = keras.layers.Dense(d_model)\n",
    "        self.wv = keras.layers.Dense(d_model)\n",
    "        self.dense = keras.layers.Dense(d_model)\n",
    "\n",
    "    def split_heads(self, x, batch_size):\n",
    "        x = tf.reshape(x, (batch_size, -1, self.num_heads, self.depth))\n",
    "        return tf.transpose(x, perm=[0, 2, 1, 3])\n",
    "\n",
    "    def call(self, v, k, q, mask):\n",
    "        batch_size = tf.shape(q)[0]\n",
    "        q = self.wq(q)\n",
    "        k = self.wk(k)\n",
    "        v = self.wv(v)\n",
    "        q = self.split_heads(q, batch_size)\n",
    "        k = self.split_heads(k, batch_size)\n",
    "        v = self.split_heads(v, batch_size)\n",
    "        scaled_attention, attention_weights = scaled_dot_product_attention(\n",
    "            q, k, v, mask)\n",
    "        scaled_attention = tf.transpose(scaled_attention, perm=[0, 2, 1, 3])\n",
    "        concat_attention = tf.reshape(scaled_attention,\n",
    "                                      (batch_size, -1, self.d_model))\n",
    "        output = self.dense(concat_attention)\n",
    "        return output, attention_weights"
   ]
  },
  {
   "cell_type": "code",
   "execution_count": 29,
   "id": "980a5073",
   "metadata": {},
   "outputs": [
    {
     "data": {
      "text/plain": [
       "(TensorShape([1, 60, 512]), TensorShape([1, 8, 60, 60]))"
      ]
     },
     "execution_count": 29,
     "metadata": {},
     "output_type": "execute_result"
    }
   ],
   "source": [
    "temp_mha = MultiHeadAttention(d_model=512, num_heads=8)\n",
    "\n",
    "y = tf.random.uniform((1, 60, 512))\n",
    "out, attn = temp_mha(y, k=y, q=y, mask=None)\n",
    "out.shape, attn.shape"
   ]
  },
  {
   "cell_type": "code",
   "execution_count": 30,
   "id": "14dd92e9",
   "metadata": {},
   "outputs": [],
   "source": [
    "def point_wise_feed_forward_network(d_model, dff):\n",
    "    return keras.Sequential([\n",
    "        keras.layers.Dense(dff, activation='relu'),\n",
    "        keras.layers.Dense(d_model)\n",
    "    ])"
   ]
  },
  {
   "cell_type": "code",
   "execution_count": 31,
   "id": "3da303e8",
   "metadata": {},
   "outputs": [
    {
     "data": {
      "text/plain": [
       "TensorShape([64, 50, 512])"
      ]
     },
     "execution_count": 31,
     "metadata": {},
     "output_type": "execute_result"
    }
   ],
   "source": [
    "sample_ffn = point_wise_feed_forward_network(512, 2048)\n",
    "sample_ffn(tf.random.uniform((64, 50, 512))).shape"
   ]
  },
  {
   "cell_type": "code",
   "execution_count": 32,
   "id": "1d6e16a4",
   "metadata": {},
   "outputs": [],
   "source": [
    "class EncoderLayer(keras.layers.Layer):\n",
    "    def __init__(self, d_model, num_heads, dff, rate=0.1):\n",
    "        super(EncoderLayer, self).__init__()\n",
    "\n",
    "        self.mha = MultiHeadAttention(d_model, num_heads)\n",
    "        self.ffn = point_wise_feed_forward_network(d_model, dff)\n",
    "\n",
    "        self.layernorm1 = keras.layers.LayerNormalization(epsilon=1e-6)\n",
    "        self.layernorm2 = keras.layers.LayerNormalization(epsilon=1e-6)\n",
    "\n",
    "        self.dropout1 = keras.layers.Dropout(rate)\n",
    "        self.dropout2 = keras.layers.Dropout(rate)\n",
    "\n",
    "    def call(self, x, training, mask):\n",
    "\n",
    "        attn_output, _ = self.mha(x, x, x, mask)\n",
    "        attn_output = self.dropout1(attn_output, training=training)\n",
    "        out1 = self.layernorm1(x + attn_output)\n",
    "\n",
    "        ffn_output = self.ffn(out1)\n",
    "        ffn_output = self.dropout2(ffn_output, training=training)\n",
    "        out2 = self.layernorm2(out1 + ffn_output)\n",
    "\n",
    "        return out2"
   ]
  },
  {
   "cell_type": "code",
   "execution_count": 33,
   "id": "b836f399",
   "metadata": {},
   "outputs": [
    {
     "data": {
      "text/plain": [
       "TensorShape([64, 43, 512])"
      ]
     },
     "execution_count": 33,
     "metadata": {},
     "output_type": "execute_result"
    }
   ],
   "source": [
    "sample_encoder_layer = EncoderLayer(512, 8, 2048)\n",
    "sample_encoder_layer_output = sample_encoder_layer(\n",
    "    tf.random.uniform((64, 43, 512)), False, None)\n",
    "\n",
    "sample_encoder_layer_output.shape"
   ]
  },
  {
   "cell_type": "code",
   "execution_count": 34,
   "id": "f71636fe",
   "metadata": {},
   "outputs": [],
   "source": [
    "class DecoderLayer(keras.layers.Layer):\n",
    "    def __init__(self, d_model, num_heads, dff, rate=0.1):\n",
    "        super(DecoderLayer, self).__init__()\n",
    "\n",
    "        self.mha1 = MultiHeadAttention(d_model, num_heads)\n",
    "        self.mha2 = MultiHeadAttention(d_model, num_heads)\n",
    "\n",
    "        self.ffn = point_wise_feed_forward_network(d_model, dff)\n",
    "\n",
    "        self.layernorm1 = keras.layers.LayerNormalization(epsilon=1e-6)\n",
    "        self.layernorm2 = keras.layers.LayerNormalization(epsilon=1e-6)\n",
    "        self.layernorm3 = keras.layers.LayerNormalization(epsilon=1e-6)\n",
    "\n",
    "        self.dropout1 = keras.layers.Dropout(rate)\n",
    "        self.dropout2 = keras.layers.Dropout(rate)\n",
    "        self.dropout3 = keras.layers.Dropout(rate)\n",
    "\n",
    "    def call(self, x, enc_output, training,\n",
    "             look_ahead_mask, padding_mask):\n",
    "\n",
    "        attn1, attn_weights_block1 = self.mha1(x, x, x, look_ahead_mask)\n",
    "        attn1 = self.dropout1(attn1, training=training)\n",
    "        out1 = self.layernorm1(attn1 + x)\n",
    "\n",
    "        attn2, attn_weights_block2 = self.mha2(\n",
    "            enc_output, enc_output, out1, padding_mask)\n",
    "        attn2 = self.dropout2(attn2, training=training)\n",
    "        out2 = self.layernorm2(attn2 + out1)\n",
    "\n",
    "        ffn_output = self.ffn(out2)\n",
    "        ffn_output = self.dropout3(ffn_output, training=training)\n",
    "        out3 = self.layernorm3(ffn_output + out2)\n",
    "\n",
    "        return out3, attn_weights_block1, attn_weights_block2"
   ]
  },
  {
   "cell_type": "code",
   "execution_count": 35,
   "id": "51d09878",
   "metadata": {},
   "outputs": [
    {
     "data": {
      "text/plain": [
       "TensorShape([64, 50, 512])"
      ]
     },
     "execution_count": 35,
     "metadata": {},
     "output_type": "execute_result"
    }
   ],
   "source": [
    "sample_decoder_layer = DecoderLayer(512, 8, 2048)\n",
    "sample_decoder_layer_output, _, _ = sample_decoder_layer(\n",
    "    tf.random.uniform((64, 50, 512)), sample_encoder_layer_output, \n",
    "    False, None, None)\n",
    "\n",
    "sample_decoder_layer_output.shape"
   ]
  },
  {
   "cell_type": "code",
   "execution_count": 36,
   "id": "7803ab37",
   "metadata": {},
   "outputs": [],
   "source": [
    "class Encoder(keras.layers.Layer):\n",
    "    def __init__(self, num_layers, d_model, num_heads, dff, input_vocab_size,\n",
    "                 maximum_position_encoding, rate=0.1):\n",
    "        super(Encoder, self).__init__()\n",
    "\n",
    "        self.d_model = d_model\n",
    "        self.num_layers = num_layers\n",
    "\n",
    "        self.embedding = keras.layers.Embedding(input_vocab_size, d_model)\n",
    "        self.pos_encoding = positional_encoding(maximum_position_encoding,\n",
    "                                                self.d_model)\n",
    "\n",
    "        self.enc_layers = [EncoderLayer(d_model, num_heads, dff, rate)\n",
    "                           for _ in range(num_layers)]\n",
    "\n",
    "        self.dropout = keras.layers.Dropout(rate)\n",
    "\n",
    "    def call(self, x, training, mask):\n",
    "\n",
    "        seq_len = tf.shape(x)[1]\n",
    "\n",
    "        x = self.embedding(x)\n",
    "        x *= tf.math.sqrt(tf.cast(self.d_model, tf.float32))\n",
    "        x += self.pos_encoding[:, :seq_len, :]\n",
    "\n",
    "        x = self.dropout(x, training=training)\n",
    "\n",
    "        for i in range(self.num_layers):\n",
    "            x = self.enc_layers[i](x, training, mask)\n",
    "\n",
    "        return x"
   ]
  },
  {
   "cell_type": "code",
   "execution_count": 37,
   "id": "4ce288db",
   "metadata": {},
   "outputs": [
    {
     "data": {
      "text/plain": [
       "TensorShape([64, 62, 512])"
      ]
     },
     "execution_count": 37,
     "metadata": {},
     "output_type": "execute_result"
    }
   ],
   "source": [
    "sample_encoder = Encoder(num_layers=2, d_model=512, num_heads=8, \n",
    "                         dff=2048, input_vocab_size=8500, \n",
    "                         maximum_position_encoding=10000)\n",
    "temp_input = tf.random.uniform((64, 62), dtype=tf.int64, minval=0, maxval=200)\n",
    "sample_encoder_output = sample_encoder(temp_input, training=False, mask=None)\n",
    "\n",
    "sample_encoder_output.shape"
   ]
  },
  {
   "cell_type": "code",
   "execution_count": 38,
   "id": "876df8a0",
   "metadata": {},
   "outputs": [],
   "source": [
    "class Decoder(keras.layers.Layer):\n",
    "    def __init__(self, num_layers, d_model, num_heads, dff, target_vocab_size,\n",
    "                 maximum_position_encoding, rate=0.1):\n",
    "        super(Decoder, self).__init__()\n",
    "\n",
    "        self.d_model = d_model\n",
    "        self.num_layers = num_layers\n",
    "\n",
    "        self.embedding = keras.layers.Embedding(target_vocab_size, d_model)\n",
    "        self.pos_encoding = positional_encoding(\n",
    "            maximum_position_encoding, d_model)\n",
    "\n",
    "        self.dec_layers = [DecoderLayer(d_model, num_heads, dff, rate)\n",
    "                           for _ in range(num_layers)]\n",
    "        self.dropout = keras.layers.Dropout(rate)\n",
    "\n",
    "    def call(self, x, enc_output, training,\n",
    "             look_ahead_mask, padding_mask):\n",
    "\n",
    "        seq_len = tf.shape(x)[1]\n",
    "        attention_weights = {}\n",
    "\n",
    "        x = self.embedding(x)\n",
    "        x *= tf.math.sqrt(tf.cast(self.d_model, tf.float32))\n",
    "        x += self.pos_encoding[:, :seq_len, :]\n",
    "\n",
    "        x = self.dropout(x, training=training)\n",
    "\n",
    "        for i in range(self.num_layers):\n",
    "            x, block1, block2 = self.dec_layers[i](x, enc_output, training,\n",
    "                                                   look_ahead_mask, padding_mask)\n",
    "\n",
    "            attention_weights[f'decoder_layer{i+1}_block1'] = block1\n",
    "            attention_weights[f'decoder_layer{i+1}_block2'] = block2\n",
    "\n",
    "        return x, attention_weights"
   ]
  },
  {
   "cell_type": "code",
   "execution_count": 39,
   "id": "f2147377",
   "metadata": {},
   "outputs": [
    {
     "data": {
      "text/plain": [
       "(TensorShape([64, 26, 512]), TensorShape([64, 8, 26, 62]))"
      ]
     },
     "execution_count": 39,
     "metadata": {},
     "output_type": "execute_result"
    }
   ],
   "source": [
    "sample_decoder = Decoder(num_layers=2, d_model=512, num_heads=8, \n",
    "                         dff=2048, target_vocab_size=8000, \n",
    "                         maximum_position_encoding=5000)\n",
    "temp_input = tf.random.uniform((64, 26), dtype=tf.int64, minval=0, maxval=200)\n",
    "output, attn = sample_decoder(temp_input,\n",
    "                              enc_output=sample_encoder_output,\n",
    "                              training=False, \n",
    "                              look_ahead_mask=None, \n",
    "                              padding_mask=None)\n",
    "\n",
    "output.shape, attn['decoder_layer2_block2'].shape"
   ]
  },
  {
   "cell_type": "code",
   "execution_count": 40,
   "id": "41dce138",
   "metadata": {},
   "outputs": [],
   "source": [
    "class Transformer(keras.Model):\n",
    "    def __init__(self, num_layers, d_model, num_heads, dff, input_vocab_size,\n",
    "                 target_vocab_size, pe_input, pe_target, rate=0.1):\n",
    "        super().__init__()\n",
    "        self.encoder = Encoder(num_layers, d_model, num_heads, dff,\n",
    "                               input_vocab_size, pe_input, rate)\n",
    "\n",
    "        self.decoder = Decoder(num_layers, d_model, num_heads, dff,\n",
    "                               target_vocab_size, pe_target, rate)\n",
    "\n",
    "        self.final_layer = keras.layers.Dense(target_vocab_size)\n",
    "\n",
    "    def call(self, inputs, training):\n",
    "        inp, tar = inputs\n",
    "\n",
    "        enc_padding_mask, look_ahead_mask, dec_padding_mask = self.create_masks(\n",
    "            inp, tar)\n",
    "\n",
    "        enc_output = self.encoder(inp, training, enc_padding_mask)\n",
    "\n",
    "        dec_output, attention_weights = self.decoder(\n",
    "            tar, enc_output, training, look_ahead_mask, dec_padding_mask)\n",
    "\n",
    "        final_output = self.final_layer(dec_output)\n",
    "\n",
    "        return final_output, attention_weights\n",
    "\n",
    "    def create_masks(self, inp, tar):\n",
    "        enc_padding_mask = create_padding_mask(inp)\n",
    "        dec_padding_mask = create_padding_mask(inp)\n",
    "\n",
    "        look_ahead_mask = create_look_ahead_mask(tf.shape(tar)[1])\n",
    "        dec_target_padding_mask = create_padding_mask(tar)\n",
    "        look_ahead_mask = tf.maximum(dec_target_padding_mask, look_ahead_mask)\n",
    "\n",
    "        return enc_padding_mask, look_ahead_mask, dec_padding_mask"
   ]
  },
  {
   "cell_type": "code",
   "execution_count": 41,
   "id": "1e4b054f",
   "metadata": {},
   "outputs": [
    {
     "data": {
      "text/plain": [
       "TensorShape([64, 36, 8000])"
      ]
     },
     "execution_count": 41,
     "metadata": {},
     "output_type": "execute_result"
    }
   ],
   "source": [
    "sample_transformer = Transformer(\n",
    "    num_layers=2, d_model=512, num_heads=8, dff=2048,\n",
    "    input_vocab_size=8500, target_vocab_size=8000,\n",
    "    pe_input=10000, pe_target=6000)\n",
    "\n",
    "temp_input = tf.random.uniform((64, 38), dtype=tf.int64, minval=0, maxval=200)\n",
    "temp_target = tf.random.uniform((64, 36), dtype=tf.int64, minval=0, maxval=200)\n",
    "\n",
    "fn_out, _ = sample_transformer([temp_input, temp_target], training=False)\n",
    "\n",
    "fn_out.shape"
   ]
  },
  {
   "cell_type": "code",
   "execution_count": 42,
   "id": "5ef67500",
   "metadata": {},
   "outputs": [],
   "source": [
    "num_layers = 4\n",
    "d_model = 64\n",
    "dff = 256\n",
    "num_heads = 8\n",
    "dropout_rate = 0.1"
   ]
  },
  {
   "cell_type": "code",
   "execution_count": 43,
   "id": "2b12c1b1",
   "metadata": {},
   "outputs": [],
   "source": [
    "class CustomSchedule(keras.optimizers.schedules.LearningRateSchedule):\n",
    "    def __init__(self, d_model, warmup_steps=4000):\n",
    "        super(CustomSchedule, self).__init__()\n",
    "\n",
    "        self.d_model = d_model\n",
    "        self.d_model = tf.cast(self.d_model, tf.float32)\n",
    "\n",
    "        self.warmup_steps = warmup_steps\n",
    "\n",
    "    def __call__(self, step):\n",
    "        arg1 = tf.math.rsqrt(step)\n",
    "        arg2 = step * (self.warmup_steps ** -1.5)\n",
    "\n",
    "        return tf.math.rsqrt(self.d_model) * tf.math.minimum(arg1, arg2)"
   ]
  },
  {
   "cell_type": "code",
   "execution_count": 44,
   "id": "6d7f61f7",
   "metadata": {},
   "outputs": [],
   "source": [
    "learning_rate = CustomSchedule(d_model)\n",
    "\n",
    "optimizer = keras.optimizers.Adam(learning_rate, beta_1=0.9, beta_2=0.98,\n",
    "                                  epsilon=1e-9)"
   ]
  },
  {
   "cell_type": "code",
   "execution_count": 45,
   "id": "6e0a9619",
   "metadata": {},
   "outputs": [
    {
     "data": {
      "text/plain": [
       "Text(0.5, 0, 'Train Step')"
      ]
     },
     "execution_count": 45,
     "metadata": {},
     "output_type": "execute_result"
    },
    {
     "data": {
      "image/png": "[encoded data removed]",
      "text/plain": [
       "<Figure size 432x288 with 1 Axes>"
      ]
     },
     "metadata": {
      "needs_background": "light"
     },
     "output_type": "display_data"
    }
   ],
   "source": [
    "temp_learning_rate_schedule = CustomSchedule(d_model)\n",
    "\n",
    "plt.plot(temp_learning_rate_schedule(tf.range(40000, dtype=tf.float32)))\n",
    "plt.ylabel(\"Learning Rate\")\n",
    "plt.xlabel(\"Train Step\")"
   ]
  },
  {
   "cell_type": "code",
   "execution_count": 46,
   "id": "cc00c585",
   "metadata": {},
   "outputs": [],
   "source": [
    "loss_object = keras.losses.SparseCategoricalCrossentropy(\n",
    "    from_logits=True, reduction='none')"
   ]
  },
  {
   "cell_type": "code",
   "execution_count": 47,
   "id": "c589db40",
   "metadata": {},
   "outputs": [],
   "source": [
    "def loss_function(real, pred):\n",
    "    mask = tf.math.logical_not(tf.math.equal(real, 0))\n",
    "    loss_ = loss_object(real, pred)\n",
    "\n",
    "    mask = tf.cast(mask, dtype=loss_.dtype)\n",
    "    loss_ *= mask\n",
    "\n",
    "    return tf.reduce_sum(loss_)/tf.reduce_sum(mask)\n",
    "\n",
    "def accuracy_function(real, pred):\n",
    "    accuracies = tf.equal(real, tf.argmax(pred, axis=2))\n",
    "\n",
    "    mask = tf.math.logical_not(tf.math.equal(real, 0))\n",
    "    accuracies = tf.math.logical_and(mask, accuracies)\n",
    "\n",
    "    accuracies = tf.cast(accuracies, dtype=tf.float32)\n",
    "    mask = tf.cast(mask, dtype=tf.float32)\n",
    "    return tf.reduce_sum(accuracies)/tf.reduce_sum(mask)"
   ]
  },
  {
   "cell_type": "code",
   "execution_count": 48,
   "id": "c1f4c2ee",
   "metadata": {},
   "outputs": [],
   "source": [
    "train_loss = tf.keras.metrics.Mean(name='train_loss')\n",
    "train_accuracy = tf.keras.metrics.Mean(name='train_accuracy')"
   ]
  },
  {
   "cell_type": "code",
   "execution_count": 49,
   "id": "1c1eca10",
   "metadata": {},
   "outputs": [],
   "source": [
    "transformer = Transformer(\n",
    "    num_layers=num_layers,\n",
    "    d_model=d_model,\n",
    "    num_heads=num_heads,\n",
    "    dff=dff,\n",
    "    input_vocab_size=tokenizers.pt.get_vocab_size().numpy(),\n",
    "    target_vocab_size=tokenizers.en.get_vocab_size().numpy(),\n",
    "    pe_input=1000,\n",
    "    pe_target=1000,\n",
    "    rate=dropout_rate)"
   ]
  },
  {
   "cell_type": "code",
   "execution_count": 50,
   "id": "f1c87684",
   "metadata": {},
   "outputs": [
    {
     "name": "stdout",
     "output_type": "stream",
     "text": [
      "Latest checkpoint restored!!\n"
     ]
    }
   ],
   "source": [
    "checkpoint_path = \"./checkpoints/train\"\n",
    "\n",
    "ckpt = tf.train.Checkpoint(transformer=transformer,\n",
    "                           optimizer=optimizer)\n",
    "\n",
    "ckpt_manager = tf.train.CheckpointManager(\n",
    "    ckpt, checkpoint_path, max_to_keep=5)\n",
    "\n",
    "if ckpt_manager.latest_checkpoint:\n",
    "    ckpt.restore(ckpt_manager.latest_checkpoint)\n",
    "    print('Latest checkpoint restored!!')"
   ]
  },
  {
   "cell_type": "code",
   "execution_count": 51,
   "id": "cd9192f7",
   "metadata": {},
   "outputs": [],
   "source": [
    "train_step_signature = [\n",
    "    tf.TensorSpec(shape=(None, None), dtype=tf.int64),\n",
    "    tf.TensorSpec(shape=(None, None), dtype=tf.int64),\n",
    "]"
   ]
  },
  {
   "cell_type": "code",
   "execution_count": 52,
   "id": "9cc43e98",
   "metadata": {},
   "outputs": [],
   "source": [
    "@tf.function(input_signature=train_step_signature)\n",
    "def train_step(inp, tar):\n",
    "    tar_inp = tar[:, :-1]\n",
    "    tar_real = tar[:, 1:]\n",
    "\n",
    "    with tf.GradientTape() as tape:\n",
    "        predictions, _ = transformer([inp, tar_inp],\n",
    "                                     training=True)\n",
    "        loss = loss_function(tar_real, predictions)\n",
    "\n",
    "    gradients = tape.gradient(loss, transformer.trainable_variables)\n",
    "    optimizer.apply_gradients(zip(gradients, transformer.trainable_variables))\n",
    "\n",
    "    train_loss(loss)\n",
    "    train_accuracy(accuracy_function(tar_real, predictions))"
   ]
  },
  {
   "cell_type": "code",
   "execution_count": 53,
   "id": "bf9e89b8",
   "metadata": {},
   "outputs": [
    {
     "name": "stdout",
     "output_type": "stream",
     "text": [
      "Epoch 1 Batch 0 Loss 2.1659 Accuracy 0.5753\n",
      "Epoch 1 Batch 50 Loss 2.2136 Accuracy 0.5626\n",
      "Epoch 1 Batch 100 Loss 2.2127 Accuracy 0.5637\n",
      "Epoch 1 Batch 150 Loss 2.2149 Accuracy 0.5641\n",
      "Epoch 1 Batch 200 Loss 2.2299 Accuracy 0.5620\n",
      "Epoch 1 Batch 250 Loss 2.2309 Accuracy 0.5617\n",
      "Epoch 1 Batch 300 Loss 2.2342 Accuracy 0.5611\n",
      "Epoch 1 Batch 350 Loss 2.2355 Accuracy 0.5611\n",
      "Epoch 1 Batch 400 Loss 2.2335 Accuracy 0.5613\n",
      "Epoch 1 Batch 450 Loss 2.2333 Accuracy 0.5617\n",
      "Epoch 1 Batch 500 Loss 2.2337 Accuracy 0.5617\n",
      "Epoch 1 Batch 550 Loss 2.2356 Accuracy 0.5614\n",
      "Epoch 1 Batch 600 Loss 2.2384 Accuracy 0.5609\n",
      "Epoch 1 Batch 650 Loss 2.2404 Accuracy 0.5606\n",
      "Epoch 1 Batch 700 Loss 2.2428 Accuracy 0.5604\n",
      "Epoch 1 Batch 750 Loss 2.2434 Accuracy 0.5605\n",
      "Epoch 1 Batch 800 Loss 2.2431 Accuracy 0.5606\n",
      "Epoch 1 Loss 2.2429 Accuracy 0.5607\n",
      "Time taken for 1 epoch: 163.47 secs\n",
      "\n",
      "Epoch 2 Batch 0 Loss 2.1120 Accuracy 0.5748\n",
      "Epoch 2 Batch 50 Loss 2.1537 Accuracy 0.5712\n",
      "Epoch 2 Batch 100 Loss 2.1682 Accuracy 0.5707\n",
      "Epoch 2 Batch 150 Loss 2.1815 Accuracy 0.5687\n",
      "Epoch 2 Batch 200 Loss 2.1792 Accuracy 0.5688\n",
      "Epoch 2 Batch 250 Loss 2.1804 Accuracy 0.5687\n",
      "Epoch 2 Batch 300 Loss 2.1836 Accuracy 0.5683\n",
      "Epoch 2 Batch 350 Loss 2.1855 Accuracy 0.5682\n",
      "Epoch 2 Batch 400 Loss 2.1860 Accuracy 0.5681\n",
      "Epoch 2 Batch 450 Loss 2.1864 Accuracy 0.5679\n",
      "Epoch 2 Batch 500 Loss 2.1909 Accuracy 0.5673\n",
      "Epoch 2 Batch 550 Loss 2.1946 Accuracy 0.5667\n",
      "Epoch 2 Batch 600 Loss 2.1988 Accuracy 0.5663\n",
      "Epoch 2 Batch 650 Loss 2.1991 Accuracy 0.5663\n",
      "Epoch 2 Batch 700 Loss 2.2021 Accuracy 0.5660\n",
      "Epoch 2 Batch 750 Loss 2.2044 Accuracy 0.5657\n",
      "Epoch 2 Batch 800 Loss 2.2055 Accuracy 0.5657\n",
      "Epoch 2 Loss 2.2049 Accuracy 0.5658\n",
      "Time taken for 1 epoch: 154.03 secs\n",
      "\n",
      "Epoch 3 Batch 0 Loss 2.1135 Accuracy 0.5695\n",
      "Epoch 3 Batch 50 Loss 2.1301 Accuracy 0.5755\n",
      "Epoch 3 Batch 100 Loss 2.1383 Accuracy 0.5745\n",
      "Epoch 3 Batch 150 Loss 2.1409 Accuracy 0.5745\n",
      "Epoch 3 Batch 200 Loss 2.1549 Accuracy 0.5723\n",
      "Epoch 3 Batch 250 Loss 2.1553 Accuracy 0.5723\n",
      "Epoch 3 Batch 300 Loss 2.1583 Accuracy 0.5718\n",
      "Epoch 3 Batch 350 Loss 2.1564 Accuracy 0.5724\n",
      "Epoch 3 Batch 400 Loss 2.1631 Accuracy 0.5714\n",
      "Epoch 3 Batch 450 Loss 2.1636 Accuracy 0.5715\n",
      "Epoch 3 Batch 500 Loss 2.1662 Accuracy 0.5714\n",
      "Epoch 3 Batch 550 Loss 2.1659 Accuracy 0.5714\n",
      "Epoch 3 Batch 600 Loss 2.1680 Accuracy 0.5712\n",
      "Epoch 3 Batch 650 Loss 2.1666 Accuracy 0.5714\n",
      "Epoch 3 Batch 700 Loss 2.1707 Accuracy 0.5710\n",
      "Epoch 3 Batch 750 Loss 2.1736 Accuracy 0.5705\n",
      "Epoch 3 Batch 800 Loss 2.1762 Accuracy 0.5701\n",
      "Epoch 3 Loss 2.1769 Accuracy 0.5700\n",
      "Time taken for 1 epoch: 148.71 secs\n",
      "\n",
      "Epoch 4 Batch 0 Loss 2.1199 Accuracy 0.5770\n",
      "Epoch 4 Batch 50 Loss 2.1167 Accuracy 0.5772\n",
      "Epoch 4 Batch 100 Loss 2.1338 Accuracy 0.5741\n",
      "Epoch 4 Batch 150 Loss 2.1362 Accuracy 0.5739\n",
      "Epoch 4 Batch 200 Loss 2.1299 Accuracy 0.5754\n",
      "Epoch 4 Batch 250 Loss 2.1308 Accuracy 0.5756\n",
      "Epoch 4 Batch 300 Loss 2.1257 Accuracy 0.5768\n",
      "Epoch 4 Batch 350 Loss 2.1314 Accuracy 0.5760\n",
      "Epoch 4 Batch 400 Loss 2.1315 Accuracy 0.5760\n",
      "Epoch 4 Batch 450 Loss 2.1340 Accuracy 0.5758\n",
      "Epoch 4 Batch 500 Loss 2.1368 Accuracy 0.5754\n",
      "Epoch 4 Batch 550 Loss 2.1388 Accuracy 0.5751\n",
      "Epoch 4 Batch 600 Loss 2.1388 Accuracy 0.5752\n",
      "Epoch 4 Batch 650 Loss 2.1396 Accuracy 0.5752\n",
      "Epoch 4 Batch 700 Loss 2.1412 Accuracy 0.5750\n",
      "Epoch 4 Batch 750 Loss 2.1449 Accuracy 0.5743\n",
      "Epoch 4 Batch 800 Loss 2.1460 Accuracy 0.5743\n",
      "Epoch 4 Loss 2.1466 Accuracy 0.5741\n",
      "Time taken for 1 epoch: 153.12 secs\n",
      "\n",
      "Epoch 5 Batch 0 Loss 2.2325 Accuracy 0.5507\n",
      "Epoch 5 Batch 50 Loss 2.0843 Accuracy 0.5834\n",
      "Epoch 5 Batch 100 Loss 2.0941 Accuracy 0.5822\n",
      "Epoch 5 Batch 150 Loss 2.0823 Accuracy 0.5833\n",
      "Epoch 5 Batch 200 Loss 2.0898 Accuracy 0.5821\n",
      "Epoch 5 Batch 250 Loss 2.0947 Accuracy 0.5811\n",
      "Epoch 5 Batch 300 Loss 2.0998 Accuracy 0.5803\n",
      "Epoch 5 Batch 350 Loss 2.0988 Accuracy 0.5809\n",
      "Epoch 5 Batch 400 Loss 2.1024 Accuracy 0.5806\n",
      "Epoch 5 Batch 450 Loss 2.1072 Accuracy 0.5800\n",
      "Epoch 5 Batch 500 Loss 2.1074 Accuracy 0.5799\n",
      "Epoch 5 Batch 550 Loss 2.1088 Accuracy 0.5796\n",
      "Epoch 5 Batch 600 Loss 2.1097 Accuracy 0.5795\n",
      "Epoch 5 Batch 650 Loss 2.1116 Accuracy 0.5793\n",
      "Epoch 5 Batch 700 Loss 2.1144 Accuracy 0.5789\n",
      "Epoch 5 Batch 750 Loss 2.1170 Accuracy 0.5785\n",
      "Epoch 5 Batch 800 Loss 2.1195 Accuracy 0.5783\n",
      "Saving checkpoint for epoch 5 at ./checkpoints/train\\ckpt-4\n",
      "Epoch 5 Loss 2.1207 Accuracy 0.5782\n",
      "Time taken for 1 epoch: 151.95 secs\n",
      "\n",
      "Epoch 6 Batch 0 Loss 2.3003 Accuracy 0.5571\n",
      "Epoch 6 Batch 50 Loss 2.0617 Accuracy 0.5867\n",
      "Epoch 6 Batch 100 Loss 2.0538 Accuracy 0.5867\n",
      "Epoch 6 Batch 150 Loss 2.0636 Accuracy 0.5859\n",
      "Epoch 6 Batch 200 Loss 2.0718 Accuracy 0.5844\n",
      "Epoch 6 Batch 250 Loss 2.0740 Accuracy 0.5842\n",
      "Epoch 6 Batch 300 Loss 2.0739 Accuracy 0.5843\n",
      "Epoch 6 Batch 350 Loss 2.0733 Accuracy 0.5848\n",
      "Epoch 6 Batch 400 Loss 2.0779 Accuracy 0.5842\n",
      "Epoch 6 Batch 450 Loss 2.0802 Accuracy 0.5839\n",
      "Epoch 6 Batch 500 Loss 2.0799 Accuracy 0.5840\n",
      "Epoch 6 Batch 550 Loss 2.0810 Accuracy 0.5838\n",
      "Epoch 6 Batch 600 Loss 2.0851 Accuracy 0.5831\n",
      "Epoch 6 Batch 650 Loss 2.0876 Accuracy 0.5830\n",
      "Epoch 6 Batch 700 Loss 2.0914 Accuracy 0.5825\n",
      "Epoch 6 Batch 750 Loss 2.0935 Accuracy 0.5824\n",
      "Epoch 6 Batch 800 Loss 2.0964 Accuracy 0.5820\n",
      "Epoch 6 Loss 2.0966 Accuracy 0.5820\n",
      "Time taken for 1 epoch: 145.92 secs\n",
      "\n",
      "Epoch 7 Batch 0 Loss 1.9644 Accuracy 0.5894\n",
      "Epoch 7 Batch 50 Loss 2.0293 Accuracy 0.5919\n",
      "Epoch 7 Batch 100 Loss 2.0484 Accuracy 0.5879\n",
      "Epoch 7 Batch 150 Loss 2.0413 Accuracy 0.5889\n",
      "Epoch 7 Batch 200 Loss 2.0500 Accuracy 0.5876\n",
      "Epoch 7 Batch 250 Loss 2.0526 Accuracy 0.5875\n",
      "Epoch 7 Batch 300 Loss 2.0565 Accuracy 0.5870\n",
      "Epoch 7 Batch 350 Loss 2.0583 Accuracy 0.5866\n",
      "Epoch 7 Batch 400 Loss 2.0581 Accuracy 0.5868\n",
      "Epoch 7 Batch 450 Loss 2.0597 Accuracy 0.5863\n",
      "Epoch 7 Batch 500 Loss 2.0635 Accuracy 0.5859\n",
      "Epoch 7 Batch 550 Loss 2.0720 Accuracy 0.5848\n",
      "Epoch 7 Batch 600 Loss 2.0703 Accuracy 0.5851\n",
      "Epoch 7 Batch 650 Loss 2.0718 Accuracy 0.5850\n",
      "Epoch 7 Batch 700 Loss 2.0734 Accuracy 0.5848\n",
      "Epoch 7 Batch 750 Loss 2.0745 Accuracy 0.5848\n",
      "Epoch 7 Batch 800 Loss 2.0760 Accuracy 0.5846\n",
      "Epoch 7 Loss 2.0753 Accuracy 0.5847\n",
      "Time taken for 1 epoch: 145.00 secs\n",
      "\n",
      "Epoch 8 Batch 0 Loss 1.8817 Accuracy 0.6197\n",
      "Epoch 8 Batch 50 Loss 2.0031 Accuracy 0.5951\n",
      "Epoch 8 Batch 100 Loss 2.0010 Accuracy 0.5957\n",
      "Epoch 8 Batch 150 Loss 2.0152 Accuracy 0.5931\n",
      "Epoch 8 Batch 200 Loss 2.0188 Accuracy 0.5924\n",
      "Epoch 8 Batch 250 Loss 2.0288 Accuracy 0.5911\n",
      "Epoch 8 Batch 300 Loss 2.0358 Accuracy 0.5904\n",
      "Epoch 8 Batch 350 Loss 2.0365 Accuracy 0.5900\n",
      "Epoch 8 Batch 400 Loss 2.0386 Accuracy 0.5898\n",
      "Epoch 8 Batch 450 Loss 2.0402 Accuracy 0.5898\n",
      "Epoch 8 Batch 500 Loss 2.0409 Accuracy 0.5897\n",
      "Epoch 8 Batch 550 Loss 2.0418 Accuracy 0.5898\n",
      "Epoch 8 Batch 600 Loss 2.0459 Accuracy 0.5892\n",
      "Epoch 8 Batch 650 Loss 2.0510 Accuracy 0.5886\n",
      "Epoch 8 Batch 700 Loss 2.0547 Accuracy 0.5881\n",
      "Epoch 8 Batch 750 Loss 2.0562 Accuracy 0.5879\n",
      "Epoch 8 Batch 800 Loss 2.0585 Accuracy 0.5877\n",
      "Epoch 8 Loss 2.0579 Accuracy 0.5878\n",
      "Time taken for 1 epoch: 145.07 secs\n",
      "\n",
      "Epoch 9 Batch 0 Loss 1.8648 Accuracy 0.6290\n",
      "Epoch 9 Batch 50 Loss 1.9914 Accuracy 0.5964\n",
      "Epoch 9 Batch 100 Loss 1.9957 Accuracy 0.5955\n",
      "Epoch 9 Batch 150 Loss 2.0035 Accuracy 0.5942\n",
      "Epoch 9 Batch 200 Loss 2.0009 Accuracy 0.5952\n",
      "Epoch 9 Batch 250 Loss 2.0092 Accuracy 0.5940\n",
      "Epoch 9 Batch 300 Loss 2.0152 Accuracy 0.5930\n",
      "Epoch 9 Batch 350 Loss 2.0166 Accuracy 0.5931\n",
      "Epoch 9 Batch 400 Loss 2.0200 Accuracy 0.5927\n",
      "Epoch 9 Batch 450 Loss 2.0204 Accuracy 0.5927\n",
      "Epoch 9 Batch 500 Loss 2.0214 Accuracy 0.5926\n",
      "Epoch 9 Batch 550 Loss 2.0245 Accuracy 0.5922\n",
      "Epoch 9 Batch 600 Loss 2.0277 Accuracy 0.5917\n",
      "Epoch 9 Batch 650 Loss 2.0301 Accuracy 0.5913\n",
      "Epoch 9 Batch 700 Loss 2.0297 Accuracy 0.5914\n",
      "Epoch 9 Batch 750 Loss 2.0319 Accuracy 0.5912\n",
      "Epoch 9 Batch 800 Loss 2.0364 Accuracy 0.5906\n",
      "Epoch 9 Loss 2.0373 Accuracy 0.5905\n",
      "Time taken for 1 epoch: 150.57 secs\n",
      "\n",
      "Epoch 10 Batch 0 Loss 1.8707 Accuracy 0.6224\n",
      "Epoch 10 Batch 50 Loss 1.9823 Accuracy 0.5979\n",
      "Epoch 10 Batch 100 Loss 1.9877 Accuracy 0.5976\n",
      "Epoch 10 Batch 150 Loss 1.9834 Accuracy 0.5989\n",
      "Epoch 10 Batch 200 Loss 1.9948 Accuracy 0.5970\n",
      "Epoch 10 Batch 250 Loss 2.0008 Accuracy 0.5961\n",
      "Epoch 10 Batch 300 Loss 2.0039 Accuracy 0.5952\n",
      "Epoch 10 Batch 350 Loss 2.0043 Accuracy 0.5950\n",
      "Epoch 10 Batch 400 Loss 2.0089 Accuracy 0.5944\n",
      "Epoch 10 Batch 450 Loss 2.0115 Accuracy 0.5940\n"
     ]
    },
    {
     "name": "stdout",
     "output_type": "stream",
     "text": [
      "Epoch 10 Batch 500 Loss 2.0149 Accuracy 0.5935\n",
      "Epoch 10 Batch 550 Loss 2.0143 Accuracy 0.5938\n",
      "Epoch 10 Batch 600 Loss 2.0171 Accuracy 0.5934\n",
      "Epoch 10 Batch 650 Loss 2.0183 Accuracy 0.5934\n",
      "Epoch 10 Batch 700 Loss 2.0194 Accuracy 0.5933\n",
      "Epoch 10 Batch 750 Loss 2.0189 Accuracy 0.5934\n",
      "Epoch 10 Batch 800 Loss 2.0195 Accuracy 0.5933\n",
      "Saving checkpoint for epoch 10 at ./checkpoints/train\\ckpt-5\n",
      "Epoch 10 Loss 2.0205 Accuracy 0.5931\n",
      "Time taken for 1 epoch: 149.87 secs\n",
      "\n",
      "Epoch 11 Batch 0 Loss 2.0684 Accuracy 0.5848\n",
      "Epoch 11 Batch 50 Loss 1.9411 Accuracy 0.6046\n",
      "Epoch 11 Batch 100 Loss 1.9621 Accuracy 0.6011\n",
      "Epoch 11 Batch 150 Loss 1.9536 Accuracy 0.6021\n",
      "Epoch 11 Batch 200 Loss 1.9684 Accuracy 0.6003\n",
      "Epoch 11 Batch 250 Loss 1.9739 Accuracy 0.5998\n",
      "Epoch 11 Batch 300 Loss 1.9842 Accuracy 0.5982\n",
      "Epoch 11 Batch 350 Loss 1.9861 Accuracy 0.5981\n",
      "Epoch 11 Batch 400 Loss 1.9890 Accuracy 0.5978\n",
      "Epoch 11 Batch 450 Loss 1.9890 Accuracy 0.5981\n",
      "Epoch 11 Batch 500 Loss 1.9896 Accuracy 0.5979\n",
      "Epoch 11 Batch 550 Loss 1.9888 Accuracy 0.5979\n",
      "Epoch 11 Batch 600 Loss 1.9915 Accuracy 0.5976\n",
      "Epoch 11 Batch 650 Loss 1.9959 Accuracy 0.5969\n",
      "Epoch 11 Batch 700 Loss 1.9993 Accuracy 0.5964\n",
      "Epoch 11 Batch 750 Loss 2.0025 Accuracy 0.5961\n",
      "Epoch 11 Batch 800 Loss 2.0060 Accuracy 0.5957\n",
      "Epoch 11 Loss 2.0055 Accuracy 0.5959\n",
      "Time taken for 1 epoch: 156.74 secs\n",
      "\n",
      "Epoch 12 Batch 0 Loss 1.9006 Accuracy 0.6016\n",
      "Epoch 12 Batch 50 Loss 1.9304 Accuracy 0.6067\n",
      "Epoch 12 Batch 100 Loss 1.9474 Accuracy 0.6036\n",
      "Epoch 12 Batch 150 Loss 1.9509 Accuracy 0.6018\n",
      "Epoch 12 Batch 200 Loss 1.9584 Accuracy 0.6007\n",
      "Epoch 12 Batch 250 Loss 1.9650 Accuracy 0.5998\n",
      "Epoch 12 Batch 300 Loss 1.9656 Accuracy 0.6000\n",
      "Epoch 12 Batch 350 Loss 1.9674 Accuracy 0.5998\n",
      "Epoch 12 Batch 400 Loss 1.9722 Accuracy 0.5990\n",
      "Epoch 12 Batch 450 Loss 1.9725 Accuracy 0.5995\n",
      "Epoch 12 Batch 500 Loss 1.9739 Accuracy 0.5997\n",
      "Epoch 12 Batch 550 Loss 1.9758 Accuracy 0.5994\n",
      "Epoch 12 Batch 600 Loss 1.9767 Accuracy 0.5993\n",
      "Epoch 12 Batch 650 Loss 1.9782 Accuracy 0.5993\n",
      "Epoch 12 Batch 700 Loss 1.9809 Accuracy 0.5988\n",
      "Epoch 12 Batch 750 Loss 1.9841 Accuracy 0.5983\n",
      "Epoch 12 Batch 800 Loss 1.9889 Accuracy 0.5976\n",
      "Epoch 12 Loss 1.9896 Accuracy 0.5976\n",
      "Time taken for 1 epoch: 151.03 secs\n",
      "\n",
      "Epoch 13 Batch 0 Loss 1.6925 Accuracy 0.6394\n",
      "Epoch 13 Batch 50 Loss 1.9229 Accuracy 0.6078\n",
      "Epoch 13 Batch 100 Loss 1.9419 Accuracy 0.6049\n",
      "Epoch 13 Batch 150 Loss 1.9511 Accuracy 0.6025\n",
      "Epoch 13 Batch 200 Loss 1.9531 Accuracy 0.6026\n",
      "Epoch 13 Batch 250 Loss 1.9574 Accuracy 0.6018\n",
      "Epoch 13 Batch 300 Loss 1.9582 Accuracy 0.6020\n",
      "Epoch 13 Batch 350 Loss 1.9595 Accuracy 0.6015\n",
      "Epoch 13 Batch 400 Loss 1.9607 Accuracy 0.6015\n",
      "Epoch 13 Batch 450 Loss 1.9645 Accuracy 0.6010\n",
      "Epoch 13 Batch 500 Loss 1.9651 Accuracy 0.6011\n",
      "Epoch 13 Batch 550 Loss 1.9666 Accuracy 0.6008\n",
      "Epoch 13 Batch 600 Loss 1.9704 Accuracy 0.6002\n",
      "Epoch 13 Batch 650 Loss 1.9700 Accuracy 0.6003\n",
      "Epoch 13 Batch 700 Loss 1.9716 Accuracy 0.6002\n",
      "Epoch 13 Batch 750 Loss 1.9722 Accuracy 0.6002\n",
      "Epoch 13 Batch 800 Loss 1.9739 Accuracy 0.5999\n",
      "Epoch 13 Loss 1.9752 Accuracy 0.5997\n",
      "Time taken for 1 epoch: 151.53 secs\n",
      "\n",
      "Epoch 14 Batch 0 Loss 2.0613 Accuracy 0.6016\n",
      "Epoch 14 Batch 50 Loss 1.9256 Accuracy 0.6063\n",
      "Epoch 14 Batch 100 Loss 1.9257 Accuracy 0.6080\n",
      "Epoch 14 Batch 150 Loss 1.9284 Accuracy 0.6072\n",
      "Epoch 14 Batch 200 Loss 1.9314 Accuracy 0.6065\n",
      "Epoch 14 Batch 250 Loss 1.9354 Accuracy 0.6058\n",
      "Epoch 14 Batch 300 Loss 1.9368 Accuracy 0.6055\n",
      "Epoch 14 Batch 350 Loss 1.9376 Accuracy 0.6052\n",
      "Epoch 14 Batch 400 Loss 1.9402 Accuracy 0.6050\n",
      "Epoch 14 Batch 450 Loss 1.9452 Accuracy 0.6042\n",
      "Epoch 14 Batch 500 Loss 1.9470 Accuracy 0.6041\n",
      "Epoch 14 Batch 550 Loss 1.9465 Accuracy 0.6041\n",
      "Epoch 14 Batch 600 Loss 1.9518 Accuracy 0.6033\n",
      "Epoch 14 Batch 650 Loss 1.9552 Accuracy 0.6029\n",
      "Epoch 14 Batch 700 Loss 1.9596 Accuracy 0.6023\n",
      "Epoch 14 Batch 750 Loss 1.9607 Accuracy 0.6022\n",
      "Epoch 14 Batch 800 Loss 1.9626 Accuracy 0.6020\n",
      "Epoch 14 Loss 1.9624 Accuracy 0.6021\n",
      "Time taken for 1 epoch: 146.69 secs\n",
      "\n",
      "Epoch 15 Batch 0 Loss 2.0581 Accuracy 0.5959\n",
      "Epoch 15 Batch 50 Loss 1.9258 Accuracy 0.6071\n",
      "Epoch 15 Batch 100 Loss 1.9185 Accuracy 0.6079\n",
      "Epoch 15 Batch 150 Loss 1.9186 Accuracy 0.6070\n",
      "Epoch 15 Batch 200 Loss 1.9203 Accuracy 0.6068\n",
      "Epoch 15 Batch 250 Loss 1.9242 Accuracy 0.6066\n",
      "Epoch 15 Batch 300 Loss 1.9240 Accuracy 0.6068\n",
      "Epoch 15 Batch 350 Loss 1.9274 Accuracy 0.6066\n",
      "Epoch 15 Batch 400 Loss 1.9319 Accuracy 0.6057\n",
      "Epoch 15 Batch 450 Loss 1.9316 Accuracy 0.6058\n",
      "Epoch 15 Batch 500 Loss 1.9313 Accuracy 0.6058\n",
      "Epoch 15 Batch 550 Loss 1.9307 Accuracy 0.6057\n",
      "Epoch 15 Batch 600 Loss 1.9344 Accuracy 0.6054\n",
      "Epoch 15 Batch 650 Loss 1.9385 Accuracy 0.6049\n",
      "Epoch 15 Batch 700 Loss 1.9417 Accuracy 0.6046\n",
      "Epoch 15 Batch 750 Loss 1.9472 Accuracy 0.6038\n",
      "Epoch 15 Batch 800 Loss 1.9480 Accuracy 0.6039\n",
      "Saving checkpoint for epoch 15 at ./checkpoints/train\\ckpt-6\n",
      "Epoch 15 Loss 1.9486 Accuracy 0.6039\n",
      "Time taken for 1 epoch: 149.71 secs\n",
      "\n",
      "Epoch 16 Batch 0 Loss 2.0180 Accuracy 0.5817\n",
      "Epoch 16 Batch 50 Loss 1.9306 Accuracy 0.6040\n",
      "Epoch 16 Batch 100 Loss 1.9186 Accuracy 0.6065\n",
      "Epoch 16 Batch 150 Loss 1.9086 Accuracy 0.6089\n",
      "Epoch 16 Batch 200 Loss 1.9094 Accuracy 0.6092\n",
      "Epoch 16 Batch 250 Loss 1.9149 Accuracy 0.6088\n",
      "Epoch 16 Batch 300 Loss 1.9145 Accuracy 0.6087\n",
      "Epoch 16 Batch 350 Loss 1.9175 Accuracy 0.6080\n",
      "Epoch 16 Batch 400 Loss 1.9192 Accuracy 0.6077\n",
      "Epoch 16 Batch 450 Loss 1.9190 Accuracy 0.6079\n",
      "Epoch 16 Batch 500 Loss 1.9230 Accuracy 0.6071\n",
      "Epoch 16 Batch 550 Loss 1.9267 Accuracy 0.6067\n",
      "Epoch 16 Batch 600 Loss 1.9300 Accuracy 0.6060\n",
      "Epoch 16 Batch 650 Loss 1.9329 Accuracy 0.6057\n",
      "Epoch 16 Batch 700 Loss 1.9348 Accuracy 0.6057\n",
      "Epoch 16 Batch 750 Loss 1.9365 Accuracy 0.6056\n",
      "Epoch 16 Batch 800 Loss 1.9387 Accuracy 0.6054\n",
      "Epoch 16 Loss 1.9394 Accuracy 0.6054\n",
      "Time taken for 1 epoch: 149.12 secs\n",
      "\n",
      "Epoch 17 Batch 0 Loss 1.7943 Accuracy 0.6205\n",
      "Epoch 17 Batch 50 Loss 1.9007 Accuracy 0.6126\n",
      "Epoch 17 Batch 100 Loss 1.8904 Accuracy 0.6132\n",
      "Epoch 17 Batch 150 Loss 1.9002 Accuracy 0.6113\n",
      "Epoch 17 Batch 200 Loss 1.8996 Accuracy 0.6111\n",
      "Epoch 17 Batch 250 Loss 1.9016 Accuracy 0.6105\n",
      "Epoch 17 Batch 300 Loss 1.9016 Accuracy 0.6106\n",
      "Epoch 17 Batch 350 Loss 1.9033 Accuracy 0.6103\n",
      "Epoch 17 Batch 400 Loss 1.9040 Accuracy 0.6105\n",
      "Epoch 17 Batch 450 Loss 1.9086 Accuracy 0.6101\n",
      "Epoch 17 Batch 500 Loss 1.9109 Accuracy 0.6097\n",
      "Epoch 17 Batch 550 Loss 1.9133 Accuracy 0.6095\n",
      "Epoch 17 Batch 600 Loss 1.9162 Accuracy 0.6091\n",
      "Epoch 17 Batch 650 Loss 1.9190 Accuracy 0.6087\n",
      "Epoch 17 Batch 700 Loss 1.9200 Accuracy 0.6086\n",
      "Epoch 17 Batch 750 Loss 1.9234 Accuracy 0.6082\n",
      "Epoch 17 Batch 800 Loss 1.9253 Accuracy 0.6079\n",
      "Epoch 17 Loss 1.9252 Accuracy 0.6079\n",
      "Time taken for 1 epoch: 150.74 secs\n",
      "\n",
      "Epoch 18 Batch 0 Loss 2.0296 Accuracy 0.5769\n",
      "Epoch 18 Batch 50 Loss 1.8912 Accuracy 0.6102\n",
      "Epoch 18 Batch 100 Loss 1.8805 Accuracy 0.6123\n",
      "Epoch 18 Batch 150 Loss 1.8778 Accuracy 0.6132\n",
      "Epoch 18 Batch 200 Loss 1.8799 Accuracy 0.6129\n",
      "Epoch 18 Batch 250 Loss 1.8810 Accuracy 0.6128\n",
      "Epoch 18 Batch 300 Loss 1.8873 Accuracy 0.6120\n",
      "Epoch 18 Batch 350 Loss 1.8897 Accuracy 0.6115\n",
      "Epoch 18 Batch 400 Loss 1.8928 Accuracy 0.6112\n",
      "Epoch 18 Batch 450 Loss 1.8948 Accuracy 0.6109\n",
      "Epoch 18 Batch 500 Loss 1.8960 Accuracy 0.6110\n",
      "Epoch 18 Batch 550 Loss 1.8966 Accuracy 0.6111\n",
      "Epoch 18 Batch 600 Loss 1.9004 Accuracy 0.6108\n",
      "Epoch 18 Batch 650 Loss 1.9039 Accuracy 0.6103\n",
      "Epoch 18 Batch 700 Loss 1.9091 Accuracy 0.6095\n",
      "Epoch 18 Batch 750 Loss 1.9127 Accuracy 0.6090\n",
      "Epoch 18 Batch 800 Loss 1.9160 Accuracy 0.6086\n",
      "Epoch 18 Loss 1.9159 Accuracy 0.6086\n",
      "Time taken for 1 epoch: 149.72 secs\n",
      "\n",
      "Epoch 19 Batch 0 Loss 1.8768 Accuracy 0.6074\n",
      "Epoch 19 Batch 50 Loss 1.8624 Accuracy 0.6164\n",
      "Epoch 19 Batch 100 Loss 1.8752 Accuracy 0.6147\n",
      "Epoch 19 Batch 150 Loss 1.8738 Accuracy 0.6141\n",
      "Epoch 19 Batch 200 Loss 1.8800 Accuracy 0.6132\n",
      "Epoch 19 Batch 250 Loss 1.8805 Accuracy 0.6138\n",
      "Epoch 19 Batch 300 Loss 1.8828 Accuracy 0.6133\n",
      "Epoch 19 Batch 350 Loss 1.8847 Accuracy 0.6132\n",
      "Epoch 19 Batch 400 Loss 1.8892 Accuracy 0.6126\n",
      "Epoch 19 Batch 450 Loss 1.8947 Accuracy 0.6121\n",
      "Epoch 19 Batch 500 Loss 1.8943 Accuracy 0.6122\n",
      "Epoch 19 Batch 550 Loss 1.8949 Accuracy 0.6122\n",
      "Epoch 19 Batch 600 Loss 1.8991 Accuracy 0.6115\n",
      "Epoch 19 Batch 650 Loss 1.9019 Accuracy 0.6111\n",
      "Epoch 19 Batch 700 Loss 1.9041 Accuracy 0.6108\n",
      "Epoch 19 Batch 750 Loss 1.9051 Accuracy 0.6107\n"
     ]
    },
    {
     "name": "stdout",
     "output_type": "stream",
     "text": [
      "Epoch 19 Batch 800 Loss 1.9077 Accuracy 0.6104\n",
      "Epoch 19 Loss 1.9079 Accuracy 0.6104\n",
      "Time taken for 1 epoch: 150.28 secs\n",
      "\n",
      "Epoch 20 Batch 0 Loss 2.0551 Accuracy 0.5835\n",
      "Epoch 20 Batch 50 Loss 1.8448 Accuracy 0.6180\n",
      "Epoch 20 Batch 100 Loss 1.8589 Accuracy 0.6166\n",
      "Epoch 20 Batch 150 Loss 1.8658 Accuracy 0.6153\n",
      "Epoch 20 Batch 200 Loss 1.8677 Accuracy 0.6152\n",
      "Epoch 20 Batch 250 Loss 1.8747 Accuracy 0.6146\n",
      "Epoch 20 Batch 300 Loss 1.8806 Accuracy 0.6138\n",
      "Epoch 20 Batch 350 Loss 1.8820 Accuracy 0.6135\n",
      "Epoch 20 Batch 400 Loss 1.8871 Accuracy 0.6127\n",
      "Epoch 20 Batch 450 Loss 1.8884 Accuracy 0.6129\n",
      "Epoch 20 Batch 500 Loss 1.8888 Accuracy 0.6128\n",
      "Epoch 20 Batch 550 Loss 1.8887 Accuracy 0.6127\n",
      "Epoch 20 Batch 600 Loss 1.8922 Accuracy 0.6122\n",
      "Epoch 20 Batch 650 Loss 1.8941 Accuracy 0.6120\n",
      "Epoch 20 Batch 700 Loss 1.8972 Accuracy 0.6115\n",
      "Epoch 20 Batch 750 Loss 1.8971 Accuracy 0.6116\n",
      "Epoch 20 Batch 800 Loss 1.8996 Accuracy 0.6112\n",
      "Saving checkpoint for epoch 20 at ./checkpoints/train\\ckpt-7\n",
      "Epoch 20 Loss 1.8999 Accuracy 0.6112\n",
      "Time taken for 1 epoch: 157.82 secs\n",
      "\n"
     ]
    }
   ],
   "source": [
    "import time\n",
    "\n",
    "EPOCHS = 20\n",
    "\n",
    "for epoch in range(EPOCHS):\n",
    "    start = time.time()\n",
    "\n",
    "    train_loss.reset_states()\n",
    "    train_accuracy.reset_states()\n",
    "\n",
    "    for (batch, (inp, tar)) in enumerate(train_batches):\n",
    "        train_step(inp, tar)\n",
    "\n",
    "        if batch % 50 == 0:\n",
    "            print(\n",
    "                f'Epoch {epoch + 1} Batch {batch} Loss {train_loss.result():.4f} Accuracy {train_accuracy.result():.4f}')\n",
    "\n",
    "    if (epoch + 1) % 5 == 0:\n",
    "        ckpt_save_path = ckpt_manager.save()\n",
    "        print(f'Saving checkpoint for epoch {epoch+1} at {ckpt_save_path}')\n",
    "\n",
    "    print(\n",
    "        f'Epoch {epoch + 1} Loss {train_loss.result():.4f} Accuracy {train_accuracy.result():.4f}')\n",
    "\n",
    "    print(f'Time taken for 1 epoch: {time.time() - start:.2f} secs\\n')"
   ]
  },
  {
   "cell_type": "code",
   "execution_count": 54,
   "id": "0e7c9452",
   "metadata": {},
   "outputs": [],
   "source": [
    "class Translator(tf.Module):\n",
    "    def __init__(self, tokenizers, transformer):\n",
    "        self.tokenizers = tokenizers\n",
    "        self.transformer = transformer\n",
    "\n",
    "    def __call__(self, sentence, max_length=20):\n",
    "        assert isinstance(sentence, tf.Tensor)\n",
    "        if len(sentence.shape) == 0:\n",
    "            sentence = sentence[tf.newaxis]\n",
    "\n",
    "        sentence = self.tokenizers.pt.tokenize(sentence).to_tensor()\n",
    "\n",
    "        encoder_input = sentence\n",
    "\n",
    "        start_end = self.tokenizers.en.tokenize([''])[0]\n",
    "        start = start_end[0][tf.newaxis]\n",
    "        end = start_end[1][tf.newaxis]\n",
    "\n",
    "        output_array = tf.TensorArray(\n",
    "            dtype=tf.int64, size=0, dynamic_size=True)\n",
    "        output_array = output_array.write(0, start)\n",
    "\n",
    "        for i in tf.range(max_length):\n",
    "            output = tf.transpose(output_array.stack())\n",
    "            predictions, _ = self.transformer(\n",
    "                [encoder_input, output], training=False)\n",
    "\n",
    "            predictions = predictions[:, -1:, :]  # (batch_size, 1, vocab_size)\n",
    "\n",
    "            predicted_id = tf.argmax(predictions, axis=-1)\n",
    "\n",
    "            output_array = output_array.write(i+1, predicted_id[0])\n",
    "\n",
    "            if predicted_id == end:\n",
    "                break\n",
    "\n",
    "        output = tf.transpose(output_array.stack())\n",
    "        text = tokenizers.en.detokenize(output)[0]  # shape: ()\n",
    "\n",
    "        tokens = tokenizers.en.lookup(output)[0]\n",
    "\n",
    "        _, attention_weights = self.transformer(\n",
    "            [encoder_input, output[:, :-1]], training=False)\n",
    "\n",
    "        return text, tokens, attention_weights"
   ]
  },
  {
   "cell_type": "code",
   "execution_count": 55,
   "id": "6cce1154",
   "metadata": {},
   "outputs": [],
   "source": [
    "translator = Translator(tokenizers, transformer)"
   ]
  },
  {
   "cell_type": "code",
   "execution_count": 56,
   "id": "a9c26ea7",
   "metadata": {},
   "outputs": [],
   "source": [
    "def print_translation(sentence, tokens, ground_truth):\n",
    "    print(f'{\"Input:\":15s}: {sentence}')\n",
    "    print(f'{\"Prediction\":15s}: {tokens.numpy().decode(\"utf-8\")}')\n",
    "    print(f'{\"Ground truth\":15s}: {ground_truth}')"
   ]
  },
  {
   "cell_type": "code",
   "execution_count": 57,
   "id": "ceb06843",
   "metadata": {},
   "outputs": [
    {
     "name": "stdout",
     "output_type": "stream",
     "text": [
      "Input:         : este é um problema que temos que resolver.\n",
      "Prediction     : this is a problem that we have to solve .\n",
      "Ground truth   : this is a problem we have to solve .\n"
     ]
    }
   ],
   "source": [
    "sentence = \"este é um problema que temos que resolver.\"\n",
    "ground_truth = \"this is a problem we have to solve .\"\n",
    "\n",
    "translated_text, translated_tokens, attention_weights = translator(\n",
    "    tf.constant(sentence))\n",
    "print_translation(sentence, translated_text, ground_truth)"
   ]
  },
  {
   "cell_type": "code",
   "execution_count": 58,
   "id": "0785ef14",
   "metadata": {},
   "outputs": [
    {
     "name": "stdout",
     "output_type": "stream",
     "text": [
      "Input:         : os meus vizinhos ouviram sobre esta ideia.\n",
      "Prediction     : my neighbors heard about this idea .\n",
      "Ground truth   : and my neighboring homes heard about this idea .\n"
     ]
    }
   ],
   "source": [
    "sentence = \"os meus vizinhos ouviram sobre esta ideia.\"\n",
    "ground_truth = \"and my neighboring homes heard about this idea .\"\n",
    "\n",
    "translated_text, translated_tokens, attention_weights = translator(\n",
    "    tf.constant(sentence))\n",
    "print_translation(sentence, translated_text, ground_truth)"
   ]
  },
  {
   "cell_type": "code",
   "execution_count": 59,
   "id": "28447dfc",
   "metadata": {},
   "outputs": [
    {
     "name": "stdout",
     "output_type": "stream",
     "text": [
      "Input:         : vou então muito rapidamente partilhar convosco algumas histórias de algumas coisas mágicas que aconteceram.\n",
      "Prediction     : so i ' m very quickly going to share with you some of these things that are magic things that\n",
      "Ground truth   : so i 'll just share with you some stories very quickly of some magical things that have happened .\n"
     ]
    }
   ],
   "source": [
    "sentence = \"vou então muito rapidamente partilhar convosco algumas histórias de algumas coisas mágicas que aconteceram.\"\n",
    "ground_truth = \"so i \\'ll just share with you some stories very quickly of some magical things that have happened .\"\n",
    "\n",
    "translated_text, translated_tokens, attention_weights = translator(\n",
    "    tf.constant(sentence))\n",
    "print_translation(sentence, translated_text, ground_truth)"
   ]
  },
  {
   "cell_type": "code",
   "execution_count": 60,
   "id": "5c3b0e65",
   "metadata": {},
   "outputs": [
    {
     "name": "stdout",
     "output_type": "stream",
     "text": [
      "Input:         : este é o primeiro livro que eu fiz.\n",
      "Prediction     : this is the first book i did .\n",
      "Ground truth   : this is the first book i've ever done.\n"
     ]
    }
   ],
   "source": [
    "sentence = \"este é o primeiro livro que eu fiz.\"\n",
    "ground_truth = \"this is the first book i've ever done.\"\n",
    "\n",
    "translated_text, translated_tokens, attention_weights = translator(\n",
    "    tf.constant(sentence))\n",
    "print_translation(sentence, translated_text, ground_truth)"
   ]
  },
  {
   "cell_type": "code",
   "execution_count": 61,
   "id": "2f5bcd1d",
   "metadata": {},
   "outputs": [],
   "source": [
    "def plot_attention_head(in_tokens, translated_tokens, attention):\n",
    "    translated_tokens = translated_tokens[1:]\n",
    "\n",
    "    ax = plt.gca()\n",
    "    ax.matshow(attention)\n",
    "    ax.set_xticks(range(len(in_tokens)))\n",
    "    ax.set_yticks(range(len(translated_tokens)))\n",
    "\n",
    "    labels = [label.decode('utf-8') for label in in_tokens.numpy()]\n",
    "    ax.set_xticklabels(\n",
    "        labels, rotation=90)\n",
    "\n",
    "    labels = [label.decode('utf-8') for label in translated_tokens.numpy()]\n",
    "    ax.set_yticklabels(labels)"
   ]
  },
  {
   "cell_type": "code",
   "execution_count": 62,
   "id": "381694f3",
   "metadata": {},
   "outputs": [
    {
     "data": {
      "text/plain": [
       "TensorShape([9, 11])"
      ]
     },
     "execution_count": 62,
     "metadata": {},
     "output_type": "execute_result"
    }
   ],
   "source": [
    "head = 0\n",
    "attention_heads = tf.squeeze(\n",
    "    attention_weights['decoder_layer4_block2'], 0)\n",
    "attention = attention_heads[head]\n",
    "attention.shape"
   ]
  },
  {
   "cell_type": "code",
   "execution_count": 63,
   "id": "9514b901",
   "metadata": {},
   "outputs": [
    {
     "data": {
      "text/plain": [
       "<tf.Tensor: shape=(11,), dtype=string, numpy=\n",
       "array([b'[START]', b'este', b'e', b'o', b'primeiro', b'livro', b'que',\n",
       "       b'eu', b'fiz', b'.', b'[END]'], dtype=object)>"
      ]
     },
     "execution_count": 63,
     "metadata": {},
     "output_type": "execute_result"
    }
   ],
   "source": [
    "in_tokens = tf.convert_to_tensor([sentence])\n",
    "in_tokens = tokenizers.pt.tokenize(in_tokens).to_tensor()\n",
    "in_tokens = tokenizers.pt.lookup(in_tokens)[0]\n",
    "in_tokens"
   ]
  },
  {
   "cell_type": "code",
   "execution_count": 64,
   "id": "cc47dbd9",
   "metadata": {},
   "outputs": [
    {
     "data": {
      "text/plain": [
       "<tf.Tensor: shape=(10,), dtype=string, numpy=\n",
       "array([b'[START]', b'this', b'is', b'the', b'first', b'book', b'i',\n",
       "       b'did', b'.', b'[END]'], dtype=object)>"
      ]
     },
     "execution_count": 64,
     "metadata": {},
     "output_type": "execute_result"
    }
   ],
   "source": [
    "translated_tokens"
   ]
  },
  {
   "cell_type": "code",
   "execution_count": 65,
   "id": "a214afa9",
   "metadata": {},
   "outputs": [
    {
     "data": {
      "image/png": "[encoded data removed]",
      "text/plain": [
       "<Figure size 432x288 with 1 Axes>"
      ]
     },
     "metadata": {
      "needs_background": "light"
     },
     "output_type": "display_data"
    }
   ],
   "source": [
    "plot_attention_head(in_tokens, translated_tokens, attention)"
   ]
  },
  {
   "cell_type": "code",
   "execution_count": 66,
   "id": "5a15ccda",
   "metadata": {},
   "outputs": [],
   "source": [
    "def plot_attention_weights(sentence, translated_tokens, attention_heads):\n",
    "    in_tokens = tf.convert_to_tensor([sentence])\n",
    "    in_tokens = tokenizers.pt.tokenize(in_tokens).to_tensor()\n",
    "    in_tokens = tokenizers.pt.lookup(in_tokens)[0]\n",
    "    in_tokens\n",
    "\n",
    "    fig = plt.figure(figsize=(16, 8))\n",
    "\n",
    "    for h, head in enumerate(attention_heads):\n",
    "        ax = fig.add_subplot(2, 4, h+1)\n",
    "\n",
    "        plot_attention_head(in_tokens, translated_tokens, head)\n",
    "\n",
    "        ax.set_xlabel(f'Head {h+1}')\n",
    "\n",
    "    plt.tight_layout()\n",
    "    plt.show()"
   ]
  },
  {
   "cell_type": "code",
   "execution_count": 67,
   "id": "a90818ec",
   "metadata": {},
   "outputs": [
    {
     "data": {
      "image/png": "[encoded data removed]",
      "text/plain": [
       "<Figure size 1152x576 with 8 Axes>"
      ]
     },
     "metadata": {
      "needs_background": "light"
     },
     "output_type": "display_data"
    }
   ],
   "source": [
    "plot_attention_weights(sentence, translated_tokens,\n",
    "                       attention_weights['decoder_layer4_block2'][0])"
   ]
  },
  {
   "cell_type": "code",
   "execution_count": 68,
   "id": "6103c04c",
   "metadata": {},
   "outputs": [
    {
     "name": "stdout",
     "output_type": "stream",
     "text": [
      "Input:         : Eu li sobre triceratops na enciclopédia.\n",
      "Prediction     : i read about trift ' s thordies in esloody .\n",
      "Ground truth   : I read about triceratops in the encyclopedia.\n"
     ]
    },
    {
     "data": {
      "image/png": "[encoded data removed]",
      "text/plain": [
       "<Figure size 1152x576 with 8 Axes>"
      ]
     },
     "metadata": {
      "needs_background": "light"
     },
     "output_type": "display_data"
    }
   ],
   "source": [
    "sentence = \"Eu li sobre triceratops na enciclopédia.\"\n",
    "ground_truth = \"I read about triceratops in the encyclopedia.\"\n",
    "\n",
    "translated_text, translated_tokens, attention_weights = translator(\n",
    "    tf.constant(sentence))\n",
    "print_translation(sentence, translated_text, ground_truth)\n",
    "\n",
    "plot_attention_weights(sentence, translated_tokens,\n",
    "                       attention_weights['decoder_layer4_block2'][0])"
   ]
  },
  {
   "cell_type": "code",
   "execution_count": 69,
   "id": "9fdf2d5c",
   "metadata": {},
   "outputs": [],
   "source": [
    "class ExportTranslator(tf.Module):\n",
    "    def __init__(self, translator):\n",
    "        self.translator = translator\n",
    "\n",
    "    @tf.function(input_signature=[tf.TensorSpec(shape=[], dtype=tf.string)])\n",
    "    def __call__(self, sentence):\n",
    "        (result,\n",
    "         tokens,\n",
    "         attention_weights) = self.translator(sentence, max_length=100)\n",
    "\n",
    "        return result"
   ]
  },
  {
   "cell_type": "code",
   "execution_count": 70,
   "id": "952cbd4a",
   "metadata": {},
   "outputs": [],
   "source": [
    "translator = ExportTranslator(translator)"
   ]
  },
  {
   "cell_type": "code",
   "execution_count": 71,
   "id": "645a5853",
   "metadata": {},
   "outputs": [
    {
     "data": {
      "text/plain": [
       "b'this is the first book i did .'"
      ]
     },
     "execution_count": 71,
     "metadata": {},
     "output_type": "execute_result"
    }
   ],
   "source": [
    "translator(\"este é o primeiro livro que eu fiz.\").numpy()"
   ]
  },
  {
   "cell_type": "code",
   "execution_count": 72,
   "id": "5922009a",
   "metadata": {},
   "outputs": [
    {
     "name": "stderr",
     "output_type": "stream",
     "text": [
      "WARNING:absl:Found untraced functions such as embedding_4_layer_call_and_return_conditional_losses, embedding_4_layer_call_fn, dropout_37_layer_call_and_return_conditional_losses, dropout_37_layer_call_fn, embedding_5_layer_call_and_return_conditional_losses while saving (showing 5 of 560). These functions will not be directly callable after loading.\n"
     ]
    },
    {
     "name": "stdout",
     "output_type": "stream",
     "text": [
      "INFO:tensorflow:Assets written to: translator\\assets\n"
     ]
    },
    {
     "name": "stderr",
     "output_type": "stream",
     "text": [
      "INFO:tensorflow:Assets written to: translator\\assets\n"
     ]
    }
   ],
   "source": [
    "tf.saved_model.save(translator, export_dir='translator')"
   ]
  },
  {
   "cell_type": "code",
   "execution_count": 73,
   "id": "22a7a9d9",
   "metadata": {},
   "outputs": [],
   "source": [
    "reloaded = tf.saved_model.load('translator')"
   ]
  },
  {
   "cell_type": "code",
   "execution_count": 74,
   "id": "1d79f739",
   "metadata": {},
   "outputs": [
    {
     "data": {
      "text/plain": [
       "b'this is the first book i did .'"
      ]
     },
     "execution_count": 74,
     "metadata": {},
     "output_type": "execute_result"
    }
   ],
   "source": [
    "reloaded(\"este é o primeiro livro que eu fiz.\").numpy()"
   ]
  },
  {
   "cell_type": "code",
   "execution_count": null,
   "id": "bea74630",
   "metadata": {},
   "outputs": [],
   "source": []
  }
 ],
 "metadata": {
  "kernelspec": {
   "display_name": "Python 3 (ipykernel)",
   "language": "python",
   "name": "python3"
  },
  "language_info": {
   "codemirror_mode": {
    "name": "ipython",
    "version": 3
   },
   "file_extension": ".py",
   "mimetype": "text/x-python",
   "name": "python",
   "nbconvert_exporter": "python",
   "pygments_lexer": "ipython3",
   "version": "3.7.11"
  }
 },
 "nbformat": 4,
 "nbformat_minor": 5
}
