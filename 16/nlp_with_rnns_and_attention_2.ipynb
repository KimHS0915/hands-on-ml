{
 "cells": [
  {
   "cell_type": "code",
   "execution_count": 1,
   "id": "prime-sacrifice",
   "metadata": {},
   "outputs": [],
   "source": [
    "import numpy as np\n",
    "import tensorflow as tf\n",
    "from tensorflow import keras"
   ]
  },
  {
   "cell_type": "code",
   "execution_count": 2,
   "id": "likely-shopping",
   "metadata": {},
   "outputs": [],
   "source": [
    "shakespeare_url = 'https://homl.info/shakespeare'\n",
    "filepath = keras.utils.get_file('shakespeare.txt', shakespeare_url)\n",
    "\n",
    "with open(filepath) as f:\n",
    "    shakespeare_text = f.read()"
   ]
  },
  {
   "cell_type": "code",
   "execution_count": 3,
   "id": "serial-tooth",
   "metadata": {},
   "outputs": [],
   "source": [
    "tokenizer = keras.preprocessing.text.Tokenizer(char_level=True)\n",
    "tokenizer.fit_on_texts(shakespeare_text)\n",
    "\n",
    "max_id = len(tokenizer.word_index)\n",
    "dataset_size = tokenizer.document_count"
   ]
  },
  {
   "cell_type": "code",
   "execution_count": 4,
   "id": "southwest-staff",
   "metadata": {},
   "outputs": [],
   "source": [
    "[encoded] = np.array(tokenizer.texts_to_sequences([shakespeare_text])) - 1\n",
    "train_size = int(dataset_size * 0.9)\n",
    "dataset = tf.data.Dataset.from_tensor_slices(encoded[:train_size])"
   ]
  },
  {
   "cell_type": "code",
   "execution_count": 5,
   "id": "chronic-record",
   "metadata": {},
   "outputs": [],
   "source": [
    "n_steps = 100\n",
    "window_length = n_steps + 1\n",
    "dataset = dataset.window(window_length, shift=1, drop_remainder=True)\n",
    "dataset = dataset.flat_map(lambda window: window.batch(window_length))"
   ]
  },
  {
   "cell_type": "code",
   "execution_count": 6,
   "id": "personal-evidence",
   "metadata": {},
   "outputs": [],
   "source": [
    "batch_size = 32\n",
    "dataset = dataset.shuffle(10000).batch(batch_size)\n",
    "dataset = dataset.map(lambda windows: (windows[:, :-1], windows[:, 1:]))\n",
    "dataset = dataset.map(\n",
    "    lambda x_batch, y_batch: (tf.one_hot(x_batch, depth=max_id), y_batch))\n",
    "dataset = dataset.prefetch(1)"
   ]
  },
  {
   "cell_type": "code",
   "execution_count": 7,
   "id": "opened-preference",
   "metadata": {},
   "outputs": [
    {
     "name": "stdout",
     "output_type": "stream",
     "text": [
      "Epoch 1/10\n",
      "31368/31368 [==============================] - 794s 25ms/step - loss: 1.6059\n",
      "Epoch 2/10\n",
      "31368/31368 [==============================] - 756s 24ms/step - loss: 1.5332\n",
      "Epoch 3/10\n",
      "31368/31368 [==============================] - 831s 26ms/step - loss: 1.5138\n",
      "Epoch 4/10\n",
      "31368/31368 [==============================] - 796s 25ms/step - loss: 1.5038\n",
      "Epoch 5/10\n",
      "31368/31368 [==============================] - 749s 24ms/step - loss: 1.4987\n",
      "Epoch 6/10\n",
      "31368/31368 [==============================] - 743s 24ms/step - loss: 1.4943\n",
      "Epoch 7/10\n",
      "31368/31368 [==============================] - 782s 25ms/step - loss: 1.4906\n",
      "Epoch 8/10\n",
      "31368/31368 [==============================] - 756s 24ms/step - loss: 1.4886\n",
      "Epoch 9/10\n",
      "31368/31368 [==============================] - 744s 24ms/step - loss: 1.4859\n",
      "Epoch 10/10\n",
      "31368/31368 [==============================] - 806s 26ms/step - loss: 1.4828\n"
     ]
    }
   ],
   "source": [
    "model = keras.models.Sequential([\n",
    "    keras.layers.GRU(256, return_sequences=True, \n",
    "                     input_shape=[None, max_id], \n",
    "                     dropout=0.3), \n",
    "    keras.layers.GRU(256, return_sequences=True, \n",
    "                     dropout=0.3), \n",
    "    keras.layers.GRU(256, return_sequences=True, \n",
    "                     dropout=0.3), \n",
    "    keras.layers.TimeDistributed(\n",
    "        keras.layers.Dense(max_id, activation='softmax'))\n",
    "])\n",
    "\n",
    "model.compile(loss='sparse_categorical_crossentropy', optimizer='adam')\n",
    "\n",
    "history = model.fit(dataset, epochs=10)"
   ]
  },
  {
   "cell_type": "code",
   "execution_count": 8,
   "id": "arbitrary-ordinance",
   "metadata": {},
   "outputs": [],
   "source": [
    "def preprocess(texts):\n",
    "    x = np.array(tokenizer.texts_to_sequences(texts)) - 1\n",
    "    return tf.one_hot(x, max_id)\n",
    "\n",
    "def next_char(text, temperature=1):\n",
    "    x_new = preprocess([text])\n",
    "    y_proba = model(x_new)[0, -1:, :]\n",
    "    rescaled_logits = tf.math.log(y_proba) / temperature\n",
    "    char_id = tf.random.categorical(rescaled_logits, num_samples=1) + 1\n",
    "    return tokenizer.sequences_to_texts(char_id.numpy())[0]\n",
    "\n",
    "def complete_text(text, n_chars=50, temperature=1):\n",
    "    for _ in range(n_chars):\n",
    "        text += next_char(text, temperature)\n",
    "    return text"
   ]
  },
  {
   "cell_type": "code",
   "execution_count": 9,
   "id": "theoretical-feelings",
   "metadata": {},
   "outputs": [
    {
     "data": {
      "text/plain": [
       "'ther will a coodman with a bitter word?\\n\\nkatharina:'"
      ]
     },
     "execution_count": 9,
     "metadata": {},
     "output_type": "execute_result"
    }
   ],
   "source": [
    "complete_text('t', temperature=0.2)"
   ]
  },
  {
   "cell_type": "code",
   "execution_count": 10,
   "id": "unlike-desert",
   "metadata": {},
   "outputs": [
    {
     "data": {
      "text/plain": [
       "'takcould you fancy mine aar sits shis will\\ncan do t'"
      ]
     },
     "execution_count": 10,
     "metadata": {},
     "output_type": "execute_result"
    }
   ],
   "source": [
    "complete_text('t', temperature=1)"
   ]
  },
  {
   "cell_type": "code",
   "execution_count": 11,
   "id": "independent-netherlands",
   "metadata": {},
   "outputs": [
    {
     "data": {
      "text/plain": [
       "'th, but till nob give\\n isvunshesetrab, pom wed bean'"
      ]
     },
     "execution_count": 11,
     "metadata": {},
     "output_type": "execute_result"
    }
   ],
   "source": [
    "complete_text('t', temperature=2)"
   ]
  },
  {
   "cell_type": "code",
   "execution_count": 12,
   "id": "crazy-plaza",
   "metadata": {},
   "outputs": [],
   "source": [
    "model.save('shakespeare_char_rnn.h5')"
   ]
  },
  {
   "cell_type": "code",
   "execution_count": null,
   "id": "constitutional-spanish",
   "metadata": {},
   "outputs": [],
   "source": []
  }
 ],
 "metadata": {
  "kernelspec": {
   "display_name": "Python 3",
   "language": "python",
   "name": "python3"
  },
  "language_info": {
   "codemirror_mode": {
    "name": "ipython",
    "version": 3
   },
   "file_extension": ".py",
   "mimetype": "text/x-python",
   "name": "python",
   "nbconvert_exporter": "python",
   "pygments_lexer": "ipython3",
   "version": "3.7.9"
  }
 },
 "nbformat": 4,
 "nbformat_minor": 5
}
