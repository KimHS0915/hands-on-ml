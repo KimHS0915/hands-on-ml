{
 "cells": [
  {
   "cell_type": "code",
   "execution_count": 1,
   "id": "tropical-sleeve",
   "metadata": {},
   "outputs": [],
   "source": [
    "import numpy as np\n",
    "import matplotlib.pyplot as plt"
   ]
  },
  {
   "cell_type": "code",
   "execution_count": 2,
   "id": "critical-variable",
   "metadata": {},
   "outputs": [],
   "source": [
    "from sklearn.datasets import fetch_openml\n",
    "\n",
    "mnist = fetch_openml('mnist_784', version=1, as_frame=False)\n",
    "X, y = mnist['data'], mnist['target']\n",
    "X_train, X_test, y_train, y_test = X[:60000], X[60000:], y[:60000], y[60000:]\n",
    "some_digit = X[0]"
   ]
  },
  {
   "cell_type": "markdown",
   "id": "chinese-advancement",
   "metadata": {},
   "source": [
    "Exercise 1."
   ]
  },
  {
   "cell_type": "code",
   "execution_count": 3,
   "id": "built-trust",
   "metadata": {},
   "outputs": [
    {
     "data": {
      "text/plain": [
       "KNeighborsClassifier(n_jobs=-1)"
      ]
     },
     "execution_count": 3,
     "metadata": {},
     "output_type": "execute_result"
    }
   ],
   "source": [
    "from sklearn.neighbors import KNeighborsClassifier\n",
    "\n",
    "knn_clf = KNeighborsClassifier(n_jobs=-1)\n",
    "knn_clf.fit(X_train, y_train)"
   ]
  },
  {
   "cell_type": "code",
   "execution_count": 4,
   "id": "simplified-happening",
   "metadata": {},
   "outputs": [
    {
     "data": {
      "text/plain": [
       "0.9688"
      ]
     },
     "execution_count": 4,
     "metadata": {},
     "output_type": "execute_result"
    }
   ],
   "source": [
    "from sklearn.metrics import accuracy_score\n",
    "\n",
    "pred = knn_clf.predict(X_test)\n",
    "accuracy_score(y_test, pred)"
   ]
  },
  {
   "cell_type": "code",
   "execution_count": 5,
   "id": "macro-burner",
   "metadata": {},
   "outputs": [
    {
     "data": {
      "text/plain": [
       "GridSearchCV(cv=5, estimator=KNeighborsClassifier(), n_jobs=-1,\n",
       "             param_grid={'leaf_size': [5, 10, 15, 20, 25],\n",
       "                         'n_neighbors': [3, 5, 10, 15],\n",
       "                         'weights': ['uniform', 'distance']},\n",
       "             scoring='accuracy')"
      ]
     },
     "execution_count": 5,
     "metadata": {},
     "output_type": "execute_result"
    }
   ],
   "source": [
    "from sklearn.model_selection import GridSearchCV\n",
    "\n",
    "param_grid = {\n",
    "    'n_neighbors': [3, 5, 10, 15],\n",
    "    'weights': ['uniform', 'distance'],\n",
    "    'leaf_size': [5, 10, 15, 20, 25],\n",
    "}\n",
    "knn_clf = KNeighborsClassifier()\n",
    "grid_search = GridSearchCV(knn_clf, param_grid, cv=5, scoring='accuracy', n_jobs=-1)\n",
    "grid_search.fit(X_train, y_train)"
   ]
  },
  {
   "cell_type": "code",
   "execution_count": 6,
   "id": "peripheral-female",
   "metadata": {},
   "outputs": [
    {
     "name": "stdout",
     "output_type": "stream",
     "text": [
      "best params: {'leaf_size': 5, 'n_neighbors': 3, 'weights': 'distance'}\n",
      "best score: 0.9711166666666665\n"
     ]
    }
   ],
   "source": [
    "print('best params:', grid_search.best_params_)\n",
    "print('best score:', grid_search.best_score_)"
   ]
  },
  {
   "cell_type": "code",
   "execution_count": 7,
   "id": "strategic-cable",
   "metadata": {},
   "outputs": [
    {
     "data": {
      "text/plain": [
       "0.9717"
      ]
     },
     "execution_count": 7,
     "metadata": {},
     "output_type": "execute_result"
    }
   ],
   "source": [
    "knn_clf = KNeighborsClassifier(leaf_size=5, n_neighbors=3, weights='distance', n_jobs=-1)\n",
    "knn_clf.fit(X_train, y_train)\n",
    "pred = knn_clf.predict(X_test)\n",
    "accuracy_score(y_test, pred)"
   ]
  },
  {
   "cell_type": "markdown",
   "id": "played-civilian",
   "metadata": {},
   "source": [
    "Exercise 2."
   ]
  },
  {
   "cell_type": "code",
   "execution_count": 8,
   "id": "blessed-oriental",
   "metadata": {},
   "outputs": [
    {
     "data": {
      "image/png": "[encoded data removed]",
      "text/plain": [
       "<Figure size 432x288 with 1 Axes>"
      ]
     },
     "metadata": {
      "needs_background": "light"
     },
     "output_type": "display_data"
    }
   ],
   "source": [
    "some_digit = X[0]\n",
    "some_digit_image = some_digit.reshape(28, 28)\n",
    "plt.imshow(some_digit_image, cmap='binary')\n",
    "plt.axis('off')\n",
    "plt.show()"
   ]
  },
  {
   "cell_type": "code",
   "execution_count": 9,
   "id": "greatest-springfield",
   "metadata": {},
   "outputs": [
    {
     "data": {
      "image/png": "[encoded data removed]",
      "text/plain": [
       "<Figure size 432x288 with 1 Axes>"
      ]
     },
     "metadata": {
      "needs_background": "light"
     },
     "output_type": "display_data"
    }
   ],
   "source": [
    "from scipy.ndimage.interpolation import shift\n",
    "\n",
    "some_digit = X[0]\n",
    "some_digit_image = some_digit.reshape(28, 28)\n",
    "some_digit_image = shift(some_digit_image, [1, 0], cval=0)\n",
    "plt.imshow(some_digit_image, cmap='binary')\n",
    "plt.axis('off')\n",
    "plt.show()"
   ]
  },
  {
   "cell_type": "code",
   "execution_count": 10,
   "id": "medical-crown",
   "metadata": {},
   "outputs": [],
   "source": [
    "def image_shift(image):\n",
    "    image = image.reshape(28, 28)\n",
    "    up = shift(image, [1, 0], cval=0).reshape(-1)\n",
    "    down = shift(image, [-1, 0], cval=0).reshape(-1)\n",
    "    left = shift(image, [0, -1], cval=0).reshape(-1)\n",
    "    right = shift(image, [0, 1], cval=0).reshape(-1)\n",
    "    return up, down, left, right"
   ]
  },
  {
   "cell_type": "code",
   "execution_count": 11,
   "id": "conceptual-marathon",
   "metadata": {},
   "outputs": [],
   "source": [
    "from sklearn.utils import shuffle\n",
    "\n",
    "def data_augmentation(X_train, y_train):\n",
    "    expansion = []\n",
    "    label_expansion = []\n",
    "    for i in range(len(X_train)):\n",
    "        up, down, left, right = image_shift(X_train[i])\n",
    "        expansion.extend([up, down, left, right])\n",
    "        label_expansion.extend([y_train[i], y_train[i], y_train[i], y_train[i]])\n",
    "    expansion_shuffle, label_expansion_shuffle = shuffle(expansion, label_expansion)\n",
    "    X_train_expansion = np.array(list(X_train) + expansion_shuffle)\n",
    "    y_train_expansion = np.array(list(y_train) + label_expansion_shuffle)\n",
    "    return X_train_expansion ,y_train_expansion"
   ]
  },
  {
   "cell_type": "code",
   "execution_count": 12,
   "id": "sustained-truth",
   "metadata": {},
   "outputs": [],
   "source": [
    " X_train_expansion ,y_train_expansion = data_augmentation(X_train, y_train)"
   ]
  },
  {
   "cell_type": "code",
   "execution_count": 13,
   "id": "regulation-chorus",
   "metadata": {},
   "outputs": [
    {
     "data": {
      "text/plain": [
       "0.9763"
      ]
     },
     "execution_count": 13,
     "metadata": {},
     "output_type": "execute_result"
    }
   ],
   "source": [
    "knn_clf = KNeighborsClassifier(leaf_size=5, n_neighbors=3, weights='distance', n_jobs=-1)\n",
    "knn_clf.fit(X_train_expansion, y_train_expansion)\n",
    "pred = knn_clf.predict(X_test)\n",
    "accuracy_score(y_test, pred)"
   ]
  },
  {
   "cell_type": "code",
   "execution_count": null,
   "id": "nervous-wallace",
   "metadata": {},
   "outputs": [],
   "source": []
  }
 ],
 "metadata": {
  "kernelspec": {
   "display_name": "Python [conda env:hands] *",
   "language": "python",
   "name": "conda-env-hands-py"
  },
  "language_info": {
   "codemirror_mode": {
    "name": "ipython",
    "version": 3
   },
   "file_extension": ".py",
   "mimetype": "text/x-python",
   "name": "python",
   "nbconvert_exporter": "python",
   "pygments_lexer": "ipython3",
   "version": "3.8.8"
  }
 },
 "nbformat": 4,
 "nbformat_minor": 5
}
